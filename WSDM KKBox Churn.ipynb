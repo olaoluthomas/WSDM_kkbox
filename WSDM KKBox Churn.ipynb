{
 "cells": [
  {
   "cell_type": "markdown",
   "metadata": {},
   "source": [
    "*** Our goal is to accurately predict customer churn***\n",
    "\n",
    "[WSDM KKBox's Churn Prediction Challenge](https://www.kaggle.com/c/kkbox-churn-prediction-challenge)\n",
    "\n",
    "## The Business Problem\n",
    "\n",
    "KKBox is the leader in music streaming in Asia and their business model is based on paid user accounts and advertising revenue with the former being a significant contributor. The client (KKBox) wants a predictive model of customer churn built.\n",
    "\n",
    "Stage 1 requires descriptive analytics. We will present assumptions about the data & the intended model as we preprocess and explore..."
   ]
  },
  {
   "cell_type": "code",
   "execution_count": 1,
   "metadata": {},
   "outputs": [],
   "source": [
    "import pandas as pd\n",
    "import numpy as np\n",
    "import matplotlib\n",
    "import matplotlib.pyplot as plt\n",
    "%matplotlib inline\n",
    "matplotlib.style.use('ggplot')\n",
    "import re"
   ]
  },
  {
   "cell_type": "code",
   "execution_count": 2,
   "metadata": {},
   "outputs": [
    {
     "data": {
      "text/html": [
       "<div>\n",
       "<style>\n",
       "    .dataframe thead tr:only-child th {\n",
       "        text-align: right;\n",
       "    }\n",
       "\n",
       "    .dataframe thead th {\n",
       "        text-align: left;\n",
       "    }\n",
       "\n",
       "    .dataframe tbody tr th {\n",
       "        vertical-align: top;\n",
       "    }\n",
       "</style>\n",
       "<table border=\"1\" class=\"dataframe\">\n",
       "  <thead>\n",
       "    <tr style=\"text-align: right;\">\n",
       "      <th></th>\n",
       "      <th>msno</th>\n",
       "      <th>city</th>\n",
       "      <th>bd</th>\n",
       "      <th>gender</th>\n",
       "      <th>registered_via</th>\n",
       "      <th>registration_init_time</th>\n",
       "    </tr>\n",
       "  </thead>\n",
       "  <tbody>\n",
       "    <tr>\n",
       "      <th>0</th>\n",
       "      <td>+tJonkh+O1CA796Fm5X60UMOtB6POHAwPjbTRVl/EuU=</td>\n",
       "      <td>1</td>\n",
       "      <td>0</td>\n",
       "      <td>NaN</td>\n",
       "      <td>7</td>\n",
       "      <td>20110914</td>\n",
       "    </tr>\n",
       "    <tr>\n",
       "      <th>1</th>\n",
       "      <td>WFLY3s7z4EZsieHCt63XrsdtfTEmJ+2PnnKLH5GY4Tk=</td>\n",
       "      <td>6</td>\n",
       "      <td>32</td>\n",
       "      <td>female</td>\n",
       "      <td>9</td>\n",
       "      <td>20110915</td>\n",
       "    </tr>\n",
       "    <tr>\n",
       "      <th>2</th>\n",
       "      <td>I0yFvqMoNkM8ZNHb617e1RBzIS/YRKemHO7Wj13EtA0=</td>\n",
       "      <td>13</td>\n",
       "      <td>63</td>\n",
       "      <td>male</td>\n",
       "      <td>9</td>\n",
       "      <td>20110918</td>\n",
       "    </tr>\n",
       "    <tr>\n",
       "      <th>3</th>\n",
       "      <td>OoDwiKZM+ZGr9P3fRivavgOtglTEaNfWJO4KaJcTTts=</td>\n",
       "      <td>1</td>\n",
       "      <td>0</td>\n",
       "      <td>NaN</td>\n",
       "      <td>7</td>\n",
       "      <td>20110918</td>\n",
       "    </tr>\n",
       "    <tr>\n",
       "      <th>4</th>\n",
       "      <td>4De1jAxNRABoyRBDZ82U0yEmzYkqeOugRGVNIf92Xb8=</td>\n",
       "      <td>4</td>\n",
       "      <td>28</td>\n",
       "      <td>female</td>\n",
       "      <td>9</td>\n",
       "      <td>20110920</td>\n",
       "    </tr>\n",
       "  </tbody>\n",
       "</table>\n",
       "</div>"
      ],
      "text/plain": [
       "                                           msno  city  bd  gender  \\\n",
       "0  +tJonkh+O1CA796Fm5X60UMOtB6POHAwPjbTRVl/EuU=     1   0     NaN   \n",
       "1  WFLY3s7z4EZsieHCt63XrsdtfTEmJ+2PnnKLH5GY4Tk=     6  32  female   \n",
       "2  I0yFvqMoNkM8ZNHb617e1RBzIS/YRKemHO7Wj13EtA0=    13  63    male   \n",
       "3  OoDwiKZM+ZGr9P3fRivavgOtglTEaNfWJO4KaJcTTts=     1   0     NaN   \n",
       "4  4De1jAxNRABoyRBDZ82U0yEmzYkqeOugRGVNIf92Xb8=     4  28  female   \n",
       "\n",
       "   registered_via  registration_init_time  \n",
       "0               7                20110914  \n",
       "1               9                20110915  \n",
       "2               9                20110918  \n",
       "3               7                20110918  \n",
       "4               9                20110920  "
      ]
     },
     "execution_count": 2,
     "metadata": {},
     "output_type": "execute_result"
    }
   ],
   "source": [
    "# As the name implies, this csv holds subscriber information\n",
    "\n",
    "members = pd.read_csv('members_v2.csv')\n",
    "members.head()"
   ]
  },
  {
   "cell_type": "code",
   "execution_count": 3,
   "metadata": {},
   "outputs": [
    {
     "name": "stdout",
     "output_type": "stream",
     "text": [
      "<class 'pandas.core.frame.DataFrame'>\n",
      "RangeIndex: 795090 entries, 0 to 795089\n",
      "Data columns (total 6 columns):\n",
      "msno                      795090 non-null object\n",
      "city                      795090 non-null int64\n",
      "bd                        795090 non-null int64\n",
      "gender                    318249 non-null object\n",
      "registered_via            795090 non-null int64\n",
      "registration_init_time    795090 non-null int64\n",
      "dtypes: int64(4), object(2)\n",
      "memory usage: 36.4+ MB\n"
     ]
    }
   ],
   "source": [
    "members.info()"
   ]
  },
  {
   "cell_type": "markdown",
   "metadata": {},
   "source": [
    "**Null values in the \"gender\" variable.**"
   ]
  },
  {
   "cell_type": "code",
   "execution_count": 4,
   "metadata": {},
   "outputs": [
    {
     "data": {
      "text/plain": [
       "count     318249\n",
       "unique         2\n",
       "top         male\n",
       "freq      168385\n",
       "Name: gender, dtype: object"
      ]
     },
     "execution_count": 4,
     "metadata": {},
     "output_type": "execute_result"
    }
   ],
   "source": [
    "members['gender'].describe()"
   ]
  },
  {
   "cell_type": "code",
   "execution_count": 5,
   "metadata": {},
   "outputs": [
    {
     "data": {
      "image/png": "[encoded data removed]",
      "text/plain": [
       "<matplotlib.figure.Figure at 0xa487240>"
      ]
     },
     "metadata": {},
     "output_type": "display_data"
    }
   ],
   "source": [
    "gender = members['gender'].value_counts()\n",
    "gender.plot(kind='bar',stacked=True, figsize=(8,6))\n",
    "\n",
    "plt.ylabel('Total')\n",
    "plt.title(\"Gender of KKBox subscribers\")\n",
    "plt.show()"
   ]
  },
  {
   "cell_type": "code",
   "execution_count": 7,
   "metadata": {},
   "outputs": [
    {
     "name": "stdout",
     "output_type": "stream",
     "text": [
      "2016\n"
     ]
    },
    {
     "data": {
      "text/plain": [
       "-3152"
      ]
     },
     "execution_count": 7,
     "metadata": {},
     "output_type": "execute_result"
    }
   ],
   "source": [
    "# Creating a 'missing' category/level for the gender variable\n",
    "\n",
    "members['gender'] = members['gender'].fillna('missing')\n",
    "\n",
    "# Investigating the age variable...\n",
    "\n",
    "print members['bd'].max()\n",
    "members['bd'].min()"
   ]
  },
  {
   "cell_type": "markdown",
   "metadata": {},
   "source": [
    "**The bd column is a placeholder for subscriber age whose entries range from -3152 to 2016**\n",
    "\n",
    "*What assumptions can we make about this variable?*\n",
    "\n",
    "- It is possible this field is stored in a Unix-like database that holds dates as either positive or negative offsets of 1970\n",
    "- The values could also be user entry errors\n",
    "\n",
    "As KKBox only accepts registrants from within Asia, we had someone from Hong Kong sign up and send us screenshots of the DOB data entry:\n",
    "\n",
    "<table><tr><td><img src=\"correct.jpg\" style=\"width: 250px;\"></td><td><img src=\"wrong1.jpg\" style=\"width: 250px;\"></td><td><img src=\"wrong2.jpg\" style=\"width: 250px;\"></td></tr></table>\n",
    "\n",
    "## Clearly, KKbox has data validation issues they need to attend to...\n",
    "\n",
    "Our observations clearly rule out the Unix case... "
   ]
  },
  {
   "cell_type": "markdown",
   "metadata": {},
   "source": [
    "*** The number of subscribers of age 0 is staggering ***"
   ]
  },
  {
   "cell_type": "code",
   "execution_count": 8,
   "metadata": {},
   "outputs": [
    {
     "name": "stdout",
     "output_type": "stream",
     "text": [
      "60.4345420015 % of subscribers in dataset are age 0\n"
     ]
    }
   ],
   "source": [
    "print float(len(members['bd'][members['bd'] == 0]))*100/len(members['bd']),'% of subscribers in dataset are age 0'"
   ]
  },
  {
   "cell_type": "markdown",
   "metadata": {},
   "source": [
    "** We will assume there are no supercentenarians beyond 120 years of age and mark such occurrences as invalid. **\n",
    "\n",
    "[Link here](https://en.wikipedia.org/wiki/List_of_supercentenarians_from_Asia)\n",
    "\n",
    "** We will also assume children aged 1 - 10 have been signed up by their parents. We do not expect this assumption to affect our model significantly especially since there are so few of them. **"
   ]
  },
  {
   "cell_type": "code",
   "execution_count": 9,
   "metadata": {},
   "outputs": [],
   "source": [
    "members.loc[members['bd'] < 0, 'bd'] = np.nan\n",
    "members.loc[members['bd'] > 120, 'bd'] = np.nan"
   ]
  },
  {
   "cell_type": "code",
   "execution_count": 10,
   "metadata": {},
   "outputs": [
    {
     "data": {
      "image/png": "[encoded data removed]",
      "text/plain": [
       "<matplotlib.figure.Figure at 0x51f35f8>"
      ]
     },
     "metadata": {},
     "output_type": "display_data"
    }
   ],
   "source": [
    "members['bd'].hist(bins=20)\n",
    "plt.show()"
   ]
  },
  {
   "cell_type": "code",
   "execution_count": 11,
   "metadata": {},
   "outputs": [],
   "source": [
    "median = members['bd'][members['bd'] > 0].median()\n",
    "members['bd'] = members['bd'].fillna(median)"
   ]
  },
  {
   "cell_type": "code",
   "execution_count": 12,
   "metadata": {},
   "outputs": [
    {
     "data": {
      "image/png": "[encoded data removed]",
      "text/plain": [
       "<matplotlib.figure.Figure at 0x1338a710>"
      ]
     },
     "metadata": {},
     "output_type": "display_data"
    }
   ],
   "source": [
    "registered_via = members['registered_via'].value_counts()\n",
    "registered_via.plot(kind='bar',stacked=True, figsize=(8,5))\n",
    "\n",
    "plt.xlabel('Plot of Registration Method')\n",
    "plt.ylabel('Number registered')\n",
    "plt.title(\"Registration Method\")\n",
    "plt.show()"
   ]
  },
  {
   "cell_type": "code",
   "execution_count": 13,
   "metadata": {},
   "outputs": [
    {
     "data": {
      "image/png": "[encoded data removed]",
      "text/plain": [
       "<matplotlib.figure.Figure at 0x14a98860>"
      ]
     },
     "metadata": {},
     "output_type": "display_data"
    }
   ],
   "source": [
    "members.hist(figsize=(15,12))\n",
    "plt.show()"
   ]
  },
  {
   "cell_type": "code",
   "execution_count": 15,
   "metadata": {},
   "outputs": [],
   "source": [
    "train = pd.read_csv(\"train_v2.csv\")"
   ]
  },
  {
   "cell_type": "code",
   "execution_count": 16,
   "metadata": {},
   "outputs": [
    {
     "data": {
      "image/png": "[encoded data removed]",
      "text/plain": [
       "<matplotlib.figure.Figure at 0xa5da6d8>"
      ]
     },
     "metadata": {},
     "output_type": "display_data"
    }
   ],
   "source": [
    "churn = train['is_churn'].value_counts()\n",
    "churn.plot(kind='bar',stacked=True, figsize=(8,6))\n",
    "\n",
    "plt.title(\"Churn vs No Churn\")\n",
    "plt.show()"
   ]
  },
  {
   "cell_type": "markdown",
   "metadata": {},
   "source": [
    "** We're running our predictive model on data that we've further pre-processed with Alteryx Designer **\n",
    "\n",
    "Workflow-1: Extracting Member Information for the train IDs\n",
    "\n",
    "<img src=\"train_members.JPG\">\n",
    "\n",
    "Workflow-2: Extracting Transactions Information for the train IDs\n",
    "\n",
    "<img src=\"train_transactions.JPG\">\n",
    "\n",
    "Workflow-3: Creating new variables from the transactions data\n",
    "\n",
    "<img src=\"train_New_Variables.JPG\">\n",
    "\n",
    "Workflow-4: Extracting information on from user logs data using the train IDs\n",
    "\n",
    "<img src=\"train_userlogs.JPG\">\n",
    "\n",
    "Workflow-6: Creating new variables from the userlogs & train combined data\n",
    "\n",
    "<img src=\"train_userlogs_info.JPG\">\n",
    "\n",
    "The train dataset was created using the above workflows in Alteryx. Similar workflows were created to build the test dataset."
   ]
  },
  {
   "cell_type": "markdown",
   "metadata": {},
   "source": [
    "We will run Random Forest Classifier on our combined dataset to identify the most important features and disregard age if it is not an important feature."
   ]
  },
  {
   "cell_type": "code",
   "execution_count": 17,
   "metadata": {},
   "outputs": [],
   "source": [
    "data1 = pd.read_csv('finaltrain_V2.csv')\n",
    "data2 = pd.read_csv('finaltest_V2.csv')"
   ]
  },
  {
   "cell_type": "code",
   "execution_count": 18,
   "metadata": {},
   "outputs": [
    {
     "name": "stdout",
     "output_type": "stream",
     "text": [
      "(970960, 147)\n",
      "(907471, 141)\n"
     ]
    }
   ],
   "source": [
    "print data1.shape\n",
    "print data2.shape"
   ]
  },
  {
   "cell_type": "markdown",
   "metadata": {},
   "source": [
    "#### From investigation, the additional variables in train data not in test data are:\n",
    "  list_price_105  \n",
    "  list_price_126  \n",
    "  list_price_210  \n",
    "  plan_days_3  \n",
    "  plan_days_21  \n",
    "  list_price_1299  \n",
    "  list_price_1399 \n",
    "  \n",
    " #### The additional variables in test data not in train data are:\n",
    " city_21"
   ]
  },
  {
   "cell_type": "code",
   "execution_count": 19,
   "metadata": {},
   "outputs": [],
   "source": [
    "# completing dataframes so train and test have the same columns\n",
    "\n",
    "# test dataframe\n",
    "data2['list_price_105'] = 0\n",
    "data2['list_price_126'] = 0\n",
    "data2['list_price_210'] = 0\n",
    "data2['plan_days_3'] = 0\n",
    "data2['plan_days_21'] = 0\n",
    "data2['list_price_1299'] = 0\n",
    "data2['list_price_1399'] = 0\n",
    "# train dataframe\n",
    "data1['city_21'] = 0"
   ]
  },
  {
   "cell_type": "code",
   "execution_count": 20,
   "metadata": {},
   "outputs": [
    {
     "name": "stdout",
     "output_type": "stream",
     "text": [
      "(970960, 148)\n",
      "(907471, 148)\n"
     ]
    }
   ],
   "source": [
    "print data1.shape\n",
    "print data2.shape"
   ]
  },
  {
   "cell_type": "code",
   "execution_count": 21,
   "metadata": {},
   "outputs": [
    {
     "data": {
      "text/plain": [
       "list"
      ]
     },
     "execution_count": 21,
     "metadata": {},
     "output_type": "execute_result"
    }
   ],
   "source": [
    "# creating a function to snakify column names\n",
    "def snakify(column_name):\n",
    "    s1 = re.sub('(.)([A-Z][a-z]+)', r'\\1_\\2', column_name)\n",
    "    return re.sub('([a-z0-9])([A-Z])', r'\\1_\\2', s1).lower()\n",
    "\n",
    "# snakifying column names in both train and test\n",
    "data1.columns = [snakify(col) for col in data1.columns]\n",
    "data2.columns = [snakify(col) for col in data2.columns]\n",
    "\n",
    "# creatiung a list of column names that are def. not dummy variables\n",
    "subset = list(data1.columns[:17])\n",
    "type(subset)"
   ]
  },
  {
   "cell_type": "code",
   "execution_count": 22,
   "metadata": {},
   "outputs": [
    {
     "name": "stdout",
     "output_type": "stream",
     "text": [
      "Index([u'sum_num_unq', u'avg_num_unq', u'sum_total_number_songs',\n",
      "       u'avg_total_number_songs', u'sum_total_secs', u'avg_total_secs',\n",
      "       u'avg_total_score', u'bd', u'registered_via', u'registration_init_time',\n",
      "       u'registration_init_days', u'total_amount_paid', u'is_auto_renew'],\n",
      "      dtype='object')\n",
      "Index([u'sum_num_unq', u'avg_num_unq', u'sum_total_number_songs',\n",
      "       u'avg_total_number_songs', u'sum_total_secs', u'avg_total_secs',\n",
      "       u'avg_total_score', u'bd', u'registered_via', u'registration_init_time',\n",
      "       u'registration_init_days', u'total_amount_paid', u'is_auto_renew'],\n",
      "      dtype='object')\n"
     ]
    }
   ],
   "source": [
    "# looking for the columns that hold null values in both train and hold-out dataset\n",
    "print data1.columns[data1.isnull().any()]\n",
    "print data2.columns[data1.isnull().any()]"
   ]
  },
  {
   "cell_type": "code",
   "execution_count": 23,
   "metadata": {},
   "outputs": [
    {
     "name": "stdout",
     "output_type": "stream",
     "text": [
      "<class 'pandas.core.frame.DataFrame'>\n",
      "RangeIndex: 970960 entries, 0 to 970959\n",
      "Data columns (total 17 columns):\n",
      "msno                      970960 non-null object\n",
      "sum_num_unq               754551 non-null float64\n",
      "avg_num_unq               754551 non-null float64\n",
      "sum_total_number_songs    754551 non-null float64\n",
      "avg_total_number_songs    754551 non-null float64\n",
      "sum_total_secs            754551 non-null float64\n",
      "avg_total_secs            754551 non-null float64\n",
      "avg_total_score           754551 non-null float64\n",
      "bd                        699492 non-null float64\n",
      "registered_via            699492 non-null float64\n",
      "registration_init_time    699492 non-null object\n",
      "registration_init_days    699492 non-null object\n",
      "no_of_transactions        970960 non-null int64\n",
      "no_of_cancellations       970960 non-null int64\n",
      "cancelled                 970960 non-null int64\n",
      "total_amount_paid         933578 non-null float64\n",
      "is_auto_renew             933578 non-null float64\n",
      "dtypes: float64(11), int64(3), object(3)\n",
      "memory usage: 125.9+ MB\n"
     ]
    }
   ],
   "source": [
    "# inspecting datatypes in our subset\n",
    "data1[subset].info()"
   ]
  },
  {
   "cell_type": "code",
   "execution_count": 24,
   "metadata": {},
   "outputs": [
    {
     "data": {
      "text/plain": [
       "msno                           0\n",
       "sum_num_unq               216409\n",
       "avg_num_unq               216409\n",
       "sum_total_number_songs    216409\n",
       "avg_total_number_songs    216409\n",
       "sum_total_secs            216409\n",
       "avg_total_secs            216409\n",
       "avg_total_score           216409\n",
       "bd                        271468\n",
       "registered_via            271468\n",
       "registration_init_time    271468\n",
       "registration_init_days    271468\n",
       "no_of_transactions             0\n",
       "no_of_cancellations            0\n",
       "cancelled                      0\n",
       "total_amount_paid          37382\n",
       "is_auto_renew              37382\n",
       "dtype: int64"
      ]
     },
     "execution_count": 24,
     "metadata": {},
     "output_type": "execute_result"
    }
   ],
   "source": [
    "# converting the registration date variable from object to float\n",
    "data1['registration_init_days'] = data1['registration_init_days'].str.replace(\" days 00:00:00.000000000\",\"\").astype(float)\n",
    "data2['registration_init_days'] = data2['registration_init_days'].str.replace(\" days 00:00:00.000000000\",\"\").astype(float)\n",
    "\n",
    "# subsetting categorical and continuous variables so we can transform with ease\n",
    "cat = ['registered_via', 'is_auto_renew']\n",
    "intgr = ['sum_num_unq', 'avg_num_unq', 'sum_total_number_songs', 'avg_total_number_songs', 'sum_total_secs', 'avg_total_secs',\n",
    "        'avg_total_score', 'bd', 'registration_init_days', 'total_amount_paid']\n",
    "\n",
    "# how many nulls exist in each of our subsets?\n",
    "data1[subset].isnull().sum()"
   ]
  },
  {
   "cell_type": "code",
   "execution_count": 25,
   "metadata": {},
   "outputs": [
    {
     "data": {
      "text/html": [
       "<div>\n",
       "<style>\n",
       "    .dataframe thead tr:only-child th {\n",
       "        text-align: right;\n",
       "    }\n",
       "\n",
       "    .dataframe thead th {\n",
       "        text-align: left;\n",
       "    }\n",
       "\n",
       "    .dataframe tbody tr th {\n",
       "        vertical-align: top;\n",
       "    }\n",
       "</style>\n",
       "<table border=\"1\" class=\"dataframe\">\n",
       "  <thead>\n",
       "    <tr style=\"text-align: right;\">\n",
       "      <th></th>\n",
       "      <th>msno</th>\n",
       "      <th>sum_num_unq</th>\n",
       "      <th>avg_num_unq</th>\n",
       "      <th>sum_total_number_songs</th>\n",
       "      <th>avg_total_number_songs</th>\n",
       "      <th>sum_total_secs</th>\n",
       "      <th>avg_total_secs</th>\n",
       "      <th>avg_total_score</th>\n",
       "      <th>bd</th>\n",
       "      <th>registered_via</th>\n",
       "      <th>...</th>\n",
       "      <th>city_16</th>\n",
       "      <th>city_17</th>\n",
       "      <th>city_18</th>\n",
       "      <th>city_19</th>\n",
       "      <th>city_20</th>\n",
       "      <th>city_22</th>\n",
       "      <th>is_female</th>\n",
       "      <th>is_male</th>\n",
       "      <th>is_missing</th>\n",
       "      <th>city_21</th>\n",
       "    </tr>\n",
       "  </thead>\n",
       "  <tbody>\n",
       "    <tr>\n",
       "      <th>0</th>\n",
       "      <td>+++hVY1rZox/33YtvDgmKA2Frg/2qhkz12B9ylCvh8o=</td>\n",
       "      <td>885.0</td>\n",
       "      <td>28.548387</td>\n",
       "      <td>1089.0</td>\n",
       "      <td>35.129032</td>\n",
       "      <td>192527.891052</td>\n",
       "      <td>6210.577131</td>\n",
       "      <td>46.353226</td>\n",
       "      <td>28.0</td>\n",
       "      <td>7.0</td>\n",
       "      <td>...</td>\n",
       "      <td>0</td>\n",
       "      <td>0</td>\n",
       "      <td>0</td>\n",
       "      <td>0</td>\n",
       "      <td>0</td>\n",
       "      <td>0</td>\n",
       "      <td>0</td>\n",
       "      <td>0</td>\n",
       "      <td>1</td>\n",
       "      <td>0</td>\n",
       "    </tr>\n",
       "    <tr>\n",
       "      <th>1</th>\n",
       "      <td>+++l/EXNMLTijfLBa8p2TUVVVp2aFGSuUI/h7mLmthw=</td>\n",
       "      <td>468.0</td>\n",
       "      <td>16.714286</td>\n",
       "      <td>567.0</td>\n",
       "      <td>20.250000</td>\n",
       "      <td>115411.258972</td>\n",
       "      <td>4121.830678</td>\n",
       "      <td>35.864643</td>\n",
       "      <td>28.0</td>\n",
       "      <td>7.0</td>\n",
       "      <td>...</td>\n",
       "      <td>0</td>\n",
       "      <td>0</td>\n",
       "      <td>0</td>\n",
       "      <td>0</td>\n",
       "      <td>0</td>\n",
       "      <td>0</td>\n",
       "      <td>0</td>\n",
       "      <td>0</td>\n",
       "      <td>0</td>\n",
       "      <td>0</td>\n",
       "    </tr>\n",
       "    <tr>\n",
       "      <th>2</th>\n",
       "      <td>+++snpr7pmobhLKUgSHTv/mpkqgBT0tQJ0zQj6qKrqc=</td>\n",
       "      <td>828.0</td>\n",
       "      <td>39.428571</td>\n",
       "      <td>970.0</td>\n",
       "      <td>46.190476</td>\n",
       "      <td>149896.558472</td>\n",
       "      <td>7137.931356</td>\n",
       "      <td>51.978095</td>\n",
       "      <td>28.0</td>\n",
       "      <td>7.0</td>\n",
       "      <td>...</td>\n",
       "      <td>0</td>\n",
       "      <td>0</td>\n",
       "      <td>0</td>\n",
       "      <td>0</td>\n",
       "      <td>0</td>\n",
       "      <td>0</td>\n",
       "      <td>0</td>\n",
       "      <td>0</td>\n",
       "      <td>1</td>\n",
       "      <td>0</td>\n",
       "    </tr>\n",
       "    <tr>\n",
       "      <th>3</th>\n",
       "      <td>++/9R3sX37CjxbY/AaGvbwr3QkwElKBCtSvVzhCBDOk=</td>\n",
       "      <td>230.0</td>\n",
       "      <td>7.931034</td>\n",
       "      <td>682.0</td>\n",
       "      <td>23.517241</td>\n",
       "      <td>116433.246857</td>\n",
       "      <td>4014.939547</td>\n",
       "      <td>36.092069</td>\n",
       "      <td>21.0</td>\n",
       "      <td>7.0</td>\n",
       "      <td>...</td>\n",
       "      <td>0</td>\n",
       "      <td>0</td>\n",
       "      <td>1</td>\n",
       "      <td>0</td>\n",
       "      <td>0</td>\n",
       "      <td>0</td>\n",
       "      <td>0</td>\n",
       "      <td>1</td>\n",
       "      <td>0</td>\n",
       "      <td>0</td>\n",
       "    </tr>\n",
       "    <tr>\n",
       "      <th>4</th>\n",
       "      <td>++/UDNo9DLrxT8QVGiDi1OnWfczAdEwThaVyD0fXO50=</td>\n",
       "      <td>223.0</td>\n",
       "      <td>10.619048</td>\n",
       "      <td>233.0</td>\n",
       "      <td>11.095238</td>\n",
       "      <td>36636.637947</td>\n",
       "      <td>1744.601807</td>\n",
       "      <td>13.830476</td>\n",
       "      <td>28.0</td>\n",
       "      <td>7.0</td>\n",
       "      <td>...</td>\n",
       "      <td>0</td>\n",
       "      <td>0</td>\n",
       "      <td>0</td>\n",
       "      <td>0</td>\n",
       "      <td>0</td>\n",
       "      <td>0</td>\n",
       "      <td>0</td>\n",
       "      <td>0</td>\n",
       "      <td>0</td>\n",
       "      <td>0</td>\n",
       "    </tr>\n",
       "    <tr>\n",
       "      <th>5</th>\n",
       "      <td>++/ZHqwUNa7U21Qz+zqteiXlZapxey86l6eEorrak/g=</td>\n",
       "      <td>39.0</td>\n",
       "      <td>19.500000</td>\n",
       "      <td>55.0</td>\n",
       "      <td>27.500000</td>\n",
       "      <td>10243.064697</td>\n",
       "      <td>5121.532349</td>\n",
       "      <td>43.285000</td>\n",
       "      <td>28.0</td>\n",
       "      <td>7.0</td>\n",
       "      <td>...</td>\n",
       "      <td>0</td>\n",
       "      <td>0</td>\n",
       "      <td>0</td>\n",
       "      <td>0</td>\n",
       "      <td>0</td>\n",
       "      <td>0</td>\n",
       "      <td>0</td>\n",
       "      <td>0</td>\n",
       "      <td>0</td>\n",
       "      <td>0</td>\n",
       "    </tr>\n",
       "    <tr>\n",
       "      <th>6</th>\n",
       "      <td>++0/NopttBsaAn6qHZA2AWWrDg7Me7UOMs1vsyo4tSI=</td>\n",
       "      <td>115.0</td>\n",
       "      <td>14.375000</td>\n",
       "      <td>157.0</td>\n",
       "      <td>19.625000</td>\n",
       "      <td>28450.267548</td>\n",
       "      <td>3556.283443</td>\n",
       "      <td>28.923750</td>\n",
       "      <td>28.0</td>\n",
       "      <td>7.0</td>\n",
       "      <td>...</td>\n",
       "      <td>0</td>\n",
       "      <td>0</td>\n",
       "      <td>0</td>\n",
       "      <td>0</td>\n",
       "      <td>0</td>\n",
       "      <td>0</td>\n",
       "      <td>0</td>\n",
       "      <td>0</td>\n",
       "      <td>1</td>\n",
       "      <td>0</td>\n",
       "    </tr>\n",
       "    <tr>\n",
       "      <th>7</th>\n",
       "      <td>++0BJXY8tpirgIhJR14LDM1pnaRosjD1mdO1mIKxlJA=</td>\n",
       "      <td>163.0</td>\n",
       "      <td>18.111111</td>\n",
       "      <td>171.0</td>\n",
       "      <td>19.000000</td>\n",
       "      <td>31788.296082</td>\n",
       "      <td>3532.032898</td>\n",
       "      <td>27.855556</td>\n",
       "      <td>28.0</td>\n",
       "      <td>9.0</td>\n",
       "      <td>...</td>\n",
       "      <td>0</td>\n",
       "      <td>0</td>\n",
       "      <td>0</td>\n",
       "      <td>0</td>\n",
       "      <td>0</td>\n",
       "      <td>0</td>\n",
       "      <td>0</td>\n",
       "      <td>0</td>\n",
       "      <td>1</td>\n",
       "      <td>0</td>\n",
       "    </tr>\n",
       "    <tr>\n",
       "      <th>8</th>\n",
       "      <td>++0EzISdtKY48Z0GY62jer/LFQwrNIAbADdtU5xStGY=</td>\n",
       "      <td>186.0</td>\n",
       "      <td>13.285714</td>\n",
       "      <td>319.0</td>\n",
       "      <td>22.785714</td>\n",
       "      <td>65936.727478</td>\n",
       "      <td>4709.766248</td>\n",
       "      <td>39.546429</td>\n",
       "      <td>28.0</td>\n",
       "      <td>7.0</td>\n",
       "      <td>...</td>\n",
       "      <td>0</td>\n",
       "      <td>0</td>\n",
       "      <td>0</td>\n",
       "      <td>0</td>\n",
       "      <td>0</td>\n",
       "      <td>0</td>\n",
       "      <td>0</td>\n",
       "      <td>0</td>\n",
       "      <td>0</td>\n",
       "      <td>0</td>\n",
       "    </tr>\n",
       "    <tr>\n",
       "      <th>9</th>\n",
       "      <td>++0nOC7BmrUTtcSboRORfg6ZXTajnBDt1f/SEgH6ONo=</td>\n",
       "      <td>330.0</td>\n",
       "      <td>19.233333</td>\n",
       "      <td>442.0</td>\n",
       "      <td>25.333333</td>\n",
       "      <td>82640.240601</td>\n",
       "      <td>4709.031179</td>\n",
       "      <td>37.877895</td>\n",
       "      <td>25.0</td>\n",
       "      <td>9.0</td>\n",
       "      <td>...</td>\n",
       "      <td>0</td>\n",
       "      <td>0</td>\n",
       "      <td>0</td>\n",
       "      <td>0</td>\n",
       "      <td>0</td>\n",
       "      <td>0</td>\n",
       "      <td>0</td>\n",
       "      <td>1</td>\n",
       "      <td>0</td>\n",
       "      <td>0</td>\n",
       "    </tr>\n",
       "  </tbody>\n",
       "</table>\n",
       "<p>10 rows × 147 columns</p>\n",
       "</div>"
      ],
      "text/plain": [
       "                                           msno  sum_num_unq  avg_num_unq  \\\n",
       "0  +++hVY1rZox/33YtvDgmKA2Frg/2qhkz12B9ylCvh8o=        885.0    28.548387   \n",
       "1  +++l/EXNMLTijfLBa8p2TUVVVp2aFGSuUI/h7mLmthw=        468.0    16.714286   \n",
       "2  +++snpr7pmobhLKUgSHTv/mpkqgBT0tQJ0zQj6qKrqc=        828.0    39.428571   \n",
       "3  ++/9R3sX37CjxbY/AaGvbwr3QkwElKBCtSvVzhCBDOk=        230.0     7.931034   \n",
       "4  ++/UDNo9DLrxT8QVGiDi1OnWfczAdEwThaVyD0fXO50=        223.0    10.619048   \n",
       "5  ++/ZHqwUNa7U21Qz+zqteiXlZapxey86l6eEorrak/g=         39.0    19.500000   \n",
       "6  ++0/NopttBsaAn6qHZA2AWWrDg7Me7UOMs1vsyo4tSI=        115.0    14.375000   \n",
       "7  ++0BJXY8tpirgIhJR14LDM1pnaRosjD1mdO1mIKxlJA=        163.0    18.111111   \n",
       "8  ++0EzISdtKY48Z0GY62jer/LFQwrNIAbADdtU5xStGY=        186.0    13.285714   \n",
       "9  ++0nOC7BmrUTtcSboRORfg6ZXTajnBDt1f/SEgH6ONo=        330.0    19.233333   \n",
       "\n",
       "   sum_total_number_songs  avg_total_number_songs  sum_total_secs  \\\n",
       "0                  1089.0               35.129032   192527.891052   \n",
       "1                   567.0               20.250000   115411.258972   \n",
       "2                   970.0               46.190476   149896.558472   \n",
       "3                   682.0               23.517241   116433.246857   \n",
       "4                   233.0               11.095238    36636.637947   \n",
       "5                    55.0               27.500000    10243.064697   \n",
       "6                   157.0               19.625000    28450.267548   \n",
       "7                   171.0               19.000000    31788.296082   \n",
       "8                   319.0               22.785714    65936.727478   \n",
       "9                   442.0               25.333333    82640.240601   \n",
       "\n",
       "   avg_total_secs  avg_total_score    bd  registered_via   ...     city_16  \\\n",
       "0     6210.577131        46.353226  28.0             7.0   ...           0   \n",
       "1     4121.830678        35.864643  28.0             7.0   ...           0   \n",
       "2     7137.931356        51.978095  28.0             7.0   ...           0   \n",
       "3     4014.939547        36.092069  21.0             7.0   ...           0   \n",
       "4     1744.601807        13.830476  28.0             7.0   ...           0   \n",
       "5     5121.532349        43.285000  28.0             7.0   ...           0   \n",
       "6     3556.283443        28.923750  28.0             7.0   ...           0   \n",
       "7     3532.032898        27.855556  28.0             9.0   ...           0   \n",
       "8     4709.766248        39.546429  28.0             7.0   ...           0   \n",
       "9     4709.031179        37.877895  25.0             9.0   ...           0   \n",
       "\n",
       "   city_17  city_18  city_19  city_20  city_22  is_female  is_male  \\\n",
       "0        0        0        0        0        0          0        0   \n",
       "1        0        0        0        0        0          0        0   \n",
       "2        0        0        0        0        0          0        0   \n",
       "3        0        1        0        0        0          0        1   \n",
       "4        0        0        0        0        0          0        0   \n",
       "5        0        0        0        0        0          0        0   \n",
       "6        0        0        0        0        0          0        0   \n",
       "7        0        0        0        0        0          0        0   \n",
       "8        0        0        0        0        0          0        0   \n",
       "9        0        0        0        0        0          0        1   \n",
       "\n",
       "   is_missing  city_21  \n",
       "0           1        0  \n",
       "1           0        0  \n",
       "2           1        0  \n",
       "3           0        0  \n",
       "4           0        0  \n",
       "5           0        0  \n",
       "6           1        0  \n",
       "7           1        0  \n",
       "8           0        0  \n",
       "9           0        0  \n",
       "\n",
       "[10 rows x 147 columns]"
      ]
     },
     "execution_count": 25,
     "metadata": {},
     "output_type": "execute_result"
    }
   ],
   "source": [
    "# from sklearn.linear_model import LogisticRegressionCV, SGDClassifier\n",
    "from sklearn.ensemble import RandomForestClassifier\n",
    "from sklearn.model_selection import StratifiedKFold, GridSearchCV, StratifiedShuffleSplit\n",
    "from sklearn.metrics import accuracy_score, roc_auc_score, confusion_matrix, precision_recall_curve, f1_score\n",
    "from sklearn.preprocessing import LabelEncoder\n",
    "# from sklearn.decomposition import PCA\n",
    "from sklearn.preprocessing import MinMaxScaler, RobustScaler\n",
    "from sklearn.preprocessing import Imputer\n",
    "\n",
    "# we have registration_init_days as a continuous variable so _init_time is excluded\n",
    "data1 = data1.drop(['registration_init_time'], axis=1)\n",
    "data2 = data2.drop(['registration_init_time'], axis=1)\n",
    "\n",
    "# imputing median values to nulls of continuous variables and mode to categoricals\n",
    "imp_int = Imputer(strategy='median')\n",
    "imp_cat = Imputer(strategy='most_frequent')\n",
    "\n",
    "data1[intgr] = imp_int.fit_transform(data1[intgr])\n",
    "data1[cat] = imp_cat.fit_transform(data1[cat])\n",
    "\n",
    "data1.head(10)"
   ]
  },
  {
   "cell_type": "code",
   "execution_count": 26,
   "metadata": {},
   "outputs": [
    {
     "data": {
      "text/plain": [
       "0    883630\n",
       "1     87330\n",
       "Name: is_churn, dtype: int64"
      ]
     },
     "execution_count": 26,
     "metadata": {},
     "output_type": "execute_result"
    }
   ],
   "source": [
    "# imputing nulls in test dataset with measures of centrality from train to ensure our final predictions will be accurate\n",
    "data2[intgr] = imp_int.transform(data2[intgr])\n",
    "data2[cat] = imp_cat.transform(data2[cat])\n",
    "\n",
    "# Investigating the distribution of churn levels\n",
    "data1['is_churn'].value_counts()"
   ]
  },
  {
   "cell_type": "code",
   "execution_count": 27,
   "metadata": {},
   "outputs": [],
   "source": [
    "X, y = data1.drop(['is_churn', 'msno'], axis=1), data1['is_churn']\n",
    "\n",
    "# ensuring we create an even split of the dependent variable (churn)\n",
    "sss = StratifiedShuffleSplit(n_splits=5, test_size=0.2, random_state=13)\n",
    "for train_index, test_index in sss.split(X, y):\n",
    "    X_train, y_train = X.loc[train_index], y.loc[train_index]\n",
    "    # reserving some train data to test our random forest best estimator prior to feeding new data\n",
    "    X_test, y_test = X.loc[test_index], y.loc[test_index]"
   ]
  },
  {
   "cell_type": "code",
   "execution_count": 30,
   "metadata": {},
   "outputs": [
    {
     "data": {
      "text/plain": [
       "GridSearchCV(cv=8, error_score='raise',\n",
       "       estimator=RandomForestClassifier(bootstrap=True, class_weight=None, criterion='gini',\n",
       "            max_depth=None, max_features='auto', max_leaf_nodes=None,\n",
       "            min_impurity_decrease=0.0, min_impurity_split=None,\n",
       "            min_samples_leaf=1, min_samples_split=2,\n",
       "            min_weight_fraction_leaf=0.0, n_estimators=10, n_jobs=1,\n",
       "            oob_score=False, random_state=13, verbose=0, warm_start=True),\n",
       "       fit_params=None, iid=True, n_jobs=1,\n",
       "       param_grid=[{'n_estimators': [100, 150, 200]}],\n",
       "       pre_dispatch='2*n_jobs', refit=True, return_train_score=True,\n",
       "       scoring=None, verbose=0)"
      ]
     },
     "execution_count": 30,
     "metadata": {},
     "output_type": "execute_result"
    }
   ],
   "source": [
    "# searching an empirically selected grid of trees\n",
    "rfgrid_test = [{'n_estimators':range(100,250,50)}]\n",
    "\n",
    "rf_test = RandomForestClassifier(warm_start=True, criterion='gini',random_state=13)\n",
    "gridsearch_test = GridSearchCV(rf_test, rfgrid_test, cv=8)\n",
    "gridsearch_test.fit(X_train, y_train)"
   ]
  },
  {
   "cell_type": "code",
   "execution_count": 32,
   "metadata": {},
   "outputs": [
    {
     "data": {
      "text/plain": [
       "RandomForestClassifier(bootstrap=True, class_weight=None, criterion='gini',\n",
       "            max_depth=None, max_features='auto', max_leaf_nodes=None,\n",
       "            min_impurity_decrease=0.0, min_impurity_split=None,\n",
       "            min_samples_leaf=1, min_samples_split=2,\n",
       "            min_weight_fraction_leaf=0.0, n_estimators=200, n_jobs=1,\n",
       "            oob_score=False, random_state=13, verbose=0, warm_start=True)"
      ]
     },
     "execution_count": 32,
     "metadata": {},
     "output_type": "execute_result"
    }
   ],
   "source": [
    "gridsearch_test.best_estimator_"
   ]
  },
  {
   "cell_type": "code",
   "execution_count": 33,
   "metadata": {},
   "outputs": [
    {
     "data": {
      "text/plain": [
       "GridSearchCV(cv=8, error_score='raise',\n",
       "       estimator=RandomForestClassifier(bootstrap=True, class_weight=None, criterion='gini',\n",
       "            max_depth=None, max_features='auto', max_leaf_nodes=None,\n",
       "            min_impurity_decrease=0.0, min_impurity_split=None,\n",
       "            min_samples_leaf=1, min_samples_split=2,\n",
       "            min_weight_fraction_leaf=0.0, n_estimators=10, n_jobs=1,\n",
       "            oob_score=False, random_state=13, verbose=0, warm_start=True),\n",
       "       fit_params=None, iid=True, n_jobs=1,\n",
       "       param_grid=[{'n_estimators': [150, 160, 170, 180, 190, 200]}],\n",
       "       pre_dispatch='2*n_jobs', refit=True, return_train_score=True,\n",
       "       scoring=None, verbose=0)"
      ]
     },
     "execution_count": 33,
     "metadata": {},
     "output_type": "execute_result"
    }
   ],
   "source": [
    "# refining the grid search to make intended model more accurate.\n",
    "rf_grid = [{'n_estimators':range(150,210,10)}]\n",
    "\n",
    "rf = RandomForestClassifier(warm_start=True, random_state=13, criterion='gini')\n",
    "gridsearchRF = GridSearchCV(rf, rf_grid, cv=8)\n",
    "gridsearchRF.fit(X_train, y_train)"
   ]
  },
  {
   "cell_type": "code",
   "execution_count": 34,
   "metadata": {},
   "outputs": [
    {
     "data": {
      "text/plain": [
       "RandomForestClassifier(bootstrap=True, class_weight=None, criterion='gini',\n",
       "            max_depth=None, max_features='auto', max_leaf_nodes=None,\n",
       "            min_impurity_decrease=0.0, min_impurity_split=None,\n",
       "            min_samples_leaf=1, min_samples_split=2,\n",
       "            min_weight_fraction_leaf=0.0, n_estimators=170, n_jobs=1,\n",
       "            oob_score=False, random_state=13, verbose=0, warm_start=True)"
      ]
     },
     "execution_count": 34,
     "metadata": {},
     "output_type": "execute_result"
    }
   ],
   "source": [
    "# Printing parameters of the best estimator\n",
    "gridsearchRF.best_estimator_"
   ]
  },
  {
   "cell_type": "markdown",
   "metadata": {},
   "source": [
    "** Using 170 trees in the forest provide the best results **"
   ]
  },
  {
   "cell_type": "code",
   "execution_count": 35,
   "metadata": {},
   "outputs": [
    {
     "name": "stdout",
     "output_type": "stream",
     "text": [
      "(0.21201307356463309, 'plan_days_7')\n",
      "(0.1017504633168784, 'cancelled')\n",
      "(0.062750544981417064, 'no_of_transactions')\n",
      "(0.054171016967136956, 'no_of_cancellations')\n",
      "(0.044791957406747504, 'registered_via')\n",
      "(0.039009141171181982, 'registration_init_days')\n",
      "(0.037048966916647483, 'avg_total_number_songs')\n",
      "(0.035267160996703711, 'avg_num_unq')\n",
      "(0.035092319087819408, 'msno')\n",
      "(0.033623101546791302, 'sum_total_secs')\n",
      "(0.033514116315666947, 'avg_total_secs')\n",
      "(0.03211807278340667, 'sum_total_number_songs')\n",
      "(0.031732298961323346, 'sum_num_unq')\n",
      "(0.028808586113599134, 'list_price_129')\n",
      "(0.02189960787400486, 'is_female')\n",
      "(0.018831701650981365, 'payment_method_40')\n",
      "(0.015628560788538554, 'payment_method_31')\n",
      "(0.015346516482952318, 'total_amount_paid')\n",
      "(0.014914842879580477, 'list_price_1399')\n",
      "(0.014826935038650553, 'avg_total_score')\n",
      "(0.010229300060555179, 'bd')\n",
      "(0.0096654940828607549, 'list_price_0')\n",
      "(0.009159725890522363, 'payment_method_38')\n",
      "(0.0080954308942614746, 'city_20')\n",
      "(0.0077553411107283959, 'list_price_150')\n",
      "(0.0073116774962998865, 'city_22')\n",
      "(0.0064230367963661094, 'list_price_894')\n",
      "(0.0048059549142812066, 'payment_method_35')\n",
      "(0.0045408041898344432, 'plan_days_195')\n",
      "(0.0042545647431450574, 'plan_days_31')\n",
      "(0.0029623272362156693, 'list_price_536')\n",
      "(0.0029580940805753247, 'plan_days_120')\n",
      "(0.0029356411916913894, 'plan_days_410')\n",
      "(0.0027433588319107772, 'plan_days_180')\n",
      "(0.0024244239121560401, 'payment_method_39')\n",
      "(0.0021090927430485714, 'payment_method_37')\n",
      "(0.0018155086875194465, 'city_11')\n",
      "(0.0017839052159720624, 'payment_method_15')\n",
      "(0.0016707880796890783, 'payment_method_29')\n",
      "(0.0016627564977118126, 'city_3')\n",
      "(0.0016184143445810313, 'list_price_119')\n",
      "(0.0014804155265629876, 'payment_method_36')\n",
      "(0.0013924674496045869, 'list_price_99')\n",
      "(0.0011653736059209204, 'city_1')\n",
      "(0.0010024278478559401, 'payment_method_33')\n",
      "(0.00098486392775809202, 'payment_method_28')\n",
      "(0.00093294363142340205, 'list_price_477')\n",
      "(0.00092040762192015626, 'plan_days_35')\n",
      "(0.00090322963323613754, 'city_13')\n",
      "(0.00087798773841747484, 'city_19')\n",
      "(0.00072382978602079028, 'plan_days_230')\n",
      "(0.00066407832506647246, 'list_price_265')\n",
      "(0.0006196454211496238, 'city_4')\n",
      "(0.00051607900100283076, 'city_12')\n",
      "(0.00048484060173086723, 'list_price_180')\n",
      "(0.00047102116809482253, 'list_price_298')\n",
      "(0.00045214337204513825, 'payment_method_32')\n",
      "(0.00036111487476856905, 'payment_method_19')\n",
      "(0.00035395488751170006, 'city_10')\n",
      "(0.00034261303414676199, 'city_7')\n",
      "(0.00031060681214074506, 'city_6')\n",
      "(0.00029415244510336963, 'city_9')\n",
      "(0.00028619478918540082, 'payment_method_27')\n",
      "(0.00026586856123397184, 'list_price_400')\n",
      "(0.00025424021320073656, 'plan_days_415')\n",
      "(0.00025366816363746103, 'city_16')\n",
      "(0.00024871835975457453, 'city_8')\n",
      "(0.00024398766266782017, 'plan_days_80')\n",
      "(0.00023692123301321811, 'payment_method_13')\n",
      "(0.0002069963877241723, 'payment_method_16')\n",
      "(0.00020311857684766546, 'list_price_149')\n",
      "(0.0001998244283380193, 'list_price_450')\n",
      "(0.00019682468001457596, 'city_15')\n",
      "(0.0001822343548504896, 'payment_method_30')\n",
      "(0.00016826473205491777, 'list_price_1150')\n",
      "(0.00016135455637717965, 'payment_method_18')\n",
      "(0.00015910369829242433, 'city_5')\n",
      "(0.00011383509859949682, 'payment_method_26')\n",
      "(0.00011327370643016814, 'plan_days_90')\n",
      "(8.7470690920031407e-05, 'plan_days_110')\n",
      "(7.9554692102656155e-05, 'payment_method_41')\n",
      "(7.7984312280941033e-05, 'plan_days_0')\n",
      "(7.4944908460983163e-05, 'plan_days_1')\n",
      "(7.4896596006504142e-05, 'payment_method_14')\n",
      "(6.9940549336392047e-05, 'payment_method_20')\n",
      "(6.9208546990332483e-05, 'payment_method_22')\n",
      "(5.5250146457688101e-05, 'city_14')\n",
      "(4.9001243745813695e-05, 'payment_method_11')\n",
      "(4.6527986763456031e-05, 'list_price_1')\n",
      "(3.7539839546188579e-05, 'plan_days_3')\n",
      "(3.3355476148907352e-05, 'city_18')\n",
      "(3.2912585647769713e-05, 'list_price_105')\n",
      "(3.1691742405158859e-05, 'payment_method_34')\n",
      "(3.0026904538811708e-05, 'is_auto_renew')\n",
      "(2.9938772654199468e-05, 'list_price_1200')\n",
      "(2.4640050250823899e-05, 'payment_method_21')\n",
      "(2.3237839401340463e-05, 'plan_days_450')\n",
      "(2.2376964633616831e-05, 'plan_days_365')\n",
      "(2.1557174631884847e-05, 'payment_method_10')\n",
      "(2.1232690340454326e-05, 'list_price_799')\n",
      "(1.9243628849486185e-05, 'is_churn')\n",
      "(1.9238434564766981e-05, 'payment_method_12')\n",
      "(1.8762550858166889e-05, 'payment_method_17')\n",
      "(1.8558814511470594e-05, 'plan_days_10')\n",
      "(1.7771680534632681e-05, 'payment_method_8')\n",
      "(1.526896925556999e-05, 'plan_days_270')\n",
      "(1.2654232995953836e-05, 'list_price_100')\n",
      "(7.7988102318626312e-06, 'list_price_300')\n",
      "(7.1217453628748562e-06, 'plan_days_60')\n",
      "(6.983290822863244e-06, 'city_17')\n",
      "(6.2195222338171505e-06, 'plan_days_360')\n",
      "(5.310802956182629e-06, 'list_price_210')\n",
      "(4.6134320616743203e-06, 'plan_days_400')\n",
      "(4.0959124232993142e-06, 'plan_days_21')\n",
      "(3.8159077832843838e-06, 'list_price_131')\n",
      "(3.1917516206195474e-06, 'list_price_120')\n",
      "(2.8749059293082929e-06, 'list_price_699')\n",
      "(2.6834535611664375e-06, 'plan_days_395')\n",
      "(2.6567403470856988e-06, 'list_price_480')\n",
      "(2.2908018562623372e-06, 'list_price_930')\n",
      "(2.1262843895356402e-06, 'list_price_126')\n",
      "(2.0086482240220027e-06, 'list_price_350')\n",
      "(1.9987112603104251e-06, 'plan_days_70')\n",
      "(8.7684079228485376e-07, 'payment_method_6')\n",
      "(8.6391328028268284e-07, 'list_price_447')\n",
      "(7.6703337394718958e-07, 'list_price_35')\n",
      "(7.5156094770345603e-07, 'list_price_1299')\n",
      "(7.2247296176193327e-07, 'plan_days_30')\n",
      "(4.8566799045820321e-07, 'list_price_1788')\n",
      "(3.9905444897455006e-07, 'list_price_143')\n",
      "(3.4393559750657855e-07, 'plan_days_240')\n",
      "(2.9371569360430433e-07, 'payment_method_23')\n",
      "(2.6936705209292347e-07, 'list_price_1599')\n",
      "(1.5308095221157007e-07, 'list_price_500')\n",
      "(6.8074720171602267e-08, 'plan_days_14')\n",
      "(5.2254002733321064e-08, 'payment_method_3')\n",
      "(4.2761429337753914e-08, 'list_price_70')\n",
      "(3.564976897385388e-08, 'plan_days_200')\n",
      "(2.4091983558783185e-08, 'list_price_1000')\n",
      "(1.1515198560144663e-08, 'list_price_600')\n",
      "(5.1732558769864547e-09, 'plan_days_100')\n",
      "(2.5877172155677779e-09, 'list_price_596')\n",
      "(7.4464377502332565e-10, 'list_price_2000')\n",
      "(0.0, 'list_price_134')\n",
      "(0.0, 'is_male')\n"
     ]
    }
   ],
   "source": [
    "# assigning best estimator to a variable\n",
    "rf_best = gridsearchRF.best_estimator_\n",
    "\n",
    "# viewing feature importance\n",
    "for score, feature in sorted(zip(rf_best.feature_importances_,data1.columns),reverse=True):\n",
    "    print(score, feature)"
   ]
  },
  {
   "cell_type": "code",
   "execution_count": 36,
   "metadata": {},
   "outputs": [
    {
     "data": {
      "text/plain": [
       "array([[174854,   1872],\n",
       "       [  3451,  14015]], dtype=int64)"
      ]
     },
     "execution_count": 36,
     "metadata": {},
     "output_type": "execute_result"
    }
   ],
   "source": [
    "# extracting the prediction probabilities\n",
    "y_rf = rf_best.predict(X_test)\n",
    "y_rfproba = rf_best.predict_proba(X_test)\n",
    "\n",
    "# inspecting for misclassifications\n",
    "confusion_matrix(y_test, y_rf)"
   ]
  },
  {
   "cell_type": "markdown",
   "metadata": {},
   "source": [
    "**2.74% misclassified.**"
   ]
  },
  {
   "cell_type": "code",
   "execution_count": 37,
   "metadata": {},
   "outputs": [
    {
     "data": {
      "text/plain": [
       "<matplotlib.text.Text at 0x14d6d828>"
      ]
     },
     "execution_count": 37,
     "metadata": {},
     "output_type": "execute_result"
    },
    {
     "data": {
      "image/png": "[encoded data removed]",
      "text/plain": [
       "<matplotlib.figure.Figure at 0xa5da748>"
      ]
     },
     "metadata": {},
     "output_type": "display_data"
    }
   ],
   "source": [
    "precision, recall, thresholds = precision_recall_curve(y_test, y_rf)\n",
    "\n",
    "plt.step(recall, precision, alpha=0.2, where='post', color='b')\n",
    "plt.fill_between(recall, precision, step='post', alpha=0.2)\n",
    "plt.xlabel('Recall')\n",
    "plt.ylabel('Precision')\n",
    "plt.ylim([0.0, 1.0])\n",
    "plt.xlim([0.0, 1.05])\n",
    "plt.title('Precision-Recall curve')"
   ]
  },
  {
   "cell_type": "markdown",
   "metadata": {},
   "source": [
    "**We can at least confirm we have avoided overfitting**"
   ]
  },
  {
   "cell_type": "code",
   "execution_count": 38,
   "metadata": {},
   "outputs": [
    {
     "data": {
      "text/plain": [
       "0.84040416154468855"
      ]
     },
     "execution_count": 38,
     "metadata": {},
     "output_type": "execute_result"
    }
   ],
   "source": [
    "f1_score(y_test, y_rf)"
   ]
  },
  {
   "cell_type": "code",
   "execution_count": 39,
   "metadata": {},
   "outputs": [
    {
     "name": "stderr",
     "output_type": "stream",
     "text": [
      "C:\\Users\\Laolu\\Anaconda2\\lib\\site-packages\\ipykernel\\__main__.py:7: SettingWithCopyWarning: \n",
      "A value is trying to be set on a copy of a slice from a DataFrame.\n",
      "Try using .loc[row_indexer,col_indexer] = value instead\n",
      "\n",
      "See the caveats in the documentation: http://pandas.pydata.org/pandas-docs/stable/indexing.html#indexing-view-versus-copy\n"
     ]
    }
   ],
   "source": [
    "# running our estimator on new data\n",
    "X_new = data2.drop(['is_churn', 'msno'], axis=1)\n",
    "y_proba = rf_best.predict_proba(X_new)\n",
    "\n",
    "# appending the probabilities to the test dataframe\n",
    "rf_ans = data2[['msno', 'bd']]\n",
    "rf_ans['is_churn'] = y_proba[:, 1]\n",
    "rf_ans = rf_ans.drop(['bd'], axis=1)"
   ]
  },
  {
   "cell_type": "code",
   "execution_count": 40,
   "metadata": {},
   "outputs": [
    {
     "data": {
      "text/html": [
       "<div>\n",
       "<style>\n",
       "    .dataframe thead tr:only-child th {\n",
       "        text-align: right;\n",
       "    }\n",
       "\n",
       "    .dataframe thead th {\n",
       "        text-align: left;\n",
       "    }\n",
       "\n",
       "    .dataframe tbody tr th {\n",
       "        vertical-align: top;\n",
       "    }\n",
       "</style>\n",
       "<table border=\"1\" class=\"dataframe\">\n",
       "  <thead>\n",
       "    <tr style=\"text-align: right;\">\n",
       "      <th></th>\n",
       "      <th>msno</th>\n",
       "      <th>is_churn</th>\n",
       "    </tr>\n",
       "  </thead>\n",
       "  <tbody>\n",
       "    <tr>\n",
       "      <th>0</th>\n",
       "      <td>+++hVY1rZox/33YtvDgmKA2Frg/2qhkz12B9ylCvh8o=</td>\n",
       "      <td>0.011765</td>\n",
       "    </tr>\n",
       "    <tr>\n",
       "      <th>1</th>\n",
       "      <td>+++snpr7pmobhLKUgSHTv/mpkqgBT0tQJ0zQj6qKrqc=</td>\n",
       "      <td>0.017647</td>\n",
       "    </tr>\n",
       "    <tr>\n",
       "      <th>2</th>\n",
       "      <td>++/9R3sX37CjxbY/AaGvbwr3QkwElKBCtSvVzhCBDOk=</td>\n",
       "      <td>0.005882</td>\n",
       "    </tr>\n",
       "    <tr>\n",
       "      <th>3</th>\n",
       "      <td>++0/NopttBsaAn6qHZA2AWWrDg7Me7UOMs1vsyo4tSI=</td>\n",
       "      <td>0.052941</td>\n",
       "    </tr>\n",
       "    <tr>\n",
       "      <th>4</th>\n",
       "      <td>++0BJXY8tpirgIhJR14LDM1pnaRosjD1mdO1mIKxlJA=</td>\n",
       "      <td>0.182353</td>\n",
       "    </tr>\n",
       "    <tr>\n",
       "      <th>5</th>\n",
       "      <td>++0nOC7BmrUTtcSboRORfg6ZXTajnBDt1f/SEgH6ONo=</td>\n",
       "      <td>0.002914</td>\n",
       "    </tr>\n",
       "    <tr>\n",
       "      <th>6</th>\n",
       "      <td>++0wqjjQge1mBBe5r4ciHGKwtF/m322zkra7CK8I+Mw=</td>\n",
       "      <td>0.000082</td>\n",
       "    </tr>\n",
       "    <tr>\n",
       "      <th>7</th>\n",
       "      <td>++1G0wVY14Lp0VXak1ymLhPUdXPSFJVBnjWwzGxBKJs=</td>\n",
       "      <td>0.047059</td>\n",
       "    </tr>\n",
       "    <tr>\n",
       "      <th>8</th>\n",
       "      <td>++1GCIyXZO7834NjDKmcK1lBVLQi9PsN6sOC7wfW+8g=</td>\n",
       "      <td>0.023529</td>\n",
       "    </tr>\n",
       "    <tr>\n",
       "      <th>9</th>\n",
       "      <td>++1Wu2wKBA60W9F9sMh15RXmh1wN1fjoVGzNqvw/Gro=</td>\n",
       "      <td>0.000082</td>\n",
       "    </tr>\n",
       "  </tbody>\n",
       "</table>\n",
       "</div>"
      ],
      "text/plain": [
       "                                           msno  is_churn\n",
       "0  +++hVY1rZox/33YtvDgmKA2Frg/2qhkz12B9ylCvh8o=  0.011765\n",
       "1  +++snpr7pmobhLKUgSHTv/mpkqgBT0tQJ0zQj6qKrqc=  0.017647\n",
       "2  ++/9R3sX37CjxbY/AaGvbwr3QkwElKBCtSvVzhCBDOk=  0.005882\n",
       "3  ++0/NopttBsaAn6qHZA2AWWrDg7Me7UOMs1vsyo4tSI=  0.052941\n",
       "4  ++0BJXY8tpirgIhJR14LDM1pnaRosjD1mdO1mIKxlJA=  0.182353\n",
       "5  ++0nOC7BmrUTtcSboRORfg6ZXTajnBDt1f/SEgH6ONo=  0.002914\n",
       "6  ++0wqjjQge1mBBe5r4ciHGKwtF/m322zkra7CK8I+Mw=  0.000082\n",
       "7  ++1G0wVY14Lp0VXak1ymLhPUdXPSFJVBnjWwzGxBKJs=  0.047059\n",
       "8  ++1GCIyXZO7834NjDKmcK1lBVLQi9PsN6sOC7wfW+8g=  0.023529\n",
       "9  ++1Wu2wKBA60W9F9sMh15RXmh1wN1fjoVGzNqvw/Gro=  0.000082"
      ]
     },
     "execution_count": 40,
     "metadata": {},
     "output_type": "execute_result"
    }
   ],
   "source": [
    "# the submission contains the probabilities of churn as opposed to whether churn or no churn\n",
    "rf_ans.head(10)"
   ]
  },
  {
   "cell_type": "code",
   "execution_count": 41,
   "metadata": {},
   "outputs": [],
   "source": [
    "rf_ans.to_csv('submission1_v2.csv', index=False)"
   ]
  },
  {
   "cell_type": "markdown",
   "metadata": {},
   "source": [
    "** This submission puts us at 145th out of 350 with a logloss of 0.15552. **"
   ]
  }
 ],
 "metadata": {
  "kernelspec": {
   "display_name": "Python [default]",
   "language": "python",
   "name": "python2"
  },
  "language_info": {
   "codemirror_mode": {
    "name": "ipython",
    "version": 2
   },
   "file_extension": ".py",
   "mimetype": "text/x-python",
   "name": "python",
   "nbconvert_exporter": "python",
   "pygments_lexer": "ipython2",
   "version": "2.7.13"
  }
 },
 "nbformat": 4,
 "nbformat_minor": 2
}
