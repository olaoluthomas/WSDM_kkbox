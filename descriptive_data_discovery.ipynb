{
 "cells": [
  {
   "cell_type": "markdown",
   "metadata": {},
   "source": [
    "# Data Preprocessing and Descriptive Analytics of KKBox Dataset\n",
    "\n",
    "*** Our goal is to accurately predict customer churn***\n",
    "\n",
    "[WSDM KKBox's Churn Prediction Challenge](https://www.kaggle.com/c/kkbox-churn-prediction-challenge)\n",
    "\n",
    "## The Business Problem\n",
    "\n",
    "KKBox is the leader in music streaming in Asia and their business model is based on paid user accounts and advertising revenue with the former being a significant contributor. The client (KKBox) wants a predictive model of customer churn built.\n",
    "\n",
    "Stage 1 requires descriptive analytics. We will present assumptions about the data & the intended model as we preprocess and explore..."
   ]
  },
  {
   "cell_type": "code",
   "execution_count": 1,
   "metadata": {
    "collapsed": true
   },
   "outputs": [],
   "source": [
    "# Importing pandas et al is a given for data scientists working with flat files\n",
    "\n",
    "import pandas as pd\n",
    "import numpy as np\n",
    "import matplotlib\n",
    "import matplotlib.pyplot as plt\n",
    "%matplotlib inline\n",
    "matplotlib.style.use('ggplot')\n",
    "import re"
   ]
  },
  {
   "cell_type": "code",
   "execution_count": 2,
   "metadata": {},
   "outputs": [
    {
     "data": {
      "text/html": [
       "<div>\n",
       "<style>\n",
       "    .dataframe thead tr:only-child th {\n",
       "        text-align: right;\n",
       "    }\n",
       "\n",
       "    .dataframe thead th {\n",
       "        text-align: left;\n",
       "    }\n",
       "\n",
       "    .dataframe tbody tr th {\n",
       "        vertical-align: top;\n",
       "    }\n",
       "</style>\n",
       "<table border=\"1\" class=\"dataframe\">\n",
       "  <thead>\n",
       "    <tr style=\"text-align: right;\">\n",
       "      <th></th>\n",
       "      <th>msno</th>\n",
       "      <th>city</th>\n",
       "      <th>bd</th>\n",
       "      <th>gender</th>\n",
       "      <th>registered_via</th>\n",
       "      <th>registration_init_time</th>\n",
       "      <th>expiration_date</th>\n",
       "    </tr>\n",
       "  </thead>\n",
       "  <tbody>\n",
       "    <tr>\n",
       "      <th>0</th>\n",
       "      <td>URiXrfYPzHAlk+7+n7BOMl9G+T7g8JmrSnT/BU8GmEo=</td>\n",
       "      <td>1</td>\n",
       "      <td>0</td>\n",
       "      <td>NaN</td>\n",
       "      <td>9</td>\n",
       "      <td>20150525</td>\n",
       "      <td>20150526</td>\n",
       "    </tr>\n",
       "    <tr>\n",
       "      <th>1</th>\n",
       "      <td>U1q0qCqK/lDMTD2kN8G9OXMtfuvLCey20OAIPOvXXGQ=</td>\n",
       "      <td>1</td>\n",
       "      <td>0</td>\n",
       "      <td>NaN</td>\n",
       "      <td>4</td>\n",
       "      <td>20161221</td>\n",
       "      <td>20161224</td>\n",
       "    </tr>\n",
       "    <tr>\n",
       "      <th>2</th>\n",
       "      <td>W6M2H2kAoN9ahfDYKo3J6tmsJRAeuFc9wl1cau5VL1Q=</td>\n",
       "      <td>1</td>\n",
       "      <td>0</td>\n",
       "      <td>NaN</td>\n",
       "      <td>4</td>\n",
       "      <td>20160306</td>\n",
       "      <td>20160309</td>\n",
       "    </tr>\n",
       "    <tr>\n",
       "      <th>3</th>\n",
       "      <td>1qE5+cN7CUyC+KFH6gBZzMWmM1QpIVW6A43BEm98I/w=</td>\n",
       "      <td>5</td>\n",
       "      <td>17</td>\n",
       "      <td>female</td>\n",
       "      <td>4</td>\n",
       "      <td>20161031</td>\n",
       "      <td>20161107</td>\n",
       "    </tr>\n",
       "    <tr>\n",
       "      <th>4</th>\n",
       "      <td>SeAnaZPI+tFdAt+r3lZt/B8PgTp7bcG/1os39u4pLxs=</td>\n",
       "      <td>1</td>\n",
       "      <td>0</td>\n",
       "      <td>NaN</td>\n",
       "      <td>4</td>\n",
       "      <td>20170202</td>\n",
       "      <td>20170205</td>\n",
       "    </tr>\n",
       "  </tbody>\n",
       "</table>\n",
       "</div>"
      ],
      "text/plain": [
       "                                           msno  city  bd  gender  \\\n",
       "0  URiXrfYPzHAlk+7+n7BOMl9G+T7g8JmrSnT/BU8GmEo=     1   0     NaN   \n",
       "1  U1q0qCqK/lDMTD2kN8G9OXMtfuvLCey20OAIPOvXXGQ=     1   0     NaN   \n",
       "2  W6M2H2kAoN9ahfDYKo3J6tmsJRAeuFc9wl1cau5VL1Q=     1   0     NaN   \n",
       "3  1qE5+cN7CUyC+KFH6gBZzMWmM1QpIVW6A43BEm98I/w=     5  17  female   \n",
       "4  SeAnaZPI+tFdAt+r3lZt/B8PgTp7bcG/1os39u4pLxs=     1   0     NaN   \n",
       "\n",
       "   registered_via  registration_init_time  expiration_date  \n",
       "0               9                20150525         20150526  \n",
       "1               4                20161221         20161224  \n",
       "2               4                20160306         20160309  \n",
       "3               4                20161031         20161107  \n",
       "4               4                20170202         20170205  "
      ]
     },
     "execution_count": 2,
     "metadata": {},
     "output_type": "execute_result"
    }
   ],
   "source": [
    "# As the name implies, this csv holds subscriber information\n",
    "\n",
    "members = pd.read_csv('members.csv')\n",
    "members.head()"
   ]
  },
  {
   "cell_type": "code",
   "execution_count": 3,
   "metadata": {},
   "outputs": [
    {
     "name": "stdout",
     "output_type": "stream",
     "text": [
      "<class 'pandas.core.frame.DataFrame'>\n",
      "RangeIndex: 5116194 entries, 0 to 5116193\n",
      "Data columns (total 7 columns):\n",
      "msno                      object\n",
      "city                      int64\n",
      "bd                        int64\n",
      "gender                    object\n",
      "registered_via            int64\n",
      "registration_init_time    int64\n",
      "expiration_date           int64\n",
      "dtypes: int64(5), object(2)\n",
      "memory usage: 273.2+ MB\n"
     ]
    }
   ],
   "source": [
    "members.info()"
   ]
  },
  {
   "cell_type": "code",
   "execution_count": 4,
   "metadata": {},
   "outputs": [
    {
     "data": {
      "text/plain": [
       "msno                      False\n",
       "city                      False\n",
       "bd                        False\n",
       "gender                     True\n",
       "registered_via            False\n",
       "registration_init_time    False\n",
       "expiration_date           False\n",
       "dtype: bool"
      ]
     },
     "execution_count": 4,
     "metadata": {},
     "output_type": "execute_result"
    }
   ],
   "source": [
    "# Locating missing values in our dataframe...\n",
    "\n",
    "members.isnull().any()"
   ]
  },
  {
   "cell_type": "code",
   "execution_count": 5,
   "metadata": {},
   "outputs": [
    {
     "data": {
      "text/plain": [
       "count     1761416\n",
       "unique          2\n",
       "top          male\n",
       "freq       902851\n",
       "Name: gender, dtype: object"
      ]
     },
     "execution_count": 5,
     "metadata": {},
     "output_type": "execute_result"
    }
   ],
   "source": [
    "members['gender'].describe()"
   ]
  },
  {
   "cell_type": "markdown",
   "metadata": {},
   "source": [
    "** The missing values would most likely be customers withholding information. We will declare an attribute for missing values. **"
   ]
  },
  {
   "cell_type": "code",
   "execution_count": 6,
   "metadata": {},
   "outputs": [
    {
     "data": {
      "text/plain": [
       "count     1761416\n",
       "unique          2\n",
       "top          male\n",
       "freq       902851\n",
       "Name: gender, dtype: object"
      ]
     },
     "execution_count": 6,
     "metadata": {},
     "output_type": "execute_result"
    }
   ],
   "source": [
    "members['gender'].describe()"
   ]
  },
  {
   "cell_type": "markdown",
   "metadata": {},
   "source": [
    "** Creating a graphical representation of our gender data... **"
   ]
  },
  {
   "cell_type": "code",
   "execution_count": 7,
   "metadata": {},
   "outputs": [
    {
     "data": {
      "image/png": "[encoded data removed]",
      "text/plain": [
       "<matplotlib.figure.Figure at 0x391e5828>"
      ]
     },
     "metadata": {},
     "output_type": "display_data"
    }
   ],
   "source": [
    "gender = members['gender'].value_counts()\n",
    "gender.plot(kind='bar',stacked=True, figsize=(8,6))\n",
    "\n",
    "plt.ylabel('Total')\n",
    "plt.title(\"Gender of KKBox subscribers\")\n",
    "plt.show()"
   ]
  },
  {
   "cell_type": "code",
   "execution_count": 18,
   "metadata": {},
   "outputs": [],
   "source": [
    "members['gender'] = members['gender'].fillna('missing')"
   ]
  },
  {
   "cell_type": "code",
   "execution_count": 19,
   "metadata": {},
   "outputs": [
    {
     "data": {
      "text/plain": [
       "count     5116194\n",
       "unique          3\n",
       "top       missing\n",
       "freq      3354778\n",
       "Name: gender, dtype: object"
      ]
     },
     "execution_count": 19,
     "metadata": {},
     "output_type": "execute_result"
    }
   ],
   "source": [
    "members['gender'].describe()"
   ]
  },
  {
   "cell_type": "code",
   "execution_count": 8,
   "metadata": {},
   "outputs": [
    {
     "name": "stdout",
     "output_type": "stream",
     "text": [
      "msno\n",
      "['URiXrfYPzHAlk+7+n7BOMl9G+T7g8JmrSnT/BU8GmEo='\n",
      " 'U1q0qCqK/lDMTD2kN8G9OXMtfuvLCey20OAIPOvXXGQ='\n",
      " 'W6M2H2kAoN9ahfDYKo3J6tmsJRAeuFc9wl1cau5VL1Q=' ...,\n",
      " 'nufMrGILJC0l8UwsEegBJeB4Hr6+WJDuWrfLaipSMDA='\n",
      " 'dw4PyMqv9x+nWlV+D9JWmMlZExnjnkidxBDmUErGsrA='\n",
      " 'VJmQvIH9x9SHfo//AMHJaY1MSQw9FVy4Vhjxxk30pCM=']\n",
      "city\n",
      "[ 1  5  6 22 13  4 12 15 17 14 11 10  3  9  8 21 18  7 19 20 16]\n",
      "bd\n",
      "[    0    17    40    24    56    22    32    19   117    42    25    29\n",
      "    28    43    41    47    18    20    36    21    50    39    38    26\n",
      "    27    53    23    16    34    37    48    30    45    52    46    57\n",
      "    44    33    35    31    58    54    49    55    15    14    79    67\n",
      "    66    62    51    96    92    61    59    65    81    69    60    63\n",
      "    64   104   106    97    72    73    84    75   112    94    91    68\n",
      "   -36    74   102     3    95    12    70   105    76    71   111    80\n",
      "    78    85  1032    13     2   100     9    90    77     6   103    86\n",
      "     1     5    87   101   139   -51   107    93  1042   115  1062     7\n",
      "    88     4   -44   924   -50    11  1039    98   584   122   923    82\n",
      "   110    99    10   -48   109     8    89   948   108  1017   919    83\n",
      "   118  1029  1009  1033   935   221   -49   649  1035   -46   951   116\n",
      "   822   -39  1053  1038   939   -42   689   143  1025   -43   126 -2828\n",
      "  2010  1021   -45  1064  1041   121   961   -47   -41  1028   938   137\n",
      "   936   -52   141   -32   113   519   826  2011   944    -9   793   160\n",
      "   934  1047   942   824  1051   928   462   131   933  1030   932  1008\n",
      " -3152    -8   943   926   922   573   239  1031   906  1037   945   931\n",
      "  2014  1040  1026   -37  1011   959   806   132  1819  1501   819  1050\n",
      "  1421   941   -30   -40   837   155   -23   950   930  1937   124   -38\n",
      "   151   144 -5978   323 -6998   357   332   953   130  1970   321   -34\n",
      "   114   123  1036   964   150   230  1045   127  1043   153  1949   228\n",
      "   133   128   339  1034   -24   -35   197   320   148   778  1018   119\n",
      "   129   138 -6445   265 -1970   319   386   353   947   120  1052  1309\n",
      "  1212   827  -974   231   994  -178   925   940   929   955   244   220\n",
      "   -22   946    -7   167   920  1967  1946  1821  -951   140  -963  1049\n",
      "   163  1111  2009   328 -6807   821  1058   -33  1089  1056   125   743\n",
      "  1820  1954  1958  1048   237   810   -19   -12  1013   786    -6  2015\n",
      "   -14   -10]\n",
      "gender\n",
      "[nan 'female' 'male']\n",
      "registered_via\n",
      "[ 9  4  3  7 13 16 10]\n",
      "registration_init_time\n",
      "[20150525 20161221 20160306 ..., 20170415 20040613 20170514]\n",
      "expiration_date\n",
      "[20150526 20161224 20160309 ..., 20191026 20050303 20200913]\n"
     ]
    }
   ],
   "source": [
    "# let's find out what unique values our other variables hold...\n",
    "\n",
    "for column in members:\n",
    "    print column\n",
    "    print members[column].unique()"
   ]
  },
  {
   "cell_type": "markdown",
   "metadata": {},
   "source": [
    "**The bd column is a placeholder for subscriber age whose entries range from -6998 to 2015**\n",
    "\n",
    "*What assumptions can we make about this variable?*\n",
    "\n",
    "- It is possible this field is stored in a Unix-like database that holds dates as either positive or negative offsets of 1970\n",
    "- The values could also be user entry errors\n",
    "\n",
    "As KKBox only accepts registrants from within Asia, we had someone from Hong Kong sign up and we got these screenshots:\n",
    "\n",
    "<table><tr><td><img src=\"correct.jpg\" style=\"width: 250px;\"></td><td><img src=\"wrong1.jpg\" style=\"width: 250px;\"></td><td><img src=\"wrong2.jpg\" style=\"width: 250px;\"></td></tr></table>\n",
    "\n",
    "## Clearly, KKbox has data validation issues they need to attend to...\n",
    "\n",
    "Our observation clearly rules out the Unix case.. \n",
    "\n",
    "### We will assume any age lower than 0 and higher than 100 is invalid.\n",
    "\n",
    "We will assume parents can sign their kids (aged  0 - 10) up for the service."
   ]
  },
  {
   "cell_type": "code",
   "execution_count": 20,
   "metadata": {},
   "outputs": [
    {
     "data": {
      "image/png": "[encoded data removed]",
      "text/plain": [
       "<matplotlib.figure.Figure at 0x3933cf60>"
      ]
     },
     "metadata": {},
     "output_type": "display_data"
    }
   ],
   "source": [
    "members['bd'].hist()\n",
    "plt.show()"
   ]
  },
  {
   "cell_type": "code",
   "execution_count": 9,
   "metadata": {},
   "outputs": [],
   "source": [
    "members.loc[members['bd'] < 10, 'bd'] = np.nan\n",
    "members.loc[members['bd'] > 80, 'bd'] = np.nan"
   ]
  },
  {
   "cell_type": "code",
   "execution_count": 10,
   "metadata": {},
   "outputs": [
    {
     "data": {
      "image/png": "[encoded data removed]",
      "text/plain": [
       "<matplotlib.figure.Figure at 0x39490400>"
      ]
     },
     "metadata": {},
     "output_type": "display_data"
    }
   ],
   "source": [
    "members['bd'].hist()\n",
    "plt.show()"
   ]
  },
  {
   "cell_type": "code",
   "execution_count": 11,
   "metadata": {},
   "outputs": [
    {
     "data": {
      "image/png": "[encoded data removed]",
      "text/plain": [
       "<matplotlib.figure.Figure at 0x39ab6a90>"
      ]
     },
     "metadata": {},
     "output_type": "display_data"
    }
   ],
   "source": [
    "members.hist(figsize=(15,12))\n",
    "plt.show()"
   ]
  },
  {
   "cell_type": "code",
   "execution_count": 12,
   "metadata": {},
   "outputs": [
    {
     "data": {
      "text/plain": [
       "Index([u'bd', u'gender'], dtype='object')"
      ]
     },
     "execution_count": 12,
     "metadata": {},
     "output_type": "execute_result"
    }
   ],
   "source": [
    "members.columns[members.isnull().any()]"
   ]
  },
  {
   "cell_type": "code",
   "execution_count": 21,
   "metadata": {},
   "outputs": [
    {
     "data": {
      "text/plain": [
       "Index([u'bd'], dtype='object')"
      ]
     },
     "execution_count": 21,
     "metadata": {},
     "output_type": "execute_result"
    }
   ],
   "source": [
    "members.columns[members.isnull().any()]"
   ]
  },
  {
   "cell_type": "markdown",
   "metadata": {},
   "source": [
    "### Class for Null Values"
   ]
  },
  {
   "cell_type": "code",
   "execution_count": 13,
   "metadata": {
    "collapsed": true
   },
   "outputs": [],
   "source": [
    "from sklearn.base import TransformerMixin\n",
    "\n",
    "class DataFrameImputer(TransformerMixin):\n",
    "    \n",
    "    def __init__(self):\n",
    "        \"\"\"Impute missing values.\n",
    "        \n",
    "        Columns of dtype object are imputed with the most frequent value in column.\n",
    "        \n",
    "        Columns of other types are imputed with median of column.\n",
    "        \n",
    "        \"\"\"\n",
    "    def fit(self, X, y=None):\n",
    "        \n",
    "        self.fill = pd.Series([X[c].value_counts().index[0]\n",
    "            if X[c].dtype == np.dtype('O') else X[c].median() for c in X],\n",
    "                index=X.columns)\n",
    "        \n",
    "        return self\n",
    "    \n",
    "    def transform(self, X, y=None):\n",
    "        return X.fillna(self.fill)"
   ]
  },
  {
   "cell_type": "code",
   "execution_count": 22,
   "metadata": {
    "collapsed": true
   },
   "outputs": [],
   "source": [
    "# We will transform the variables of time\n",
    "\n",
    "from datetime import datetime\n",
    "\n",
    "members['expiration_date'] = members['expiration_date'].apply(lambda x: pd.to_datetime(str(x), format='%Y%m%d').date())\n",
    "members['registration_init_time'] = members['registration_init_time'].apply(lambda x: pd.to_datetime(str(x), format='%Y%m%d').date())"
   ]
  },
  {
   "cell_type": "code",
   "execution_count": 22,
   "metadata": {},
   "outputs": [
    {
     "data": {
      "image/png": "[encoded data removed]",
      "text/plain": [
       "<matplotlib.figure.Figure at 0xb334e10>"
      ]
     },
     "metadata": {},
     "output_type": "display_data"
    }
   ],
   "source": [
    "members['registration_init_time'].hist()\n",
    "plt.show()"
   ]
  },
  {
   "cell_type": "code",
   "execution_count": 23,
   "metadata": {},
   "outputs": [
    {
     "data": {
      "image/png": "[encoded data removed]",
      "text/plain": [
       "<matplotlib.figure.Figure at 0xadc2908>"
      ]
     },
     "metadata": {},
     "output_type": "display_data"
    }
   ],
   "source": [
    "members['expiration_date'].hist()\n",
    "plt.show()"
   ]
  },
  {
   "cell_type": "code",
   "execution_count": 24,
   "metadata": {
    "scrolled": true
   },
   "outputs": [
    {
     "name": "stdout",
     "output_type": "stream",
     "text": [
      "2100-01-01\n"
     ]
    },
    {
     "data": {
      "text/plain": [
       "datetime.date(1970, 1, 1)"
      ]
     },
     "execution_count": 24,
     "metadata": {},
     "output_type": "execute_result"
    }
   ],
   "source": [
    "print members['expiration_date'].max()\n",
    "members['expiration_date'].min()"
   ]
  },
  {
   "cell_type": "code",
   "execution_count": 25,
   "metadata": {},
   "outputs": [
    {
     "data": {
      "text/plain": [
       "676"
      ]
     },
     "execution_count": 25,
     "metadata": {},
     "output_type": "execute_result"
    }
   ],
   "source": [
    "members['expiration_date'][(members['expiration_date'] < datetime(2004,1,1).date())].count()"
   ]
  },
  {
   "cell_type": "code",
   "execution_count": 26,
   "metadata": {
    "collapsed": true
   },
   "outputs": [],
   "source": [
    "members.loc[members['expiration_date'] < datetime(2004,1,1).date(), 'expiration_date'] = np.nan\n",
    "members.loc[members['expiration_date'] > datetime(2050,1,1).date(), 'expiration_date'] = np.nan"
   ]
  },
  {
   "cell_type": "code",
   "execution_count": 27,
   "metadata": {},
   "outputs": [
    {
     "data": {
      "image/png": "[encoded data removed]",
      "text/plain": [
       "<matplotlib.figure.Figure at 0x653e6ac8>"
      ]
     },
     "metadata": {},
     "output_type": "display_data"
    }
   ],
   "source": [
    "members['expiration_date'].hist()\n",
    "plt.show()"
   ]
  },
  {
   "cell_type": "code",
   "execution_count": 28,
   "metadata": {},
   "outputs": [],
   "source": [
    "members['expiration_days'] = members['expiration_date']-datetime(1970,1,1).date()"
   ]
  },
  {
   "cell_type": "code",
   "execution_count": 29,
   "metadata": {
    "collapsed": true
   },
   "outputs": [],
   "source": [
    "members['registration_init_days'] = members['registration_init_time']-datetime(1970,1,1).date() "
   ]
  },
  {
   "cell_type": "code",
   "execution_count": 30,
   "metadata": {},
   "outputs": [],
   "source": [
    "members = members.drop(['expiration_date','registration_init_time'], axis=1)"
   ]
  },
  {
   "cell_type": "code",
   "execution_count": 31,
   "metadata": {},
   "outputs": [
    {
     "name": "stdout",
     "output_type": "stream",
     "text": [
      "<class 'pandas.core.frame.DataFrame'>\n",
      "RangeIndex: 5116194 entries, 0 to 5116193\n",
      "Data columns (total 7 columns):\n",
      "msno                      object\n",
      "city                      int64\n",
      "bd                        float64\n",
      "gender                    object\n",
      "registered_via            int64\n",
      "expiration_days           timedelta64[ns]\n",
      "registration_init_days    timedelta64[ns]\n",
      "dtypes: float64(1), int64(2), object(2), timedelta64[ns](2)\n",
      "memory usage: 273.2+ MB\n"
     ]
    }
   ],
   "source": [
    "members.info()"
   ]
  },
  {
   "cell_type": "code",
   "execution_count": 32,
   "metadata": {},
   "outputs": [
    {
     "data": {
      "text/plain": [
       "msno                      False\n",
       "city                      False\n",
       "bd                         True\n",
       "gender                    False\n",
       "registered_via            False\n",
       "expiration_days            True\n",
       "registration_init_days    False\n",
       "dtype: bool"
      ]
     },
     "execution_count": 32,
     "metadata": {},
     "output_type": "execute_result"
    }
   ],
   "source": [
    "members.isnull().any()"
   ]
  },
  {
   "cell_type": "code",
   "execution_count": 33,
   "metadata": {
    "collapsed": true
   },
   "outputs": [],
   "source": [
    "members = DataFrameImputer().fit_transform(members)"
   ]
  },
  {
   "cell_type": "code",
   "execution_count": 34,
   "metadata": {},
   "outputs": [
    {
     "data": {
      "text/plain": [
       "msno                      False\n",
       "city                      False\n",
       "bd                        False\n",
       "gender                    False\n",
       "registered_via            False\n",
       "expiration_days           False\n",
       "registration_init_days    False\n",
       "dtype: bool"
      ]
     },
     "execution_count": 34,
     "metadata": {},
     "output_type": "execute_result"
    }
   ],
   "source": [
    "members.isnull().any()"
   ]
  },
  {
   "cell_type": "code",
   "execution_count": 35,
   "metadata": {
    "collapsed": true
   },
   "outputs": [],
   "source": [
    "members.to_csv('members_clean.csv', index=False)"
   ]
  },
  {
   "cell_type": "code",
   "execution_count": 36,
   "metadata": {},
   "outputs": [
    {
     "data": {
      "text/html": [
       "<div>\n",
       "<style>\n",
       "    .dataframe thead tr:only-child th {\n",
       "        text-align: right;\n",
       "    }\n",
       "\n",
       "    .dataframe thead th {\n",
       "        text-align: left;\n",
       "    }\n",
       "\n",
       "    .dataframe tbody tr th {\n",
       "        vertical-align: top;\n",
       "    }\n",
       "</style>\n",
       "<table border=\"1\" class=\"dataframe\">\n",
       "  <thead>\n",
       "    <tr style=\"text-align: right;\">\n",
       "      <th></th>\n",
       "      <th>msno</th>\n",
       "      <th>city</th>\n",
       "      <th>bd</th>\n",
       "      <th>gender</th>\n",
       "      <th>registered_via</th>\n",
       "      <th>expiration_days</th>\n",
       "      <th>registration_init_days</th>\n",
       "    </tr>\n",
       "  </thead>\n",
       "  <tbody>\n",
       "    <tr>\n",
       "      <th>0</th>\n",
       "      <td>URiXrfYPzHAlk+7+n7BOMl9G+T7g8JmrSnT/BU8GmEo=</td>\n",
       "      <td>1</td>\n",
       "      <td>27.0</td>\n",
       "      <td>missing</td>\n",
       "      <td>9</td>\n",
       "      <td>16581 days</td>\n",
       "      <td>16580 days</td>\n",
       "    </tr>\n",
       "    <tr>\n",
       "      <th>1</th>\n",
       "      <td>U1q0qCqK/lDMTD2kN8G9OXMtfuvLCey20OAIPOvXXGQ=</td>\n",
       "      <td>1</td>\n",
       "      <td>27.0</td>\n",
       "      <td>missing</td>\n",
       "      <td>4</td>\n",
       "      <td>17159 days</td>\n",
       "      <td>17156 days</td>\n",
       "    </tr>\n",
       "    <tr>\n",
       "      <th>2</th>\n",
       "      <td>W6M2H2kAoN9ahfDYKo3J6tmsJRAeuFc9wl1cau5VL1Q=</td>\n",
       "      <td>1</td>\n",
       "      <td>27.0</td>\n",
       "      <td>missing</td>\n",
       "      <td>4</td>\n",
       "      <td>16869 days</td>\n",
       "      <td>16866 days</td>\n",
       "    </tr>\n",
       "    <tr>\n",
       "      <th>3</th>\n",
       "      <td>1qE5+cN7CUyC+KFH6gBZzMWmM1QpIVW6A43BEm98I/w=</td>\n",
       "      <td>5</td>\n",
       "      <td>17.0</td>\n",
       "      <td>female</td>\n",
       "      <td>4</td>\n",
       "      <td>17112 days</td>\n",
       "      <td>17105 days</td>\n",
       "    </tr>\n",
       "    <tr>\n",
       "      <th>4</th>\n",
       "      <td>SeAnaZPI+tFdAt+r3lZt/B8PgTp7bcG/1os39u4pLxs=</td>\n",
       "      <td>1</td>\n",
       "      <td>27.0</td>\n",
       "      <td>missing</td>\n",
       "      <td>4</td>\n",
       "      <td>17202 days</td>\n",
       "      <td>17199 days</td>\n",
       "    </tr>\n",
       "    <tr>\n",
       "      <th>5</th>\n",
       "      <td>iSJMDbqVrpRf7DRQoCINa6CzxpEIkHj91X5oqpReC3k=</td>\n",
       "      <td>1</td>\n",
       "      <td>27.0</td>\n",
       "      <td>missing</td>\n",
       "      <td>4</td>\n",
       "      <td>16849 days</td>\n",
       "      <td>16846 days</td>\n",
       "    </tr>\n",
       "    <tr>\n",
       "      <th>6</th>\n",
       "      <td>NNYKvjuUcXHLi40gmdfpVfdlNOuRxQ1uGYVp45Ce/eY=</td>\n",
       "      <td>1</td>\n",
       "      <td>27.0</td>\n",
       "      <td>missing</td>\n",
       "      <td>9</td>\n",
       "      <td>16636 days</td>\n",
       "      <td>16635 days</td>\n",
       "    </tr>\n",
       "    <tr>\n",
       "      <th>7</th>\n",
       "      <td>TA85iK5eP14OHddABVsSlwi4EKTe9sxMBp+9nWsdLq8=</td>\n",
       "      <td>1</td>\n",
       "      <td>40.0</td>\n",
       "      <td>male</td>\n",
       "      <td>3</td>\n",
       "      <td>16601 days</td>\n",
       "      <td>16592 days</td>\n",
       "    </tr>\n",
       "    <tr>\n",
       "      <th>8</th>\n",
       "      <td>75rp8sCaeatezkb6c0I133UakcSDuKcc5ia0b0Q+JS4=</td>\n",
       "      <td>1</td>\n",
       "      <td>24.0</td>\n",
       "      <td>male</td>\n",
       "      <td>3</td>\n",
       "      <td>17434 days</td>\n",
       "      <td>16768 days</td>\n",
       "    </tr>\n",
       "    <tr>\n",
       "      <th>9</th>\n",
       "      <td>1Nqjt8ykQceNOmuRrh9bcgvicDfLlj+jkgx7+Dd0Rk0=</td>\n",
       "      <td>1</td>\n",
       "      <td>27.0</td>\n",
       "      <td>missing</td>\n",
       "      <td>7</td>\n",
       "      <td>17418 days</td>\n",
       "      <td>16901 days</td>\n",
       "    </tr>\n",
       "    <tr>\n",
       "      <th>10</th>\n",
       "      <td>nA2P+zKS1WyHLVlRGtqewQOSc1IiprNiwxgD+CF7qlI=</td>\n",
       "      <td>1</td>\n",
       "      <td>27.0</td>\n",
       "      <td>missing</td>\n",
       "      <td>4</td>\n",
       "      <td>17024 days</td>\n",
       "      <td>17021 days</td>\n",
       "    </tr>\n",
       "    <tr>\n",
       "      <th>11</th>\n",
       "      <td>bChYxV+cY/E2YI3TllvCvB5+4RjJy0HSc8osLodc7L0=</td>\n",
       "      <td>6</td>\n",
       "      <td>56.0</td>\n",
       "      <td>female</td>\n",
       "      <td>9</td>\n",
       "      <td>16860 days</td>\n",
       "      <td>15345 days</td>\n",
       "    </tr>\n",
       "    <tr>\n",
       "      <th>12</th>\n",
       "      <td>FTBZv/mhbVl5Wfj4YK73DvBJWT0KciEb1zt9O+B0nQs=</td>\n",
       "      <td>1</td>\n",
       "      <td>27.0</td>\n",
       "      <td>missing</td>\n",
       "      <td>4</td>\n",
       "      <td>17119 days</td>\n",
       "      <td>16735 days</td>\n",
       "    </tr>\n",
       "    <tr>\n",
       "      <th>13</th>\n",
       "      <td>aDAv7l/HUMESMgBZTofjvTzoJdkawX/nlV8aplgGU/E=</td>\n",
       "      <td>22</td>\n",
       "      <td>24.0</td>\n",
       "      <td>female</td>\n",
       "      <td>9</td>\n",
       "      <td>16747 days</td>\n",
       "      <td>14856 days</td>\n",
       "    </tr>\n",
       "    <tr>\n",
       "      <th>14</th>\n",
       "      <td>lUDrFqTGfiGwQruU4UIChkwfZ65a+QD6Y6JZ3foDC94=</td>\n",
       "      <td>13</td>\n",
       "      <td>22.0</td>\n",
       "      <td>male</td>\n",
       "      <td>3</td>\n",
       "      <td>16626 days</td>\n",
       "      <td>16619 days</td>\n",
       "    </tr>\n",
       "    <tr>\n",
       "      <th>15</th>\n",
       "      <td>bETEI93UvMiPxkUVyYJCu4Sj4H2oGeBcRkhI2yQaBDA=</td>\n",
       "      <td>1</td>\n",
       "      <td>27.0</td>\n",
       "      <td>missing</td>\n",
       "      <td>4</td>\n",
       "      <td>16785 days</td>\n",
       "      <td>16782 days</td>\n",
       "    </tr>\n",
       "    <tr>\n",
       "      <th>16</th>\n",
       "      <td>UtHApaF/2fkB+EFTJFMDtKfsqT6WSVgI6Vr2yUCwqII=</td>\n",
       "      <td>5</td>\n",
       "      <td>32.0</td>\n",
       "      <td>female</td>\n",
       "      <td>3</td>\n",
       "      <td>17364 days</td>\n",
       "      <td>16639 days</td>\n",
       "    </tr>\n",
       "    <tr>\n",
       "      <th>17</th>\n",
       "      <td>euz3ooLYgbx+l1Zr21fmt+kc+sLjDX9lzatDCSL9HxI=</td>\n",
       "      <td>1</td>\n",
       "      <td>27.0</td>\n",
       "      <td>missing</td>\n",
       "      <td>4</td>\n",
       "      <td>16897 days</td>\n",
       "      <td>16894 days</td>\n",
       "    </tr>\n",
       "    <tr>\n",
       "      <th>18</th>\n",
       "      <td>fek98Jo/cjKZBHw2ZWgWTET/2Dzkdv/GERnGTEDln+8=</td>\n",
       "      <td>4</td>\n",
       "      <td>22.0</td>\n",
       "      <td>female</td>\n",
       "      <td>3</td>\n",
       "      <td>16839 days</td>\n",
       "      <td>16805 days</td>\n",
       "    </tr>\n",
       "    <tr>\n",
       "      <th>19</th>\n",
       "      <td>gsDjjsDaM2cXEorLK8Qctgf6eO3NU1QgYK5q4j3dhfc=</td>\n",
       "      <td>1</td>\n",
       "      <td>27.0</td>\n",
       "      <td>missing</td>\n",
       "      <td>7</td>\n",
       "      <td>17446 days</td>\n",
       "      <td>16960 days</td>\n",
       "    </tr>\n",
       "  </tbody>\n",
       "</table>\n",
       "</div>"
      ],
      "text/plain": [
       "                                            msno  city    bd   gender  \\\n",
       "0   URiXrfYPzHAlk+7+n7BOMl9G+T7g8JmrSnT/BU8GmEo=     1  27.0  missing   \n",
       "1   U1q0qCqK/lDMTD2kN8G9OXMtfuvLCey20OAIPOvXXGQ=     1  27.0  missing   \n",
       "2   W6M2H2kAoN9ahfDYKo3J6tmsJRAeuFc9wl1cau5VL1Q=     1  27.0  missing   \n",
       "3   1qE5+cN7CUyC+KFH6gBZzMWmM1QpIVW6A43BEm98I/w=     5  17.0   female   \n",
       "4   SeAnaZPI+tFdAt+r3lZt/B8PgTp7bcG/1os39u4pLxs=     1  27.0  missing   \n",
       "5   iSJMDbqVrpRf7DRQoCINa6CzxpEIkHj91X5oqpReC3k=     1  27.0  missing   \n",
       "6   NNYKvjuUcXHLi40gmdfpVfdlNOuRxQ1uGYVp45Ce/eY=     1  27.0  missing   \n",
       "7   TA85iK5eP14OHddABVsSlwi4EKTe9sxMBp+9nWsdLq8=     1  40.0     male   \n",
       "8   75rp8sCaeatezkb6c0I133UakcSDuKcc5ia0b0Q+JS4=     1  24.0     male   \n",
       "9   1Nqjt8ykQceNOmuRrh9bcgvicDfLlj+jkgx7+Dd0Rk0=     1  27.0  missing   \n",
       "10  nA2P+zKS1WyHLVlRGtqewQOSc1IiprNiwxgD+CF7qlI=     1  27.0  missing   \n",
       "11  bChYxV+cY/E2YI3TllvCvB5+4RjJy0HSc8osLodc7L0=     6  56.0   female   \n",
       "12  FTBZv/mhbVl5Wfj4YK73DvBJWT0KciEb1zt9O+B0nQs=     1  27.0  missing   \n",
       "13  aDAv7l/HUMESMgBZTofjvTzoJdkawX/nlV8aplgGU/E=    22  24.0   female   \n",
       "14  lUDrFqTGfiGwQruU4UIChkwfZ65a+QD6Y6JZ3foDC94=    13  22.0     male   \n",
       "15  bETEI93UvMiPxkUVyYJCu4Sj4H2oGeBcRkhI2yQaBDA=     1  27.0  missing   \n",
       "16  UtHApaF/2fkB+EFTJFMDtKfsqT6WSVgI6Vr2yUCwqII=     5  32.0   female   \n",
       "17  euz3ooLYgbx+l1Zr21fmt+kc+sLjDX9lzatDCSL9HxI=     1  27.0  missing   \n",
       "18  fek98Jo/cjKZBHw2ZWgWTET/2Dzkdv/GERnGTEDln+8=     4  22.0   female   \n",
       "19  gsDjjsDaM2cXEorLK8Qctgf6eO3NU1QgYK5q4j3dhfc=     1  27.0  missing   \n",
       "\n",
       "    registered_via expiration_days registration_init_days  \n",
       "0                9      16581 days             16580 days  \n",
       "1                4      17159 days             17156 days  \n",
       "2                4      16869 days             16866 days  \n",
       "3                4      17112 days             17105 days  \n",
       "4                4      17202 days             17199 days  \n",
       "5                4      16849 days             16846 days  \n",
       "6                9      16636 days             16635 days  \n",
       "7                3      16601 days             16592 days  \n",
       "8                3      17434 days             16768 days  \n",
       "9                7      17418 days             16901 days  \n",
       "10               4      17024 days             17021 days  \n",
       "11               9      16860 days             15345 days  \n",
       "12               4      17119 days             16735 days  \n",
       "13               9      16747 days             14856 days  \n",
       "14               3      16626 days             16619 days  \n",
       "15               4      16785 days             16782 days  \n",
       "16               3      17364 days             16639 days  \n",
       "17               4      16897 days             16894 days  \n",
       "18               3      16839 days             16805 days  \n",
       "19               7      17446 days             16960 days  "
      ]
     },
     "execution_count": 36,
     "metadata": {},
     "output_type": "execute_result"
    }
   ],
   "source": [
    "members.head(20)"
   ]
  },
  {
   "cell_type": "code",
   "execution_count": null,
   "metadata": {
    "collapsed": true
   },
   "outputs": [],
   "source": []
  },
  {
   "cell_type": "code",
   "execution_count": null,
   "metadata": {
    "collapsed": true
   },
   "outputs": [],
   "source": []
  },
  {
   "cell_type": "code",
   "execution_count": null,
   "metadata": {
    "collapsed": true
   },
   "outputs": [],
   "source": []
  },
  {
   "cell_type": "code",
   "execution_count": null,
   "metadata": {
    "collapsed": true
   },
   "outputs": [],
   "source": []
  },
  {
   "cell_type": "code",
   "execution_count": 14,
   "metadata": {
    "collapsed": true
   },
   "outputs": [],
   "source": [
    "members['registered_via'] = members['registered_via'].astype('category')\n",
    "members['city'] = members['city'].astype('category')"
   ]
  },
  {
   "cell_type": "code",
   "execution_count": 41,
   "metadata": {
    "scrolled": false
   },
   "outputs": [
    {
     "data": {
      "image/png": "[encoded data removed]",
      "text/plain": [
       "<matplotlib.figure.Figure at 0x39900f98>"
      ]
     },
     "metadata": {},
     "output_type": "display_data"
    }
   ],
   "source": [
    "city = members['city'].value_counts()\n",
    "city.plot(kind='bar',stacked=True, figsize=(8,6))\n",
    "\n",
    "plt.xlabel('City')\n",
    "plt.ylabel('No. of Members')\n",
    "plt.title(\"City Make-up of Subscribers\")\n",
    "plt.show()"
   ]
  },
  {
   "cell_type": "code",
   "execution_count": 43,
   "metadata": {},
   "outputs": [
    {
     "data": {
      "image/png": "[encoded data removed]",
      "text/plain": [
       "<matplotlib.figure.Figure at 0x55e5ddd8>"
      ]
     },
     "metadata": {},
     "output_type": "display_data"
    }
   ],
   "source": [
    "registered_via = members['registered_via'].value_counts()\n",
    "registered_via.plot(kind='bar',stacked=True, figsize=(8,5))\n",
    "\n",
    "plt.xlabel('Plot of Registration Method')\n",
    "plt.ylabel('Number registered')\n",
    "plt.title(\"Registration Method\")\n",
    "plt.show()"
   ]
  },
  {
   "cell_type": "markdown",
   "metadata": {},
   "source": [
    "*** Pending confirmation from a reliable data dictionary, it is safe to assume that city 1 is Taipei, KKBox being a Taiwanese company... ***"
   ]
  },
  {
   "cell_type": "code",
   "execution_count": 15,
   "metadata": {
    "scrolled": true
   },
   "outputs": [
    {
     "name": "stdout",
     "output_type": "stream",
     "text": [
      "<class 'pandas.core.frame.DataFrame'>\n",
      "RangeIndex: 5116194 entries, 0 to 5116193\n",
      "Data columns (total 7 columns):\n",
      "msno                      object\n",
      "city                      category\n",
      "bd                        int64\n",
      "gender                    object\n",
      "registered_via            category\n",
      "registration_init_time    int64\n",
      "expiration_date           int64\n",
      "dtypes: category(2), int64(3), object(2)\n",
      "memory usage: 204.9+ MB\n"
     ]
    }
   ],
   "source": [
    "members.info()"
   ]
  },
  {
   "cell_type": "code",
   "execution_count": 32,
   "metadata": {},
   "outputs": [
    {
     "data": {
      "text/plain": [
       "0    2015-05-26\n",
       "1    2016-12-24\n",
       "2    2016-03-09\n",
       "3    2016-11-07\n",
       "4    2017-02-05\n",
       "Name: expiration_date, dtype: object"
      ]
     },
     "execution_count": 32,
     "metadata": {},
     "output_type": "execute_result"
    }
   ],
   "source": [
    "members['expiration_date'].head()"
   ]
  },
  {
   "cell_type": "code",
   "execution_count": 33,
   "metadata": {},
   "outputs": [
    {
     "data": {
      "text/plain": [
       "count        5116194\n",
       "unique          4763\n",
       "top       2015-10-09\n",
       "freq           11550\n",
       "Name: registration_init_time, dtype: object"
      ]
     },
     "execution_count": 33,
     "metadata": {},
     "output_type": "execute_result"
    }
   ],
   "source": [
    "members['registration_init_time'].describe()"
   ]
  },
  {
   "cell_type": "code",
   "execution_count": 34,
   "metadata": {
    "scrolled": false
   },
   "outputs": [
    {
     "name": "stdout",
     "output_type": "stream",
     "text": [
      "count                                          5116194\n",
      "unique                                         5116194\n",
      "top       lLEwGD3UEH/O8YCBrUGPRQUUKVi/sCnJULwGIU49Kj4=\n",
      "freq                                                 1\n",
      "Name: msno, dtype: object\n",
      "count     5116194\n",
      "unique         21\n",
      "top             1\n",
      "freq      3541998\n",
      "Name: city, dtype: int64\n",
      "count    5.112225e+06\n",
      "mean     9.665540e+00\n",
      "std      1.500244e+01\n",
      "min      0.000000e+00\n",
      "25%      0.000000e+00\n",
      "50%      0.000000e+00\n",
      "75%      2.100000e+01\n",
      "max      1.000000e+02\n",
      "Name: bd, dtype: float64\n",
      "count     5116194\n",
      "unique          3\n",
      "top       missing\n",
      "freq      3354778\n",
      "Name: gender, dtype: object\n",
      "count     5116194\n",
      "unique          7\n",
      "top             4\n",
      "freq      2351944\n",
      "Name: registered_via, dtype: int64\n",
      "count        5116194\n",
      "unique          4763\n",
      "top       2015-10-09\n",
      "freq           11550\n",
      "Name: registration_init_time, dtype: object\n",
      "count        5116194\n",
      "unique          5604\n",
      "top       2017-09-30\n",
      "freq          137652\n",
      "Name: expiration_date, dtype: object\n"
     ]
    }
   ],
   "source": [
    "for column in members:\n",
    "    print members[column].describe()"
   ]
  },
  {
   "cell_type": "code",
   "execution_count": 35,
   "metadata": {},
   "outputs": [
    {
     "name": "stdout",
     "output_type": "stream",
     "text": [
      "<class 'pandas.core.frame.DataFrame'>\n",
      "RangeIndex: 5116194 entries, 0 to 5116193\n",
      "Data columns (total 7 columns):\n",
      "msno                      object\n",
      "city                      category\n",
      "bd                        float64\n",
      "gender                    object\n",
      "registered_via            category\n",
      "registration_init_time    object\n",
      "expiration_date           object\n",
      "dtypes: category(2), float64(1), object(4)\n",
      "memory usage: 204.9+ MB\n"
     ]
    }
   ],
   "source": [
    "members.info()"
   ]
  },
  {
   "cell_type": "markdown",
   "metadata": {},
   "source": [
    "** So... We have 7 input variables - 2 categorical (registered via, gender, and city), 4 objects, and age **"
   ]
  },
  {
   "cell_type": "code",
   "execution_count": 45,
   "metadata": {
    "collapsed": true
   },
   "outputs": [],
   "source": [
    "members.to_csv(\"members_trf_data.csv\", index=False)"
   ]
  },
  {
   "cell_type": "markdown",
   "metadata": {},
   "source": [
    "## We will now attempt to describe the transactions data..."
   ]
  },
  {
   "cell_type": "code",
   "execution_count": 44,
   "metadata": {},
   "outputs": [
    {
     "data": {
      "text/html": [
       "<div>\n",
       "<style>\n",
       "    .dataframe thead tr:only-child th {\n",
       "        text-align: right;\n",
       "    }\n",
       "\n",
       "    .dataframe thead th {\n",
       "        text-align: left;\n",
       "    }\n",
       "\n",
       "    .dataframe tbody tr th {\n",
       "        vertical-align: top;\n",
       "    }\n",
       "</style>\n",
       "<table border=\"1\" class=\"dataframe\">\n",
       "  <thead>\n",
       "    <tr style=\"text-align: right;\">\n",
       "      <th></th>\n",
       "      <th>msno</th>\n",
       "      <th>payment_method_id</th>\n",
       "      <th>payment_plan_days</th>\n",
       "      <th>plan_list_price</th>\n",
       "      <th>actual_amount_paid</th>\n",
       "      <th>is_auto_renew</th>\n",
       "      <th>transaction_date</th>\n",
       "      <th>membership_expire_date</th>\n",
       "      <th>is_cancel</th>\n",
       "    </tr>\n",
       "  </thead>\n",
       "  <tbody>\n",
       "    <tr>\n",
       "      <th>0</th>\n",
       "      <td>YyO+tlZtAXYXoZhNr3Vg3+dfVQvrBVGO8j1mfqe4ZHc=</td>\n",
       "      <td>41</td>\n",
       "      <td>30</td>\n",
       "      <td>129</td>\n",
       "      <td>129</td>\n",
       "      <td>1</td>\n",
       "      <td>20150930</td>\n",
       "      <td>20151101</td>\n",
       "      <td>0</td>\n",
       "    </tr>\n",
       "    <tr>\n",
       "      <th>1</th>\n",
       "      <td>AZtu6Wl0gPojrEQYB8Q3vBSmE2wnZ3hi1FbK1rQQ0A4=</td>\n",
       "      <td>41</td>\n",
       "      <td>30</td>\n",
       "      <td>149</td>\n",
       "      <td>149</td>\n",
       "      <td>1</td>\n",
       "      <td>20150930</td>\n",
       "      <td>20151031</td>\n",
       "      <td>0</td>\n",
       "    </tr>\n",
       "    <tr>\n",
       "      <th>2</th>\n",
       "      <td>UkDFI97Qb6+s2LWcijVVv4rMAsORbVDT2wNXF0aVbns=</td>\n",
       "      <td>41</td>\n",
       "      <td>30</td>\n",
       "      <td>129</td>\n",
       "      <td>129</td>\n",
       "      <td>1</td>\n",
       "      <td>20150930</td>\n",
       "      <td>20160427</td>\n",
       "      <td>0</td>\n",
       "    </tr>\n",
       "    <tr>\n",
       "      <th>3</th>\n",
       "      <td>M1C56ijxozNaGD0t2h68PnH2xtx5iO5iR2MVYQB6nBI=</td>\n",
       "      <td>39</td>\n",
       "      <td>30</td>\n",
       "      <td>149</td>\n",
       "      <td>149</td>\n",
       "      <td>1</td>\n",
       "      <td>20150930</td>\n",
       "      <td>20151128</td>\n",
       "      <td>0</td>\n",
       "    </tr>\n",
       "    <tr>\n",
       "      <th>4</th>\n",
       "      <td>yvj6zyBUaqdbUQSrKsrZ+xNDVM62knauSZJzakS9OW4=</td>\n",
       "      <td>39</td>\n",
       "      <td>30</td>\n",
       "      <td>149</td>\n",
       "      <td>149</td>\n",
       "      <td>1</td>\n",
       "      <td>20150930</td>\n",
       "      <td>20151121</td>\n",
       "      <td>0</td>\n",
       "    </tr>\n",
       "  </tbody>\n",
       "</table>\n",
       "</div>"
      ],
      "text/plain": [
       "                                           msno  payment_method_id  \\\n",
       "0  YyO+tlZtAXYXoZhNr3Vg3+dfVQvrBVGO8j1mfqe4ZHc=                 41   \n",
       "1  AZtu6Wl0gPojrEQYB8Q3vBSmE2wnZ3hi1FbK1rQQ0A4=                 41   \n",
       "2  UkDFI97Qb6+s2LWcijVVv4rMAsORbVDT2wNXF0aVbns=                 41   \n",
       "3  M1C56ijxozNaGD0t2h68PnH2xtx5iO5iR2MVYQB6nBI=                 39   \n",
       "4  yvj6zyBUaqdbUQSrKsrZ+xNDVM62knauSZJzakS9OW4=                 39   \n",
       "\n",
       "   payment_plan_days  plan_list_price  actual_amount_paid  is_auto_renew  \\\n",
       "0                 30              129                 129              1   \n",
       "1                 30              149                 149              1   \n",
       "2                 30              129                 129              1   \n",
       "3                 30              149                 149              1   \n",
       "4                 30              149                 149              1   \n",
       "\n",
       "   transaction_date  membership_expire_date  is_cancel  \n",
       "0          20150930                20151101          0  \n",
       "1          20150930                20151031          0  \n",
       "2          20150930                20160427          0  \n",
       "3          20150930                20151128          0  \n",
       "4          20150930                20151121          0  "
      ]
     },
     "execution_count": 44,
     "metadata": {},
     "output_type": "execute_result"
    }
   ],
   "source": [
    "import pylab\n",
    "import seaborn as sns\n",
    "\n",
    "trans = pd.read_csv(\"transactions.csv\")\n",
    "trans.head()"
   ]
  },
  {
   "cell_type": "code",
   "execution_count": 46,
   "metadata": {},
   "outputs": [
    {
     "name": "stdout",
     "output_type": "stream",
     "text": [
      "<class 'pandas.core.frame.DataFrame'>\n",
      "RangeIndex: 21547746 entries, 0 to 21547745\n",
      "Data columns (total 9 columns):\n",
      "msno                      object\n",
      "payment_method_id         int64\n",
      "payment_plan_days         int64\n",
      "plan_list_price           int64\n",
      "actual_amount_paid        int64\n",
      "is_auto_renew             int64\n",
      "transaction_date          int64\n",
      "membership_expire_date    int64\n",
      "is_cancel                 int64\n",
      "dtypes: int64(8), object(1)\n",
      "memory usage: 1.4+ GB\n"
     ]
    }
   ],
   "source": [
    "trans.info()"
   ]
  },
  {
   "cell_type": "markdown",
   "metadata": {},
   "source": [
    "** The data has 21,547,745 million rows of data and 9 columns.**\n",
    "\n",
    "- **msno:** user id\n",
    "- **payment_method_id:** payment method\n",
    "- **payment_plan_days:** length of membership plan in days\n",
    "- **plan_list_price:** in New Taiwan Dollar (NTD)\n",
    "- **actual_amount_paid:** in New Taiwan Dollar (NTD)\n",
    "- **is_auto_renew**\n",
    "- **transaction_date:** format %Y%m%d\n",
    "- **membership_expire_date:** format %Y%m%d\n",
    "- **is_cancel:** whether or not the user canceled the membership in this transaction."
   ]
  },
  {
   "cell_type": "markdown",
   "metadata": {},
   "source": [
    "**Converting Date Columns - transaction_date and membership_expire_date**"
   ]
  },
  {
   "cell_type": "code",
   "execution_count": 48,
   "metadata": {},
   "outputs": [
    {
     "ename": "KeyboardInterrupt",
     "evalue": "",
     "output_type": "error",
     "traceback": [
      "\u001b[1;31m---------------------------------------------------------------------------\u001b[0m",
      "\u001b[1;31mKeyboardInterrupt\u001b[0m                         Traceback (most recent call last)",
      "\u001b[1;32m<ipython-input-48-830f6d6d4607>\u001b[0m in \u001b[0;36m<module>\u001b[1;34m()\u001b[0m\n\u001b[0;32m      1\u001b[0m \u001b[0mtrans\u001b[0m\u001b[1;33m[\u001b[0m\u001b[1;34m'transaction_date'\u001b[0m\u001b[1;33m]\u001b[0m \u001b[1;33m=\u001b[0m \u001b[0mtrans\u001b[0m\u001b[1;33m[\u001b[0m\u001b[1;34m'transaction_date'\u001b[0m\u001b[1;33m]\u001b[0m\u001b[1;33m.\u001b[0m\u001b[0mapply\u001b[0m\u001b[1;33m(\u001b[0m\u001b[1;32mlambda\u001b[0m \u001b[0mx\u001b[0m\u001b[1;33m:\u001b[0m \u001b[0mpd\u001b[0m\u001b[1;33m.\u001b[0m\u001b[0mto_datetime\u001b[0m\u001b[1;33m(\u001b[0m\u001b[0mstr\u001b[0m\u001b[1;33m(\u001b[0m\u001b[0mx\u001b[0m\u001b[1;33m)\u001b[0m\u001b[1;33m,\u001b[0m \u001b[0mformat\u001b[0m\u001b[1;33m=\u001b[0m\u001b[1;34m'%Y%m%d'\u001b[0m\u001b[1;33m)\u001b[0m\u001b[1;33m)\u001b[0m\u001b[1;33m\u001b[0m\u001b[0m\n\u001b[1;32m----> 2\u001b[1;33m \u001b[0mtrans\u001b[0m\u001b[1;33m[\u001b[0m\u001b[1;34m'membership_expire_date'\u001b[0m\u001b[1;33m]\u001b[0m \u001b[1;33m=\u001b[0m \u001b[0mtrans\u001b[0m\u001b[1;33m[\u001b[0m\u001b[1;34m'membership_expire_date'\u001b[0m\u001b[1;33m]\u001b[0m\u001b[1;33m.\u001b[0m\u001b[0mapply\u001b[0m\u001b[1;33m(\u001b[0m\u001b[1;32mlambda\u001b[0m \u001b[0mx\u001b[0m\u001b[1;33m:\u001b[0m \u001b[0mpd\u001b[0m\u001b[1;33m.\u001b[0m\u001b[0mto_datetime\u001b[0m\u001b[1;33m(\u001b[0m\u001b[0mstr\u001b[0m\u001b[1;33m(\u001b[0m\u001b[0mx\u001b[0m\u001b[1;33m)\u001b[0m\u001b[1;33m,\u001b[0m \u001b[0mformat\u001b[0m\u001b[1;33m=\u001b[0m\u001b[1;34m'%Y%m%d'\u001b[0m\u001b[1;33m)\u001b[0m\u001b[1;33m)\u001b[0m\u001b[1;33m\u001b[0m\u001b[0m\n\u001b[0m",
      "\u001b[1;32mC:\\Users\\Laolu\\Anaconda2\\envs\\py27\\lib\\site-packages\\pandas\\core\\series.pyc\u001b[0m in \u001b[0;36mapply\u001b[1;34m(self, func, convert_dtype, args, **kwds)\u001b[0m\n\u001b[0;32m   2353\u001b[0m             \u001b[1;32melse\u001b[0m\u001b[1;33m:\u001b[0m\u001b[1;33m\u001b[0m\u001b[0m\n\u001b[0;32m   2354\u001b[0m                 \u001b[0mvalues\u001b[0m \u001b[1;33m=\u001b[0m \u001b[0mself\u001b[0m\u001b[1;33m.\u001b[0m\u001b[0masobject\u001b[0m\u001b[1;33m\u001b[0m\u001b[0m\n\u001b[1;32m-> 2355\u001b[1;33m                 \u001b[0mmapped\u001b[0m \u001b[1;33m=\u001b[0m \u001b[0mlib\u001b[0m\u001b[1;33m.\u001b[0m\u001b[0mmap_infer\u001b[0m\u001b[1;33m(\u001b[0m\u001b[0mvalues\u001b[0m\u001b[1;33m,\u001b[0m \u001b[0mf\u001b[0m\u001b[1;33m,\u001b[0m \u001b[0mconvert\u001b[0m\u001b[1;33m=\u001b[0m\u001b[0mconvert_dtype\u001b[0m\u001b[1;33m)\u001b[0m\u001b[1;33m\u001b[0m\u001b[0m\n\u001b[0m\u001b[0;32m   2356\u001b[0m \u001b[1;33m\u001b[0m\u001b[0m\n\u001b[0;32m   2357\u001b[0m         \u001b[1;32mif\u001b[0m \u001b[0mlen\u001b[0m\u001b[1;33m(\u001b[0m\u001b[0mmapped\u001b[0m\u001b[1;33m)\u001b[0m \u001b[1;32mand\u001b[0m \u001b[0misinstance\u001b[0m\u001b[1;33m(\u001b[0m\u001b[0mmapped\u001b[0m\u001b[1;33m[\u001b[0m\u001b[1;36m0\u001b[0m\u001b[1;33m]\u001b[0m\u001b[1;33m,\u001b[0m \u001b[0mSeries\u001b[0m\u001b[1;33m)\u001b[0m\u001b[1;33m:\u001b[0m\u001b[1;33m\u001b[0m\u001b[0m\n",
      "\u001b[1;32mpandas\\_libs\\src\\inference.pyx\u001b[0m in \u001b[0;36mpandas._libs.lib.map_infer (pandas\\_libs\\lib.c:66645)\u001b[1;34m()\u001b[0m\n",
      "\u001b[1;32m<ipython-input-48-830f6d6d4607>\u001b[0m in \u001b[0;36m<lambda>\u001b[1;34m(x)\u001b[0m\n\u001b[0;32m      1\u001b[0m \u001b[0mtrans\u001b[0m\u001b[1;33m[\u001b[0m\u001b[1;34m'transaction_date'\u001b[0m\u001b[1;33m]\u001b[0m \u001b[1;33m=\u001b[0m \u001b[0mtrans\u001b[0m\u001b[1;33m[\u001b[0m\u001b[1;34m'transaction_date'\u001b[0m\u001b[1;33m]\u001b[0m\u001b[1;33m.\u001b[0m\u001b[0mapply\u001b[0m\u001b[1;33m(\u001b[0m\u001b[1;32mlambda\u001b[0m \u001b[0mx\u001b[0m\u001b[1;33m:\u001b[0m \u001b[0mpd\u001b[0m\u001b[1;33m.\u001b[0m\u001b[0mto_datetime\u001b[0m\u001b[1;33m(\u001b[0m\u001b[0mstr\u001b[0m\u001b[1;33m(\u001b[0m\u001b[0mx\u001b[0m\u001b[1;33m)\u001b[0m\u001b[1;33m,\u001b[0m \u001b[0mformat\u001b[0m\u001b[1;33m=\u001b[0m\u001b[1;34m'%Y%m%d'\u001b[0m\u001b[1;33m)\u001b[0m\u001b[1;33m)\u001b[0m\u001b[1;33m\u001b[0m\u001b[0m\n\u001b[1;32m----> 2\u001b[1;33m \u001b[0mtrans\u001b[0m\u001b[1;33m[\u001b[0m\u001b[1;34m'membership_expire_date'\u001b[0m\u001b[1;33m]\u001b[0m \u001b[1;33m=\u001b[0m \u001b[0mtrans\u001b[0m\u001b[1;33m[\u001b[0m\u001b[1;34m'membership_expire_date'\u001b[0m\u001b[1;33m]\u001b[0m\u001b[1;33m.\u001b[0m\u001b[0mapply\u001b[0m\u001b[1;33m(\u001b[0m\u001b[1;32mlambda\u001b[0m \u001b[0mx\u001b[0m\u001b[1;33m:\u001b[0m \u001b[0mpd\u001b[0m\u001b[1;33m.\u001b[0m\u001b[0mto_datetime\u001b[0m\u001b[1;33m(\u001b[0m\u001b[0mstr\u001b[0m\u001b[1;33m(\u001b[0m\u001b[0mx\u001b[0m\u001b[1;33m)\u001b[0m\u001b[1;33m,\u001b[0m \u001b[0mformat\u001b[0m\u001b[1;33m=\u001b[0m\u001b[1;34m'%Y%m%d'\u001b[0m\u001b[1;33m)\u001b[0m\u001b[1;33m)\u001b[0m\u001b[1;33m\u001b[0m\u001b[0m\n\u001b[0m",
      "\u001b[1;32mC:\\Users\\Laolu\\Anaconda2\\envs\\py27\\lib\\site-packages\\pandas\\core\\tools\\datetimes.pyc\u001b[0m in \u001b[0;36mto_datetime\u001b[1;34m(arg, errors, dayfirst, yearfirst, utc, box, format, exact, unit, infer_datetime_format, origin)\u001b[0m\n\u001b[0;32m    516\u001b[0m         \u001b[0mresult\u001b[0m \u001b[1;33m=\u001b[0m \u001b[0m_convert_listlike\u001b[0m\u001b[1;33m(\u001b[0m\u001b[0marg\u001b[0m\u001b[1;33m,\u001b[0m \u001b[0mbox\u001b[0m\u001b[1;33m,\u001b[0m \u001b[0mformat\u001b[0m\u001b[1;33m)\u001b[0m\u001b[1;33m\u001b[0m\u001b[0m\n\u001b[0;32m    517\u001b[0m     \u001b[1;32melse\u001b[0m\u001b[1;33m:\u001b[0m\u001b[1;33m\u001b[0m\u001b[0m\n\u001b[1;32m--> 518\u001b[1;33m         \u001b[0mresult\u001b[0m \u001b[1;33m=\u001b[0m \u001b[0m_convert_listlike\u001b[0m\u001b[1;33m(\u001b[0m\u001b[0mnp\u001b[0m\u001b[1;33m.\u001b[0m\u001b[0marray\u001b[0m\u001b[1;33m(\u001b[0m\u001b[1;33m[\u001b[0m\u001b[0marg\u001b[0m\u001b[1;33m]\u001b[0m\u001b[1;33m)\u001b[0m\u001b[1;33m,\u001b[0m \u001b[0mbox\u001b[0m\u001b[1;33m,\u001b[0m \u001b[0mformat\u001b[0m\u001b[1;33m)\u001b[0m\u001b[1;33m[\u001b[0m\u001b[1;36m0\u001b[0m\u001b[1;33m]\u001b[0m\u001b[1;33m\u001b[0m\u001b[0m\n\u001b[0m\u001b[0;32m    519\u001b[0m \u001b[1;33m\u001b[0m\u001b[0m\n\u001b[0;32m    520\u001b[0m     \u001b[1;32mreturn\u001b[0m \u001b[0mresult\u001b[0m\u001b[1;33m\u001b[0m\u001b[0m\n",
      "\u001b[1;32mC:\\Users\\Laolu\\Anaconda2\\envs\\py27\\lib\\site-packages\\pandas\\core\\tools\\datetimes.pyc\u001b[0m in \u001b[0;36m_convert_listlike\u001b[1;34m(arg, box, format, name, tz)\u001b[0m\n\u001b[0;32m    437\u001b[0m \u001b[1;33m\u001b[0m\u001b[0m\n\u001b[0;32m    438\u001b[0m             \u001b[1;32mif\u001b[0m \u001b[0mis_datetime64_dtype\u001b[0m\u001b[1;33m(\u001b[0m\u001b[0mresult\u001b[0m\u001b[1;33m)\u001b[0m \u001b[1;32mand\u001b[0m \u001b[0mbox\u001b[0m\u001b[1;33m:\u001b[0m\u001b[1;33m\u001b[0m\u001b[0m\n\u001b[1;32m--> 439\u001b[1;33m                 \u001b[0mresult\u001b[0m \u001b[1;33m=\u001b[0m \u001b[0mDatetimeIndex\u001b[0m\u001b[1;33m(\u001b[0m\u001b[0mresult\u001b[0m\u001b[1;33m,\u001b[0m \u001b[0mtz\u001b[0m\u001b[1;33m=\u001b[0m\u001b[0mtz\u001b[0m\u001b[1;33m,\u001b[0m \u001b[0mname\u001b[0m\u001b[1;33m=\u001b[0m\u001b[0mname\u001b[0m\u001b[1;33m)\u001b[0m\u001b[1;33m\u001b[0m\u001b[0m\n\u001b[0m\u001b[0;32m    440\u001b[0m             \u001b[1;32mreturn\u001b[0m \u001b[0mresult\u001b[0m\u001b[1;33m\u001b[0m\u001b[0m\n\u001b[0;32m    441\u001b[0m \u001b[1;33m\u001b[0m\u001b[0m\n",
      "\u001b[1;32mC:\\Users\\Laolu\\Anaconda2\\envs\\py27\\lib\\site-packages\\pandas\\util\\_decorators.pyc\u001b[0m in \u001b[0;36mwrapper\u001b[1;34m(*args, **kwargs)\u001b[0m\n\u001b[0;32m     89\u001b[0m                 \u001b[1;32melse\u001b[0m\u001b[1;33m:\u001b[0m\u001b[1;33m\u001b[0m\u001b[0m\n\u001b[0;32m     90\u001b[0m                     \u001b[0mkwargs\u001b[0m\u001b[1;33m[\u001b[0m\u001b[0mnew_arg_name\u001b[0m\u001b[1;33m]\u001b[0m \u001b[1;33m=\u001b[0m \u001b[0mnew_arg_value\u001b[0m\u001b[1;33m\u001b[0m\u001b[0m\n\u001b[1;32m---> 91\u001b[1;33m             \u001b[1;32mreturn\u001b[0m \u001b[0mfunc\u001b[0m\u001b[1;33m(\u001b[0m\u001b[1;33m*\u001b[0m\u001b[0margs\u001b[0m\u001b[1;33m,\u001b[0m \u001b[1;33m**\u001b[0m\u001b[0mkwargs\u001b[0m\u001b[1;33m)\u001b[0m\u001b[1;33m\u001b[0m\u001b[0m\n\u001b[0m\u001b[0;32m     92\u001b[0m         \u001b[1;32mreturn\u001b[0m \u001b[0mwrapper\u001b[0m\u001b[1;33m\u001b[0m\u001b[0m\n\u001b[0;32m     93\u001b[0m     \u001b[1;32mreturn\u001b[0m \u001b[0m_deprecate_kwarg\u001b[0m\u001b[1;33m\u001b[0m\u001b[0m\n",
      "\u001b[1;32mC:\\Users\\Laolu\\Anaconda2\\envs\\py27\\lib\\site-packages\\pandas\\core\\indexes\\datetimes.pyc\u001b[0m in \u001b[0;36m__new__\u001b[1;34m(cls, data, freq, start, end, periods, copy, name, tz, verify_integrity, normalize, closed, ambiguous, dtype, **kwargs)\u001b[0m\n\u001b[0;32m    382\u001b[0m                 \u001b[0msubarr\u001b[0m \u001b[1;33m=\u001b[0m \u001b[0msubarr\u001b[0m\u001b[1;33m.\u001b[0m\u001b[0mview\u001b[0m\u001b[1;33m(\u001b[0m\u001b[0m_NS_DTYPE\u001b[0m\u001b[1;33m)\u001b[0m\u001b[1;33m\u001b[0m\u001b[0m\n\u001b[0;32m    383\u001b[0m \u001b[1;33m\u001b[0m\u001b[0m\n\u001b[1;32m--> 384\u001b[1;33m         \u001b[0msubarr\u001b[0m \u001b[1;33m=\u001b[0m \u001b[0mcls\u001b[0m\u001b[1;33m.\u001b[0m\u001b[0m_simple_new\u001b[0m\u001b[1;33m(\u001b[0m\u001b[0msubarr\u001b[0m\u001b[1;33m,\u001b[0m \u001b[0mname\u001b[0m\u001b[1;33m=\u001b[0m\u001b[0mname\u001b[0m\u001b[1;33m,\u001b[0m \u001b[0mfreq\u001b[0m\u001b[1;33m=\u001b[0m\u001b[0mfreq\u001b[0m\u001b[1;33m,\u001b[0m \u001b[0mtz\u001b[0m\u001b[1;33m=\u001b[0m\u001b[0mtz\u001b[0m\u001b[1;33m)\u001b[0m\u001b[1;33m\u001b[0m\u001b[0m\n\u001b[0m\u001b[0;32m    385\u001b[0m         \u001b[1;32mif\u001b[0m \u001b[0mdtype\u001b[0m \u001b[1;32mis\u001b[0m \u001b[1;32mnot\u001b[0m \u001b[0mNone\u001b[0m\u001b[1;33m:\u001b[0m\u001b[1;33m\u001b[0m\u001b[0m\n\u001b[0;32m    386\u001b[0m             \u001b[1;32mif\u001b[0m \u001b[1;32mnot\u001b[0m \u001b[0mis_dtype_equal\u001b[0m\u001b[1;33m(\u001b[0m\u001b[0msubarr\u001b[0m\u001b[1;33m.\u001b[0m\u001b[0mdtype\u001b[0m\u001b[1;33m,\u001b[0m \u001b[0mdtype\u001b[0m\u001b[1;33m)\u001b[0m\u001b[1;33m:\u001b[0m\u001b[1;33m\u001b[0m\u001b[0m\n",
      "\u001b[1;32mC:\\Users\\Laolu\\Anaconda2\\envs\\py27\\lib\\site-packages\\pandas\\core\\indexes\\datetimes.pyc\u001b[0m in \u001b[0;36m_simple_new\u001b[1;34m(cls, values, name, freq, tz, dtype, **kwargs)\u001b[0m\n\u001b[0;32m    582\u001b[0m             \u001b[0mvalues\u001b[0m \u001b[1;33m=\u001b[0m \u001b[0mnp\u001b[0m\u001b[1;33m.\u001b[0m\u001b[0marray\u001b[0m\u001b[1;33m(\u001b[0m\u001b[0mvalues\u001b[0m\u001b[1;33m,\u001b[0m \u001b[0mcopy\u001b[0m\u001b[1;33m=\u001b[0m\u001b[0mFalse\u001b[0m\u001b[1;33m)\u001b[0m\u001b[1;33m\u001b[0m\u001b[0m\n\u001b[0;32m    583\u001b[0m \u001b[1;33m\u001b[0m\u001b[0m\n\u001b[1;32m--> 584\u001b[1;33m         \u001b[1;32mif\u001b[0m \u001b[0mis_object_dtype\u001b[0m\u001b[1;33m(\u001b[0m\u001b[0mvalues\u001b[0m\u001b[1;33m)\u001b[0m\u001b[1;33m:\u001b[0m\u001b[1;33m\u001b[0m\u001b[0m\n\u001b[0m\u001b[0;32m    585\u001b[0m             return cls(values, name=name, freq=freq, tz=tz,\n\u001b[0;32m    586\u001b[0m                        dtype=dtype, **kwargs).values\n",
      "\u001b[1;32mC:\\Users\\Laolu\\Anaconda2\\envs\\py27\\lib\\site-packages\\pandas\\core\\dtypes\\common.pyc\u001b[0m in \u001b[0;36mis_object_dtype\u001b[1;34m(arr_or_dtype)\u001b[0m\n\u001b[0;32m    111\u001b[0m     \u001b[1;32mif\u001b[0m \u001b[0marr_or_dtype\u001b[0m \u001b[1;32mis\u001b[0m \u001b[0mNone\u001b[0m\u001b[1;33m:\u001b[0m\u001b[1;33m\u001b[0m\u001b[0m\n\u001b[0;32m    112\u001b[0m         \u001b[1;32mreturn\u001b[0m \u001b[0mFalse\u001b[0m\u001b[1;33m\u001b[0m\u001b[0m\n\u001b[1;32m--> 113\u001b[1;33m     \u001b[0mtipo\u001b[0m \u001b[1;33m=\u001b[0m \u001b[0m_get_dtype_type\u001b[0m\u001b[1;33m(\u001b[0m\u001b[0marr_or_dtype\u001b[0m\u001b[1;33m)\u001b[0m\u001b[1;33m\u001b[0m\u001b[0m\n\u001b[0m\u001b[0;32m    114\u001b[0m     \u001b[1;32mreturn\u001b[0m \u001b[0missubclass\u001b[0m\u001b[1;33m(\u001b[0m\u001b[0mtipo\u001b[0m\u001b[1;33m,\u001b[0m \u001b[0mnp\u001b[0m\u001b[1;33m.\u001b[0m\u001b[0mobject_\u001b[0m\u001b[1;33m)\u001b[0m\u001b[1;33m\u001b[0m\u001b[0m\n\u001b[0;32m    115\u001b[0m \u001b[1;33m\u001b[0m\u001b[0m\n",
      "\u001b[1;32mC:\\Users\\Laolu\\Anaconda2\\envs\\py27\\lib\\site-packages\\pandas\\core\\dtypes\\common.pyc\u001b[0m in \u001b[0;36m_get_dtype_type\u001b[1;34m(arr_or_dtype)\u001b[0m\n\u001b[0;32m   1740\u001b[0m     \u001b[1;32melif\u001b[0m \u001b[0misinstance\u001b[0m\u001b[1;33m(\u001b[0m\u001b[0marr_or_dtype\u001b[0m\u001b[1;33m,\u001b[0m \u001b[0mtype\u001b[0m\u001b[1;33m)\u001b[0m\u001b[1;33m:\u001b[0m\u001b[1;33m\u001b[0m\u001b[0m\n\u001b[0;32m   1741\u001b[0m         \u001b[1;32mreturn\u001b[0m \u001b[0mnp\u001b[0m\u001b[1;33m.\u001b[0m\u001b[0mdtype\u001b[0m\u001b[1;33m(\u001b[0m\u001b[0marr_or_dtype\u001b[0m\u001b[1;33m)\u001b[0m\u001b[1;33m.\u001b[0m\u001b[0mtype\u001b[0m\u001b[1;33m\u001b[0m\u001b[0m\n\u001b[1;32m-> 1742\u001b[1;33m     \u001b[1;32melif\u001b[0m \u001b[0misinstance\u001b[0m\u001b[1;33m(\u001b[0m\u001b[0marr_or_dtype\u001b[0m\u001b[1;33m,\u001b[0m \u001b[0mCategoricalDtype\u001b[0m\u001b[1;33m)\u001b[0m\u001b[1;33m:\u001b[0m\u001b[1;33m\u001b[0m\u001b[0m\n\u001b[0m\u001b[0;32m   1743\u001b[0m         \u001b[1;32mreturn\u001b[0m \u001b[0mCategoricalDtypeType\u001b[0m\u001b[1;33m\u001b[0m\u001b[0m\n\u001b[0;32m   1744\u001b[0m     \u001b[1;32melif\u001b[0m \u001b[0misinstance\u001b[0m\u001b[1;33m(\u001b[0m\u001b[0marr_or_dtype\u001b[0m\u001b[1;33m,\u001b[0m \u001b[0mDatetimeTZDtype\u001b[0m\u001b[1;33m)\u001b[0m\u001b[1;33m:\u001b[0m\u001b[1;33m\u001b[0m\u001b[0m\n",
      "\u001b[1;31mKeyboardInterrupt\u001b[0m: "
     ]
    }
   ],
   "source": [
    "trans['transaction_date'] = trans['transaction_date'].apply(lambda x: pd.to_datetime(str(x), format='%Y%m%d'))\n",
    "trans['membership_expire_date'] = trans['membership_expire_date'].apply(lambda x: pd.to_datetime(str(x), format='%Y%m%d'))"
   ]
  },
  {
   "cell_type": "markdown",
   "metadata": {},
   "source": [
    "**Testing for NULL values**"
   ]
  },
  {
   "cell_type": "code",
   "execution_count": 49,
   "metadata": {},
   "outputs": [
    {
     "data": {
      "text/plain": [
       "msno                      0\n",
       "payment_method_id         0\n",
       "payment_plan_days         0\n",
       "plan_list_price           0\n",
       "actual_amount_paid        0\n",
       "is_auto_renew             0\n",
       "transaction_date          0\n",
       "membership_expire_date    0\n",
       "is_cancel                 0\n",
       "dtype: int64"
      ]
     },
     "execution_count": 49,
     "metadata": {},
     "output_type": "execute_result"
    }
   ],
   "source": [
    "trans.isnull().sum()"
   ]
  },
  {
   "cell_type": "code",
   "execution_count": 50,
   "metadata": {},
   "outputs": [
    {
     "data": {
      "text/plain": [
       "2363626"
      ]
     },
     "execution_count": 50,
     "metadata": {},
     "output_type": "execute_result"
    }
   ],
   "source": [
    "len(trans['msno'].unique())"
   ]
  },
  {
   "cell_type": "code",
   "execution_count": 51,
   "metadata": {},
   "outputs": [
    {
     "name": "stdout",
     "output_type": "stream",
     "text": [
      "[41 39 21 37 40 34 33 31 23 38 19 24 14 36 27 35 30 29 28 22 26 32 25 20 17\n",
      "  5 18 11  7 13 12 16 10 15  8  6  3  2  4  1]\n",
      "('The number of unique ids used are:', 40)\n"
     ]
    }
   ],
   "source": [
    "#Checking the unique payment method ids\n",
    "\n",
    "print(trans['payment_method_id'].unique())\n",
    "print(\"The number of unique ids used are:\", trans['payment_method_id'].nunique())"
   ]
  },
  {
   "cell_type": "code",
   "execution_count": 52,
   "metadata": {},
   "outputs": [
    {
     "data": {
      "text/plain": [
       "payment_method_id\n",
       "1           12\n",
       "4           15\n",
       "2           52\n",
       "3          210\n",
       "6          466\n",
       "5          474\n",
       "8          657\n",
       "7         1094\n",
       "10        1326\n",
       "15        1479\n",
       "11        2129\n",
       "12        3834\n",
       "26        4591\n",
       "13        6571\n",
       "17        7437\n",
       "16       11064\n",
       "14       13621\n",
       "25       13780\n",
       "18       16177\n",
       "24       16196\n",
       "22       20130\n",
       "21       22883\n",
       "20       28278\n",
       "19       32073\n",
       "23       42386\n",
       "27       62525\n",
       "28       95733\n",
       "29      113885\n",
       "32      146481\n",
       "30      160957\n",
       "31      252342\n",
       "33      411164\n",
       "35      541399\n",
       "34      731539\n",
       "36      855115\n",
       "37     1007689\n",
       "39     1466655\n",
       "38     1703590\n",
       "40     2225283\n",
       "41    11526454\n",
       "dtype: int64"
      ]
     },
     "execution_count": 52,
     "metadata": {},
     "output_type": "execute_result"
    }
   ],
   "source": [
    "#Popularity of payment_methods among transactions\n",
    "\n",
    "paymentmethod = trans.groupby('payment_method_id').size()\n",
    "paymentmethod.sort_values()"
   ]
  },
  {
   "cell_type": "markdown",
   "metadata": {},
   "source": [
    "**The users are grouped by the number of transactions in the data**"
   ]
  },
  {
   "cell_type": "code",
   "execution_count": 53,
   "metadata": {},
   "outputs": [
    {
     "name": "stdout",
     "output_type": "stream",
     "text": [
      "('The users with multiple transactions: ', 1771525)\n",
      "('The users with one transaction: ', 592101)\n"
     ]
    }
   ],
   "source": [
    "users_by_trans = trans.groupby(['msno']).size()\n",
    "print(\"The users with multiple transactions: \",sum(users_by_trans.values > 1))\n",
    "print(\"The users with one transaction: \",sum(users_by_trans.values == 1))"
   ]
  },
  {
   "cell_type": "markdown",
   "metadata": {},
   "source": [
    "*** Variable: Payment_plan_days ***"
   ]
  },
  {
   "cell_type": "code",
   "execution_count": 54,
   "metadata": {},
   "outputs": [
    {
     "name": "stdout",
     "output_type": "stream",
     "text": [
      "[ 30   0  10  31   7 410 195 100 395   1 180 120  60 400  14 360 200  35\n",
      "  90  21 240 450  70  80  45 110 365  66 270  99   2 230   3  15 425 415\n",
      "  95]\n",
      "[0 1]\n",
      "[ 129  149    0   99  100  119  150 1788  180  894   50  120  500 1599  536\n",
      "  799  480  477  596 1200  300  930  699  450   35  447  105  298  134 1000\n",
      "  350  124  400    1  131  126   10 1150   70 1520  265  143 2000  800   15\n",
      "   30  210  760  600 1825   44]\n",
      "[1 0]\n"
     ]
    }
   ],
   "source": [
    "print trans['payment_plan_days'].unique()\n",
    "print trans['is_cancel'].unique()\n",
    "print trans['plan_list_price'].unique()\n",
    "print trans['is_auto_renew'].unique()"
   ]
  },
  {
   "cell_type": "code",
   "execution_count": 55,
   "metadata": {},
   "outputs": [
    {
     "name": "stdout",
     "output_type": "stream",
     "text": [
      "<class 'pandas.core.frame.DataFrame'>\n",
      "RangeIndex: 21547746 entries, 0 to 21547745\n",
      "Data columns (total 9 columns):\n",
      "msno                      object\n",
      "payment_method_id         category\n",
      "payment_plan_days         int64\n",
      "plan_list_price           int64\n",
      "actual_amount_paid        int64\n",
      "is_auto_renew             category\n",
      "transaction_date          datetime64[ns]\n",
      "membership_expire_date    int64\n",
      "is_cancel                 category\n",
      "dtypes: category(3), datetime64[ns](1), int64(4), object(1)\n",
      "memory usage: 1.0+ GB\n"
     ]
    }
   ],
   "source": [
    "#Converting to categorical data\n",
    "\n",
    "trans['payment_method_id'] = trans['payment_method_id'].astype('category')\n",
    "trans['is_auto_renew'] = trans['is_auto_renew'].astype('category')\n",
    "trans['is_cancel'] = trans['is_cancel'].astype('category')\n",
    "trans.info()"
   ]
  },
  {
   "cell_type": "markdown",
   "metadata": {},
   "source": [
    "## Data Exploration and Visualisation"
   ]
  },
  {
   "cell_type": "code",
   "execution_count": 56,
   "metadata": {},
   "outputs": [
    {
     "data": {
      "image/png": "[encoded data removed]",
      "text/plain": [
       "<matplotlib.figure.Figure at 0x392a4fd0>"
      ]
     },
     "metadata": {},
     "output_type": "display_data"
    }
   ],
   "source": [
    "#Popularity of Payment method among users\n",
    "#This shows us the payment method used by most users within the transactions dataset\n",
    "paymentmethod = trans.groupby('payment_method_id')['msno'].nunique()\n",
    "x = paymentmethod.keys()\n",
    "y = paymentmethod\n",
    "plt.bar(x,y,0.8)\n",
    "#plt.ylim([0,12000000])\n",
    "plt.title('Most Popular Payment Method among Users')\n",
    "plt.xlabel('Payment_Method_Ids')\n",
    "plt.ylabel('Count of Users')\n",
    "plt.show()"
   ]
  },
  {
   "cell_type": "markdown",
   "metadata": {},
   "source": [
    "##### INSIGHTS: <br>The most popular method of payment among users is 'payment_method_id' = 41"
   ]
  },
  {
   "cell_type": "code",
   "execution_count": 57,
   "metadata": {},
   "outputs": [
    {
     "data": {
      "image/png": "[encoded data removed]",
      "text/plain": [
       "<matplotlib.figure.Figure at 0x3936e5c0>"
      ]
     },
     "metadata": {},
     "output_type": "display_data"
    }
   ],
   "source": [
    "#Univariate Analysis of Membership Plan\n",
    "paymentplan = trans.groupby('payment_plan_days').size()\n",
    "x = paymentplan.keys()\n",
    "y = paymentplan\n",
    "plt.scatter(x,y)\n",
    "plt.xticks(np.arange(0, 500, 50))\n",
    "plt.title('Univariate Analysis of Payment Plans')\n",
    "plt.xlabel('Payment Plans')\n",
    "plt.ylabel('Count')\n",
    "plt.show()"
   ]
  },
  {
   "cell_type": "markdown",
   "metadata": {},
   "source": [
    "##### INSIGHTS: <br>Most transactions have been performed for Payment Plan of 30 days.<br>                                                                                                                                          There are transactions with Payment Plan of 0 days. This data needs to be analysed further.<br>                                                                                                The largest plan is for about 450 days i.e for 15 months"
   ]
  },
  {
   "cell_type": "code",
   "execution_count": 58,
   "metadata": {
    "collapsed": true
   },
   "outputs": [],
   "source": [
    "#Number of Transactions on Auto_Renewal\n",
    "\n",
    "auto_renewal = trans.groupby('is_auto_renew').size()"
   ]
  },
  {
   "cell_type": "code",
   "execution_count": 59,
   "metadata": {},
   "outputs": [
    {
     "data": {
      "image/png": "[encoded data removed]",
      "text/plain": [
       "<matplotlib.figure.Figure at 0x4730efd0>"
      ]
     },
     "metadata": {},
     "output_type": "display_data"
    }
   ],
   "source": [
    "x = (0,1)\n",
    "y = auto_renewal\n",
    "plt.bar(x,y,0.8)\n",
    "plt.xticks([0,1])\n",
    "plt.title('Transactions under Auto Renewal')\n",
    "plt.xlabel('Auto Renewal (0/1)')\n",
    "plt.ylabel('Number of Transactions')\n",
    "plt.bar(x[0],y[0], color = 'red') #making non auto-renewals => RED\n",
    "plt.bar(x[1],y[1], color = 'blue') #making auto-renewals => BLUE\n",
    "plt.show()"
   ]
  },
  {
   "cell_type": "markdown",
   "metadata": {},
   "source": [
    "##### INSIGHTS:<br> The bulk of transactions are auto-renewals."
   ]
  },
  {
   "cell_type": "code",
   "execution_count": 60,
   "metadata": {
    "collapsed": true
   },
   "outputs": [],
   "source": [
    "#Number of Transaction that are Cancelled\n",
    "cancelled = trans.groupby('is_cancel').size()"
   ]
  },
  {
   "cell_type": "code",
   "execution_count": 61,
   "metadata": {},
   "outputs": [
    {
     "data": {
      "image/png": "[encoded data removed]",
      "text/plain": [
       "<matplotlib.figure.Figure at 0xe42543c8>"
      ]
     },
     "metadata": {},
     "output_type": "display_data"
    }
   ],
   "source": [
    "x = cancelled.keys()\n",
    "y = cancelled\n",
    "plt.bar(x,y,0.8)\n",
    "plt.xticks([0,1])\n",
    "plt.title('Transactions - Cancelled')\n",
    "plt.xlabel('Cancelled (0/1)')\n",
    "plt.ylabel('Number of Transactions')\n",
    "plt.bar(x[0],y[0], color = 'green') #cancellation - no => GREEN\n",
    "plt.bar(x[1],y[1], color = 'yellow') #cancellation - yes => YELLOW\n",
    "plt.show()"
   ]
  },
  {
   "cell_type": "code",
   "execution_count": 62,
   "metadata": {
    "collapsed": true
   },
   "outputs": [],
   "source": [
    "#Checking for trends across the dates\n",
    "\n",
    "trans_dates = trans['transaction_date'].value_counts()"
   ]
  },
  {
   "cell_type": "code",
   "execution_count": 63,
   "metadata": {},
   "outputs": [
    {
     "data": {
      "image/png": "[encoded data removed]",
      "text/plain": [
       "<matplotlib.figure.Figure at 0x471eb3c8>"
      ]
     },
     "metadata": {},
     "output_type": "display_data"
    }
   ],
   "source": [
    "trans_dates.plot(kind =\"line\",figsize=(15,8))\n",
    "plt.title(\"Trend over Time - Transaction Dates\")\n",
    "plt.xlabel(\"Transaction Dates\")\n",
    "plt.ylabel(\"No Of Transactions\")\n",
    "plt.show()"
   ]
  },
  {
   "cell_type": "code",
   "execution_count": 64,
   "metadata": {},
   "outputs": [
    {
     "data": {
      "image/png": "[encoded data removed]",
      "text/plain": [
       "<matplotlib.figure.Figure at 0xe4cbed68>"
      ]
     },
     "metadata": {},
     "output_type": "display_data"
    }
   ],
   "source": [
    "#Looking at Expiration Dates\n",
    "expire_dates = trans['membership_expire_date'].value_counts()\n",
    "expire_dates.plot(kind = \"line\",figsize=(15,8))\n",
    "plt.title(\"Trend over Time - Membership Expire Dates\")\n",
    "plt.xlabel(\"Membership Expire Dates\")\n",
    "plt.ylabel(\"No Of Transactions\")\n",
    "plt.show()"
   ]
  },
  {
   "cell_type": "markdown",
   "metadata": {},
   "source": [
    "##### INSIGHTS: From here it is seen that the data starts from 1972, but there is no useful information here."
   ]
  },
  {
   "cell_type": "code",
   "execution_count": 65,
   "metadata": {},
   "outputs": [
    {
     "ename": "TypeError",
     "evalue": "cannot do slice indexing on <class 'pandas.core.indexes.numeric.Int64Index'> with these indexers [2015-01-01] of <type 'str'>",
     "output_type": "error",
     "traceback": [
      "\u001b[1;31m---------------------------------------------------------------------------\u001b[0m",
      "\u001b[1;31mTypeError\u001b[0m                                 Traceback (most recent call last)",
      "\u001b[1;32m<ipython-input-65-fa5112e0adfd>\u001b[0m in \u001b[0;36m<module>\u001b[1;34m()\u001b[0m\n\u001b[0;32m      2\u001b[0m \u001b[0mtrans_dates\u001b[0m \u001b[1;33m=\u001b[0m \u001b[0mtrans\u001b[0m\u001b[1;33m[\u001b[0m\u001b[1;34m'transaction_date'\u001b[0m\u001b[1;33m]\u001b[0m\u001b[1;33m.\u001b[0m\u001b[0mvalue_counts\u001b[0m\u001b[1;33m(\u001b[0m\u001b[1;33m)\u001b[0m\u001b[1;33m\u001b[0m\u001b[0m\n\u001b[0;32m      3\u001b[0m \u001b[0mexpire_dates\u001b[0m \u001b[1;33m=\u001b[0m \u001b[0mtrans\u001b[0m\u001b[1;33m[\u001b[0m\u001b[1;34m'membership_expire_date'\u001b[0m\u001b[1;33m]\u001b[0m\u001b[1;33m.\u001b[0m\u001b[0mvalue_counts\u001b[0m\u001b[1;33m(\u001b[0m\u001b[1;33m)\u001b[0m\u001b[1;33m\u001b[0m\u001b[0m\n\u001b[1;32m----> 4\u001b[1;33m \u001b[0mexpire_dates_n\u001b[0m \u001b[1;33m=\u001b[0m \u001b[0mexpire_dates\u001b[0m\u001b[1;33m[\u001b[0m\u001b[1;34m'2015-01-01'\u001b[0m\u001b[1;33m:\u001b[0m\u001b[1;34m'2017-02-28'\u001b[0m\u001b[1;33m]\u001b[0m \u001b[1;31m#Retaining only dates from 2015-2017\u001b[0m\u001b[1;33m\u001b[0m\u001b[0m\n\u001b[0m\u001b[0;32m      5\u001b[0m \u001b[0mtrans_dates\u001b[0m\u001b[1;33m.\u001b[0m\u001b[0mplot\u001b[0m\u001b[1;33m(\u001b[0m\u001b[0mkind\u001b[0m \u001b[1;33m=\u001b[0m\u001b[1;34m\"line\"\u001b[0m\u001b[1;33m,\u001b[0m\u001b[0mfigsize\u001b[0m\u001b[1;33m=\u001b[0m\u001b[1;33m(\u001b[0m\u001b[1;36m15\u001b[0m\u001b[1;33m,\u001b[0m\u001b[1;36m8\u001b[0m\u001b[1;33m)\u001b[0m\u001b[1;33m)\u001b[0m\u001b[1;33m\u001b[0m\u001b[0m\n\u001b[0;32m      6\u001b[0m \u001b[0mexpire_dates_n\u001b[0m\u001b[1;33m.\u001b[0m\u001b[0mplot\u001b[0m\u001b[1;33m(\u001b[0m\u001b[0mkind\u001b[0m \u001b[1;33m=\u001b[0m \u001b[1;34m\"line\"\u001b[0m\u001b[1;33m,\u001b[0m\u001b[0mfigsize\u001b[0m\u001b[1;33m=\u001b[0m\u001b[1;33m(\u001b[0m\u001b[1;36m15\u001b[0m\u001b[1;33m,\u001b[0m\u001b[1;36m8\u001b[0m\u001b[1;33m)\u001b[0m\u001b[1;33m)\u001b[0m\u001b[1;33m\u001b[0m\u001b[0m\n",
      "\u001b[1;32mC:\\Users\\Laolu\\Anaconda2\\envs\\py27\\lib\\site-packages\\pandas\\core\\series.pyc\u001b[0m in \u001b[0;36m__getitem__\u001b[1;34m(self, key)\u001b[0m\n\u001b[0;32m    640\u001b[0m             \u001b[0mkey\u001b[0m \u001b[1;33m=\u001b[0m \u001b[0mcheck_bool_indexer\u001b[0m\u001b[1;33m(\u001b[0m\u001b[0mself\u001b[0m\u001b[1;33m.\u001b[0m\u001b[0mindex\u001b[0m\u001b[1;33m,\u001b[0m \u001b[0mkey\u001b[0m\u001b[1;33m)\u001b[0m\u001b[1;33m\u001b[0m\u001b[0m\n\u001b[0;32m    641\u001b[0m \u001b[1;33m\u001b[0m\u001b[0m\n\u001b[1;32m--> 642\u001b[1;33m         \u001b[1;32mreturn\u001b[0m \u001b[0mself\u001b[0m\u001b[1;33m.\u001b[0m\u001b[0m_get_with\u001b[0m\u001b[1;33m(\u001b[0m\u001b[0mkey\u001b[0m\u001b[1;33m)\u001b[0m\u001b[1;33m\u001b[0m\u001b[0m\n\u001b[0m\u001b[0;32m    643\u001b[0m \u001b[1;33m\u001b[0m\u001b[0m\n\u001b[0;32m    644\u001b[0m     \u001b[1;32mdef\u001b[0m \u001b[0m_get_with\u001b[0m\u001b[1;33m(\u001b[0m\u001b[0mself\u001b[0m\u001b[1;33m,\u001b[0m \u001b[0mkey\u001b[0m\u001b[1;33m)\u001b[0m\u001b[1;33m:\u001b[0m\u001b[1;33m\u001b[0m\u001b[0m\n",
      "\u001b[1;32mC:\\Users\\Laolu\\Anaconda2\\envs\\py27\\lib\\site-packages\\pandas\\core\\series.pyc\u001b[0m in \u001b[0;36m_get_with\u001b[1;34m(self, key)\u001b[0m\n\u001b[0;32m    645\u001b[0m         \u001b[1;31m# other: fancy integer or otherwise\u001b[0m\u001b[1;33m\u001b[0m\u001b[1;33m\u001b[0m\u001b[0m\n\u001b[0;32m    646\u001b[0m         \u001b[1;32mif\u001b[0m \u001b[0misinstance\u001b[0m\u001b[1;33m(\u001b[0m\u001b[0mkey\u001b[0m\u001b[1;33m,\u001b[0m \u001b[0mslice\u001b[0m\u001b[1;33m)\u001b[0m\u001b[1;33m:\u001b[0m\u001b[1;33m\u001b[0m\u001b[0m\n\u001b[1;32m--> 647\u001b[1;33m             \u001b[0mindexer\u001b[0m \u001b[1;33m=\u001b[0m \u001b[0mself\u001b[0m\u001b[1;33m.\u001b[0m\u001b[0mindex\u001b[0m\u001b[1;33m.\u001b[0m\u001b[0m_convert_slice_indexer\u001b[0m\u001b[1;33m(\u001b[0m\u001b[0mkey\u001b[0m\u001b[1;33m,\u001b[0m \u001b[0mkind\u001b[0m\u001b[1;33m=\u001b[0m\u001b[1;34m'getitem'\u001b[0m\u001b[1;33m)\u001b[0m\u001b[1;33m\u001b[0m\u001b[0m\n\u001b[0m\u001b[0;32m    648\u001b[0m             \u001b[1;32mreturn\u001b[0m \u001b[0mself\u001b[0m\u001b[1;33m.\u001b[0m\u001b[0m_get_values\u001b[0m\u001b[1;33m(\u001b[0m\u001b[0mindexer\u001b[0m\u001b[1;33m)\u001b[0m\u001b[1;33m\u001b[0m\u001b[0m\n\u001b[0;32m    649\u001b[0m         \u001b[1;32melif\u001b[0m \u001b[0misinstance\u001b[0m\u001b[1;33m(\u001b[0m\u001b[0mkey\u001b[0m\u001b[1;33m,\u001b[0m \u001b[0mABCDataFrame\u001b[0m\u001b[1;33m)\u001b[0m\u001b[1;33m:\u001b[0m\u001b[1;33m\u001b[0m\u001b[0m\n",
      "\u001b[1;32mC:\\Users\\Laolu\\Anaconda2\\envs\\py27\\lib\\site-packages\\pandas\\core\\indexes\\base.pyc\u001b[0m in \u001b[0;36m_convert_slice_indexer\u001b[1;34m(self, key, kind)\u001b[0m\n\u001b[0;32m   1380\u001b[0m             \"\"\"\n\u001b[0;32m   1381\u001b[0m             \u001b[1;32mif\u001b[0m \u001b[0mself\u001b[0m\u001b[1;33m.\u001b[0m\u001b[0mis_integer\u001b[0m\u001b[1;33m(\u001b[0m\u001b[1;33m)\u001b[0m \u001b[1;32mor\u001b[0m \u001b[0mis_index_slice\u001b[0m\u001b[1;33m:\u001b[0m\u001b[1;33m\u001b[0m\u001b[0m\n\u001b[1;32m-> 1382\u001b[1;33m                 return slice(self._validate_indexer('slice', key.start, kind),\n\u001b[0m\u001b[0;32m   1383\u001b[0m                              \u001b[0mself\u001b[0m\u001b[1;33m.\u001b[0m\u001b[0m_validate_indexer\u001b[0m\u001b[1;33m(\u001b[0m\u001b[1;34m'slice'\u001b[0m\u001b[1;33m,\u001b[0m \u001b[0mkey\u001b[0m\u001b[1;33m.\u001b[0m\u001b[0mstop\u001b[0m\u001b[1;33m,\u001b[0m \u001b[0mkind\u001b[0m\u001b[1;33m)\u001b[0m\u001b[1;33m,\u001b[0m\u001b[1;33m\u001b[0m\u001b[0m\n\u001b[0;32m   1384\u001b[0m                              self._validate_indexer('slice', key.step, kind))\n",
      "\u001b[1;32mC:\\Users\\Laolu\\Anaconda2\\envs\\py27\\lib\\site-packages\\pandas\\core\\indexes\\base.pyc\u001b[0m in \u001b[0;36m_validate_indexer\u001b[1;34m(self, form, key, kind)\u001b[0m\n\u001b[0;32m   3386\u001b[0m             \u001b[1;32mpass\u001b[0m\u001b[1;33m\u001b[0m\u001b[0m\n\u001b[0;32m   3387\u001b[0m         \u001b[1;32melif\u001b[0m \u001b[0mkind\u001b[0m \u001b[1;32min\u001b[0m \u001b[1;33m[\u001b[0m\u001b[1;34m'iloc'\u001b[0m\u001b[1;33m,\u001b[0m \u001b[1;34m'getitem'\u001b[0m\u001b[1;33m]\u001b[0m\u001b[1;33m:\u001b[0m\u001b[1;33m\u001b[0m\u001b[0m\n\u001b[1;32m-> 3388\u001b[1;33m             \u001b[0mself\u001b[0m\u001b[1;33m.\u001b[0m\u001b[0m_invalid_indexer\u001b[0m\u001b[1;33m(\u001b[0m\u001b[0mform\u001b[0m\u001b[1;33m,\u001b[0m \u001b[0mkey\u001b[0m\u001b[1;33m)\u001b[0m\u001b[1;33m\u001b[0m\u001b[0m\n\u001b[0m\u001b[0;32m   3389\u001b[0m         \u001b[1;32mreturn\u001b[0m \u001b[0mkey\u001b[0m\u001b[1;33m\u001b[0m\u001b[0m\n\u001b[0;32m   3390\u001b[0m \u001b[1;33m\u001b[0m\u001b[0m\n",
      "\u001b[1;32mC:\\Users\\Laolu\\Anaconda2\\envs\\py27\\lib\\site-packages\\pandas\\core\\indexes\\base.pyc\u001b[0m in \u001b[0;36m_invalid_indexer\u001b[1;34m(self, form, key)\u001b[0m\n\u001b[0;32m   1517\u001b[0m                         \"indexers [{key}] of {kind}\".format(\n\u001b[0;32m   1518\u001b[0m                             \u001b[0mform\u001b[0m\u001b[1;33m=\u001b[0m\u001b[0mform\u001b[0m\u001b[1;33m,\u001b[0m \u001b[0mklass\u001b[0m\u001b[1;33m=\u001b[0m\u001b[0mtype\u001b[0m\u001b[1;33m(\u001b[0m\u001b[0mself\u001b[0m\u001b[1;33m)\u001b[0m\u001b[1;33m,\u001b[0m \u001b[0mkey\u001b[0m\u001b[1;33m=\u001b[0m\u001b[0mkey\u001b[0m\u001b[1;33m,\u001b[0m\u001b[1;33m\u001b[0m\u001b[0m\n\u001b[1;32m-> 1519\u001b[1;33m                             kind=type(key)))\n\u001b[0m\u001b[0;32m   1520\u001b[0m \u001b[1;33m\u001b[0m\u001b[0m\n\u001b[0;32m   1521\u001b[0m     \u001b[1;32mdef\u001b[0m \u001b[0mget_duplicates\u001b[0m\u001b[1;33m(\u001b[0m\u001b[0mself\u001b[0m\u001b[1;33m)\u001b[0m\u001b[1;33m:\u001b[0m\u001b[1;33m\u001b[0m\u001b[0m\n",
      "\u001b[1;31mTypeError\u001b[0m: cannot do slice indexing on <class 'pandas.core.indexes.numeric.Int64Index'> with these indexers [2015-01-01] of <type 'str'>"
     ]
    }
   ],
   "source": [
    "#Comparing Transaction Dates and Membership Expiration Dates\n",
    "trans_dates = trans['transaction_date'].value_counts()\n",
    "expire_dates = trans['membership_expire_date'].value_counts()\n",
    "expire_dates_n = expire_dates['2015-01-01':'2017-02-28'] #Retaining only dates from 2015-2017\n",
    "trans_dates.plot(kind =\"line\",figsize=(15,8))\n",
    "expire_dates_n.plot(kind = \"line\",figsize=(15,8))\n",
    "plt.title(\"Trend for Transaction Date and Membership Expiration Dates\")\n",
    "plt.xlabel(\"Dates\")\n",
    "plt.ylabel(\"No Of Transactions\")\n",
    "plt.show()"
   ]
  },
  {
   "cell_type": "code",
   "execution_count": 66,
   "metadata": {
    "collapsed": true
   },
   "outputs": [],
   "source": [
    "#Since this data was mess to read, we drilled down further by months\n",
    "#Counting the number of transactions by month\n",
    "\n",
    "trans.index = trans['transaction_date']\n",
    "trans_month = trans.resample('M').count()"
   ]
  },
  {
   "cell_type": "code",
   "execution_count": 67,
   "metadata": {
    "scrolled": true
   },
   "outputs": [
    {
     "data": {
      "image/png": "[encoded data removed]",
      "text/plain": [
       "<matplotlib.figure.Figure at 0x228965400>"
      ]
     },
     "metadata": {},
     "output_type": "display_data"
    }
   ],
   "source": [
    "trans_month['msno'].plot(kind = \"line\",figsize=(10,5))\n",
    "plt.title(\"Drilldown by Month-Year\")\n",
    "plt.xlabel(\"Month-Year\")\n",
    "plt.ylabel(\"No of Transactions\")\n",
    "plt.show()"
   ]
  },
  {
   "cell_type": "code",
   "execution_count": 5,
   "metadata": {
    "collapsed": true
   },
   "outputs": [],
   "source": [
    "members = pd.read_csv(\"members_trf_data.csv\")"
   ]
  },
  {
   "cell_type": "code",
   "execution_count": 3,
   "metadata": {
    "collapsed": true
   },
   "outputs": [],
   "source": [
    "train = pd.read_csv(\"train.csv\")"
   ]
  },
  {
   "cell_type": "code",
   "execution_count": 4,
   "metadata": {},
   "outputs": [
    {
     "data": {
      "text/html": [
       "<div>\n",
       "<style>\n",
       "    .dataframe thead tr:only-child th {\n",
       "        text-align: right;\n",
       "    }\n",
       "\n",
       "    .dataframe thead th {\n",
       "        text-align: left;\n",
       "    }\n",
       "\n",
       "    .dataframe tbody tr th {\n",
       "        vertical-align: top;\n",
       "    }\n",
       "</style>\n",
       "<table border=\"1\" class=\"dataframe\">\n",
       "  <thead>\n",
       "    <tr style=\"text-align: right;\">\n",
       "      <th></th>\n",
       "      <th>msno</th>\n",
       "      <th>is_churn</th>\n",
       "    </tr>\n",
       "  </thead>\n",
       "  <tbody>\n",
       "    <tr>\n",
       "      <th>0</th>\n",
       "      <td>waLDQMmcOu2jLDaV1ddDkgCrB/jl6sD66Xzs0Vqax1Y=</td>\n",
       "      <td>1</td>\n",
       "    </tr>\n",
       "    <tr>\n",
       "      <th>1</th>\n",
       "      <td>QA7uiXy8vIbUSPOkCf9RwQ3FsT8jVq2OxDr8zqa7bRQ=</td>\n",
       "      <td>1</td>\n",
       "    </tr>\n",
       "    <tr>\n",
       "      <th>2</th>\n",
       "      <td>fGwBva6hikQmTJzrbz/2Ezjm5Cth5jZUNvXigKK2AFA=</td>\n",
       "      <td>1</td>\n",
       "    </tr>\n",
       "    <tr>\n",
       "      <th>3</th>\n",
       "      <td>mT5V8rEpa+8wuqi6x0DoVd3H5icMKkE9Prt49UlmK+4=</td>\n",
       "      <td>1</td>\n",
       "    </tr>\n",
       "    <tr>\n",
       "      <th>4</th>\n",
       "      <td>XaPhtGLk/5UvvOYHcONTwsnH97P4eGECeq+BARGItRw=</td>\n",
       "      <td>1</td>\n",
       "    </tr>\n",
       "  </tbody>\n",
       "</table>\n",
       "</div>"
      ],
      "text/plain": [
       "                                           msno  is_churn\n",
       "0  waLDQMmcOu2jLDaV1ddDkgCrB/jl6sD66Xzs0Vqax1Y=         1\n",
       "1  QA7uiXy8vIbUSPOkCf9RwQ3FsT8jVq2OxDr8zqa7bRQ=         1\n",
       "2  fGwBva6hikQmTJzrbz/2Ezjm5Cth5jZUNvXigKK2AFA=         1\n",
       "3  mT5V8rEpa+8wuqi6x0DoVd3H5icMKkE9Prt49UlmK+4=         1\n",
       "4  XaPhtGLk/5UvvOYHcONTwsnH97P4eGECeq+BARGItRw=         1"
      ]
     },
     "execution_count": 4,
     "metadata": {},
     "output_type": "execute_result"
    }
   ],
   "source": [
    "train.head()"
   ]
  },
  {
   "cell_type": "code",
   "execution_count": 6,
   "metadata": {},
   "outputs": [
    {
     "name": "stdout",
     "output_type": "stream",
     "text": [
      "<class 'pandas.core.frame.DataFrame'>\n",
      "RangeIndex: 992931 entries, 0 to 992930\n",
      "Data columns (total 2 columns):\n",
      "msno        992931 non-null object\n",
      "is_churn    992931 non-null int64\n",
      "dtypes: int64(1), object(1)\n",
      "memory usage: 15.2+ MB\n"
     ]
    }
   ],
   "source": [
    "train.info()"
   ]
  },
  {
   "cell_type": "code",
   "execution_count": 7,
   "metadata": {
    "collapsed": true
   },
   "outputs": [],
   "source": [
    "merged_data = members.merge(train, on=\"msno\")"
   ]
  },
  {
   "cell_type": "code",
   "execution_count": 18,
   "metadata": {},
   "outputs": [
    {
     "name": "stdout",
     "output_type": "stream",
     "text": [
      "<class 'pandas.core.frame.DataFrame'>\n",
      "Int64Index: 876143 entries, 0 to 876142\n",
      "Data columns (total 8 columns):\n",
      "msno                      876143 non-null object\n",
      "city                      876143 non-null int64\n",
      "bd                        875623 non-null float64\n",
      "gender                    876143 non-null object\n",
      "registered_via            876143 non-null int64\n",
      "registration_init_time    876143 non-null object\n",
      "expiration_date           876143 non-null object\n",
      "is_churn                  876143 non-null category\n",
      "dtypes: category(1), float64(1), int64(2), object(4)\n",
      "memory usage: 54.3+ MB\n"
     ]
    }
   ],
   "source": [
    "merged_data.info()"
   ]
  },
  {
   "cell_type": "code",
   "execution_count": 8,
   "metadata": {},
   "outputs": [
    {
     "data": {
      "text/html": [
       "<div>\n",
       "<style>\n",
       "    .dataframe thead tr:only-child th {\n",
       "        text-align: right;\n",
       "    }\n",
       "\n",
       "    .dataframe thead th {\n",
       "        text-align: left;\n",
       "    }\n",
       "\n",
       "    .dataframe tbody tr th {\n",
       "        vertical-align: top;\n",
       "    }\n",
       "</style>\n",
       "<table border=\"1\" class=\"dataframe\">\n",
       "  <thead>\n",
       "    <tr style=\"text-align: right;\">\n",
       "      <th></th>\n",
       "      <th>msno</th>\n",
       "      <th>city</th>\n",
       "      <th>bd</th>\n",
       "      <th>gender</th>\n",
       "      <th>registered_via</th>\n",
       "      <th>registration_init_time</th>\n",
       "      <th>expiration_date</th>\n",
       "      <th>is_churn</th>\n",
       "    </tr>\n",
       "  </thead>\n",
       "  <tbody>\n",
       "    <tr>\n",
       "      <th>0</th>\n",
       "      <td>75rp8sCaeatezkb6c0I133UakcSDuKcc5ia0b0Q+JS4=</td>\n",
       "      <td>1</td>\n",
       "      <td>24.0</td>\n",
       "      <td>male</td>\n",
       "      <td>3</td>\n",
       "      <td>2015-11-29</td>\n",
       "      <td>2017-09-25</td>\n",
       "      <td>1</td>\n",
       "    </tr>\n",
       "    <tr>\n",
       "      <th>1</th>\n",
       "      <td>1Nqjt8ykQceNOmuRrh9bcgvicDfLlj+jkgx7+Dd0Rk0=</td>\n",
       "      <td>1</td>\n",
       "      <td>0.0</td>\n",
       "      <td>missing</td>\n",
       "      <td>7</td>\n",
       "      <td>2016-04-10</td>\n",
       "      <td>2017-09-09</td>\n",
       "      <td>0</td>\n",
       "    </tr>\n",
       "    <tr>\n",
       "      <th>2</th>\n",
       "      <td>gsDjjsDaM2cXEorLK8Qctgf6eO3NU1QgYK5q4j3dhfc=</td>\n",
       "      <td>1</td>\n",
       "      <td>0.0</td>\n",
       "      <td>missing</td>\n",
       "      <td>7</td>\n",
       "      <td>2016-06-08</td>\n",
       "      <td>2017-10-07</td>\n",
       "      <td>0</td>\n",
       "    </tr>\n",
       "    <tr>\n",
       "      <th>3</th>\n",
       "      <td>XQxgAYj3klVKjR3oxPPXYYFp4soD4TuBghkhMTD4oTw=</td>\n",
       "      <td>1</td>\n",
       "      <td>0.0</td>\n",
       "      <td>missing</td>\n",
       "      <td>7</td>\n",
       "      <td>2011-08-20</td>\n",
       "      <td>2017-09-20</td>\n",
       "      <td>0</td>\n",
       "    </tr>\n",
       "    <tr>\n",
       "      <th>4</th>\n",
       "      <td>ZF5OFkIsel+d4VJ4uaOMjThPZRF6XRowQ9ZA/RCvBeY=</td>\n",
       "      <td>1</td>\n",
       "      <td>0.0</td>\n",
       "      <td>missing</td>\n",
       "      <td>7</td>\n",
       "      <td>2016-01-30</td>\n",
       "      <td>2017-10-03</td>\n",
       "      <td>0</td>\n",
       "    </tr>\n",
       "    <tr>\n",
       "      <th>5</th>\n",
       "      <td>eMgBkkzRviMP0wvtf/wALwYpyVyfxfCfisRJVAlh+3g=</td>\n",
       "      <td>1</td>\n",
       "      <td>0.0</td>\n",
       "      <td>missing</td>\n",
       "      <td>9</td>\n",
       "      <td>2011-04-02</td>\n",
       "      <td>2017-09-22</td>\n",
       "      <td>0</td>\n",
       "    </tr>\n",
       "    <tr>\n",
       "      <th>6</th>\n",
       "      <td>/tdbyriKXZb5TfSyjE4qUl/dppoT+cZtPece2gErPck=</td>\n",
       "      <td>5</td>\n",
       "      <td>0.0</td>\n",
       "      <td>missing</td>\n",
       "      <td>7</td>\n",
       "      <td>2010-12-20</td>\n",
       "      <td>2017-09-27</td>\n",
       "      <td>0</td>\n",
       "    </tr>\n",
       "    <tr>\n",
       "      <th>7</th>\n",
       "      <td>jgyrKBspt3xkH/kTo6tkHXcjSZ7Z8W7D7YLonV5Z6Rc=</td>\n",
       "      <td>1</td>\n",
       "      <td>0.0</td>\n",
       "      <td>missing</td>\n",
       "      <td>7</td>\n",
       "      <td>2016-01-17</td>\n",
       "      <td>2017-09-17</td>\n",
       "      <td>0</td>\n",
       "    </tr>\n",
       "    <tr>\n",
       "      <th>8</th>\n",
       "      <td>9r83QcYAXqlzqgmx1s4yHHEAbklPdD32JL1Z6UTT0C4=</td>\n",
       "      <td>15</td>\n",
       "      <td>42.0</td>\n",
       "      <td>female</td>\n",
       "      <td>9</td>\n",
       "      <td>2007-08-13</td>\n",
       "      <td>2017-09-20</td>\n",
       "      <td>0</td>\n",
       "    </tr>\n",
       "    <tr>\n",
       "      <th>9</th>\n",
       "      <td>k4Zdbf2Sh1ZF1eamTPH72VLDF4QlKLnDJVzutXfkrOA=</td>\n",
       "      <td>1</td>\n",
       "      <td>0.0</td>\n",
       "      <td>missing</td>\n",
       "      <td>7</td>\n",
       "      <td>2016-03-29</td>\n",
       "      <td>2017-10-01</td>\n",
       "      <td>0</td>\n",
       "    </tr>\n",
       "  </tbody>\n",
       "</table>\n",
       "</div>"
      ],
      "text/plain": [
       "                                           msno  city    bd   gender  \\\n",
       "0  75rp8sCaeatezkb6c0I133UakcSDuKcc5ia0b0Q+JS4=     1  24.0     male   \n",
       "1  1Nqjt8ykQceNOmuRrh9bcgvicDfLlj+jkgx7+Dd0Rk0=     1   0.0  missing   \n",
       "2  gsDjjsDaM2cXEorLK8Qctgf6eO3NU1QgYK5q4j3dhfc=     1   0.0  missing   \n",
       "3  XQxgAYj3klVKjR3oxPPXYYFp4soD4TuBghkhMTD4oTw=     1   0.0  missing   \n",
       "4  ZF5OFkIsel+d4VJ4uaOMjThPZRF6XRowQ9ZA/RCvBeY=     1   0.0  missing   \n",
       "5  eMgBkkzRviMP0wvtf/wALwYpyVyfxfCfisRJVAlh+3g=     1   0.0  missing   \n",
       "6  /tdbyriKXZb5TfSyjE4qUl/dppoT+cZtPece2gErPck=     5   0.0  missing   \n",
       "7  jgyrKBspt3xkH/kTo6tkHXcjSZ7Z8W7D7YLonV5Z6Rc=     1   0.0  missing   \n",
       "8  9r83QcYAXqlzqgmx1s4yHHEAbklPdD32JL1Z6UTT0C4=    15  42.0   female   \n",
       "9  k4Zdbf2Sh1ZF1eamTPH72VLDF4QlKLnDJVzutXfkrOA=     1   0.0  missing   \n",
       "\n",
       "   registered_via registration_init_time expiration_date  is_churn  \n",
       "0               3             2015-11-29      2017-09-25         1  \n",
       "1               7             2016-04-10      2017-09-09         0  \n",
       "2               7             2016-06-08      2017-10-07         0  \n",
       "3               7             2011-08-20      2017-09-20         0  \n",
       "4               7             2016-01-30      2017-10-03         0  \n",
       "5               9             2011-04-02      2017-09-22         0  \n",
       "6               7             2010-12-20      2017-09-27         0  \n",
       "7               7             2016-01-17      2017-09-17         0  \n",
       "8               9             2007-08-13      2017-09-20         0  \n",
       "9               7             2016-03-29      2017-10-01         0  "
      ]
     },
     "execution_count": 8,
     "metadata": {},
     "output_type": "execute_result"
    }
   ],
   "source": [
    "merged_data.head(10)"
   ]
  },
  {
   "cell_type": "code",
   "execution_count": 9,
   "metadata": {},
   "outputs": [
    {
     "data": {
      "text/html": [
       "<div>\n",
       "<style>\n",
       "    .dataframe thead tr:only-child th {\n",
       "        text-align: right;\n",
       "    }\n",
       "\n",
       "    .dataframe thead th {\n",
       "        text-align: left;\n",
       "    }\n",
       "\n",
       "    .dataframe tbody tr th {\n",
       "        vertical-align: top;\n",
       "    }\n",
       "</style>\n",
       "<table border=\"1\" class=\"dataframe\">\n",
       "  <thead>\n",
       "    <tr style=\"text-align: right;\">\n",
       "      <th></th>\n",
       "      <th>msno</th>\n",
       "      <th>city</th>\n",
       "      <th>bd</th>\n",
       "      <th>gender</th>\n",
       "      <th>registered_via</th>\n",
       "      <th>registration_init_time</th>\n",
       "      <th>expiration_date</th>\n",
       "      <th>is_churn</th>\n",
       "    </tr>\n",
       "  </thead>\n",
       "  <tbody>\n",
       "    <tr>\n",
       "      <th>876133</th>\n",
       "      <td>qerkaiyMZF7AbECbeFGn8MC+sI2jL9RKPxMiB1a+8i4=</td>\n",
       "      <td>1</td>\n",
       "      <td>0.0</td>\n",
       "      <td>missing</td>\n",
       "      <td>7</td>\n",
       "      <td>2012-01-10</td>\n",
       "      <td>2017-10-02</td>\n",
       "      <td>0</td>\n",
       "    </tr>\n",
       "    <tr>\n",
       "      <th>876134</th>\n",
       "      <td>F425udhQ9cUbevDfBPiXvZ15jup1zd/dtUppcCcxlR0=</td>\n",
       "      <td>1</td>\n",
       "      <td>0.0</td>\n",
       "      <td>missing</td>\n",
       "      <td>7</td>\n",
       "      <td>2012-01-17</td>\n",
       "      <td>2017-09-24</td>\n",
       "      <td>0</td>\n",
       "    </tr>\n",
       "    <tr>\n",
       "      <th>876135</th>\n",
       "      <td>CMJ4ETek1UtTBVgnemgECkCSwIex1Y2//TDyMAxkWf8=</td>\n",
       "      <td>4</td>\n",
       "      <td>34.0</td>\n",
       "      <td>female</td>\n",
       "      <td>9</td>\n",
       "      <td>2013-09-20</td>\n",
       "      <td>2017-09-30</td>\n",
       "      <td>0</td>\n",
       "    </tr>\n",
       "    <tr>\n",
       "      <th>876136</th>\n",
       "      <td>ezKU31rCHfU1zwF8fszflH9o+Jqt/FvprbNDZVMM1oU=</td>\n",
       "      <td>4</td>\n",
       "      <td>43.0</td>\n",
       "      <td>male</td>\n",
       "      <td>9</td>\n",
       "      <td>2007-05-02</td>\n",
       "      <td>2018-04-28</td>\n",
       "      <td>0</td>\n",
       "    </tr>\n",
       "    <tr>\n",
       "      <th>876137</th>\n",
       "      <td>2CNRAUI9AOoNq+52NZ7WLzD40ct+rJvbFvNcQmiaNpM=</td>\n",
       "      <td>22</td>\n",
       "      <td>28.0</td>\n",
       "      <td>male</td>\n",
       "      <td>7</td>\n",
       "      <td>2012-06-09</td>\n",
       "      <td>2017-09-11</td>\n",
       "      <td>0</td>\n",
       "    </tr>\n",
       "    <tr>\n",
       "      <th>876138</th>\n",
       "      <td>61vxlJL2MZoLTf6f965Ka681UOQpdNFrMZb8bISHxbE=</td>\n",
       "      <td>1</td>\n",
       "      <td>0.0</td>\n",
       "      <td>missing</td>\n",
       "      <td>3</td>\n",
       "      <td>2014-02-08</td>\n",
       "      <td>2017-08-30</td>\n",
       "      <td>0</td>\n",
       "    </tr>\n",
       "    <tr>\n",
       "      <th>876139</th>\n",
       "      <td>PdkHqOPuvE5+qy3gXU+9enRtlf1Lzsqp530N6j64/Xo=</td>\n",
       "      <td>1</td>\n",
       "      <td>0.0</td>\n",
       "      <td>missing</td>\n",
       "      <td>7</td>\n",
       "      <td>2011-12-23</td>\n",
       "      <td>2017-09-10</td>\n",
       "      <td>0</td>\n",
       "    </tr>\n",
       "    <tr>\n",
       "      <th>876140</th>\n",
       "      <td>ZxGaoCP7m8QfeW+72Ohvp6ZMKFmNtLb1ct0waBiDDig=</td>\n",
       "      <td>13</td>\n",
       "      <td>32.0</td>\n",
       "      <td>female</td>\n",
       "      <td>9</td>\n",
       "      <td>2010-07-31</td>\n",
       "      <td>2017-09-26</td>\n",
       "      <td>0</td>\n",
       "    </tr>\n",
       "    <tr>\n",
       "      <th>876141</th>\n",
       "      <td>F10Hn+qIV08k7nd7i2jdGEEduTMJQjIAgF03dI5t65k=</td>\n",
       "      <td>1</td>\n",
       "      <td>0.0</td>\n",
       "      <td>missing</td>\n",
       "      <td>7</td>\n",
       "      <td>2016-11-29</td>\n",
       "      <td>2017-09-30</td>\n",
       "      <td>0</td>\n",
       "    </tr>\n",
       "    <tr>\n",
       "      <th>876142</th>\n",
       "      <td>VJmQvIH9x9SHfo//AMHJaY1MSQw9FVy4Vhjxxk30pCM=</td>\n",
       "      <td>1</td>\n",
       "      <td>0.0</td>\n",
       "      <td>missing</td>\n",
       "      <td>7</td>\n",
       "      <td>2011-03-05</td>\n",
       "      <td>2017-09-08</td>\n",
       "      <td>0</td>\n",
       "    </tr>\n",
       "  </tbody>\n",
       "</table>\n",
       "</div>"
      ],
      "text/plain": [
       "                                                msno  city    bd   gender  \\\n",
       "876133  qerkaiyMZF7AbECbeFGn8MC+sI2jL9RKPxMiB1a+8i4=     1   0.0  missing   \n",
       "876134  F425udhQ9cUbevDfBPiXvZ15jup1zd/dtUppcCcxlR0=     1   0.0  missing   \n",
       "876135  CMJ4ETek1UtTBVgnemgECkCSwIex1Y2//TDyMAxkWf8=     4  34.0   female   \n",
       "876136  ezKU31rCHfU1zwF8fszflH9o+Jqt/FvprbNDZVMM1oU=     4  43.0     male   \n",
       "876137  2CNRAUI9AOoNq+52NZ7WLzD40ct+rJvbFvNcQmiaNpM=    22  28.0     male   \n",
       "876138  61vxlJL2MZoLTf6f965Ka681UOQpdNFrMZb8bISHxbE=     1   0.0  missing   \n",
       "876139  PdkHqOPuvE5+qy3gXU+9enRtlf1Lzsqp530N6j64/Xo=     1   0.0  missing   \n",
       "876140  ZxGaoCP7m8QfeW+72Ohvp6ZMKFmNtLb1ct0waBiDDig=    13  32.0   female   \n",
       "876141  F10Hn+qIV08k7nd7i2jdGEEduTMJQjIAgF03dI5t65k=     1   0.0  missing   \n",
       "876142  VJmQvIH9x9SHfo//AMHJaY1MSQw9FVy4Vhjxxk30pCM=     1   0.0  missing   \n",
       "\n",
       "        registered_via registration_init_time expiration_date  is_churn  \n",
       "876133               7             2012-01-10      2017-10-02         0  \n",
       "876134               7             2012-01-17      2017-09-24         0  \n",
       "876135               9             2013-09-20      2017-09-30         0  \n",
       "876136               9             2007-05-02      2018-04-28         0  \n",
       "876137               7             2012-06-09      2017-09-11         0  \n",
       "876138               3             2014-02-08      2017-08-30         0  \n",
       "876139               7             2011-12-23      2017-09-10         0  \n",
       "876140               9             2010-07-31      2017-09-26         0  \n",
       "876141               7             2016-11-29      2017-09-30         0  \n",
       "876142               7             2011-03-05      2017-09-08         0  "
      ]
     },
     "execution_count": 9,
     "metadata": {},
     "output_type": "execute_result"
    }
   ],
   "source": [
    "merged_data.tail(10)"
   ]
  },
  {
   "cell_type": "code",
   "execution_count": 10,
   "metadata": {},
   "outputs": [
    {
     "data": {
      "text/plain": [
       "count    876143.000000\n",
       "mean          0.065793\n",
       "std           0.247920\n",
       "min           0.000000\n",
       "25%           0.000000\n",
       "50%           0.000000\n",
       "75%           0.000000\n",
       "max           1.000000\n",
       "Name: is_churn, dtype: float64"
      ]
     },
     "execution_count": 10,
     "metadata": {},
     "output_type": "execute_result"
    }
   ],
   "source": [
    "merged_data[\"is_churn\"].describe()"
   ]
  },
  {
   "cell_type": "code",
   "execution_count": 11,
   "metadata": {
    "collapsed": true
   },
   "outputs": [],
   "source": [
    "merged_data['is_churn'] = merged_data['is_churn'].astype('category')"
   ]
  },
  {
   "cell_type": "code",
   "execution_count": 12,
   "metadata": {},
   "outputs": [
    {
     "data": {
      "text/plain": [
       "count     876143\n",
       "unique         2\n",
       "top            0\n",
       "freq      818499\n",
       "Name: is_churn, dtype: int64"
      ]
     },
     "execution_count": 12,
     "metadata": {},
     "output_type": "execute_result"
    }
   ],
   "source": [
    "merged_data[\"is_churn\"].describe()"
   ]
  },
  {
   "cell_type": "code",
   "execution_count": 13,
   "metadata": {},
   "outputs": [
    {
     "data": {
      "image/png": "[encoded data removed]",
      "text/plain": [
       "<matplotlib.figure.Figure at 0x94e6c88>"
      ]
     },
     "metadata": {},
     "output_type": "display_data"
    }
   ],
   "source": [
    "churn = merged_data['is_churn'].value_counts()\n",
    "churn.plot(kind='bar',stacked=True, figsize=(8,6))\n",
    "\n",
    "plt.title(\"Churn vs No Churn\")\n",
    "plt.show()"
   ]
  },
  {
   "cell_type": "code",
   "execution_count": 16,
   "metadata": {},
   "outputs": [
    {
     "data": {
      "text/html": [
       "<div>\n",
       "<style>\n",
       "    .dataframe thead tr:only-child th {\n",
       "        text-align: right;\n",
       "    }\n",
       "\n",
       "    .dataframe thead th {\n",
       "        text-align: left;\n",
       "    }\n",
       "\n",
       "    .dataframe tbody tr th {\n",
       "        vertical-align: top;\n",
       "    }\n",
       "</style>\n",
       "<table border=\"1\" class=\"dataframe\">\n",
       "  <thead>\n",
       "    <tr style=\"text-align: right;\">\n",
       "      <th></th>\n",
       "      <th>city</th>\n",
       "      <th>bd</th>\n",
       "      <th>registered_via</th>\n",
       "    </tr>\n",
       "  </thead>\n",
       "  <tbody>\n",
       "    <tr>\n",
       "      <th>city</th>\n",
       "      <td>1.000000</td>\n",
       "      <td>0.638098</td>\n",
       "      <td>0.017878</td>\n",
       "    </tr>\n",
       "    <tr>\n",
       "      <th>bd</th>\n",
       "      <td>0.638098</td>\n",
       "      <td>1.000000</td>\n",
       "      <td>0.083805</td>\n",
       "    </tr>\n",
       "    <tr>\n",
       "      <th>registered_via</th>\n",
       "      <td>0.017878</td>\n",
       "      <td>0.083805</td>\n",
       "      <td>1.000000</td>\n",
       "    </tr>\n",
       "  </tbody>\n",
       "</table>\n",
       "</div>"
      ],
      "text/plain": [
       "                    city        bd  registered_via\n",
       "city            1.000000  0.638098        0.017878\n",
       "bd              0.638098  1.000000        0.083805\n",
       "registered_via  0.017878  0.083805        1.000000"
      ]
     },
     "execution_count": 16,
     "metadata": {},
     "output_type": "execute_result"
    }
   ],
   "source": [
    "merged_data.corr()"
   ]
  },
  {
   "cell_type": "code",
   "execution_count": null,
   "metadata": {
    "collapsed": true
   },
   "outputs": [],
   "source": [
    "churners = merged_data"
   ]
  }
 ],
 "metadata": {
  "kernelspec": {
   "display_name": "Python 2",
   "language": "python",
   "name": "python2"
  },
  "language_info": {
   "codemirror_mode": {
    "name": "ipython",
    "version": 2
   },
   "file_extension": ".py",
   "mimetype": "text/x-python",
   "name": "python",
   "nbconvert_exporter": "python",
   "pygments_lexer": "ipython2",
   "version": "2.7.13"
  }
 },
 "nbformat": 4,
 "nbformat_minor": 2
}
