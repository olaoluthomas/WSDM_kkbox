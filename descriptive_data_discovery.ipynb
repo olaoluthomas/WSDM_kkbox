{
 "cells": [
  {
   "cell_type": "markdown",
   "metadata": {},
   "source": [
    "# Data Preprocessing and Descriptive Analytics of KKBox Dataset\n",
    "\n",
    "*** Our goal is to accurately predict customer churn***\n",
    "\n",
    "[WSDM KKBox's Churn Prediction Challenge](https://www.kaggle.com/c/kkbox-churn-prediction-challenge)\n",
    "\n",
    "## The Business Problem\n",
    "\n",
    "KKBox is the leader in music streaming in Asia and their business model is based on paid user accounts and advertising revenue with the former being a significant contributor. The client (KKBox) wants a predictive model of customer churn built.\n",
    "\n",
    "Stage 1 requires descriptive analytics. We will present assumptions about the data & the intended model as we preprocess and explore..."
   ]
  },
  {
   "cell_type": "code",
   "execution_count": 1,
   "metadata": {
    "collapsed": true
   },
   "outputs": [],
   "source": [
    "# Importing pandas et al is a given for data scientists working with flat files\n",
    "\n",
    "import pandas as pd\n",
    "import numpy as np\n",
    "import matplotlib.pyplot as plt\n",
    "%matplotlib inline"
   ]
  },
  {
   "cell_type": "code",
   "execution_count": 2,
   "metadata": {},
   "outputs": [
    {
     "data": {
      "text/html": [
       "<div>\n",
       "<style>\n",
       "    .dataframe thead tr:only-child th {\n",
       "        text-align: right;\n",
       "    }\n",
       "\n",
       "    .dataframe thead th {\n",
       "        text-align: left;\n",
       "    }\n",
       "\n",
       "    .dataframe tbody tr th {\n",
       "        vertical-align: top;\n",
       "    }\n",
       "</style>\n",
       "<table border=\"1\" class=\"dataframe\">\n",
       "  <thead>\n",
       "    <tr style=\"text-align: right;\">\n",
       "      <th></th>\n",
       "      <th>msno</th>\n",
       "      <th>city</th>\n",
       "      <th>bd</th>\n",
       "      <th>gender</th>\n",
       "      <th>registered_via</th>\n",
       "      <th>registration_init_time</th>\n",
       "      <th>expiration_date</th>\n",
       "    </tr>\n",
       "  </thead>\n",
       "  <tbody>\n",
       "    <tr>\n",
       "      <th>0</th>\n",
       "      <td>URiXrfYPzHAlk+7+n7BOMl9G+T7g8JmrSnT/BU8GmEo=</td>\n",
       "      <td>1</td>\n",
       "      <td>0</td>\n",
       "      <td>NaN</td>\n",
       "      <td>9</td>\n",
       "      <td>20150525</td>\n",
       "      <td>20150526</td>\n",
       "    </tr>\n",
       "    <tr>\n",
       "      <th>1</th>\n",
       "      <td>U1q0qCqK/lDMTD2kN8G9OXMtfuvLCey20OAIPOvXXGQ=</td>\n",
       "      <td>1</td>\n",
       "      <td>0</td>\n",
       "      <td>NaN</td>\n",
       "      <td>4</td>\n",
       "      <td>20161221</td>\n",
       "      <td>20161224</td>\n",
       "    </tr>\n",
       "    <tr>\n",
       "      <th>2</th>\n",
       "      <td>W6M2H2kAoN9ahfDYKo3J6tmsJRAeuFc9wl1cau5VL1Q=</td>\n",
       "      <td>1</td>\n",
       "      <td>0</td>\n",
       "      <td>NaN</td>\n",
       "      <td>4</td>\n",
       "      <td>20160306</td>\n",
       "      <td>20160309</td>\n",
       "    </tr>\n",
       "    <tr>\n",
       "      <th>3</th>\n",
       "      <td>1qE5+cN7CUyC+KFH6gBZzMWmM1QpIVW6A43BEm98I/w=</td>\n",
       "      <td>5</td>\n",
       "      <td>17</td>\n",
       "      <td>female</td>\n",
       "      <td>4</td>\n",
       "      <td>20161031</td>\n",
       "      <td>20161107</td>\n",
       "    </tr>\n",
       "    <tr>\n",
       "      <th>4</th>\n",
       "      <td>SeAnaZPI+tFdAt+r3lZt/B8PgTp7bcG/1os39u4pLxs=</td>\n",
       "      <td>1</td>\n",
       "      <td>0</td>\n",
       "      <td>NaN</td>\n",
       "      <td>4</td>\n",
       "      <td>20170202</td>\n",
       "      <td>20170205</td>\n",
       "    </tr>\n",
       "  </tbody>\n",
       "</table>\n",
       "</div>"
      ],
      "text/plain": [
       "                                           msno  city  bd  gender  \\\n",
       "0  URiXrfYPzHAlk+7+n7BOMl9G+T7g8JmrSnT/BU8GmEo=     1   0     NaN   \n",
       "1  U1q0qCqK/lDMTD2kN8G9OXMtfuvLCey20OAIPOvXXGQ=     1   0     NaN   \n",
       "2  W6M2H2kAoN9ahfDYKo3J6tmsJRAeuFc9wl1cau5VL1Q=     1   0     NaN   \n",
       "3  1qE5+cN7CUyC+KFH6gBZzMWmM1QpIVW6A43BEm98I/w=     5  17  female   \n",
       "4  SeAnaZPI+tFdAt+r3lZt/B8PgTp7bcG/1os39u4pLxs=     1   0     NaN   \n",
       "\n",
       "   registered_via  registration_init_time  expiration_date  \n",
       "0               9                20150525         20150526  \n",
       "1               4                20161221         20161224  \n",
       "2               4                20160306         20160309  \n",
       "3               4                20161031         20161107  \n",
       "4               4                20170202         20170205  "
      ]
     },
     "execution_count": 2,
     "metadata": {},
     "output_type": "execute_result"
    }
   ],
   "source": [
    "# As the name implies, this csv holds subscriber information\n",
    "\n",
    "members = pd.read_csv('members.csv')\n",
    "members.head()"
   ]
  },
  {
   "cell_type": "code",
   "execution_count": 3,
   "metadata": {},
   "outputs": [
    {
     "name": "stdout",
     "output_type": "stream",
     "text": [
      "<class 'pandas.core.frame.DataFrame'>\n",
      "RangeIndex: 5116194 entries, 0 to 5116193\n",
      "Data columns (total 7 columns):\n",
      "msno                      object\n",
      "city                      int64\n",
      "bd                        int64\n",
      "gender                    object\n",
      "registered_via            int64\n",
      "registration_init_time    int64\n",
      "expiration_date           int64\n",
      "dtypes: int64(5), object(2)\n",
      "memory usage: 273.2+ MB\n"
     ]
    }
   ],
   "source": [
    "members.info()"
   ]
  },
  {
   "cell_type": "code",
   "execution_count": 4,
   "metadata": {},
   "outputs": [
    {
     "data": {
      "text/html": [
       "<div>\n",
       "<style>\n",
       "    .dataframe thead tr:only-child th {\n",
       "        text-align: right;\n",
       "    }\n",
       "\n",
       "    .dataframe thead th {\n",
       "        text-align: left;\n",
       "    }\n",
       "\n",
       "    .dataframe tbody tr th {\n",
       "        vertical-align: top;\n",
       "    }\n",
       "</style>\n",
       "<table border=\"1\" class=\"dataframe\">\n",
       "  <thead>\n",
       "    <tr style=\"text-align: right;\">\n",
       "      <th></th>\n",
       "      <th>msno</th>\n",
       "      <th>city</th>\n",
       "      <th>bd</th>\n",
       "      <th>gender</th>\n",
       "      <th>registered_via</th>\n",
       "      <th>registration_init_time</th>\n",
       "      <th>expiration_date</th>\n",
       "    </tr>\n",
       "  </thead>\n",
       "  <tbody>\n",
       "    <tr>\n",
       "      <th>5116189</th>\n",
       "      <td>caZsJUDhjfJZaAJGsGAK/PN+NpG3Dipey6mGOiZ+fmg=</td>\n",
       "      <td>4</td>\n",
       "      <td>17</td>\n",
       "      <td>female</td>\n",
       "      <td>3</td>\n",
       "      <td>20150527</td>\n",
       "      <td>20150603</td>\n",
       "    </tr>\n",
       "    <tr>\n",
       "      <th>5116190</th>\n",
       "      <td>F10Hn+qIV08k7nd7i2jdGEEduTMJQjIAgF03dI5t65k=</td>\n",
       "      <td>1</td>\n",
       "      <td>0</td>\n",
       "      <td>NaN</td>\n",
       "      <td>7</td>\n",
       "      <td>20161129</td>\n",
       "      <td>20170930</td>\n",
       "    </tr>\n",
       "    <tr>\n",
       "      <th>5116191</th>\n",
       "      <td>nufMrGILJC0l8UwsEegBJeB4Hr6+WJDuWrfLaipSMDA=</td>\n",
       "      <td>15</td>\n",
       "      <td>26</td>\n",
       "      <td>female</td>\n",
       "      <td>9</td>\n",
       "      <td>20130918</td>\n",
       "      <td>20180123</td>\n",
       "    </tr>\n",
       "    <tr>\n",
       "      <th>5116192</th>\n",
       "      <td>dw4PyMqv9x+nWlV+D9JWmMlZExnjnkidxBDmUErGsrA=</td>\n",
       "      <td>1</td>\n",
       "      <td>0</td>\n",
       "      <td>NaN</td>\n",
       "      <td>7</td>\n",
       "      <td>20130421</td>\n",
       "      <td>20150407</td>\n",
       "    </tr>\n",
       "    <tr>\n",
       "      <th>5116193</th>\n",
       "      <td>VJmQvIH9x9SHfo//AMHJaY1MSQw9FVy4Vhjxxk30pCM=</td>\n",
       "      <td>1</td>\n",
       "      <td>0</td>\n",
       "      <td>NaN</td>\n",
       "      <td>7</td>\n",
       "      <td>20110305</td>\n",
       "      <td>20170908</td>\n",
       "    </tr>\n",
       "  </tbody>\n",
       "</table>\n",
       "</div>"
      ],
      "text/plain": [
       "                                                 msno  city  bd  gender  \\\n",
       "5116189  caZsJUDhjfJZaAJGsGAK/PN+NpG3Dipey6mGOiZ+fmg=     4  17  female   \n",
       "5116190  F10Hn+qIV08k7nd7i2jdGEEduTMJQjIAgF03dI5t65k=     1   0     NaN   \n",
       "5116191  nufMrGILJC0l8UwsEegBJeB4Hr6+WJDuWrfLaipSMDA=    15  26  female   \n",
       "5116192  dw4PyMqv9x+nWlV+D9JWmMlZExnjnkidxBDmUErGsrA=     1   0     NaN   \n",
       "5116193  VJmQvIH9x9SHfo//AMHJaY1MSQw9FVy4Vhjxxk30pCM=     1   0     NaN   \n",
       "\n",
       "         registered_via  registration_init_time  expiration_date  \n",
       "5116189               3                20150527         20150603  \n",
       "5116190               7                20161129         20170930  \n",
       "5116191               9                20130918         20180123  \n",
       "5116192               7                20130421         20150407  \n",
       "5116193               7                20110305         20170908  "
      ]
     },
     "execution_count": 4,
     "metadata": {},
     "output_type": "execute_result"
    }
   ],
   "source": [
    "members.tail()"
   ]
  },
  {
   "cell_type": "code",
   "execution_count": 5,
   "metadata": {},
   "outputs": [
    {
     "data": {
      "text/html": [
       "<div>\n",
       "<style>\n",
       "    .dataframe thead tr:only-child th {\n",
       "        text-align: right;\n",
       "    }\n",
       "\n",
       "    .dataframe thead th {\n",
       "        text-align: left;\n",
       "    }\n",
       "\n",
       "    .dataframe tbody tr th {\n",
       "        vertical-align: top;\n",
       "    }\n",
       "</style>\n",
       "<table border=\"1\" class=\"dataframe\">\n",
       "  <thead>\n",
       "    <tr style=\"text-align: right;\">\n",
       "      <th></th>\n",
       "      <th>city</th>\n",
       "      <th>bd</th>\n",
       "      <th>registered_via</th>\n",
       "      <th>registration_init_time</th>\n",
       "      <th>expiration_date</th>\n",
       "    </tr>\n",
       "  </thead>\n",
       "  <tbody>\n",
       "    <tr>\n",
       "      <th>count</th>\n",
       "      <td>5.116194e+06</td>\n",
       "      <td>5.116194e+06</td>\n",
       "      <td>5.116194e+06</td>\n",
       "      <td>5.116194e+06</td>\n",
       "      <td>5.116194e+06</td>\n",
       "    </tr>\n",
       "    <tr>\n",
       "      <th>mean</th>\n",
       "      <td>4.019725e+00</td>\n",
       "      <td>9.772362e+00</td>\n",
       "      <td>5.248127e+00</td>\n",
       "      <td>2.014631e+07</td>\n",
       "      <td>2.015981e+07</td>\n",
       "    </tr>\n",
       "    <tr>\n",
       "      <th>std</th>\n",
       "      <td>5.590289e+00</td>\n",
       "      <td>1.795875e+01</td>\n",
       "      <td>2.260226e+00</td>\n",
       "      <td>2.308540e+04</td>\n",
       "      <td>1.254307e+04</td>\n",
       "    </tr>\n",
       "    <tr>\n",
       "      <th>min</th>\n",
       "      <td>1.000000e+00</td>\n",
       "      <td>-6.998000e+03</td>\n",
       "      <td>3.000000e+00</td>\n",
       "      <td>2.004033e+07</td>\n",
       "      <td>1.970010e+07</td>\n",
       "    </tr>\n",
       "    <tr>\n",
       "      <th>25%</th>\n",
       "      <td>1.000000e+00</td>\n",
       "      <td>0.000000e+00</td>\n",
       "      <td>4.000000e+00</td>\n",
       "      <td>2.014103e+07</td>\n",
       "      <td>2.015111e+07</td>\n",
       "    </tr>\n",
       "    <tr>\n",
       "      <th>50%</th>\n",
       "      <td>1.000000e+00</td>\n",
       "      <td>0.000000e+00</td>\n",
       "      <td>4.000000e+00</td>\n",
       "      <td>2.015111e+07</td>\n",
       "      <td>2.016070e+07</td>\n",
       "    </tr>\n",
       "    <tr>\n",
       "      <th>75%</th>\n",
       "      <td>5.000000e+00</td>\n",
       "      <td>2.100000e+01</td>\n",
       "      <td>7.000000e+00</td>\n",
       "      <td>2.016061e+07</td>\n",
       "      <td>2.017061e+07</td>\n",
       "    </tr>\n",
       "    <tr>\n",
       "      <th>max</th>\n",
       "      <td>2.200000e+01</td>\n",
       "      <td>2.015000e+03</td>\n",
       "      <td>1.600000e+01</td>\n",
       "      <td>2.017071e+07</td>\n",
       "      <td>2.100010e+07</td>\n",
       "    </tr>\n",
       "  </tbody>\n",
       "</table>\n",
       "</div>"
      ],
      "text/plain": [
       "               city            bd  registered_via  registration_init_time  \\\n",
       "count  5.116194e+06  5.116194e+06    5.116194e+06            5.116194e+06   \n",
       "mean   4.019725e+00  9.772362e+00    5.248127e+00            2.014631e+07   \n",
       "std    5.590289e+00  1.795875e+01    2.260226e+00            2.308540e+04   \n",
       "min    1.000000e+00 -6.998000e+03    3.000000e+00            2.004033e+07   \n",
       "25%    1.000000e+00  0.000000e+00    4.000000e+00            2.014103e+07   \n",
       "50%    1.000000e+00  0.000000e+00    4.000000e+00            2.015111e+07   \n",
       "75%    5.000000e+00  2.100000e+01    7.000000e+00            2.016061e+07   \n",
       "max    2.200000e+01  2.015000e+03    1.600000e+01            2.017071e+07   \n",
       "\n",
       "       expiration_date  \n",
       "count     5.116194e+06  \n",
       "mean      2.015981e+07  \n",
       "std       1.254307e+04  \n",
       "min       1.970010e+07  \n",
       "25%       2.015111e+07  \n",
       "50%       2.016070e+07  \n",
       "75%       2.017061e+07  \n",
       "max       2.100010e+07  "
      ]
     },
     "execution_count": 5,
     "metadata": {},
     "output_type": "execute_result"
    }
   ],
   "source": [
    "members.describe()"
   ]
  },
  {
   "cell_type": "code",
   "execution_count": 6,
   "metadata": {},
   "outputs": [
    {
     "data": {
      "text/plain": [
       "dtype('O')"
      ]
     },
     "execution_count": 6,
     "metadata": {},
     "output_type": "execute_result"
    }
   ],
   "source": [
    "members['gender'].dtype"
   ]
  },
  {
   "cell_type": "code",
   "execution_count": 8,
   "metadata": {},
   "outputs": [
    {
     "data": {
      "text/plain": [
       "msno                      False\n",
       "city                      False\n",
       "bd                        False\n",
       "gender                     True\n",
       "registered_via            False\n",
       "registration_init_time    False\n",
       "expiration_date           False\n",
       "dtype: bool"
      ]
     },
     "execution_count": 8,
     "metadata": {},
     "output_type": "execute_result"
    }
   ],
   "source": [
    "# Locating missing values in our dataframe...\n",
    "\n",
    "members.isnull().any()"
   ]
  },
  {
   "cell_type": "code",
   "execution_count": 9,
   "metadata": {},
   "outputs": [
    {
     "data": {
      "text/plain": [
       "count     1761416\n",
       "unique          2\n",
       "top          male\n",
       "freq       902851\n",
       "Name: gender, dtype: object"
      ]
     },
     "execution_count": 9,
     "metadata": {},
     "output_type": "execute_result"
    }
   ],
   "source": [
    "members['gender'].describe()"
   ]
  },
  {
   "cell_type": "markdown",
   "metadata": {},
   "source": [
    "** The missing values would most likely be customers withholding inforamtion. We will declare an attribute for missing values. **"
   ]
  },
  {
   "cell_type": "code",
   "execution_count": 10,
   "metadata": {
    "collapsed": true
   },
   "outputs": [],
   "source": [
    "# we will replace null values with a new category we will call \"missing\"\n",
    "\n",
    "members['gender'] = members['gender'].fillna('missing')"
   ]
  },
  {
   "cell_type": "code",
   "execution_count": 11,
   "metadata": {},
   "outputs": [
    {
     "data": {
      "text/plain": [
       "count     5116194\n",
       "unique          3\n",
       "top       missing\n",
       "freq      3354778\n",
       "Name: gender, dtype: object"
      ]
     },
     "execution_count": 11,
     "metadata": {},
     "output_type": "execute_result"
    }
   ],
   "source": [
    "members['gender'].describe()"
   ]
  },
  {
   "cell_type": "code",
   "execution_count": 12,
   "metadata": {},
   "outputs": [
    {
     "data": {
      "text/plain": [
       "array(['missing', 'female', 'male'], dtype=object)"
      ]
     },
     "execution_count": 12,
     "metadata": {},
     "output_type": "execute_result"
    }
   ],
   "source": [
    "members['gender'].unique()"
   ]
  },
  {
   "cell_type": "markdown",
   "metadata": {},
   "source": [
    "** Creating a graphical representation of our gender data... **"
   ]
  },
  {
   "cell_type": "code",
   "execution_count": 39,
   "metadata": {},
   "outputs": [
    {
     "data": {
      "image/png": "[encoded data removed]",
      "text/plain": [
       "<matplotlib.figure.Figure at 0xc3ed198>"
      ]
     },
     "metadata": {},
     "output_type": "display_data"
    }
   ],
   "source": [
    "gender = members['gender'].value_counts()\n",
    "gender.plot(kind='bar',stacked=True, figsize=(8,6))\n",
    "\n",
    "plt.ylabel('Total')\n",
    "plt.title(\"Gender of KKBox subscribers\")\n",
    "plt.show()"
   ]
  },
  {
   "cell_type": "code",
   "execution_count": 13,
   "metadata": {},
   "outputs": [
    {
     "name": "stdout",
     "output_type": "stream",
     "text": [
      "msno\n",
      "['URiXrfYPzHAlk+7+n7BOMl9G+T7g8JmrSnT/BU8GmEo='\n",
      " 'U1q0qCqK/lDMTD2kN8G9OXMtfuvLCey20OAIPOvXXGQ='\n",
      " 'W6M2H2kAoN9ahfDYKo3J6tmsJRAeuFc9wl1cau5VL1Q=' ...,\n",
      " 'nufMrGILJC0l8UwsEegBJeB4Hr6+WJDuWrfLaipSMDA='\n",
      " 'dw4PyMqv9x+nWlV+D9JWmMlZExnjnkidxBDmUErGsrA='\n",
      " 'VJmQvIH9x9SHfo//AMHJaY1MSQw9FVy4Vhjxxk30pCM=']\n",
      "city\n",
      "[ 1  5  6 22 13  4 12 15 17 14 11 10  3  9  8 21 18  7 19 20 16]\n",
      "bd\n",
      "[    0    17    40    24    56    22    32    19   117    42    25    29\n",
      "    28    43    41    47    18    20    36    21    50    39    38    26\n",
      "    27    53    23    16    34    37    48    30    45    52    46    57\n",
      "    44    33    35    31    58    54    49    55    15    14    79    67\n",
      "    66    62    51    96    92    61    59    65    81    69    60    63\n",
      "    64   104   106    97    72    73    84    75   112    94    91    68\n",
      "   -36    74   102     3    95    12    70   105    76    71   111    80\n",
      "    78    85  1032    13     2   100     9    90    77     6   103    86\n",
      "     1     5    87   101   139   -51   107    93  1042   115  1062     7\n",
      "    88     4   -44   924   -50    11  1039    98   584   122   923    82\n",
      "   110    99    10   -48   109     8    89   948   108  1017   919    83\n",
      "   118  1029  1009  1033   935   221   -49   649  1035   -46   951   116\n",
      "   822   -39  1053  1038   939   -42   689   143  1025   -43   126 -2828\n",
      "  2010  1021   -45  1064  1041   121   961   -47   -41  1028   938   137\n",
      "   936   -52   141   -32   113   519   826  2011   944    -9   793   160\n",
      "   934  1047   942   824  1051   928   462   131   933  1030   932  1008\n",
      " -3152    -8   943   926   922   573   239  1031   906  1037   945   931\n",
      "  2014  1040  1026   -37  1011   959   806   132  1819  1501   819  1050\n",
      "  1421   941   -30   -40   837   155   -23   950   930  1937   124   -38\n",
      "   151   144 -5978   323 -6998   357   332   953   130  1970   321   -34\n",
      "   114   123  1036   964   150   230  1045   127  1043   153  1949   228\n",
      "   133   128   339  1034   -24   -35   197   320   148   778  1018   119\n",
      "   129   138 -6445   265 -1970   319   386   353   947   120  1052  1309\n",
      "  1212   827  -974   231   994  -178   925   940   929   955   244   220\n",
      "   -22   946    -7   167   920  1967  1946  1821  -951   140  -963  1049\n",
      "   163  1111  2009   328 -6807   821  1058   -33  1089  1056   125   743\n",
      "  1820  1954  1958  1048   237   810   -19   -12  1013   786    -6  2015\n",
      "   -14   -10]\n",
      "gender\n",
      "['missing' 'female' 'male']\n",
      "registered_via\n",
      "[ 9  4  3  7 13 16 10]\n",
      "registration_init_time\n",
      "[20150525 20161221 20160306 ..., 20170415 20040613 20170514]\n",
      "expiration_date\n",
      "[20150526 20161224 20160309 ..., 20191026 20050303 20200913]\n"
     ]
    }
   ],
   "source": [
    "# let's find out what unique values our other variables hold...\n",
    "\n",
    "for column in members:\n",
    "    print column\n",
    "    print members[column].unique()"
   ]
  },
  {
   "cell_type": "markdown",
   "metadata": {},
   "source": [
    "**'registered_via' and 'city' should be categorical variables... **"
   ]
  },
  {
   "cell_type": "code",
   "execution_count": 14,
   "metadata": {
    "collapsed": true
   },
   "outputs": [],
   "source": [
    "members['registered_via'] = members['registered_via'].astype('category')\n",
    "members['city'] = members['city'].astype('category')"
   ]
  },
  {
   "cell_type": "code",
   "execution_count": 41,
   "metadata": {
    "scrolled": false
   },
   "outputs": [
    {
     "data": {
      "image/png": "[encoded data removed]",
      "text/plain": [
       "<matplotlib.figure.Figure at 0x39900f98>"
      ]
     },
     "metadata": {},
     "output_type": "display_data"
    }
   ],
   "source": [
    "city = members['city'].value_counts()\n",
    "city.plot(kind='bar',stacked=True, figsize=(8,6))\n",
    "\n",
    "plt.xlabel('City')\n",
    "plt.ylabel('No. of Members')\n",
    "plt.title(\"City Make-up of Subscribers\")\n",
    "plt.show()"
   ]
  },
  {
   "cell_type": "code",
   "execution_count": 43,
   "metadata": {},
   "outputs": [
    {
     "data": {
      "image/png": "[encoded data removed]",
      "text/plain": [
       "<matplotlib.figure.Figure at 0x55e5ddd8>"
      ]
     },
     "metadata": {},
     "output_type": "display_data"
    }
   ],
   "source": [
    "registered_via = members['registered_via'].value_counts()\n",
    "registered_via.plot(kind='bar',stacked=True, figsize=(8,5))\n",
    "\n",
    "plt.xlabel('Plot of Registration Method')\n",
    "plt.ylabel('Number registered')\n",
    "plt.title(\"Registration Method\")\n",
    "plt.show()"
   ]
  },
  {
   "cell_type": "markdown",
   "metadata": {},
   "source": [
    "*** Pending confirmation from a reliable data dictionary, it is safe to assume that city 1 is Taipei, KKBox being a Taiwanese company... ***"
   ]
  },
  {
   "cell_type": "code",
   "execution_count": 15,
   "metadata": {
    "scrolled": true
   },
   "outputs": [
    {
     "name": "stdout",
     "output_type": "stream",
     "text": [
      "<class 'pandas.core.frame.DataFrame'>\n",
      "RangeIndex: 5116194 entries, 0 to 5116193\n",
      "Data columns (total 7 columns):\n",
      "msno                      object\n",
      "city                      category\n",
      "bd                        int64\n",
      "gender                    object\n",
      "registered_via            category\n",
      "registration_init_time    int64\n",
      "expiration_date           int64\n",
      "dtypes: category(2), int64(3), object(2)\n",
      "memory usage: 204.9+ MB\n"
     ]
    }
   ],
   "source": [
    "members.info()"
   ]
  },
  {
   "cell_type": "markdown",
   "metadata": {},
   "source": [
    "**The bd column is a placeholder for subscriber age whose entries range from -6998 to 2015**\n",
    "\n",
    "*What assumptions can we make about this variable?*\n",
    "\n",
    "- It is possible this field is stored in a Unix-like database that holds dates as either positive or negative offsets of 1970\n",
    "- The values could also be user entry errors\n",
    "\n",
    "As KKBox only accepts registrants from within Asia, we had someone from Hong Kong sign up and we got these screenshots:\n",
    "\n",
    "<table><tr><td><img src=\"correct.jpg\" style=\"width: 250px;\"></td><td><img src=\"wrong1.jpg\" style=\"width: 250px;\"></td><td><img src=\"wrong2.jpg\" style=\"width: 250px;\"></td></tr></table>\n",
    "\n",
    "## Clearly, KKbox has data validation issues they need to attend to...\n",
    "\n",
    "Our observation clearly rules out the Unix case.. \n",
    "\n",
    "### We will assume any age lower than 0 and higher than 100 is invalid.\n",
    "\n",
    "We will assume parents can sign their kids (aged  0 - 10) up for the service."
   ]
  },
  {
   "cell_type": "code",
   "execution_count": 16,
   "metadata": {},
   "outputs": [
    {
     "name": "stdout",
     "output_type": "stream",
     "text": [
      "1690537\n",
      "5116194\n"
     ]
    },
    {
     "data": {
      "text/plain": [
       "33"
      ]
     },
     "execution_count": 16,
     "metadata": {},
     "output_type": "execute_result"
    }
   ],
   "source": [
    "print members['bd'][(members['bd'] > 0) & (members['bd'] < 100)].count()\n",
    "print len(members['bd'])\n",
    "(members['bd'][(members['bd'] > 0) & (members['bd'] < 100)].count())*100/len(members['bd'])"
   ]
  },
  {
   "cell_type": "markdown",
   "metadata": {},
   "source": [
    "**So 33% of the values under the bd variable were imputed correctly?** This requires further investigation..."
   ]
  },
  {
   "cell_type": "code",
   "execution_count": 17,
   "metadata": {},
   "outputs": [
    {
     "name": "stdout",
     "output_type": "stream",
     "text": [
      "178\n"
     ]
    },
    {
     "data": {
      "text/plain": [
       "0.0034791487578461643"
      ]
     },
     "execution_count": 17,
     "metadata": {},
     "output_type": "execute_result"
    }
   ],
   "source": [
    "print members['bd'][members['bd'] < 0].count()\n",
    "float(members['bd'][members['bd'] < 0].count()*100)/len(members['bd'])"
   ]
  },
  {
   "cell_type": "markdown",
   "metadata": {},
   "source": [
    "** Less than 0.005% of the age variable are negative.**"
   ]
  },
  {
   "cell_type": "code",
   "execution_count": 18,
   "metadata": {},
   "outputs": [
    {
     "name": "stdout",
     "output_type": "stream",
     "text": [
      "3791\n"
     ]
    },
    {
     "data": {
      "text/plain": [
       "0.07409805023030792"
      ]
     },
     "execution_count": 18,
     "metadata": {},
     "output_type": "execute_result"
    }
   ],
   "source": [
    "print members['bd'][members['bd'] > 100].count()\n",
    "float(members['bd'][members['bd'] > 100].count()*100)/len(members['bd'])"
   ]
  },
  {
   "cell_type": "markdown",
   "metadata": {},
   "source": [
    "**0.075% of the bd column are above 100.**"
   ]
  },
  {
   "cell_type": "code",
   "execution_count": 19,
   "metadata": {},
   "outputs": [
    {
     "data": {
      "text/plain": [
       "count    5.112225e+06\n",
       "mean     9.665540e+00\n",
       "std      1.500244e+01\n",
       "min      0.000000e+00\n",
       "25%      0.000000e+00\n",
       "50%      0.000000e+00\n",
       "75%      2.100000e+01\n",
       "max      1.000000e+02\n",
       "Name: bd, dtype: float64"
      ]
     },
     "execution_count": 19,
     "metadata": {},
     "output_type": "execute_result"
    }
   ],
   "source": [
    "# If greater than 100 or negative, we will assign as invalid \n",
    "\n",
    "members.loc[members['bd'] < 0, 'bd'] = np.nan\n",
    "members.loc[members['bd'] > 100, 'bd'] = np.nan\n",
    "\n",
    "members['bd'].describe()"
   ]
  },
  {
   "cell_type": "code",
   "execution_count": 28,
   "metadata": {},
   "outputs": [
    {
     "name": "stdout",
     "output_type": "stream",
     "text": [
      "5116194\n",
      "5112225\n",
      "3969\n",
      "0.99922422801 % of our age column can be taken as valid entry pending evidence to the contrary\n"
     ]
    }
   ],
   "source": [
    "print len(members['bd'])\n",
    "print members['bd'].count()\n",
    "print sum(members['bd'].isnull())\n",
    "print \"{} % of our age column can be taken as valid entry pending evidence to the contrary\".format(float(members['bd'].count())/len(members['bd']))"
   ]
  },
  {
   "cell_type": "markdown",
   "metadata": {},
   "source": [
    "** So our earlier computation of only 33% valid data was wrong.. **"
   ]
  },
  {
   "cell_type": "markdown",
   "metadata": {},
   "source": [
    "** Investigating the distribution of ages numerically and graphically...**"
   ]
  },
  {
   "cell_type": "code",
   "execution_count": 29,
   "metadata": {},
   "outputs": [
    {
     "name": "stdout",
     "output_type": "stream",
     "text": [
      "102\n"
     ]
    },
    {
     "data": {
      "text/plain": [
       "array([   0.,    1.,    2.,    3.,    4.,    5.,    6.,    7.,    8.,\n",
       "          9.,   10.,   11.,   12.,   13.,   14.,   15.,   16.,   17.,\n",
       "         18.,   19.,   20.,   21.,   22.,   23.,   24.,   25.,   26.,\n",
       "         27.,   28.,   29.,   30.,   31.,   32.,   33.,   34.,   35.,\n",
       "         36.,   37.,   38.,   39.,   40.,   41.,   42.,   43.,   44.,\n",
       "         45.,   46.,   47.,   48.,   49.,   50.,   51.,   52.,   53.,\n",
       "         54.,   55.,   56.,   57.,   58.,   59.,   60.,   61.,   62.,\n",
       "         63.,   64.,   65.,   66.,   67.,   68.,   69.,   70.,   71.,\n",
       "         72.,   73.,   74.,   75.,   76.,   77.,   78.,   79.,   80.,\n",
       "         81.,   82.,   83.,   84.,   85.,   86.,   87.,   88.,   89.,\n",
       "         90.,   91.,   92.,   93.,   94.,   95.,   96.,   97.,   98.,\n",
       "         99.,  100.,   nan])"
      ]
     },
     "execution_count": 29,
     "metadata": {},
     "output_type": "execute_result"
    }
   ],
   "source": [
    "print len(np.sort(members['bd'].unique()))\n",
    "np.sort(members['bd'].unique())"
   ]
  },
  {
   "cell_type": "code",
   "execution_count": 30,
   "metadata": {},
   "outputs": [
    {
     "data": {
      "image/png": "[encoded data removed]",
      "text/plain": [
       "<matplotlib.figure.Figure at 0x9886048>"
      ]
     },
     "metadata": {},
     "output_type": "display_data"
    }
   ],
   "source": [
    "fig, ax = plt.subplots(figsize=[8,6])\n",
    "ax.set_title(\"Distribution of age\")\n",
    "ax.set_ylabel(\"Frequency\")\n",
    "ax.set_xlabel(\"Age\")\n",
    "members['bd'].hist()\n",
    "plt.show()"
   ]
  },
  {
   "cell_type": "markdown",
   "metadata": {},
   "source": [
    "*** There seems to be quite a large number (about 3 million) of 0-10 year olds; more than teens and early twenties. This would lead us to doubt the valididty of the entire age column. However, the distribution tapers off and conforms to the right half of a Gaussian with increase in age in line with the assumption that the bulk of subscribers are 20-something's. We expect to have only a handful of teens because we offer paid subscriptions and teens tend to opt for a free service. ***\n",
    "\n",
    "** Cleaning up the last two columns... **"
   ]
  },
  {
   "cell_type": "code",
   "execution_count": 31,
   "metadata": {
    "collapsed": true
   },
   "outputs": [],
   "source": [
    "from datetime import datetime\n",
    "\n",
    "members['expiration_date'] = members['expiration_date'].apply(lambda x: pd.to_datetime(str(x), format='%Y%m%d').date())\n",
    "members['registration_init_time'] = members['registration_init_time'].apply(lambda x: pd.to_datetime(str(x), format='%Y%m%d').date())\n",
    "\n",
    "#The code below didnt work; it seemed to be running in an endless loop for some reason, will investigate if time permits... \n",
    "#for index, row in members.iterrows():\n",
    "#    dat = str(members['expiration_date'][index])\n",
    "#    members.loc[index, 'expiration_date'] = datetime(year=int(dat[0:4]), month=int(dat[4:6]), day=int(dat[6:8])).date()"
   ]
  },
  {
   "cell_type": "code",
   "execution_count": 32,
   "metadata": {},
   "outputs": [
    {
     "data": {
      "text/plain": [
       "0    2015-05-26\n",
       "1    2016-12-24\n",
       "2    2016-03-09\n",
       "3    2016-11-07\n",
       "4    2017-02-05\n",
       "Name: expiration_date, dtype: object"
      ]
     },
     "execution_count": 32,
     "metadata": {},
     "output_type": "execute_result"
    }
   ],
   "source": [
    "members['expiration_date'].head()"
   ]
  },
  {
   "cell_type": "code",
   "execution_count": 33,
   "metadata": {},
   "outputs": [
    {
     "data": {
      "text/plain": [
       "count        5116194\n",
       "unique          4763\n",
       "top       2015-10-09\n",
       "freq           11550\n",
       "Name: registration_init_time, dtype: object"
      ]
     },
     "execution_count": 33,
     "metadata": {},
     "output_type": "execute_result"
    }
   ],
   "source": [
    "members['registration_init_time'].describe()"
   ]
  },
  {
   "cell_type": "code",
   "execution_count": 34,
   "metadata": {
    "scrolled": false
   },
   "outputs": [
    {
     "name": "stdout",
     "output_type": "stream",
     "text": [
      "count                                          5116194\n",
      "unique                                         5116194\n",
      "top       lLEwGD3UEH/O8YCBrUGPRQUUKVi/sCnJULwGIU49Kj4=\n",
      "freq                                                 1\n",
      "Name: msno, dtype: object\n",
      "count     5116194\n",
      "unique         21\n",
      "top             1\n",
      "freq      3541998\n",
      "Name: city, dtype: int64\n",
      "count    5.112225e+06\n",
      "mean     9.665540e+00\n",
      "std      1.500244e+01\n",
      "min      0.000000e+00\n",
      "25%      0.000000e+00\n",
      "50%      0.000000e+00\n",
      "75%      2.100000e+01\n",
      "max      1.000000e+02\n",
      "Name: bd, dtype: float64\n",
      "count     5116194\n",
      "unique          3\n",
      "top       missing\n",
      "freq      3354778\n",
      "Name: gender, dtype: object\n",
      "count     5116194\n",
      "unique          7\n",
      "top             4\n",
      "freq      2351944\n",
      "Name: registered_via, dtype: int64\n",
      "count        5116194\n",
      "unique          4763\n",
      "top       2015-10-09\n",
      "freq           11550\n",
      "Name: registration_init_time, dtype: object\n",
      "count        5116194\n",
      "unique          5604\n",
      "top       2017-09-30\n",
      "freq          137652\n",
      "Name: expiration_date, dtype: object\n"
     ]
    }
   ],
   "source": [
    "for column in members:\n",
    "    print members[column].describe()"
   ]
  },
  {
   "cell_type": "code",
   "execution_count": 35,
   "metadata": {},
   "outputs": [
    {
     "name": "stdout",
     "output_type": "stream",
     "text": [
      "<class 'pandas.core.frame.DataFrame'>\n",
      "RangeIndex: 5116194 entries, 0 to 5116193\n",
      "Data columns (total 7 columns):\n",
      "msno                      object\n",
      "city                      category\n",
      "bd                        float64\n",
      "gender                    object\n",
      "registered_via            category\n",
      "registration_init_time    object\n",
      "expiration_date           object\n",
      "dtypes: category(2), float64(1), object(4)\n",
      "memory usage: 204.9+ MB\n"
     ]
    }
   ],
   "source": [
    "members.info()"
   ]
  },
  {
   "cell_type": "markdown",
   "metadata": {},
   "source": [
    "** So... We have 7 input variables - 2 categorical (registered via, gender, and city), 4 objects, and age **"
   ]
  },
  {
   "cell_type": "code",
   "execution_count": 45,
   "metadata": {
    "collapsed": true
   },
   "outputs": [],
   "source": [
    "members.to_csv(\"members_trf_data.csv\", index=False)"
   ]
  },
  {
   "cell_type": "markdown",
   "metadata": {},
   "source": [
    "## We will now attempt to describe the transactions data..."
   ]
  },
  {
   "cell_type": "code",
   "execution_count": 44,
   "metadata": {},
   "outputs": [
    {
     "data": {
      "text/html": [
       "<div>\n",
       "<style>\n",
       "    .dataframe thead tr:only-child th {\n",
       "        text-align: right;\n",
       "    }\n",
       "\n",
       "    .dataframe thead th {\n",
       "        text-align: left;\n",
       "    }\n",
       "\n",
       "    .dataframe tbody tr th {\n",
       "        vertical-align: top;\n",
       "    }\n",
       "</style>\n",
       "<table border=\"1\" class=\"dataframe\">\n",
       "  <thead>\n",
       "    <tr style=\"text-align: right;\">\n",
       "      <th></th>\n",
       "      <th>msno</th>\n",
       "      <th>payment_method_id</th>\n",
       "      <th>payment_plan_days</th>\n",
       "      <th>plan_list_price</th>\n",
       "      <th>actual_amount_paid</th>\n",
       "      <th>is_auto_renew</th>\n",
       "      <th>transaction_date</th>\n",
       "      <th>membership_expire_date</th>\n",
       "      <th>is_cancel</th>\n",
       "    </tr>\n",
       "  </thead>\n",
       "  <tbody>\n",
       "    <tr>\n",
       "      <th>0</th>\n",
       "      <td>YyO+tlZtAXYXoZhNr3Vg3+dfVQvrBVGO8j1mfqe4ZHc=</td>\n",
       "      <td>41</td>\n",
       "      <td>30</td>\n",
       "      <td>129</td>\n",
       "      <td>129</td>\n",
       "      <td>1</td>\n",
       "      <td>20150930</td>\n",
       "      <td>20151101</td>\n",
       "      <td>0</td>\n",
       "    </tr>\n",
       "    <tr>\n",
       "      <th>1</th>\n",
       "      <td>AZtu6Wl0gPojrEQYB8Q3vBSmE2wnZ3hi1FbK1rQQ0A4=</td>\n",
       "      <td>41</td>\n",
       "      <td>30</td>\n",
       "      <td>149</td>\n",
       "      <td>149</td>\n",
       "      <td>1</td>\n",
       "      <td>20150930</td>\n",
       "      <td>20151031</td>\n",
       "      <td>0</td>\n",
       "    </tr>\n",
       "    <tr>\n",
       "      <th>2</th>\n",
       "      <td>UkDFI97Qb6+s2LWcijVVv4rMAsORbVDT2wNXF0aVbns=</td>\n",
       "      <td>41</td>\n",
       "      <td>30</td>\n",
       "      <td>129</td>\n",
       "      <td>129</td>\n",
       "      <td>1</td>\n",
       "      <td>20150930</td>\n",
       "      <td>20160427</td>\n",
       "      <td>0</td>\n",
       "    </tr>\n",
       "    <tr>\n",
       "      <th>3</th>\n",
       "      <td>M1C56ijxozNaGD0t2h68PnH2xtx5iO5iR2MVYQB6nBI=</td>\n",
       "      <td>39</td>\n",
       "      <td>30</td>\n",
       "      <td>149</td>\n",
       "      <td>149</td>\n",
       "      <td>1</td>\n",
       "      <td>20150930</td>\n",
       "      <td>20151128</td>\n",
       "      <td>0</td>\n",
       "    </tr>\n",
       "    <tr>\n",
       "      <th>4</th>\n",
       "      <td>yvj6zyBUaqdbUQSrKsrZ+xNDVM62knauSZJzakS9OW4=</td>\n",
       "      <td>39</td>\n",
       "      <td>30</td>\n",
       "      <td>149</td>\n",
       "      <td>149</td>\n",
       "      <td>1</td>\n",
       "      <td>20150930</td>\n",
       "      <td>20151121</td>\n",
       "      <td>0</td>\n",
       "    </tr>\n",
       "  </tbody>\n",
       "</table>\n",
       "</div>"
      ],
      "text/plain": [
       "                                           msno  payment_method_id  \\\n",
       "0  YyO+tlZtAXYXoZhNr3Vg3+dfVQvrBVGO8j1mfqe4ZHc=                 41   \n",
       "1  AZtu6Wl0gPojrEQYB8Q3vBSmE2wnZ3hi1FbK1rQQ0A4=                 41   \n",
       "2  UkDFI97Qb6+s2LWcijVVv4rMAsORbVDT2wNXF0aVbns=                 41   \n",
       "3  M1C56ijxozNaGD0t2h68PnH2xtx5iO5iR2MVYQB6nBI=                 39   \n",
       "4  yvj6zyBUaqdbUQSrKsrZ+xNDVM62knauSZJzakS9OW4=                 39   \n",
       "\n",
       "   payment_plan_days  plan_list_price  actual_amount_paid  is_auto_renew  \\\n",
       "0                 30              129                 129              1   \n",
       "1                 30              149                 149              1   \n",
       "2                 30              129                 129              1   \n",
       "3                 30              149                 149              1   \n",
       "4                 30              149                 149              1   \n",
       "\n",
       "   transaction_date  membership_expire_date  is_cancel  \n",
       "0          20150930                20151101          0  \n",
       "1          20150930                20151031          0  \n",
       "2          20150930                20160427          0  \n",
       "3          20150930                20151128          0  \n",
       "4          20150930                20151121          0  "
      ]
     },
     "execution_count": 44,
     "metadata": {},
     "output_type": "execute_result"
    }
   ],
   "source": [
    "import pylab\n",
    "import seaborn as sns\n",
    "\n",
    "trans = pd.read_csv(\"transactions.csv\")\n",
    "trans.head()"
   ]
  },
  {
   "cell_type": "code",
   "execution_count": 46,
   "metadata": {},
   "outputs": [
    {
     "name": "stdout",
     "output_type": "stream",
     "text": [
      "<class 'pandas.core.frame.DataFrame'>\n",
      "RangeIndex: 21547746 entries, 0 to 21547745\n",
      "Data columns (total 9 columns):\n",
      "msno                      object\n",
      "payment_method_id         int64\n",
      "payment_plan_days         int64\n",
      "plan_list_price           int64\n",
      "actual_amount_paid        int64\n",
      "is_auto_renew             int64\n",
      "transaction_date          int64\n",
      "membership_expire_date    int64\n",
      "is_cancel                 int64\n",
      "dtypes: int64(8), object(1)\n",
      "memory usage: 1.4+ GB\n"
     ]
    }
   ],
   "source": [
    "trans.info()"
   ]
  },
  {
   "cell_type": "markdown",
   "metadata": {},
   "source": [
    "** The data has 21,547,745 million rows of data and 9 columns.**\n",
    "\n",
    "- **msno:** user id\n",
    "- **payment_method_id:** payment method\n",
    "- **payment_plan_days:** length of membership plan in days\n",
    "- **plan_list_price:** in New Taiwan Dollar (NTD)\n",
    "- **actual_amount_paid:** in New Taiwan Dollar (NTD)\n",
    "- **is_auto_renew**\n",
    "- **transaction_date:** format %Y%m%d\n",
    "- **membership_expire_date:** format %Y%m%d\n",
    "- **is_cancel:** whether or not the user canceled the membership in this transaction."
   ]
  },
  {
   "cell_type": "markdown",
   "metadata": {},
   "source": [
    "**Converting Date Columns - transaction_date and membership_expire_date**"
   ]
  },
  {
   "cell_type": "code",
   "execution_count": 48,
   "metadata": {},
   "outputs": [
    {
     "ename": "KeyboardInterrupt",
     "evalue": "",
     "output_type": "error",
     "traceback": [
      "\u001b[1;31m---------------------------------------------------------------------------\u001b[0m",
      "\u001b[1;31mKeyboardInterrupt\u001b[0m                         Traceback (most recent call last)",
      "\u001b[1;32m<ipython-input-48-830f6d6d4607>\u001b[0m in \u001b[0;36m<module>\u001b[1;34m()\u001b[0m\n\u001b[0;32m      1\u001b[0m \u001b[0mtrans\u001b[0m\u001b[1;33m[\u001b[0m\u001b[1;34m'transaction_date'\u001b[0m\u001b[1;33m]\u001b[0m \u001b[1;33m=\u001b[0m \u001b[0mtrans\u001b[0m\u001b[1;33m[\u001b[0m\u001b[1;34m'transaction_date'\u001b[0m\u001b[1;33m]\u001b[0m\u001b[1;33m.\u001b[0m\u001b[0mapply\u001b[0m\u001b[1;33m(\u001b[0m\u001b[1;32mlambda\u001b[0m \u001b[0mx\u001b[0m\u001b[1;33m:\u001b[0m \u001b[0mpd\u001b[0m\u001b[1;33m.\u001b[0m\u001b[0mto_datetime\u001b[0m\u001b[1;33m(\u001b[0m\u001b[0mstr\u001b[0m\u001b[1;33m(\u001b[0m\u001b[0mx\u001b[0m\u001b[1;33m)\u001b[0m\u001b[1;33m,\u001b[0m \u001b[0mformat\u001b[0m\u001b[1;33m=\u001b[0m\u001b[1;34m'%Y%m%d'\u001b[0m\u001b[1;33m)\u001b[0m\u001b[1;33m)\u001b[0m\u001b[1;33m\u001b[0m\u001b[0m\n\u001b[1;32m----> 2\u001b[1;33m \u001b[0mtrans\u001b[0m\u001b[1;33m[\u001b[0m\u001b[1;34m'membership_expire_date'\u001b[0m\u001b[1;33m]\u001b[0m \u001b[1;33m=\u001b[0m \u001b[0mtrans\u001b[0m\u001b[1;33m[\u001b[0m\u001b[1;34m'membership_expire_date'\u001b[0m\u001b[1;33m]\u001b[0m\u001b[1;33m.\u001b[0m\u001b[0mapply\u001b[0m\u001b[1;33m(\u001b[0m\u001b[1;32mlambda\u001b[0m \u001b[0mx\u001b[0m\u001b[1;33m:\u001b[0m \u001b[0mpd\u001b[0m\u001b[1;33m.\u001b[0m\u001b[0mto_datetime\u001b[0m\u001b[1;33m(\u001b[0m\u001b[0mstr\u001b[0m\u001b[1;33m(\u001b[0m\u001b[0mx\u001b[0m\u001b[1;33m)\u001b[0m\u001b[1;33m,\u001b[0m \u001b[0mformat\u001b[0m\u001b[1;33m=\u001b[0m\u001b[1;34m'%Y%m%d'\u001b[0m\u001b[1;33m)\u001b[0m\u001b[1;33m)\u001b[0m\u001b[1;33m\u001b[0m\u001b[0m\n\u001b[0m",
      "\u001b[1;32mC:\\Users\\Laolu\\Anaconda2\\envs\\py27\\lib\\site-packages\\pandas\\core\\series.pyc\u001b[0m in \u001b[0;36mapply\u001b[1;34m(self, func, convert_dtype, args, **kwds)\u001b[0m\n\u001b[0;32m   2353\u001b[0m             \u001b[1;32melse\u001b[0m\u001b[1;33m:\u001b[0m\u001b[1;33m\u001b[0m\u001b[0m\n\u001b[0;32m   2354\u001b[0m                 \u001b[0mvalues\u001b[0m \u001b[1;33m=\u001b[0m \u001b[0mself\u001b[0m\u001b[1;33m.\u001b[0m\u001b[0masobject\u001b[0m\u001b[1;33m\u001b[0m\u001b[0m\n\u001b[1;32m-> 2355\u001b[1;33m                 \u001b[0mmapped\u001b[0m \u001b[1;33m=\u001b[0m \u001b[0mlib\u001b[0m\u001b[1;33m.\u001b[0m\u001b[0mmap_infer\u001b[0m\u001b[1;33m(\u001b[0m\u001b[0mvalues\u001b[0m\u001b[1;33m,\u001b[0m \u001b[0mf\u001b[0m\u001b[1;33m,\u001b[0m \u001b[0mconvert\u001b[0m\u001b[1;33m=\u001b[0m\u001b[0mconvert_dtype\u001b[0m\u001b[1;33m)\u001b[0m\u001b[1;33m\u001b[0m\u001b[0m\n\u001b[0m\u001b[0;32m   2356\u001b[0m \u001b[1;33m\u001b[0m\u001b[0m\n\u001b[0;32m   2357\u001b[0m         \u001b[1;32mif\u001b[0m \u001b[0mlen\u001b[0m\u001b[1;33m(\u001b[0m\u001b[0mmapped\u001b[0m\u001b[1;33m)\u001b[0m \u001b[1;32mand\u001b[0m \u001b[0misinstance\u001b[0m\u001b[1;33m(\u001b[0m\u001b[0mmapped\u001b[0m\u001b[1;33m[\u001b[0m\u001b[1;36m0\u001b[0m\u001b[1;33m]\u001b[0m\u001b[1;33m,\u001b[0m \u001b[0mSeries\u001b[0m\u001b[1;33m)\u001b[0m\u001b[1;33m:\u001b[0m\u001b[1;33m\u001b[0m\u001b[0m\n",
      "\u001b[1;32mpandas\\_libs\\src\\inference.pyx\u001b[0m in \u001b[0;36mpandas._libs.lib.map_infer (pandas\\_libs\\lib.c:66645)\u001b[1;34m()\u001b[0m\n",
      "\u001b[1;32m<ipython-input-48-830f6d6d4607>\u001b[0m in \u001b[0;36m<lambda>\u001b[1;34m(x)\u001b[0m\n\u001b[0;32m      1\u001b[0m \u001b[0mtrans\u001b[0m\u001b[1;33m[\u001b[0m\u001b[1;34m'transaction_date'\u001b[0m\u001b[1;33m]\u001b[0m \u001b[1;33m=\u001b[0m \u001b[0mtrans\u001b[0m\u001b[1;33m[\u001b[0m\u001b[1;34m'transaction_date'\u001b[0m\u001b[1;33m]\u001b[0m\u001b[1;33m.\u001b[0m\u001b[0mapply\u001b[0m\u001b[1;33m(\u001b[0m\u001b[1;32mlambda\u001b[0m \u001b[0mx\u001b[0m\u001b[1;33m:\u001b[0m \u001b[0mpd\u001b[0m\u001b[1;33m.\u001b[0m\u001b[0mto_datetime\u001b[0m\u001b[1;33m(\u001b[0m\u001b[0mstr\u001b[0m\u001b[1;33m(\u001b[0m\u001b[0mx\u001b[0m\u001b[1;33m)\u001b[0m\u001b[1;33m,\u001b[0m \u001b[0mformat\u001b[0m\u001b[1;33m=\u001b[0m\u001b[1;34m'%Y%m%d'\u001b[0m\u001b[1;33m)\u001b[0m\u001b[1;33m)\u001b[0m\u001b[1;33m\u001b[0m\u001b[0m\n\u001b[1;32m----> 2\u001b[1;33m \u001b[0mtrans\u001b[0m\u001b[1;33m[\u001b[0m\u001b[1;34m'membership_expire_date'\u001b[0m\u001b[1;33m]\u001b[0m \u001b[1;33m=\u001b[0m \u001b[0mtrans\u001b[0m\u001b[1;33m[\u001b[0m\u001b[1;34m'membership_expire_date'\u001b[0m\u001b[1;33m]\u001b[0m\u001b[1;33m.\u001b[0m\u001b[0mapply\u001b[0m\u001b[1;33m(\u001b[0m\u001b[1;32mlambda\u001b[0m \u001b[0mx\u001b[0m\u001b[1;33m:\u001b[0m \u001b[0mpd\u001b[0m\u001b[1;33m.\u001b[0m\u001b[0mto_datetime\u001b[0m\u001b[1;33m(\u001b[0m\u001b[0mstr\u001b[0m\u001b[1;33m(\u001b[0m\u001b[0mx\u001b[0m\u001b[1;33m)\u001b[0m\u001b[1;33m,\u001b[0m \u001b[0mformat\u001b[0m\u001b[1;33m=\u001b[0m\u001b[1;34m'%Y%m%d'\u001b[0m\u001b[1;33m)\u001b[0m\u001b[1;33m)\u001b[0m\u001b[1;33m\u001b[0m\u001b[0m\n\u001b[0m",
      "\u001b[1;32mC:\\Users\\Laolu\\Anaconda2\\envs\\py27\\lib\\site-packages\\pandas\\core\\tools\\datetimes.pyc\u001b[0m in \u001b[0;36mto_datetime\u001b[1;34m(arg, errors, dayfirst, yearfirst, utc, box, format, exact, unit, infer_datetime_format, origin)\u001b[0m\n\u001b[0;32m    516\u001b[0m         \u001b[0mresult\u001b[0m \u001b[1;33m=\u001b[0m \u001b[0m_convert_listlike\u001b[0m\u001b[1;33m(\u001b[0m\u001b[0marg\u001b[0m\u001b[1;33m,\u001b[0m \u001b[0mbox\u001b[0m\u001b[1;33m,\u001b[0m \u001b[0mformat\u001b[0m\u001b[1;33m)\u001b[0m\u001b[1;33m\u001b[0m\u001b[0m\n\u001b[0;32m    517\u001b[0m     \u001b[1;32melse\u001b[0m\u001b[1;33m:\u001b[0m\u001b[1;33m\u001b[0m\u001b[0m\n\u001b[1;32m--> 518\u001b[1;33m         \u001b[0mresult\u001b[0m \u001b[1;33m=\u001b[0m \u001b[0m_convert_listlike\u001b[0m\u001b[1;33m(\u001b[0m\u001b[0mnp\u001b[0m\u001b[1;33m.\u001b[0m\u001b[0marray\u001b[0m\u001b[1;33m(\u001b[0m\u001b[1;33m[\u001b[0m\u001b[0marg\u001b[0m\u001b[1;33m]\u001b[0m\u001b[1;33m)\u001b[0m\u001b[1;33m,\u001b[0m \u001b[0mbox\u001b[0m\u001b[1;33m,\u001b[0m \u001b[0mformat\u001b[0m\u001b[1;33m)\u001b[0m\u001b[1;33m[\u001b[0m\u001b[1;36m0\u001b[0m\u001b[1;33m]\u001b[0m\u001b[1;33m\u001b[0m\u001b[0m\n\u001b[0m\u001b[0;32m    519\u001b[0m \u001b[1;33m\u001b[0m\u001b[0m\n\u001b[0;32m    520\u001b[0m     \u001b[1;32mreturn\u001b[0m \u001b[0mresult\u001b[0m\u001b[1;33m\u001b[0m\u001b[0m\n",
      "\u001b[1;32mC:\\Users\\Laolu\\Anaconda2\\envs\\py27\\lib\\site-packages\\pandas\\core\\tools\\datetimes.pyc\u001b[0m in \u001b[0;36m_convert_listlike\u001b[1;34m(arg, box, format, name, tz)\u001b[0m\n\u001b[0;32m    437\u001b[0m \u001b[1;33m\u001b[0m\u001b[0m\n\u001b[0;32m    438\u001b[0m             \u001b[1;32mif\u001b[0m \u001b[0mis_datetime64_dtype\u001b[0m\u001b[1;33m(\u001b[0m\u001b[0mresult\u001b[0m\u001b[1;33m)\u001b[0m \u001b[1;32mand\u001b[0m \u001b[0mbox\u001b[0m\u001b[1;33m:\u001b[0m\u001b[1;33m\u001b[0m\u001b[0m\n\u001b[1;32m--> 439\u001b[1;33m                 \u001b[0mresult\u001b[0m \u001b[1;33m=\u001b[0m \u001b[0mDatetimeIndex\u001b[0m\u001b[1;33m(\u001b[0m\u001b[0mresult\u001b[0m\u001b[1;33m,\u001b[0m \u001b[0mtz\u001b[0m\u001b[1;33m=\u001b[0m\u001b[0mtz\u001b[0m\u001b[1;33m,\u001b[0m \u001b[0mname\u001b[0m\u001b[1;33m=\u001b[0m\u001b[0mname\u001b[0m\u001b[1;33m)\u001b[0m\u001b[1;33m\u001b[0m\u001b[0m\n\u001b[0m\u001b[0;32m    440\u001b[0m             \u001b[1;32mreturn\u001b[0m \u001b[0mresult\u001b[0m\u001b[1;33m\u001b[0m\u001b[0m\n\u001b[0;32m    441\u001b[0m \u001b[1;33m\u001b[0m\u001b[0m\n",
      "\u001b[1;32mC:\\Users\\Laolu\\Anaconda2\\envs\\py27\\lib\\site-packages\\pandas\\util\\_decorators.pyc\u001b[0m in \u001b[0;36mwrapper\u001b[1;34m(*args, **kwargs)\u001b[0m\n\u001b[0;32m     89\u001b[0m                 \u001b[1;32melse\u001b[0m\u001b[1;33m:\u001b[0m\u001b[1;33m\u001b[0m\u001b[0m\n\u001b[0;32m     90\u001b[0m                     \u001b[0mkwargs\u001b[0m\u001b[1;33m[\u001b[0m\u001b[0mnew_arg_name\u001b[0m\u001b[1;33m]\u001b[0m \u001b[1;33m=\u001b[0m \u001b[0mnew_arg_value\u001b[0m\u001b[1;33m\u001b[0m\u001b[0m\n\u001b[1;32m---> 91\u001b[1;33m             \u001b[1;32mreturn\u001b[0m \u001b[0mfunc\u001b[0m\u001b[1;33m(\u001b[0m\u001b[1;33m*\u001b[0m\u001b[0margs\u001b[0m\u001b[1;33m,\u001b[0m \u001b[1;33m**\u001b[0m\u001b[0mkwargs\u001b[0m\u001b[1;33m)\u001b[0m\u001b[1;33m\u001b[0m\u001b[0m\n\u001b[0m\u001b[0;32m     92\u001b[0m         \u001b[1;32mreturn\u001b[0m \u001b[0mwrapper\u001b[0m\u001b[1;33m\u001b[0m\u001b[0m\n\u001b[0;32m     93\u001b[0m     \u001b[1;32mreturn\u001b[0m \u001b[0m_deprecate_kwarg\u001b[0m\u001b[1;33m\u001b[0m\u001b[0m\n",
      "\u001b[1;32mC:\\Users\\Laolu\\Anaconda2\\envs\\py27\\lib\\site-packages\\pandas\\core\\indexes\\datetimes.pyc\u001b[0m in \u001b[0;36m__new__\u001b[1;34m(cls, data, freq, start, end, periods, copy, name, tz, verify_integrity, normalize, closed, ambiguous, dtype, **kwargs)\u001b[0m\n\u001b[0;32m    382\u001b[0m                 \u001b[0msubarr\u001b[0m \u001b[1;33m=\u001b[0m \u001b[0msubarr\u001b[0m\u001b[1;33m.\u001b[0m\u001b[0mview\u001b[0m\u001b[1;33m(\u001b[0m\u001b[0m_NS_DTYPE\u001b[0m\u001b[1;33m)\u001b[0m\u001b[1;33m\u001b[0m\u001b[0m\n\u001b[0;32m    383\u001b[0m \u001b[1;33m\u001b[0m\u001b[0m\n\u001b[1;32m--> 384\u001b[1;33m         \u001b[0msubarr\u001b[0m \u001b[1;33m=\u001b[0m \u001b[0mcls\u001b[0m\u001b[1;33m.\u001b[0m\u001b[0m_simple_new\u001b[0m\u001b[1;33m(\u001b[0m\u001b[0msubarr\u001b[0m\u001b[1;33m,\u001b[0m \u001b[0mname\u001b[0m\u001b[1;33m=\u001b[0m\u001b[0mname\u001b[0m\u001b[1;33m,\u001b[0m \u001b[0mfreq\u001b[0m\u001b[1;33m=\u001b[0m\u001b[0mfreq\u001b[0m\u001b[1;33m,\u001b[0m \u001b[0mtz\u001b[0m\u001b[1;33m=\u001b[0m\u001b[0mtz\u001b[0m\u001b[1;33m)\u001b[0m\u001b[1;33m\u001b[0m\u001b[0m\n\u001b[0m\u001b[0;32m    385\u001b[0m         \u001b[1;32mif\u001b[0m \u001b[0mdtype\u001b[0m \u001b[1;32mis\u001b[0m \u001b[1;32mnot\u001b[0m \u001b[0mNone\u001b[0m\u001b[1;33m:\u001b[0m\u001b[1;33m\u001b[0m\u001b[0m\n\u001b[0;32m    386\u001b[0m             \u001b[1;32mif\u001b[0m \u001b[1;32mnot\u001b[0m \u001b[0mis_dtype_equal\u001b[0m\u001b[1;33m(\u001b[0m\u001b[0msubarr\u001b[0m\u001b[1;33m.\u001b[0m\u001b[0mdtype\u001b[0m\u001b[1;33m,\u001b[0m \u001b[0mdtype\u001b[0m\u001b[1;33m)\u001b[0m\u001b[1;33m:\u001b[0m\u001b[1;33m\u001b[0m\u001b[0m\n",
      "\u001b[1;32mC:\\Users\\Laolu\\Anaconda2\\envs\\py27\\lib\\site-packages\\pandas\\core\\indexes\\datetimes.pyc\u001b[0m in \u001b[0;36m_simple_new\u001b[1;34m(cls, values, name, freq, tz, dtype, **kwargs)\u001b[0m\n\u001b[0;32m    582\u001b[0m             \u001b[0mvalues\u001b[0m \u001b[1;33m=\u001b[0m \u001b[0mnp\u001b[0m\u001b[1;33m.\u001b[0m\u001b[0marray\u001b[0m\u001b[1;33m(\u001b[0m\u001b[0mvalues\u001b[0m\u001b[1;33m,\u001b[0m \u001b[0mcopy\u001b[0m\u001b[1;33m=\u001b[0m\u001b[0mFalse\u001b[0m\u001b[1;33m)\u001b[0m\u001b[1;33m\u001b[0m\u001b[0m\n\u001b[0;32m    583\u001b[0m \u001b[1;33m\u001b[0m\u001b[0m\n\u001b[1;32m--> 584\u001b[1;33m         \u001b[1;32mif\u001b[0m \u001b[0mis_object_dtype\u001b[0m\u001b[1;33m(\u001b[0m\u001b[0mvalues\u001b[0m\u001b[1;33m)\u001b[0m\u001b[1;33m:\u001b[0m\u001b[1;33m\u001b[0m\u001b[0m\n\u001b[0m\u001b[0;32m    585\u001b[0m             return cls(values, name=name, freq=freq, tz=tz,\n\u001b[0;32m    586\u001b[0m                        dtype=dtype, **kwargs).values\n",
      "\u001b[1;32mC:\\Users\\Laolu\\Anaconda2\\envs\\py27\\lib\\site-packages\\pandas\\core\\dtypes\\common.pyc\u001b[0m in \u001b[0;36mis_object_dtype\u001b[1;34m(arr_or_dtype)\u001b[0m\n\u001b[0;32m    111\u001b[0m     \u001b[1;32mif\u001b[0m \u001b[0marr_or_dtype\u001b[0m \u001b[1;32mis\u001b[0m \u001b[0mNone\u001b[0m\u001b[1;33m:\u001b[0m\u001b[1;33m\u001b[0m\u001b[0m\n\u001b[0;32m    112\u001b[0m         \u001b[1;32mreturn\u001b[0m \u001b[0mFalse\u001b[0m\u001b[1;33m\u001b[0m\u001b[0m\n\u001b[1;32m--> 113\u001b[1;33m     \u001b[0mtipo\u001b[0m \u001b[1;33m=\u001b[0m \u001b[0m_get_dtype_type\u001b[0m\u001b[1;33m(\u001b[0m\u001b[0marr_or_dtype\u001b[0m\u001b[1;33m)\u001b[0m\u001b[1;33m\u001b[0m\u001b[0m\n\u001b[0m\u001b[0;32m    114\u001b[0m     \u001b[1;32mreturn\u001b[0m \u001b[0missubclass\u001b[0m\u001b[1;33m(\u001b[0m\u001b[0mtipo\u001b[0m\u001b[1;33m,\u001b[0m \u001b[0mnp\u001b[0m\u001b[1;33m.\u001b[0m\u001b[0mobject_\u001b[0m\u001b[1;33m)\u001b[0m\u001b[1;33m\u001b[0m\u001b[0m\n\u001b[0;32m    115\u001b[0m \u001b[1;33m\u001b[0m\u001b[0m\n",
      "\u001b[1;32mC:\\Users\\Laolu\\Anaconda2\\envs\\py27\\lib\\site-packages\\pandas\\core\\dtypes\\common.pyc\u001b[0m in \u001b[0;36m_get_dtype_type\u001b[1;34m(arr_or_dtype)\u001b[0m\n\u001b[0;32m   1740\u001b[0m     \u001b[1;32melif\u001b[0m \u001b[0misinstance\u001b[0m\u001b[1;33m(\u001b[0m\u001b[0marr_or_dtype\u001b[0m\u001b[1;33m,\u001b[0m \u001b[0mtype\u001b[0m\u001b[1;33m)\u001b[0m\u001b[1;33m:\u001b[0m\u001b[1;33m\u001b[0m\u001b[0m\n\u001b[0;32m   1741\u001b[0m         \u001b[1;32mreturn\u001b[0m \u001b[0mnp\u001b[0m\u001b[1;33m.\u001b[0m\u001b[0mdtype\u001b[0m\u001b[1;33m(\u001b[0m\u001b[0marr_or_dtype\u001b[0m\u001b[1;33m)\u001b[0m\u001b[1;33m.\u001b[0m\u001b[0mtype\u001b[0m\u001b[1;33m\u001b[0m\u001b[0m\n\u001b[1;32m-> 1742\u001b[1;33m     \u001b[1;32melif\u001b[0m \u001b[0misinstance\u001b[0m\u001b[1;33m(\u001b[0m\u001b[0marr_or_dtype\u001b[0m\u001b[1;33m,\u001b[0m \u001b[0mCategoricalDtype\u001b[0m\u001b[1;33m)\u001b[0m\u001b[1;33m:\u001b[0m\u001b[1;33m\u001b[0m\u001b[0m\n\u001b[0m\u001b[0;32m   1743\u001b[0m         \u001b[1;32mreturn\u001b[0m \u001b[0mCategoricalDtypeType\u001b[0m\u001b[1;33m\u001b[0m\u001b[0m\n\u001b[0;32m   1744\u001b[0m     \u001b[1;32melif\u001b[0m \u001b[0misinstance\u001b[0m\u001b[1;33m(\u001b[0m\u001b[0marr_or_dtype\u001b[0m\u001b[1;33m,\u001b[0m \u001b[0mDatetimeTZDtype\u001b[0m\u001b[1;33m)\u001b[0m\u001b[1;33m:\u001b[0m\u001b[1;33m\u001b[0m\u001b[0m\n",
      "\u001b[1;31mKeyboardInterrupt\u001b[0m: "
     ]
    }
   ],
   "source": [
    "trans['transaction_date'] = trans['transaction_date'].apply(lambda x: pd.to_datetime(str(x), format='%Y%m%d'))\n",
    "trans['membership_expire_date'] = trans['membership_expire_date'].apply(lambda x: pd.to_datetime(str(x), format='%Y%m%d'))"
   ]
  },
  {
   "cell_type": "markdown",
   "metadata": {},
   "source": [
    "**Testing for NULL values**"
   ]
  },
  {
   "cell_type": "code",
   "execution_count": 49,
   "metadata": {},
   "outputs": [
    {
     "data": {
      "text/plain": [
       "msno                      0\n",
       "payment_method_id         0\n",
       "payment_plan_days         0\n",
       "plan_list_price           0\n",
       "actual_amount_paid        0\n",
       "is_auto_renew             0\n",
       "transaction_date          0\n",
       "membership_expire_date    0\n",
       "is_cancel                 0\n",
       "dtype: int64"
      ]
     },
     "execution_count": 49,
     "metadata": {},
     "output_type": "execute_result"
    }
   ],
   "source": [
    "trans.isnull().sum()"
   ]
  },
  {
   "cell_type": "code",
   "execution_count": 50,
   "metadata": {},
   "outputs": [
    {
     "data": {
      "text/plain": [
       "2363626"
      ]
     },
     "execution_count": 50,
     "metadata": {},
     "output_type": "execute_result"
    }
   ],
   "source": [
    "len(trans['msno'].unique())"
   ]
  },
  {
   "cell_type": "code",
   "execution_count": 51,
   "metadata": {},
   "outputs": [
    {
     "name": "stdout",
     "output_type": "stream",
     "text": [
      "[41 39 21 37 40 34 33 31 23 38 19 24 14 36 27 35 30 29 28 22 26 32 25 20 17\n",
      "  5 18 11  7 13 12 16 10 15  8  6  3  2  4  1]\n",
      "('The number of unique ids used are:', 40)\n"
     ]
    }
   ],
   "source": [
    "#Checking the unique payment method ids\n",
    "\n",
    "print(trans['payment_method_id'].unique())\n",
    "print(\"The number of unique ids used are:\", trans['payment_method_id'].nunique())"
   ]
  },
  {
   "cell_type": "code",
   "execution_count": 52,
   "metadata": {},
   "outputs": [
    {
     "data": {
      "text/plain": [
       "payment_method_id\n",
       "1           12\n",
       "4           15\n",
       "2           52\n",
       "3          210\n",
       "6          466\n",
       "5          474\n",
       "8          657\n",
       "7         1094\n",
       "10        1326\n",
       "15        1479\n",
       "11        2129\n",
       "12        3834\n",
       "26        4591\n",
       "13        6571\n",
       "17        7437\n",
       "16       11064\n",
       "14       13621\n",
       "25       13780\n",
       "18       16177\n",
       "24       16196\n",
       "22       20130\n",
       "21       22883\n",
       "20       28278\n",
       "19       32073\n",
       "23       42386\n",
       "27       62525\n",
       "28       95733\n",
       "29      113885\n",
       "32      146481\n",
       "30      160957\n",
       "31      252342\n",
       "33      411164\n",
       "35      541399\n",
       "34      731539\n",
       "36      855115\n",
       "37     1007689\n",
       "39     1466655\n",
       "38     1703590\n",
       "40     2225283\n",
       "41    11526454\n",
       "dtype: int64"
      ]
     },
     "execution_count": 52,
     "metadata": {},
     "output_type": "execute_result"
    }
   ],
   "source": [
    "#Popularity of payment_methods among transactions\n",
    "\n",
    "paymentmethod = trans.groupby('payment_method_id').size()\n",
    "paymentmethod.sort_values()"
   ]
  },
  {
   "cell_type": "markdown",
   "metadata": {},
   "source": [
    "**The users are grouped by the number of transactions in the data**"
   ]
  },
  {
   "cell_type": "code",
   "execution_count": 53,
   "metadata": {},
   "outputs": [
    {
     "name": "stdout",
     "output_type": "stream",
     "text": [
      "('The users with multiple transactions: ', 1771525)\n",
      "('The users with one transaction: ', 592101)\n"
     ]
    }
   ],
   "source": [
    "users_by_trans = trans.groupby(['msno']).size()\n",
    "print(\"The users with multiple transactions: \",sum(users_by_trans.values > 1))\n",
    "print(\"The users with one transaction: \",sum(users_by_trans.values == 1))"
   ]
  },
  {
   "cell_type": "markdown",
   "metadata": {},
   "source": [
    "*** Variable: Payment_plan_days ***"
   ]
  },
  {
   "cell_type": "code",
   "execution_count": 54,
   "metadata": {},
   "outputs": [
    {
     "name": "stdout",
     "output_type": "stream",
     "text": [
      "[ 30   0  10  31   7 410 195 100 395   1 180 120  60 400  14 360 200  35\n",
      "  90  21 240 450  70  80  45 110 365  66 270  99   2 230   3  15 425 415\n",
      "  95]\n",
      "[0 1]\n",
      "[ 129  149    0   99  100  119  150 1788  180  894   50  120  500 1599  536\n",
      "  799  480  477  596 1200  300  930  699  450   35  447  105  298  134 1000\n",
      "  350  124  400    1  131  126   10 1150   70 1520  265  143 2000  800   15\n",
      "   30  210  760  600 1825   44]\n",
      "[1 0]\n"
     ]
    }
   ],
   "source": [
    "print trans['payment_plan_days'].unique()\n",
    "print trans['is_cancel'].unique()\n",
    "print trans['plan_list_price'].unique()\n",
    "print trans['is_auto_renew'].unique()"
   ]
  },
  {
   "cell_type": "code",
   "execution_count": 55,
   "metadata": {},
   "outputs": [
    {
     "name": "stdout",
     "output_type": "stream",
     "text": [
      "<class 'pandas.core.frame.DataFrame'>\n",
      "RangeIndex: 21547746 entries, 0 to 21547745\n",
      "Data columns (total 9 columns):\n",
      "msno                      object\n",
      "payment_method_id         category\n",
      "payment_plan_days         int64\n",
      "plan_list_price           int64\n",
      "actual_amount_paid        int64\n",
      "is_auto_renew             category\n",
      "transaction_date          datetime64[ns]\n",
      "membership_expire_date    int64\n",
      "is_cancel                 category\n",
      "dtypes: category(3), datetime64[ns](1), int64(4), object(1)\n",
      "memory usage: 1.0+ GB\n"
     ]
    }
   ],
   "source": [
    "#Converting to categorical data\n",
    "\n",
    "trans['payment_method_id'] = trans['payment_method_id'].astype('category')\n",
    "trans['is_auto_renew'] = trans['is_auto_renew'].astype('category')\n",
    "trans['is_cancel'] = trans['is_cancel'].astype('category')\n",
    "trans.info()"
   ]
  },
  {
   "cell_type": "markdown",
   "metadata": {},
   "source": [
    "## Data Exploration and Visualisation"
   ]
  },
  {
   "cell_type": "code",
   "execution_count": 56,
   "metadata": {},
   "outputs": [
    {
     "data": {
      "image/png": "[encoded data removed]",
      "text/plain": [
       "<matplotlib.figure.Figure at 0x392a4fd0>"
      ]
     },
     "metadata": {},
     "output_type": "display_data"
    }
   ],
   "source": [
    "#Popularity of Payment method among users\n",
    "#This shows us the payment method used by most users within the transactions dataset\n",
    "paymentmethod = trans.groupby('payment_method_id')['msno'].nunique()\n",
    "x = paymentmethod.keys()\n",
    "y = paymentmethod\n",
    "plt.bar(x,y,0.8)\n",
    "#plt.ylim([0,12000000])\n",
    "plt.title('Most Popular Payment Method among Users')\n",
    "plt.xlabel('Payment_Method_Ids')\n",
    "plt.ylabel('Count of Users')\n",
    "plt.show()"
   ]
  },
  {
   "cell_type": "markdown",
   "metadata": {},
   "source": [
    "##### INSIGHTS: <br>The most popular method of payment among users is 'payment_method_id' = 41"
   ]
  },
  {
   "cell_type": "code",
   "execution_count": 57,
   "metadata": {},
   "outputs": [
    {
     "data": {
      "image/png": "[encoded data removed]",
      "text/plain": [
       "<matplotlib.figure.Figure at 0x3936e5c0>"
      ]
     },
     "metadata": {},
     "output_type": "display_data"
    }
   ],
   "source": [
    "#Univariate Analysis of Membership Plan\n",
    "paymentplan = trans.groupby('payment_plan_days').size()\n",
    "x = paymentplan.keys()\n",
    "y = paymentplan\n",
    "plt.scatter(x,y)\n",
    "plt.xticks(np.arange(0, 500, 50))\n",
    "plt.title('Univariate Analysis of Payment Plans')\n",
    "plt.xlabel('Payment Plans')\n",
    "plt.ylabel('Count')\n",
    "plt.show()"
   ]
  },
  {
   "cell_type": "markdown",
   "metadata": {},
   "source": [
    "##### INSIGHTS: <br>Most transactions have been performed for Payment Plan of 30 days.<br>                                                                                                                                          There are transactions with Payment Plan of 0 days. This data needs to be analysed further.<br>                                                                                                The largest plan is for about 450 days i.e for 15 months"
   ]
  },
  {
   "cell_type": "code",
   "execution_count": 58,
   "metadata": {
    "collapsed": true
   },
   "outputs": [],
   "source": [
    "#Number of Transactions on Auto_Renewal\n",
    "\n",
    "auto_renewal = trans.groupby('is_auto_renew').size()"
   ]
  },
  {
   "cell_type": "code",
   "execution_count": 59,
   "metadata": {},
   "outputs": [
    {
     "data": {
      "image/png": "[encoded data removed]",
      "text/plain": [
       "<matplotlib.figure.Figure at 0x4730efd0>"
      ]
     },
     "metadata": {},
     "output_type": "display_data"
    }
   ],
   "source": [
    "x = (0,1)\n",
    "y = auto_renewal\n",
    "plt.bar(x,y,0.8)\n",
    "plt.xticks([0,1])\n",
    "plt.title('Transactions under Auto Renewal')\n",
    "plt.xlabel('Auto Renewal (0/1)')\n",
    "plt.ylabel('Number of Transactions')\n",
    "plt.bar(x[0],y[0], color = 'red') #making non auto-renewals => RED\n",
    "plt.bar(x[1],y[1], color = 'blue') #making auto-renewals => BLUE\n",
    "plt.show()"
   ]
  },
  {
   "cell_type": "markdown",
   "metadata": {},
   "source": [
    "##### INSIGHTS:<br> The bulk of transactions are auto-renewals."
   ]
  },
  {
   "cell_type": "code",
   "execution_count": 60,
   "metadata": {
    "collapsed": true
   },
   "outputs": [],
   "source": [
    "#Number of Transaction that are Cancelled\n",
    "cancelled = trans.groupby('is_cancel').size()"
   ]
  },
  {
   "cell_type": "code",
   "execution_count": 61,
   "metadata": {},
   "outputs": [
    {
     "data": {
      "image/png": "[encoded data removed]",
      "text/plain": [
       "<matplotlib.figure.Figure at 0xe42543c8>"
      ]
     },
     "metadata": {},
     "output_type": "display_data"
    }
   ],
   "source": [
    "x = cancelled.keys()\n",
    "y = cancelled\n",
    "plt.bar(x,y,0.8)\n",
    "plt.xticks([0,1])\n",
    "plt.title('Transactions - Cancelled')\n",
    "plt.xlabel('Cancelled (0/1)')\n",
    "plt.ylabel('Number of Transactions')\n",
    "plt.bar(x[0],y[0], color = 'green') #cancellation - no => GREEN\n",
    "plt.bar(x[1],y[1], color = 'yellow') #cancellation - yes => YELLOW\n",
    "plt.show()"
   ]
  },
  {
   "cell_type": "code",
   "execution_count": 62,
   "metadata": {
    "collapsed": true
   },
   "outputs": [],
   "source": [
    "#Checking for trends across the dates\n",
    "\n",
    "trans_dates = trans['transaction_date'].value_counts()"
   ]
  },
  {
   "cell_type": "code",
   "execution_count": 63,
   "metadata": {},
   "outputs": [
    {
     "data": {
      "image/png": "[encoded data removed]",
      "text/plain": [
       "<matplotlib.figure.Figure at 0x471eb3c8>"
      ]
     },
     "metadata": {},
     "output_type": "display_data"
    }
   ],
   "source": [
    "trans_dates.plot(kind =\"line\",figsize=(15,8))\n",
    "plt.title(\"Trend over Time - Transaction Dates\")\n",
    "plt.xlabel(\"Transaction Dates\")\n",
    "plt.ylabel(\"No Of Transactions\")\n",
    "plt.show()"
   ]
  },
  {
   "cell_type": "code",
   "execution_count": 64,
   "metadata": {},
   "outputs": [
    {
     "data": {
      "image/png": "[encoded data removed]",
      "text/plain": [
       "<matplotlib.figure.Figure at 0xe4cbed68>"
      ]
     },
     "metadata": {},
     "output_type": "display_data"
    }
   ],
   "source": [
    "#Looking at Expiration Dates\n",
    "expire_dates = trans['membership_expire_date'].value_counts()\n",
    "expire_dates.plot(kind = \"line\",figsize=(15,8))\n",
    "plt.title(\"Trend over Time - Membership Expire Dates\")\n",
    "plt.xlabel(\"Membership Expire Dates\")\n",
    "plt.ylabel(\"No Of Transactions\")\n",
    "plt.show()"
   ]
  },
  {
   "cell_type": "markdown",
   "metadata": {},
   "source": [
    "##### INSIGHTS: From here it is seen that the data starts from 1972, but there is no useful information here."
   ]
  },
  {
   "cell_type": "code",
   "execution_count": 65,
   "metadata": {},
   "outputs": [
    {
     "ename": "TypeError",
     "evalue": "cannot do slice indexing on <class 'pandas.core.indexes.numeric.Int64Index'> with these indexers [2015-01-01] of <type 'str'>",
     "output_type": "error",
     "traceback": [
      "\u001b[1;31m---------------------------------------------------------------------------\u001b[0m",
      "\u001b[1;31mTypeError\u001b[0m                                 Traceback (most recent call last)",
      "\u001b[1;32m<ipython-input-65-fa5112e0adfd>\u001b[0m in \u001b[0;36m<module>\u001b[1;34m()\u001b[0m\n\u001b[0;32m      2\u001b[0m \u001b[0mtrans_dates\u001b[0m \u001b[1;33m=\u001b[0m \u001b[0mtrans\u001b[0m\u001b[1;33m[\u001b[0m\u001b[1;34m'transaction_date'\u001b[0m\u001b[1;33m]\u001b[0m\u001b[1;33m.\u001b[0m\u001b[0mvalue_counts\u001b[0m\u001b[1;33m(\u001b[0m\u001b[1;33m)\u001b[0m\u001b[1;33m\u001b[0m\u001b[0m\n\u001b[0;32m      3\u001b[0m \u001b[0mexpire_dates\u001b[0m \u001b[1;33m=\u001b[0m \u001b[0mtrans\u001b[0m\u001b[1;33m[\u001b[0m\u001b[1;34m'membership_expire_date'\u001b[0m\u001b[1;33m]\u001b[0m\u001b[1;33m.\u001b[0m\u001b[0mvalue_counts\u001b[0m\u001b[1;33m(\u001b[0m\u001b[1;33m)\u001b[0m\u001b[1;33m\u001b[0m\u001b[0m\n\u001b[1;32m----> 4\u001b[1;33m \u001b[0mexpire_dates_n\u001b[0m \u001b[1;33m=\u001b[0m \u001b[0mexpire_dates\u001b[0m\u001b[1;33m[\u001b[0m\u001b[1;34m'2015-01-01'\u001b[0m\u001b[1;33m:\u001b[0m\u001b[1;34m'2017-02-28'\u001b[0m\u001b[1;33m]\u001b[0m \u001b[1;31m#Retaining only dates from 2015-2017\u001b[0m\u001b[1;33m\u001b[0m\u001b[0m\n\u001b[0m\u001b[0;32m      5\u001b[0m \u001b[0mtrans_dates\u001b[0m\u001b[1;33m.\u001b[0m\u001b[0mplot\u001b[0m\u001b[1;33m(\u001b[0m\u001b[0mkind\u001b[0m \u001b[1;33m=\u001b[0m\u001b[1;34m\"line\"\u001b[0m\u001b[1;33m,\u001b[0m\u001b[0mfigsize\u001b[0m\u001b[1;33m=\u001b[0m\u001b[1;33m(\u001b[0m\u001b[1;36m15\u001b[0m\u001b[1;33m,\u001b[0m\u001b[1;36m8\u001b[0m\u001b[1;33m)\u001b[0m\u001b[1;33m)\u001b[0m\u001b[1;33m\u001b[0m\u001b[0m\n\u001b[0;32m      6\u001b[0m \u001b[0mexpire_dates_n\u001b[0m\u001b[1;33m.\u001b[0m\u001b[0mplot\u001b[0m\u001b[1;33m(\u001b[0m\u001b[0mkind\u001b[0m \u001b[1;33m=\u001b[0m \u001b[1;34m\"line\"\u001b[0m\u001b[1;33m,\u001b[0m\u001b[0mfigsize\u001b[0m\u001b[1;33m=\u001b[0m\u001b[1;33m(\u001b[0m\u001b[1;36m15\u001b[0m\u001b[1;33m,\u001b[0m\u001b[1;36m8\u001b[0m\u001b[1;33m)\u001b[0m\u001b[1;33m)\u001b[0m\u001b[1;33m\u001b[0m\u001b[0m\n",
      "\u001b[1;32mC:\\Users\\Laolu\\Anaconda2\\envs\\py27\\lib\\site-packages\\pandas\\core\\series.pyc\u001b[0m in \u001b[0;36m__getitem__\u001b[1;34m(self, key)\u001b[0m\n\u001b[0;32m    640\u001b[0m             \u001b[0mkey\u001b[0m \u001b[1;33m=\u001b[0m \u001b[0mcheck_bool_indexer\u001b[0m\u001b[1;33m(\u001b[0m\u001b[0mself\u001b[0m\u001b[1;33m.\u001b[0m\u001b[0mindex\u001b[0m\u001b[1;33m,\u001b[0m \u001b[0mkey\u001b[0m\u001b[1;33m)\u001b[0m\u001b[1;33m\u001b[0m\u001b[0m\n\u001b[0;32m    641\u001b[0m \u001b[1;33m\u001b[0m\u001b[0m\n\u001b[1;32m--> 642\u001b[1;33m         \u001b[1;32mreturn\u001b[0m \u001b[0mself\u001b[0m\u001b[1;33m.\u001b[0m\u001b[0m_get_with\u001b[0m\u001b[1;33m(\u001b[0m\u001b[0mkey\u001b[0m\u001b[1;33m)\u001b[0m\u001b[1;33m\u001b[0m\u001b[0m\n\u001b[0m\u001b[0;32m    643\u001b[0m \u001b[1;33m\u001b[0m\u001b[0m\n\u001b[0;32m    644\u001b[0m     \u001b[1;32mdef\u001b[0m \u001b[0m_get_with\u001b[0m\u001b[1;33m(\u001b[0m\u001b[0mself\u001b[0m\u001b[1;33m,\u001b[0m \u001b[0mkey\u001b[0m\u001b[1;33m)\u001b[0m\u001b[1;33m:\u001b[0m\u001b[1;33m\u001b[0m\u001b[0m\n",
      "\u001b[1;32mC:\\Users\\Laolu\\Anaconda2\\envs\\py27\\lib\\site-packages\\pandas\\core\\series.pyc\u001b[0m in \u001b[0;36m_get_with\u001b[1;34m(self, key)\u001b[0m\n\u001b[0;32m    645\u001b[0m         \u001b[1;31m# other: fancy integer or otherwise\u001b[0m\u001b[1;33m\u001b[0m\u001b[1;33m\u001b[0m\u001b[0m\n\u001b[0;32m    646\u001b[0m         \u001b[1;32mif\u001b[0m \u001b[0misinstance\u001b[0m\u001b[1;33m(\u001b[0m\u001b[0mkey\u001b[0m\u001b[1;33m,\u001b[0m \u001b[0mslice\u001b[0m\u001b[1;33m)\u001b[0m\u001b[1;33m:\u001b[0m\u001b[1;33m\u001b[0m\u001b[0m\n\u001b[1;32m--> 647\u001b[1;33m             \u001b[0mindexer\u001b[0m \u001b[1;33m=\u001b[0m \u001b[0mself\u001b[0m\u001b[1;33m.\u001b[0m\u001b[0mindex\u001b[0m\u001b[1;33m.\u001b[0m\u001b[0m_convert_slice_indexer\u001b[0m\u001b[1;33m(\u001b[0m\u001b[0mkey\u001b[0m\u001b[1;33m,\u001b[0m \u001b[0mkind\u001b[0m\u001b[1;33m=\u001b[0m\u001b[1;34m'getitem'\u001b[0m\u001b[1;33m)\u001b[0m\u001b[1;33m\u001b[0m\u001b[0m\n\u001b[0m\u001b[0;32m    648\u001b[0m             \u001b[1;32mreturn\u001b[0m \u001b[0mself\u001b[0m\u001b[1;33m.\u001b[0m\u001b[0m_get_values\u001b[0m\u001b[1;33m(\u001b[0m\u001b[0mindexer\u001b[0m\u001b[1;33m)\u001b[0m\u001b[1;33m\u001b[0m\u001b[0m\n\u001b[0;32m    649\u001b[0m         \u001b[1;32melif\u001b[0m \u001b[0misinstance\u001b[0m\u001b[1;33m(\u001b[0m\u001b[0mkey\u001b[0m\u001b[1;33m,\u001b[0m \u001b[0mABCDataFrame\u001b[0m\u001b[1;33m)\u001b[0m\u001b[1;33m:\u001b[0m\u001b[1;33m\u001b[0m\u001b[0m\n",
      "\u001b[1;32mC:\\Users\\Laolu\\Anaconda2\\envs\\py27\\lib\\site-packages\\pandas\\core\\indexes\\base.pyc\u001b[0m in \u001b[0;36m_convert_slice_indexer\u001b[1;34m(self, key, kind)\u001b[0m\n\u001b[0;32m   1380\u001b[0m             \"\"\"\n\u001b[0;32m   1381\u001b[0m             \u001b[1;32mif\u001b[0m \u001b[0mself\u001b[0m\u001b[1;33m.\u001b[0m\u001b[0mis_integer\u001b[0m\u001b[1;33m(\u001b[0m\u001b[1;33m)\u001b[0m \u001b[1;32mor\u001b[0m \u001b[0mis_index_slice\u001b[0m\u001b[1;33m:\u001b[0m\u001b[1;33m\u001b[0m\u001b[0m\n\u001b[1;32m-> 1382\u001b[1;33m                 return slice(self._validate_indexer('slice', key.start, kind),\n\u001b[0m\u001b[0;32m   1383\u001b[0m                              \u001b[0mself\u001b[0m\u001b[1;33m.\u001b[0m\u001b[0m_validate_indexer\u001b[0m\u001b[1;33m(\u001b[0m\u001b[1;34m'slice'\u001b[0m\u001b[1;33m,\u001b[0m \u001b[0mkey\u001b[0m\u001b[1;33m.\u001b[0m\u001b[0mstop\u001b[0m\u001b[1;33m,\u001b[0m \u001b[0mkind\u001b[0m\u001b[1;33m)\u001b[0m\u001b[1;33m,\u001b[0m\u001b[1;33m\u001b[0m\u001b[0m\n\u001b[0;32m   1384\u001b[0m                              self._validate_indexer('slice', key.step, kind))\n",
      "\u001b[1;32mC:\\Users\\Laolu\\Anaconda2\\envs\\py27\\lib\\site-packages\\pandas\\core\\indexes\\base.pyc\u001b[0m in \u001b[0;36m_validate_indexer\u001b[1;34m(self, form, key, kind)\u001b[0m\n\u001b[0;32m   3386\u001b[0m             \u001b[1;32mpass\u001b[0m\u001b[1;33m\u001b[0m\u001b[0m\n\u001b[0;32m   3387\u001b[0m         \u001b[1;32melif\u001b[0m \u001b[0mkind\u001b[0m \u001b[1;32min\u001b[0m \u001b[1;33m[\u001b[0m\u001b[1;34m'iloc'\u001b[0m\u001b[1;33m,\u001b[0m \u001b[1;34m'getitem'\u001b[0m\u001b[1;33m]\u001b[0m\u001b[1;33m:\u001b[0m\u001b[1;33m\u001b[0m\u001b[0m\n\u001b[1;32m-> 3388\u001b[1;33m             \u001b[0mself\u001b[0m\u001b[1;33m.\u001b[0m\u001b[0m_invalid_indexer\u001b[0m\u001b[1;33m(\u001b[0m\u001b[0mform\u001b[0m\u001b[1;33m,\u001b[0m \u001b[0mkey\u001b[0m\u001b[1;33m)\u001b[0m\u001b[1;33m\u001b[0m\u001b[0m\n\u001b[0m\u001b[0;32m   3389\u001b[0m         \u001b[1;32mreturn\u001b[0m \u001b[0mkey\u001b[0m\u001b[1;33m\u001b[0m\u001b[0m\n\u001b[0;32m   3390\u001b[0m \u001b[1;33m\u001b[0m\u001b[0m\n",
      "\u001b[1;32mC:\\Users\\Laolu\\Anaconda2\\envs\\py27\\lib\\site-packages\\pandas\\core\\indexes\\base.pyc\u001b[0m in \u001b[0;36m_invalid_indexer\u001b[1;34m(self, form, key)\u001b[0m\n\u001b[0;32m   1517\u001b[0m                         \"indexers [{key}] of {kind}\".format(\n\u001b[0;32m   1518\u001b[0m                             \u001b[0mform\u001b[0m\u001b[1;33m=\u001b[0m\u001b[0mform\u001b[0m\u001b[1;33m,\u001b[0m \u001b[0mklass\u001b[0m\u001b[1;33m=\u001b[0m\u001b[0mtype\u001b[0m\u001b[1;33m(\u001b[0m\u001b[0mself\u001b[0m\u001b[1;33m)\u001b[0m\u001b[1;33m,\u001b[0m \u001b[0mkey\u001b[0m\u001b[1;33m=\u001b[0m\u001b[0mkey\u001b[0m\u001b[1;33m,\u001b[0m\u001b[1;33m\u001b[0m\u001b[0m\n\u001b[1;32m-> 1519\u001b[1;33m                             kind=type(key)))\n\u001b[0m\u001b[0;32m   1520\u001b[0m \u001b[1;33m\u001b[0m\u001b[0m\n\u001b[0;32m   1521\u001b[0m     \u001b[1;32mdef\u001b[0m \u001b[0mget_duplicates\u001b[0m\u001b[1;33m(\u001b[0m\u001b[0mself\u001b[0m\u001b[1;33m)\u001b[0m\u001b[1;33m:\u001b[0m\u001b[1;33m\u001b[0m\u001b[0m\n",
      "\u001b[1;31mTypeError\u001b[0m: cannot do slice indexing on <class 'pandas.core.indexes.numeric.Int64Index'> with these indexers [2015-01-01] of <type 'str'>"
     ]
    }
   ],
   "source": [
    "#Comparing Transaction Dates and Membership Expiration Dates\n",
    "trans_dates = trans['transaction_date'].value_counts()\n",
    "expire_dates = trans['membership_expire_date'].value_counts()\n",
    "expire_dates_n = expire_dates['2015-01-01':'2017-02-28'] #Retaining only dates from 2015-2017\n",
    "trans_dates.plot(kind =\"line\",figsize=(15,8))\n",
    "expire_dates_n.plot(kind = \"line\",figsize=(15,8))\n",
    "plt.title(\"Trend for Transaction Date and Membership Expiration Dates\")\n",
    "plt.xlabel(\"Dates\")\n",
    "plt.ylabel(\"No Of Transactions\")\n",
    "plt.show()"
   ]
  },
  {
   "cell_type": "code",
   "execution_count": 66,
   "metadata": {
    "collapsed": true
   },
   "outputs": [],
   "source": [
    "#Since this data was mess to read, we drilled down further by months\n",
    "#Counting the number of transactions by month\n",
    "\n",
    "trans.index = trans['transaction_date']\n",
    "trans_month = trans.resample('M').count()"
   ]
  },
  {
   "cell_type": "code",
   "execution_count": 67,
   "metadata": {},
   "outputs": [
    {
     "data": {
      "image/png": "[encoded data removed]",
      "text/plain": [
       "<matplotlib.figure.Figure at 0x228965400>"
      ]
     },
     "metadata": {},
     "output_type": "display_data"
    }
   ],
   "source": [
    "trans_month['msno'].plot(kind = \"line\",figsize=(10,5))\n",
    "plt.title(\"Drilldown by Month-Year\")\n",
    "plt.xlabel(\"Month-Year\")\n",
    "plt.ylabel(\"No of Transactions\")\n",
    "plt.show()"
   ]
  }
 ],
 "metadata": {
  "kernelspec": {
   "display_name": "Python 2",
   "language": "python",
   "name": "python2"
  },
  "language_info": {
   "codemirror_mode": {
    "name": "ipython",
    "version": 2
   },
   "file_extension": ".py",
   "mimetype": "text/x-python",
   "name": "python",
   "nbconvert_exporter": "python",
   "pygments_lexer": "ipython2",
   "version": "2.7.13"
  }
 },
 "nbformat": 4,
 "nbformat_minor": 2
}
