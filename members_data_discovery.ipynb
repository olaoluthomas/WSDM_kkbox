{
 "cells": [
  {
   "cell_type": "markdown",
   "metadata": {},
   "source": [
    "# Data Preprocessing and Descriptive Analytics of KKBox Dataset\n",
    "\n",
    "*** This is a Kaggle competition and our goal is to accurately predict customer churn***\n",
    "\n",
    "[WSDM KKBox's Churn Prediction Challenge](https://www.kaggle.com/c/kkbox-churn-prediction-challenge)\n",
    "\n",
    "## The Business Problem\n",
    "\n",
    "KKBox is the leader in music streaming in Asia whose business model is based on paid user accounts and advertising revenue. As a result, the client (KKBox) would like a predictive model for customer churn built.\n",
    "\n",
    "We will present assumptions about the data & model as we preprocess and explore..."
   ]
  },
  {
   "cell_type": "code",
   "execution_count": 1,
   "metadata": {
    "collapsed": true
   },
   "outputs": [],
   "source": [
    "# Importing pandas et al is a given for data scientists working with flat files\n",
    "\n",
    "import pandas as pd\n",
    "import numpy as np\n",
    "import matplotlib.pyplot as plt\n",
    "%matplotlib inline"
   ]
  },
  {
   "cell_type": "code",
   "execution_count": 2,
   "metadata": {},
   "outputs": [
    {
     "data": {
      "text/html": [
       "<div>\n",
       "<style>\n",
       "    .dataframe thead tr:only-child th {\n",
       "        text-align: right;\n",
       "    }\n",
       "\n",
       "    .dataframe thead th {\n",
       "        text-align: left;\n",
       "    }\n",
       "\n",
       "    .dataframe tbody tr th {\n",
       "        vertical-align: top;\n",
       "    }\n",
       "</style>\n",
       "<table border=\"1\" class=\"dataframe\">\n",
       "  <thead>\n",
       "    <tr style=\"text-align: right;\">\n",
       "      <th></th>\n",
       "      <th>msno</th>\n",
       "      <th>city</th>\n",
       "      <th>bd</th>\n",
       "      <th>gender</th>\n",
       "      <th>registered_via</th>\n",
       "      <th>registration_init_time</th>\n",
       "      <th>expiration_date</th>\n",
       "    </tr>\n",
       "  </thead>\n",
       "  <tbody>\n",
       "    <tr>\n",
       "      <th>0</th>\n",
       "      <td>URiXrfYPzHAlk+7+n7BOMl9G+T7g8JmrSnT/BU8GmEo=</td>\n",
       "      <td>1</td>\n",
       "      <td>0</td>\n",
       "      <td>NaN</td>\n",
       "      <td>9</td>\n",
       "      <td>20150525</td>\n",
       "      <td>20150526</td>\n",
       "    </tr>\n",
       "    <tr>\n",
       "      <th>1</th>\n",
       "      <td>U1q0qCqK/lDMTD2kN8G9OXMtfuvLCey20OAIPOvXXGQ=</td>\n",
       "      <td>1</td>\n",
       "      <td>0</td>\n",
       "      <td>NaN</td>\n",
       "      <td>4</td>\n",
       "      <td>20161221</td>\n",
       "      <td>20161224</td>\n",
       "    </tr>\n",
       "    <tr>\n",
       "      <th>2</th>\n",
       "      <td>W6M2H2kAoN9ahfDYKo3J6tmsJRAeuFc9wl1cau5VL1Q=</td>\n",
       "      <td>1</td>\n",
       "      <td>0</td>\n",
       "      <td>NaN</td>\n",
       "      <td>4</td>\n",
       "      <td>20160306</td>\n",
       "      <td>20160309</td>\n",
       "    </tr>\n",
       "    <tr>\n",
       "      <th>3</th>\n",
       "      <td>1qE5+cN7CUyC+KFH6gBZzMWmM1QpIVW6A43BEm98I/w=</td>\n",
       "      <td>5</td>\n",
       "      <td>17</td>\n",
       "      <td>female</td>\n",
       "      <td>4</td>\n",
       "      <td>20161031</td>\n",
       "      <td>20161107</td>\n",
       "    </tr>\n",
       "    <tr>\n",
       "      <th>4</th>\n",
       "      <td>SeAnaZPI+tFdAt+r3lZt/B8PgTp7bcG/1os39u4pLxs=</td>\n",
       "      <td>1</td>\n",
       "      <td>0</td>\n",
       "      <td>NaN</td>\n",
       "      <td>4</td>\n",
       "      <td>20170202</td>\n",
       "      <td>20170205</td>\n",
       "    </tr>\n",
       "  </tbody>\n",
       "</table>\n",
       "</div>"
      ],
      "text/plain": [
       "                                           msno  city  bd  gender  \\\n",
       "0  URiXrfYPzHAlk+7+n7BOMl9G+T7g8JmrSnT/BU8GmEo=     1   0     NaN   \n",
       "1  U1q0qCqK/lDMTD2kN8G9OXMtfuvLCey20OAIPOvXXGQ=     1   0     NaN   \n",
       "2  W6M2H2kAoN9ahfDYKo3J6tmsJRAeuFc9wl1cau5VL1Q=     1   0     NaN   \n",
       "3  1qE5+cN7CUyC+KFH6gBZzMWmM1QpIVW6A43BEm98I/w=     5  17  female   \n",
       "4  SeAnaZPI+tFdAt+r3lZt/B8PgTp7bcG/1os39u4pLxs=     1   0     NaN   \n",
       "\n",
       "   registered_via  registration_init_time  expiration_date  \n",
       "0               9                20150525         20150526  \n",
       "1               4                20161221         20161224  \n",
       "2               4                20160306         20160309  \n",
       "3               4                20161031         20161107  \n",
       "4               4                20170202         20170205  "
      ]
     },
     "execution_count": 2,
     "metadata": {},
     "output_type": "execute_result"
    }
   ],
   "source": [
    "# As the name implies, this csv holds subscriber information\n",
    "\n",
    "members = pd.read_csv('members.csv')\n",
    "members.head()"
   ]
  },
  {
   "cell_type": "code",
   "execution_count": 3,
   "metadata": {},
   "outputs": [
    {
     "name": "stdout",
     "output_type": "stream",
     "text": [
      "<class 'pandas.core.frame.DataFrame'>\n",
      "RangeIndex: 5116194 entries, 0 to 5116193\n",
      "Data columns (total 7 columns):\n",
      "msno                      object\n",
      "city                      int64\n",
      "bd                        int64\n",
      "gender                    object\n",
      "registered_via            int64\n",
      "registration_init_time    int64\n",
      "expiration_date           int64\n",
      "dtypes: int64(5), object(2)\n",
      "memory usage: 273.2+ MB\n"
     ]
    }
   ],
   "source": [
    "members.info()"
   ]
  },
  {
   "cell_type": "code",
   "execution_count": 4,
   "metadata": {},
   "outputs": [
    {
     "data": {
      "text/html": [
       "<div>\n",
       "<style>\n",
       "    .dataframe thead tr:only-child th {\n",
       "        text-align: right;\n",
       "    }\n",
       "\n",
       "    .dataframe thead th {\n",
       "        text-align: left;\n",
       "    }\n",
       "\n",
       "    .dataframe tbody tr th {\n",
       "        vertical-align: top;\n",
       "    }\n",
       "</style>\n",
       "<table border=\"1\" class=\"dataframe\">\n",
       "  <thead>\n",
       "    <tr style=\"text-align: right;\">\n",
       "      <th></th>\n",
       "      <th>msno</th>\n",
       "      <th>city</th>\n",
       "      <th>bd</th>\n",
       "      <th>gender</th>\n",
       "      <th>registered_via</th>\n",
       "      <th>registration_init_time</th>\n",
       "      <th>expiration_date</th>\n",
       "    </tr>\n",
       "  </thead>\n",
       "  <tbody>\n",
       "    <tr>\n",
       "      <th>5116189</th>\n",
       "      <td>caZsJUDhjfJZaAJGsGAK/PN+NpG3Dipey6mGOiZ+fmg=</td>\n",
       "      <td>4</td>\n",
       "      <td>17</td>\n",
       "      <td>female</td>\n",
       "      <td>3</td>\n",
       "      <td>20150527</td>\n",
       "      <td>20150603</td>\n",
       "    </tr>\n",
       "    <tr>\n",
       "      <th>5116190</th>\n",
       "      <td>F10Hn+qIV08k7nd7i2jdGEEduTMJQjIAgF03dI5t65k=</td>\n",
       "      <td>1</td>\n",
       "      <td>0</td>\n",
       "      <td>NaN</td>\n",
       "      <td>7</td>\n",
       "      <td>20161129</td>\n",
       "      <td>20170930</td>\n",
       "    </tr>\n",
       "    <tr>\n",
       "      <th>5116191</th>\n",
       "      <td>nufMrGILJC0l8UwsEegBJeB4Hr6+WJDuWrfLaipSMDA=</td>\n",
       "      <td>15</td>\n",
       "      <td>26</td>\n",
       "      <td>female</td>\n",
       "      <td>9</td>\n",
       "      <td>20130918</td>\n",
       "      <td>20180123</td>\n",
       "    </tr>\n",
       "    <tr>\n",
       "      <th>5116192</th>\n",
       "      <td>dw4PyMqv9x+nWlV+D9JWmMlZExnjnkidxBDmUErGsrA=</td>\n",
       "      <td>1</td>\n",
       "      <td>0</td>\n",
       "      <td>NaN</td>\n",
       "      <td>7</td>\n",
       "      <td>20130421</td>\n",
       "      <td>20150407</td>\n",
       "    </tr>\n",
       "    <tr>\n",
       "      <th>5116193</th>\n",
       "      <td>VJmQvIH9x9SHfo//AMHJaY1MSQw9FVy4Vhjxxk30pCM=</td>\n",
       "      <td>1</td>\n",
       "      <td>0</td>\n",
       "      <td>NaN</td>\n",
       "      <td>7</td>\n",
       "      <td>20110305</td>\n",
       "      <td>20170908</td>\n",
       "    </tr>\n",
       "  </tbody>\n",
       "</table>\n",
       "</div>"
      ],
      "text/plain": [
       "                                                 msno  city  bd  gender  \\\n",
       "5116189  caZsJUDhjfJZaAJGsGAK/PN+NpG3Dipey6mGOiZ+fmg=     4  17  female   \n",
       "5116190  F10Hn+qIV08k7nd7i2jdGEEduTMJQjIAgF03dI5t65k=     1   0     NaN   \n",
       "5116191  nufMrGILJC0l8UwsEegBJeB4Hr6+WJDuWrfLaipSMDA=    15  26  female   \n",
       "5116192  dw4PyMqv9x+nWlV+D9JWmMlZExnjnkidxBDmUErGsrA=     1   0     NaN   \n",
       "5116193  VJmQvIH9x9SHfo//AMHJaY1MSQw9FVy4Vhjxxk30pCM=     1   0     NaN   \n",
       "\n",
       "         registered_via  registration_init_time  expiration_date  \n",
       "5116189               3                20150527         20150603  \n",
       "5116190               7                20161129         20170930  \n",
       "5116191               9                20130918         20180123  \n",
       "5116192               7                20130421         20150407  \n",
       "5116193               7                20110305         20170908  "
      ]
     },
     "execution_count": 4,
     "metadata": {},
     "output_type": "execute_result"
    }
   ],
   "source": [
    "members.tail()"
   ]
  },
  {
   "cell_type": "code",
   "execution_count": 5,
   "metadata": {},
   "outputs": [
    {
     "data": {
      "text/html": [
       "<div>\n",
       "<style>\n",
       "    .dataframe thead tr:only-child th {\n",
       "        text-align: right;\n",
       "    }\n",
       "\n",
       "    .dataframe thead th {\n",
       "        text-align: left;\n",
       "    }\n",
       "\n",
       "    .dataframe tbody tr th {\n",
       "        vertical-align: top;\n",
       "    }\n",
       "</style>\n",
       "<table border=\"1\" class=\"dataframe\">\n",
       "  <thead>\n",
       "    <tr style=\"text-align: right;\">\n",
       "      <th></th>\n",
       "      <th>city</th>\n",
       "      <th>bd</th>\n",
       "      <th>registered_via</th>\n",
       "      <th>registration_init_time</th>\n",
       "      <th>expiration_date</th>\n",
       "    </tr>\n",
       "  </thead>\n",
       "  <tbody>\n",
       "    <tr>\n",
       "      <th>count</th>\n",
       "      <td>5.116194e+06</td>\n",
       "      <td>5.116194e+06</td>\n",
       "      <td>5.116194e+06</td>\n",
       "      <td>5.116194e+06</td>\n",
       "      <td>5.116194e+06</td>\n",
       "    </tr>\n",
       "    <tr>\n",
       "      <th>mean</th>\n",
       "      <td>4.019725e+00</td>\n",
       "      <td>9.772362e+00</td>\n",
       "      <td>5.248127e+00</td>\n",
       "      <td>2.014631e+07</td>\n",
       "      <td>2.015981e+07</td>\n",
       "    </tr>\n",
       "    <tr>\n",
       "      <th>std</th>\n",
       "      <td>5.590289e+00</td>\n",
       "      <td>1.795875e+01</td>\n",
       "      <td>2.260226e+00</td>\n",
       "      <td>2.308540e+04</td>\n",
       "      <td>1.254307e+04</td>\n",
       "    </tr>\n",
       "    <tr>\n",
       "      <th>min</th>\n",
       "      <td>1.000000e+00</td>\n",
       "      <td>-6.998000e+03</td>\n",
       "      <td>3.000000e+00</td>\n",
       "      <td>2.004033e+07</td>\n",
       "      <td>1.970010e+07</td>\n",
       "    </tr>\n",
       "    <tr>\n",
       "      <th>25%</th>\n",
       "      <td>1.000000e+00</td>\n",
       "      <td>0.000000e+00</td>\n",
       "      <td>4.000000e+00</td>\n",
       "      <td>2.014103e+07</td>\n",
       "      <td>2.015111e+07</td>\n",
       "    </tr>\n",
       "    <tr>\n",
       "      <th>50%</th>\n",
       "      <td>1.000000e+00</td>\n",
       "      <td>0.000000e+00</td>\n",
       "      <td>4.000000e+00</td>\n",
       "      <td>2.015111e+07</td>\n",
       "      <td>2.016070e+07</td>\n",
       "    </tr>\n",
       "    <tr>\n",
       "      <th>75%</th>\n",
       "      <td>5.000000e+00</td>\n",
       "      <td>2.100000e+01</td>\n",
       "      <td>7.000000e+00</td>\n",
       "      <td>2.016061e+07</td>\n",
       "      <td>2.017061e+07</td>\n",
       "    </tr>\n",
       "    <tr>\n",
       "      <th>max</th>\n",
       "      <td>2.200000e+01</td>\n",
       "      <td>2.015000e+03</td>\n",
       "      <td>1.600000e+01</td>\n",
       "      <td>2.017071e+07</td>\n",
       "      <td>2.100010e+07</td>\n",
       "    </tr>\n",
       "  </tbody>\n",
       "</table>\n",
       "</div>"
      ],
      "text/plain": [
       "               city            bd  registered_via  registration_init_time  \\\n",
       "count  5.116194e+06  5.116194e+06    5.116194e+06            5.116194e+06   \n",
       "mean   4.019725e+00  9.772362e+00    5.248127e+00            2.014631e+07   \n",
       "std    5.590289e+00  1.795875e+01    2.260226e+00            2.308540e+04   \n",
       "min    1.000000e+00 -6.998000e+03    3.000000e+00            2.004033e+07   \n",
       "25%    1.000000e+00  0.000000e+00    4.000000e+00            2.014103e+07   \n",
       "50%    1.000000e+00  0.000000e+00    4.000000e+00            2.015111e+07   \n",
       "75%    5.000000e+00  2.100000e+01    7.000000e+00            2.016061e+07   \n",
       "max    2.200000e+01  2.015000e+03    1.600000e+01            2.017071e+07   \n",
       "\n",
       "       expiration_date  \n",
       "count     5.116194e+06  \n",
       "mean      2.015981e+07  \n",
       "std       1.254307e+04  \n",
       "min       1.970010e+07  \n",
       "25%       2.015111e+07  \n",
       "50%       2.016070e+07  \n",
       "75%       2.017061e+07  \n",
       "max       2.100010e+07  "
      ]
     },
     "execution_count": 5,
     "metadata": {},
     "output_type": "execute_result"
    }
   ],
   "source": [
    "members.describe()"
   ]
  },
  {
   "cell_type": "code",
   "execution_count": 6,
   "metadata": {},
   "outputs": [
    {
     "data": {
      "text/plain": [
       "dtype('O')"
      ]
     },
     "execution_count": 6,
     "metadata": {},
     "output_type": "execute_result"
    }
   ],
   "source": [
    "members['gender'].dtype"
   ]
  },
  {
   "cell_type": "code",
   "execution_count": 7,
   "metadata": {},
   "outputs": [
    {
     "data": {
      "text/plain": [
       "msno                      False\n",
       "city                      False\n",
       "bd                        False\n",
       "gender                     True\n",
       "registered_via            False\n",
       "registration_init_time    False\n",
       "expiration_date           False\n",
       "dtype: bool"
      ]
     },
     "execution_count": 7,
     "metadata": {},
     "output_type": "execute_result"
    }
   ],
   "source": [
    "# Trying to locate missing values in our dataframe...\n",
    "\n",
    "members.isnull().any()"
   ]
  },
  {
   "cell_type": "code",
   "execution_count": 8,
   "metadata": {},
   "outputs": [
    {
     "data": {
      "text/plain": [
       "count     1761416\n",
       "unique          2\n",
       "top          male\n",
       "freq       902851\n",
       "Name: gender, dtype: object"
      ]
     },
     "execution_count": 8,
     "metadata": {},
     "output_type": "execute_result"
    }
   ],
   "source": [
    "members['gender'].describe()"
   ]
  },
  {
   "cell_type": "code",
   "execution_count": 9,
   "metadata": {
    "collapsed": true
   },
   "outputs": [],
   "source": [
    "# we will replace null values with a new category we will call \"missing\"\n",
    "\n",
    "members['gender'] = members['gender'].fillna('missing')"
   ]
  },
  {
   "cell_type": "code",
   "execution_count": 10,
   "metadata": {},
   "outputs": [
    {
     "data": {
      "text/plain": [
       "count     5116194\n",
       "unique          3\n",
       "top       missing\n",
       "freq      3354778\n",
       "Name: gender, dtype: object"
      ]
     },
     "execution_count": 10,
     "metadata": {},
     "output_type": "execute_result"
    }
   ],
   "source": [
    "members['gender'].describe()"
   ]
  },
  {
   "cell_type": "code",
   "execution_count": 11,
   "metadata": {},
   "outputs": [
    {
     "data": {
      "text/plain": [
       "array(['missing', 'female', 'male'], dtype=object)"
      ]
     },
     "execution_count": 11,
     "metadata": {},
     "output_type": "execute_result"
    }
   ],
   "source": [
    "members['gender'].unique()"
   ]
  },
  {
   "cell_type": "code",
   "execution_count": 12,
   "metadata": {},
   "outputs": [
    {
     "name": "stdout",
     "output_type": "stream",
     "text": [
      "msno\n",
      "['URiXrfYPzHAlk+7+n7BOMl9G+T7g8JmrSnT/BU8GmEo='\n",
      " 'U1q0qCqK/lDMTD2kN8G9OXMtfuvLCey20OAIPOvXXGQ='\n",
      " 'W6M2H2kAoN9ahfDYKo3J6tmsJRAeuFc9wl1cau5VL1Q=' ...,\n",
      " 'nufMrGILJC0l8UwsEegBJeB4Hr6+WJDuWrfLaipSMDA='\n",
      " 'dw4PyMqv9x+nWlV+D9JWmMlZExnjnkidxBDmUErGsrA='\n",
      " 'VJmQvIH9x9SHfo//AMHJaY1MSQw9FVy4Vhjxxk30pCM=']\n",
      "city\n",
      "[ 1  5  6 22 13  4 12 15 17 14 11 10  3  9  8 21 18  7 19 20 16]\n",
      "bd\n",
      "[    0    17    40    24    56    22    32    19   117    42    25    29\n",
      "    28    43    41    47    18    20    36    21    50    39    38    26\n",
      "    27    53    23    16    34    37    48    30    45    52    46    57\n",
      "    44    33    35    31    58    54    49    55    15    14    79    67\n",
      "    66    62    51    96    92    61    59    65    81    69    60    63\n",
      "    64   104   106    97    72    73    84    75   112    94    91    68\n",
      "   -36    74   102     3    95    12    70   105    76    71   111    80\n",
      "    78    85  1032    13     2   100     9    90    77     6   103    86\n",
      "     1     5    87   101   139   -51   107    93  1042   115  1062     7\n",
      "    88     4   -44   924   -50    11  1039    98   584   122   923    82\n",
      "   110    99    10   -48   109     8    89   948   108  1017   919    83\n",
      "   118  1029  1009  1033   935   221   -49   649  1035   -46   951   116\n",
      "   822   -39  1053  1038   939   -42   689   143  1025   -43   126 -2828\n",
      "  2010  1021   -45  1064  1041   121   961   -47   -41  1028   938   137\n",
      "   936   -52   141   -32   113   519   826  2011   944    -9   793   160\n",
      "   934  1047   942   824  1051   928   462   131   933  1030   932  1008\n",
      " -3152    -8   943   926   922   573   239  1031   906  1037   945   931\n",
      "  2014  1040  1026   -37  1011   959   806   132  1819  1501   819  1050\n",
      "  1421   941   -30   -40   837   155   -23   950   930  1937   124   -38\n",
      "   151   144 -5978   323 -6998   357   332   953   130  1970   321   -34\n",
      "   114   123  1036   964   150   230  1045   127  1043   153  1949   228\n",
      "   133   128   339  1034   -24   -35   197   320   148   778  1018   119\n",
      "   129   138 -6445   265 -1970   319   386   353   947   120  1052  1309\n",
      "  1212   827  -974   231   994  -178   925   940   929   955   244   220\n",
      "   -22   946    -7   167   920  1967  1946  1821  -951   140  -963  1049\n",
      "   163  1111  2009   328 -6807   821  1058   -33  1089  1056   125   743\n",
      "  1820  1954  1958  1048   237   810   -19   -12  1013   786    -6  2015\n",
      "   -14   -10]\n",
      "gender\n",
      "['missing' 'female' 'male']\n",
      "registered_via\n",
      "[ 9  4  3  7 13 16 10]\n",
      "registration_init_time\n",
      "[20150525 20161221 20160306 ..., 20170415 20040613 20170514]\n",
      "expiration_date\n",
      "[20150526 20161224 20160309 ..., 20191026 20050303 20200913]\n"
     ]
    }
   ],
   "source": [
    "# let's find out what unique values our other variables hold...\n",
    "\n",
    "for column in members:\n",
    "    print column\n",
    "    print members[column].unique()"
   ]
  },
  {
   "cell_type": "markdown",
   "metadata": {},
   "source": [
    "**The bd column is a placeholder for subscriber age whose entries range from -6998 to 2015**\n",
    "\n",
    "*What assumptions can we make about this variable?*\n",
    "\n",
    "- It is possible this field is stored in a Unix-like database that holds dates as either positive or negative offsets of 1970\n",
    "- The values could also be user entry errors\n",
    "\n",
    "As KKBox only accepts registrants from within Asia, we had someone from Hong Kong sign up and we got these screenshots:\n",
    "\n",
    "<table><tr><td><img src=\"correct.jpg\" style=\"width: 250px;\"></td><td><img src=\"wrong1.jpg\" style=\"width: 250px;\"></td><td><img src=\"wrong2.jpg\" style=\"width: 250px;\"></td></tr></table>\n",
    "\n",
    "## Clearly, KKbox has data validation issues they need to attend to...\n",
    "\n",
    "### We will assume any age lower than 0 and higher than 100 is invalid.\n",
    "\n",
    "In this age where 3-year olds have their own smart devices, we will assume parents can sign their kids (aged  0 - 15) up for the service."
   ]
  },
  {
   "cell_type": "code",
   "execution_count": 45,
   "metadata": {},
   "outputs": [
    {
     "name": "stdout",
     "output_type": "stream",
     "text": [
      "1690537\n",
      "5116194\n"
     ]
    },
    {
     "data": {
      "text/plain": [
       "33"
      ]
     },
     "execution_count": 45,
     "metadata": {},
     "output_type": "execute_result"
    }
   ],
   "source": [
    "print members['bd'][(members['bd'] > 0) & (members['bd'] < 100)].count()\n",
    "print len(members['bd'])\n",
    "(members['bd'][(members['bd'] > 0) & (members['bd'] < 100)].count())*100/len(members['bd'])"
   ]
  },
  {
   "cell_type": "markdown",
   "metadata": {},
   "source": [
    "**So 33% of the values under the bd variable were imputed correctly?**"
   ]
  },
  {
   "cell_type": "code",
   "execution_count": 17,
   "metadata": {},
   "outputs": [
    {
     "name": "stdout",
     "output_type": "stream",
     "text": [
      "178\n"
     ]
    },
    {
     "data": {
      "text/plain": [
       "0.0034791487578461643"
      ]
     },
     "execution_count": 17,
     "metadata": {},
     "output_type": "execute_result"
    }
   ],
   "source": [
    "print members['bd'][members['bd'] < 0].count()\n",
    "float(members['bd'][members['bd'] < 0].count()*100)/len(members['bd'])"
   ]
  },
  {
   "cell_type": "markdown",
   "metadata": {},
   "source": [
    "** Less than 0.005% of the age variable are negative.**"
   ]
  },
  {
   "cell_type": "code",
   "execution_count": 16,
   "metadata": {},
   "outputs": [
    {
     "name": "stdout",
     "output_type": "stream",
     "text": [
      "3791\n"
     ]
    },
    {
     "data": {
      "text/plain": [
       "0.07409805023030792"
      ]
     },
     "execution_count": 16,
     "metadata": {},
     "output_type": "execute_result"
    }
   ],
   "source": [
    "print members['bd'][members['bd'] > 100].count()\n",
    "float(members['bd'][members['bd'] > 100].count()*100)/len(members['bd'])"
   ]
  },
  {
   "cell_type": "markdown",
   "metadata": {},
   "source": [
    "**0.075% of the bd column are above 100.**"
   ]
  },
  {
   "cell_type": "code",
   "execution_count": 46,
   "metadata": {},
   "outputs": [
    {
     "data": {
      "text/plain": [
       "count    5.112225e+06\n",
       "mean     9.665540e+00\n",
       "std      1.500244e+01\n",
       "min      0.000000e+00\n",
       "25%      0.000000e+00\n",
       "50%      0.000000e+00\n",
       "75%      2.100000e+01\n",
       "max      1.000000e+02\n",
       "Name: bd, dtype: float64"
      ]
     },
     "execution_count": 46,
     "metadata": {},
     "output_type": "execute_result"
    }
   ],
   "source": [
    "# If greater than 100 or negative, we will assign as invalid \n",
    "\n",
    "members.loc[members['bd'] < 0, 'bd'] = np.nan\n",
    "members.loc[members['bd'] > 100, 'bd'] = np.nan\n",
    "\n",
    "members['bd'].describe()"
   ]
  },
  {
   "cell_type": "code",
   "execution_count": 54,
   "metadata": {},
   "outputs": [
    {
     "data": {
      "text/plain": [
       "array([   0.,    1.,    2.,    3.,    4.,    5.,    6.,    7.,    8.,\n",
       "          9.,   10.,   11.,   12.,   13.,   14.,   15.,   16.,   17.,\n",
       "         18.,   19.,   20.,   21.,   22.,   23.,   24.,   25.,   26.,\n",
       "         27.,   28.,   29.,   30.,   31.,   32.,   33.,   34.,   35.,\n",
       "         36.,   37.,   38.,   39.,   40.,   41.,   42.,   43.,   44.,\n",
       "         45.,   46.,   47.,   48.,   49.,   50.,   51.,   52.,   53.,\n",
       "         54.,   55.,   56.,   57.,   58.,   59.,   60.,   61.,   62.,\n",
       "         63.,   64.,   65.,   66.,   67.,   68.,   69.,   70.,   71.,\n",
       "         72.,   73.,   74.,   75.,   76.,   77.,   78.,   79.,   80.,\n",
       "         81.,   82.,   83.,   84.,   85.,   86.,   87.,   88.,   89.,\n",
       "         90.,   91.,   92.,   93.,   94.,   95.,   96.,   97.,   98.,\n",
       "         99.,  100.,   nan])"
      ]
     },
     "execution_count": 54,
     "metadata": {},
     "output_type": "execute_result"
    }
   ],
   "source": [
    "np.sort(members['bd'].unique())"
   ]
  },
  {
   "cell_type": "code",
   "execution_count": 60,
   "metadata": {},
   "outputs": [
    {
     "ename": "ValueError",
     "evalue": "max must be larger than min in range parameter.",
     "output_type": "error",
     "traceback": [
      "\u001b[1;31m---------------------------------------------------------------------------\u001b[0m",
      "\u001b[1;31mValueError\u001b[0m                                Traceback (most recent call last)",
      "\u001b[1;32m<ipython-input-60-00f2900258f5>\u001b[0m in \u001b[0;36m<module>\u001b[1;34m()\u001b[0m\n\u001b[0;32m      3\u001b[0m \u001b[0max\u001b[0m\u001b[1;33m.\u001b[0m\u001b[0mset_ylabel\u001b[0m\u001b[1;33m(\u001b[0m\u001b[1;34m\"Frequency\"\u001b[0m\u001b[1;33m)\u001b[0m\u001b[1;33m\u001b[0m\u001b[0m\n\u001b[0;32m      4\u001b[0m \u001b[0max\u001b[0m\u001b[1;33m.\u001b[0m\u001b[0mset_xlabel\u001b[0m\u001b[1;33m(\u001b[0m\u001b[1;34m\"Age\"\u001b[0m\u001b[1;33m)\u001b[0m\u001b[1;33m\u001b[0m\u001b[0m\n\u001b[1;32m----> 5\u001b[1;33m \u001b[0mplt\u001b[0m\u001b[1;33m.\u001b[0m\u001b[0mhist\u001b[0m\u001b[1;33m(\u001b[0m\u001b[0mmembers\u001b[0m\u001b[1;33m[\u001b[0m\u001b[1;34m'bd'\u001b[0m\u001b[1;33m]\u001b[0m\u001b[1;33m)\u001b[0m\u001b[1;33m\u001b[0m\u001b[0m\n\u001b[0m\u001b[0;32m      6\u001b[0m \u001b[0mplt\u001b[0m\u001b[1;33m.\u001b[0m\u001b[0mshow\u001b[0m\u001b[1;33m(\u001b[0m\u001b[1;33m)\u001b[0m\u001b[1;33m\u001b[0m\u001b[0m\n",
      "\u001b[1;32mC:\\Users\\Laolu\\Anaconda2\\envs\\py27\\lib\\site-packages\\matplotlib\\pyplot.pyc\u001b[0m in \u001b[0;36mhist\u001b[1;34m(x, bins, range, normed, weights, cumulative, bottom, histtype, align, orientation, rwidth, log, color, label, stacked, hold, data, **kwargs)\u001b[0m\n\u001b[0;32m   3079\u001b[0m                       \u001b[0mhisttype\u001b[0m\u001b[1;33m=\u001b[0m\u001b[0mhisttype\u001b[0m\u001b[1;33m,\u001b[0m \u001b[0malign\u001b[0m\u001b[1;33m=\u001b[0m\u001b[0malign\u001b[0m\u001b[1;33m,\u001b[0m \u001b[0morientation\u001b[0m\u001b[1;33m=\u001b[0m\u001b[0morientation\u001b[0m\u001b[1;33m,\u001b[0m\u001b[1;33m\u001b[0m\u001b[0m\n\u001b[0;32m   3080\u001b[0m                       \u001b[0mrwidth\u001b[0m\u001b[1;33m=\u001b[0m\u001b[0mrwidth\u001b[0m\u001b[1;33m,\u001b[0m \u001b[0mlog\u001b[0m\u001b[1;33m=\u001b[0m\u001b[0mlog\u001b[0m\u001b[1;33m,\u001b[0m \u001b[0mcolor\u001b[0m\u001b[1;33m=\u001b[0m\u001b[0mcolor\u001b[0m\u001b[1;33m,\u001b[0m \u001b[0mlabel\u001b[0m\u001b[1;33m=\u001b[0m\u001b[0mlabel\u001b[0m\u001b[1;33m,\u001b[0m\u001b[1;33m\u001b[0m\u001b[0m\n\u001b[1;32m-> 3081\u001b[1;33m                       stacked=stacked, data=data, **kwargs)\n\u001b[0m\u001b[0;32m   3082\u001b[0m     \u001b[1;32mfinally\u001b[0m\u001b[1;33m:\u001b[0m\u001b[1;33m\u001b[0m\u001b[0m\n\u001b[0;32m   3083\u001b[0m         \u001b[0max\u001b[0m\u001b[1;33m.\u001b[0m\u001b[0m_hold\u001b[0m \u001b[1;33m=\u001b[0m \u001b[0mwashold\u001b[0m\u001b[1;33m\u001b[0m\u001b[0m\n",
      "\u001b[1;32mC:\\Users\\Laolu\\Anaconda2\\envs\\py27\\lib\\site-packages\\matplotlib\\__init__.pyc\u001b[0m in \u001b[0;36minner\u001b[1;34m(ax, *args, **kwargs)\u001b[0m\n\u001b[0;32m   1895\u001b[0m                     warnings.warn(msg % (label_namer, func.__name__),\n\u001b[0;32m   1896\u001b[0m                                   RuntimeWarning, stacklevel=2)\n\u001b[1;32m-> 1897\u001b[1;33m             \u001b[1;32mreturn\u001b[0m \u001b[0mfunc\u001b[0m\u001b[1;33m(\u001b[0m\u001b[0max\u001b[0m\u001b[1;33m,\u001b[0m \u001b[1;33m*\u001b[0m\u001b[0margs\u001b[0m\u001b[1;33m,\u001b[0m \u001b[1;33m**\u001b[0m\u001b[0mkwargs\u001b[0m\u001b[1;33m)\u001b[0m\u001b[1;33m\u001b[0m\u001b[0m\n\u001b[0m\u001b[0;32m   1898\u001b[0m         \u001b[0mpre_doc\u001b[0m \u001b[1;33m=\u001b[0m \u001b[0minner\u001b[0m\u001b[1;33m.\u001b[0m\u001b[0m__doc__\u001b[0m\u001b[1;33m\u001b[0m\u001b[0m\n\u001b[0;32m   1899\u001b[0m         \u001b[1;32mif\u001b[0m \u001b[0mpre_doc\u001b[0m \u001b[1;32mis\u001b[0m \u001b[0mNone\u001b[0m\u001b[1;33m:\u001b[0m\u001b[1;33m\u001b[0m\u001b[0m\n",
      "\u001b[1;32mC:\\Users\\Laolu\\Anaconda2\\envs\\py27\\lib\\site-packages\\matplotlib\\axes\\_axes.pyc\u001b[0m in \u001b[0;36mhist\u001b[1;34m(***failed resolving arguments***)\u001b[0m\n\u001b[0;32m   6193\u001b[0m             \u001b[1;31m# this will automatically overwrite bins,\u001b[0m\u001b[1;33m\u001b[0m\u001b[1;33m\u001b[0m\u001b[0m\n\u001b[0;32m   6194\u001b[0m             \u001b[1;31m# so that each histogram uses the same bins\u001b[0m\u001b[1;33m\u001b[0m\u001b[1;33m\u001b[0m\u001b[0m\n\u001b[1;32m-> 6195\u001b[1;33m             \u001b[0mm\u001b[0m\u001b[1;33m,\u001b[0m \u001b[0mbins\u001b[0m \u001b[1;33m=\u001b[0m \u001b[0mnp\u001b[0m\u001b[1;33m.\u001b[0m\u001b[0mhistogram\u001b[0m\u001b[1;33m(\u001b[0m\u001b[0mx\u001b[0m\u001b[1;33m[\u001b[0m\u001b[0mi\u001b[0m\u001b[1;33m]\u001b[0m\u001b[1;33m,\u001b[0m \u001b[0mbins\u001b[0m\u001b[1;33m,\u001b[0m \u001b[0mweights\u001b[0m\u001b[1;33m=\u001b[0m\u001b[0mw\u001b[0m\u001b[1;33m[\u001b[0m\u001b[0mi\u001b[0m\u001b[1;33m]\u001b[0m\u001b[1;33m,\u001b[0m \u001b[1;33m**\u001b[0m\u001b[0mhist_kwargs\u001b[0m\u001b[1;33m)\u001b[0m\u001b[1;33m\u001b[0m\u001b[0m\n\u001b[0m\u001b[0;32m   6196\u001b[0m             \u001b[0mm\u001b[0m \u001b[1;33m=\u001b[0m \u001b[0mm\u001b[0m\u001b[1;33m.\u001b[0m\u001b[0mastype\u001b[0m\u001b[1;33m(\u001b[0m\u001b[0mfloat\u001b[0m\u001b[1;33m)\u001b[0m  \u001b[1;31m# causes problems later if it's an int\u001b[0m\u001b[1;33m\u001b[0m\u001b[0m\n\u001b[0;32m   6197\u001b[0m             \u001b[1;32mif\u001b[0m \u001b[0mmlast\u001b[0m \u001b[1;32mis\u001b[0m \u001b[0mNone\u001b[0m\u001b[1;33m:\u001b[0m\u001b[1;33m\u001b[0m\u001b[0m\n",
      "\u001b[1;32mC:\\Users\\Laolu\\Anaconda2\\envs\\py27\\lib\\site-packages\\numpy\\lib\\function_base.pyc\u001b[0m in \u001b[0;36mhistogram\u001b[1;34m(a, bins, range, normed, weights, density)\u001b[0m\n\u001b[0;32m    664\u001b[0m     \u001b[1;32mif\u001b[0m \u001b[0mmn\u001b[0m \u001b[1;33m>\u001b[0m \u001b[0mmx\u001b[0m\u001b[1;33m:\u001b[0m\u001b[1;33m\u001b[0m\u001b[0m\n\u001b[0;32m    665\u001b[0m         raise ValueError(\n\u001b[1;32m--> 666\u001b[1;33m             'max must be larger than min in range parameter.')\n\u001b[0m\u001b[0;32m    667\u001b[0m     \u001b[1;32mif\u001b[0m \u001b[1;32mnot\u001b[0m \u001b[0mnp\u001b[0m\u001b[1;33m.\u001b[0m\u001b[0mall\u001b[0m\u001b[1;33m(\u001b[0m\u001b[0mnp\u001b[0m\u001b[1;33m.\u001b[0m\u001b[0misfinite\u001b[0m\u001b[1;33m(\u001b[0m\u001b[1;33m[\u001b[0m\u001b[0mmn\u001b[0m\u001b[1;33m,\u001b[0m \u001b[0mmx\u001b[0m\u001b[1;33m]\u001b[0m\u001b[1;33m)\u001b[0m\u001b[1;33m)\u001b[0m\u001b[1;33m:\u001b[0m\u001b[1;33m\u001b[0m\u001b[0m\n\u001b[0;32m    668\u001b[0m         raise ValueError(\n",
      "\u001b[1;31mValueError\u001b[0m: max must be larger than min in range parameter."
     ]
    },
    {
     "data": {
      "image/png": "[encoded data removed]",
      "text/plain": [
       "<matplotlib.figure.Figure at 0x27b94be0>"
      ]
     },
     "metadata": {},
     "output_type": "display_data"
    }
   ],
   "source": [
    "# fig, ax = plt.subplots(figsize=[8,6])\n",
    "ax.set_title(\"Distribution of age\")\n",
    "ax.set_ylabel(\"Frequency\")\n",
    "ax.set_xlabel(\"Age\")\n",
    "plt.hist(members['bd'])\n",
    "plt.show()"
   ]
  },
  {
   "cell_type": "code",
   "execution_count": 14,
   "metadata": {
    "scrolled": true
   },
   "outputs": [
    {
     "data": {
      "text/html": [
       "<div>\n",
       "<style>\n",
       "    .dataframe thead tr:only-child th {\n",
       "        text-align: right;\n",
       "    }\n",
       "\n",
       "    .dataframe thead th {\n",
       "        text-align: left;\n",
       "    }\n",
       "\n",
       "    .dataframe tbody tr th {\n",
       "        vertical-align: top;\n",
       "    }\n",
       "</style>\n",
       "<table border=\"1\" class=\"dataframe\">\n",
       "  <thead>\n",
       "    <tr style=\"text-align: right;\">\n",
       "      <th></th>\n",
       "      <th>expiration_date</th>\n",
       "    </tr>\n",
       "  </thead>\n",
       "  <tbody>\n",
       "    <tr>\n",
       "      <th>0</th>\n",
       "      <td>20150526</td>\n",
       "    </tr>\n",
       "    <tr>\n",
       "      <th>1</th>\n",
       "      <td>20161224</td>\n",
       "    </tr>\n",
       "    <tr>\n",
       "      <th>2</th>\n",
       "      <td>20160309</td>\n",
       "    </tr>\n",
       "    <tr>\n",
       "      <th>3</th>\n",
       "      <td>20161107</td>\n",
       "    </tr>\n",
       "    <tr>\n",
       "      <th>4</th>\n",
       "      <td>20170205</td>\n",
       "    </tr>\n",
       "  </tbody>\n",
       "</table>\n",
       "</div>"
      ],
      "text/plain": [
       "   expiration_date\n",
       "0         20150526\n",
       "1         20161224\n",
       "2         20160309\n",
       "3         20161107\n",
       "4         20170205"
      ]
     },
     "execution_count": 14,
     "metadata": {},
     "output_type": "execute_result"
    }
   ],
   "source": [
    "members.iloc[:, [-1]].head()"
   ]
  },
  {
   "cell_type": "code",
   "execution_count": 15,
   "metadata": {},
   "outputs": [
    {
     "data": {
      "text/plain": [
       "dtype('int64')"
      ]
     },
     "execution_count": 15,
     "metadata": {},
     "output_type": "execute_result"
    }
   ],
   "source": [
    "members['expiration_date'].dtype"
   ]
  },
  {
   "cell_type": "code",
   "execution_count": 16,
   "metadata": {
    "collapsed": true
   },
   "outputs": [],
   "source": [
    "from datetime import datetime"
   ]
  },
  {
   "cell_type": "code",
   "execution_count": 17,
   "metadata": {
    "collapsed": true
   },
   "outputs": [],
   "source": [
    "members['expiration_date'] = members['expiration_date'].apply(lambda x: pd.to_datetime(str(x), format='%Y%m%d').date())\n",
    "\n",
    "#The code below didnt work; it seemed to be running in an endless loop for some reason, will investigate if time permits... \n",
    "#for index, row in members.iterrows():\n",
    "#    dat = str(members['expiration_date'][index])\n",
    "#    members.loc[index, 'expiration_date'] = datetime(year=int(dat[0:4]), month=int(dat[4:6]), day=int(dat[6:8])).date()"
   ]
  },
  {
   "cell_type": "code",
   "execution_count": null,
   "metadata": {
    "collapsed": true
   },
   "outputs": [],
   "source": [
    "members['expiration_date'].head()"
   ]
  },
  {
   "cell_type": "code",
   "execution_count": null,
   "metadata": {
    "collapsed": true
   },
   "outputs": [],
   "source": [
    "members['registration_init_time'] = members['registration_init_time'].apply(lambda x: pd.to_datetime(str(x), format='%Y%m%d').date())"
   ]
  },
  {
   "cell_type": "code",
   "execution_count": null,
   "metadata": {
    "collapsed": true
   },
   "outputs": [],
   "source": [
    "members['registration_init_time'].describe()"
   ]
  },
  {
   "cell_type": "code",
   "execution_count": null,
   "metadata": {
    "collapsed": true,
    "scrolled": false
   },
   "outputs": [],
   "source": [
    "for column in members:\n",
    "    print members[column].describe()"
   ]
  },
  {
   "cell_type": "markdown",
   "metadata": {},
   "source": [
    "** So... We have 6 predictor variables - 3 categorical (registered via, gender, and city), 2 date objects, and age **"
   ]
  }
 ],
 "metadata": {
  "kernelspec": {
   "display_name": "Python 2",
   "language": "python",
   "name": "python2"
  },
  "language_info": {
   "codemirror_mode": {
    "name": "ipython",
    "version": 2
   },
   "file_extension": ".py",
   "mimetype": "text/x-python",
   "name": "python",
   "nbconvert_exporter": "python",
   "pygments_lexer": "ipython2",
   "version": "2.7.13"
  }
 },
 "nbformat": 4,
 "nbformat_minor": 2
}
