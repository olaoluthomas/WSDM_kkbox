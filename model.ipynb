{
 "cells": [
  {
   "cell_type": "markdown",
   "metadata": {},
   "source": [
    "### Preliminary Model (WSDM-KKBox Churn Prediction)"
   ]
  },
  {
   "cell_type": "code",
   "execution_count": 1,
   "metadata": {
    "collapsed": true
   },
   "outputs": [],
   "source": [
    "import pandas as pd\n",
    "import numpy as np\n",
    "import matplotlib\n",
    "import matplotlib.pyplot as plt\n",
    "%matplotlib inline\n",
    "matplotlib.style.use('ggplot')\n",
    "import re"
   ]
  },
  {
   "cell_type": "markdown",
   "metadata": {},
   "source": [
    "** We're running our predictive model on data that we've further pre-processed with Alteryx Designer **\n",
    "\n",
    "[Business Problem & EDA Notebook here](descriptive_data_discovery.ipynb)"
   ]
  },
  {
   "cell_type": "code",
   "execution_count": 2,
   "metadata": {},
   "outputs": [
    {
     "data": {
      "text/html": [
       "<div>\n",
       "<style>\n",
       "    .dataframe thead tr:only-child th {\n",
       "        text-align: right;\n",
       "    }\n",
       "\n",
       "    .dataframe thead th {\n",
       "        text-align: left;\n",
       "    }\n",
       "\n",
       "    .dataframe tbody tr th {\n",
       "        vertical-align: top;\n",
       "    }\n",
       "</style>\n",
       "<table border=\"1\" class=\"dataframe\">\n",
       "  <thead>\n",
       "    <tr style=\"text-align: right;\">\n",
       "      <th></th>\n",
       "      <th>msno</th>\n",
       "      <th>is_churn</th>\n",
       "      <th>city</th>\n",
       "      <th>bd</th>\n",
       "      <th>gender</th>\n",
       "      <th>registered_via</th>\n",
       "      <th>member_days</th>\n",
       "      <th>no_of_transactions</th>\n",
       "      <th>no_of_cancellations</th>\n",
       "      <th>cancelled</th>\n",
       "      <th>...</th>\n",
       "      <th>plan_days_110</th>\n",
       "      <th>plan_days_200</th>\n",
       "      <th>plan_days_230</th>\n",
       "      <th>plan_days_240</th>\n",
       "      <th>plan_days_270</th>\n",
       "      <th>plan_days_360</th>\n",
       "      <th>plan_days_365</th>\n",
       "      <th>plan_days_395</th>\n",
       "      <th>plan_days_400</th>\n",
       "      <th>plan_days_450</th>\n",
       "    </tr>\n",
       "  </thead>\n",
       "  <tbody>\n",
       "    <tr>\n",
       "      <th>0</th>\n",
       "      <td>+++hVY1rZox/33YtvDgmKA2Frg/2qhkz12B9ylCvh8o=</td>\n",
       "      <td>0</td>\n",
       "      <td>1.0</td>\n",
       "      <td>0.0</td>\n",
       "      <td>missing</td>\n",
       "      <td>7.0</td>\n",
       "      <td>1195.0</td>\n",
       "      <td>4</td>\n",
       "      <td>0</td>\n",
       "      <td>0</td>\n",
       "      <td>...</td>\n",
       "      <td>0</td>\n",
       "      <td>0</td>\n",
       "      <td>0</td>\n",
       "      <td>0</td>\n",
       "      <td>0</td>\n",
       "      <td>0</td>\n",
       "      <td>0</td>\n",
       "      <td>0</td>\n",
       "      <td>0</td>\n",
       "      <td>0</td>\n",
       "    </tr>\n",
       "    <tr>\n",
       "      <th>1</th>\n",
       "      <td>+++l/EXNMLTijfLBa8p2TUVVVp2aFGSuUI/h7mLmthw=</td>\n",
       "      <td>0</td>\n",
       "      <td>15.0</td>\n",
       "      <td>26.0</td>\n",
       "      <td>male</td>\n",
       "      <td>9.0</td>\n",
       "      <td>2527.0</td>\n",
       "      <td>19</td>\n",
       "      <td>0</td>\n",
       "      <td>0</td>\n",
       "      <td>...</td>\n",
       "      <td>0</td>\n",
       "      <td>0</td>\n",
       "      <td>0</td>\n",
       "      <td>0</td>\n",
       "      <td>0</td>\n",
       "      <td>0</td>\n",
       "      <td>0</td>\n",
       "      <td>0</td>\n",
       "      <td>0</td>\n",
       "      <td>0</td>\n",
       "    </tr>\n",
       "    <tr>\n",
       "      <th>2</th>\n",
       "      <td>+++snpr7pmobhLKUgSHTv/mpkqgBT0tQJ0zQj6qKrqc=</td>\n",
       "      <td>0</td>\n",
       "      <td>1.0</td>\n",
       "      <td>0.0</td>\n",
       "      <td>missing</td>\n",
       "      <td>7.0</td>\n",
       "      <td>1099.0</td>\n",
       "      <td>26</td>\n",
       "      <td>0</td>\n",
       "      <td>0</td>\n",
       "      <td>...</td>\n",
       "      <td>0</td>\n",
       "      <td>0</td>\n",
       "      <td>0</td>\n",
       "      <td>0</td>\n",
       "      <td>0</td>\n",
       "      <td>0</td>\n",
       "      <td>0</td>\n",
       "      <td>0</td>\n",
       "      <td>0</td>\n",
       "      <td>0</td>\n",
       "    </tr>\n",
       "    <tr>\n",
       "      <th>3</th>\n",
       "      <td>++/9R3sX37CjxbY/AaGvbwr3QkwElKBCtSvVzhCBDOk=</td>\n",
       "      <td>0</td>\n",
       "      <td>18.0</td>\n",
       "      <td>21.0</td>\n",
       "      <td>male</td>\n",
       "      <td>7.0</td>\n",
       "      <td>571.0</td>\n",
       "      <td>12</td>\n",
       "      <td>0</td>\n",
       "      <td>0</td>\n",
       "      <td>...</td>\n",
       "      <td>0</td>\n",
       "      <td>0</td>\n",
       "      <td>0</td>\n",
       "      <td>0</td>\n",
       "      <td>0</td>\n",
       "      <td>0</td>\n",
       "      <td>0</td>\n",
       "      <td>0</td>\n",
       "      <td>0</td>\n",
       "      <td>0</td>\n",
       "    </tr>\n",
       "    <tr>\n",
       "      <th>4</th>\n",
       "      <td>++/UDNo9DLrxT8QVGiDi1OnWfczAdEwThaVyD0fXO50=</td>\n",
       "      <td>0</td>\n",
       "      <td>22.0</td>\n",
       "      <td>32.0</td>\n",
       "      <td>male</td>\n",
       "      <td>9.0</td>\n",
       "      <td>2101.0</td>\n",
       "      <td>19</td>\n",
       "      <td>0</td>\n",
       "      <td>0</td>\n",
       "      <td>...</td>\n",
       "      <td>0</td>\n",
       "      <td>0</td>\n",
       "      <td>0</td>\n",
       "      <td>0</td>\n",
       "      <td>0</td>\n",
       "      <td>0</td>\n",
       "      <td>0</td>\n",
       "      <td>0</td>\n",
       "      <td>0</td>\n",
       "      <td>0</td>\n",
       "    </tr>\n",
       "  </tbody>\n",
       "</table>\n",
       "<p>5 rows × 128 columns</p>\n",
       "</div>"
      ],
      "text/plain": [
       "                                           msno  is_churn  city    bd  \\\n",
       "0  +++hVY1rZox/33YtvDgmKA2Frg/2qhkz12B9ylCvh8o=         0   1.0   0.0   \n",
       "1  +++l/EXNMLTijfLBa8p2TUVVVp2aFGSuUI/h7mLmthw=         0  15.0  26.0   \n",
       "2  +++snpr7pmobhLKUgSHTv/mpkqgBT0tQJ0zQj6qKrqc=         0   1.0   0.0   \n",
       "3  ++/9R3sX37CjxbY/AaGvbwr3QkwElKBCtSvVzhCBDOk=         0  18.0  21.0   \n",
       "4  ++/UDNo9DLrxT8QVGiDi1OnWfczAdEwThaVyD0fXO50=         0  22.0  32.0   \n",
       "\n",
       "    gender  registered_via  member_days  no_of_transactions  \\\n",
       "0  missing             7.0       1195.0                   4   \n",
       "1     male             9.0       2527.0                  19   \n",
       "2  missing             7.0       1099.0                  26   \n",
       "3     male             7.0        571.0                  12   \n",
       "4     male             9.0       2101.0                  19   \n",
       "\n",
       "   no_of_cancellations  cancelled      ...        plan_days_110  \\\n",
       "0                    0          0      ...                    0   \n",
       "1                    0          0      ...                    0   \n",
       "2                    0          0      ...                    0   \n",
       "3                    0          0      ...                    0   \n",
       "4                    0          0      ...                    0   \n",
       "\n",
       "   plan_days_200  plan_days_230  plan_days_240  plan_days_270  plan_days_360  \\\n",
       "0              0              0              0              0              0   \n",
       "1              0              0              0              0              0   \n",
       "2              0              0              0              0              0   \n",
       "3              0              0              0              0              0   \n",
       "4              0              0              0              0              0   \n",
       "\n",
       "   plan_days_365  plan_days_395  plan_days_400  plan_days_450  \n",
       "0              0              0              0              0  \n",
       "1              0              0              0              0  \n",
       "2              0              0              0              0  \n",
       "3              0              0              0              0  \n",
       "4              0              0              0              0  \n",
       "\n",
       "[5 rows x 128 columns]"
      ]
     },
     "execution_count": 2,
     "metadata": {},
     "output_type": "execute_result"
    }
   ],
   "source": [
    "data = pd.read_csv('train_dataset.csv')\n",
    "data.head()"
   ]
  },
  {
   "cell_type": "markdown",
   "metadata": {},
   "source": [
    "### Model Assumptions\n",
    "\n",
    "- Is it a fair assumption to expect city to be a heavy predictor simply because most subscribers are from one city?\n",
    "    - Is this a form of feature bias?\n",
    "\n",
    "- "
   ]
  },
  {
   "cell_type": "code",
   "execution_count": 3,
   "metadata": {
    "collapsed": true
   },
   "outputs": [],
   "source": [
    "# subset of independent variables that we will assume weigh heavily on churn\n",
    "\n",
    "members = ['city', 'bd', 'gender', 'registered_via', 'member_days', 'no_of_transactions', 'no_of_cancellations', 'cancelled']"
   ]
  },
  {
   "cell_type": "code",
   "execution_count": 4,
   "metadata": {},
   "outputs": [
    {
     "data": {
      "image/png": "[encoded data removed]",
      "text/plain": [
       "<matplotlib.figure.Figure at 0x4c21c8d0>"
      ]
     },
     "metadata": {},
     "output_type": "display_data"
    }
   ],
   "source": [
    "data[members].hist(bins=10, figsize=(15,12))\n",
    "plt.show()"
   ]
  },
  {
   "cell_type": "code",
   "execution_count": 5,
   "metadata": {},
   "outputs": [
    {
     "name": "stdout",
     "output_type": "stream",
     "text": [
      "msno\n",
      "is_churn\n",
      "city\n",
      "bd\n",
      "gender\n",
      "registered_via\n",
      "member_days\n",
      "no_of_transactions\n",
      "no_of_cancellations\n",
      "cancelled\n",
      "total_amount_paid\n",
      "is_auto_renew\n",
      "payment_method_14\n"
     ]
    }
   ],
   "source": [
    "for col in data.columns[:13]:\n",
    "    print col"
   ]
  },
  {
   "cell_type": "code",
   "execution_count": 6,
   "metadata": {
    "scrolled": true
   },
   "outputs": [
    {
     "data": {
      "text/plain": [
       "Index([u'city', u'bd', u'gender', u'registered_via', u'member_days'], dtype='object')"
      ]
     },
     "execution_count": 6,
     "metadata": {},
     "output_type": "execute_result"
    }
   ],
   "source": [
    "# searching for null values after merging datasets\n",
    "\n",
    "data.columns[data.isnull().any()]"
   ]
  },
  {
   "cell_type": "markdown",
   "metadata": {},
   "source": [
    "### The Strategy for Null Values and Its Anticipated Effect on Our Model\n",
    "\n",
    "- The imputer strategy we adopt depends heavily on the nature of the feature in question\n",
    "- "
   ]
  },
  {
   "cell_type": "code",
   "execution_count": 7,
   "metadata": {
    "scrolled": true
   },
   "outputs": [
    {
     "name": "stdout",
     "output_type": "stream",
     "text": [
      "72\n"
     ]
    },
    {
     "data": {
      "text/plain": [
       "667"
      ]
     },
     "execution_count": 7,
     "metadata": {},
     "output_type": "execute_result"
    }
   ],
   "source": [
    "# the bd variable is very messy. it consists of negative numbers and some seemingly impossible ages (> 100)...\n",
    "\n",
    "print data['bd'][(data['bd'] < 0)].count()\n",
    "data['bd'][(data['bd']) > 80].count()"
   ]
  },
  {
   "cell_type": "code",
   "execution_count": 8,
   "metadata": {},
   "outputs": [
    {
     "data": {
      "image/png": "[encoded data removed]",
      "text/plain": [
       "<matplotlib.figure.Figure at 0x44f2160>"
      ]
     },
     "metadata": {},
     "output_type": "display_data"
    }
   ],
   "source": [
    "data['bd'].hist()\n",
    "plt.show()"
   ]
  },
  {
   "cell_type": "code",
   "execution_count": 9,
   "metadata": {
    "collapsed": true
   },
   "outputs": [],
   "source": [
    "data.loc[data['gender'] == 'missing', 'gender'] = np.nan\n",
    "data.loc[data['bd'] < 0, 'bd'] = np.nan\n",
    "data.loc[data['bd'] > 80, 'bd'] = np.nan"
   ]
  },
  {
   "cell_type": "code",
   "execution_count": 10,
   "metadata": {},
   "outputs": [
    {
     "data": {
      "image/png": "[encoded data removed]",
      "text/plain": [
       "<matplotlib.figure.Figure at 0x3382eda0>"
      ]
     },
     "metadata": {},
     "output_type": "display_data"
    }
   ],
   "source": [
    "data['bd'].hist()\n",
    "plt.show()"
   ]
  },
  {
   "cell_type": "code",
   "execution_count": 11,
   "metadata": {},
   "outputs": [
    {
     "name": "stdout",
     "output_type": "stream",
     "text": [
      "481293\n"
     ]
    },
    {
     "data": {
      "text/plain": [
       "481230"
      ]
     },
     "execution_count": 11,
     "metadata": {},
     "output_type": "execute_result"
    }
   ],
   "source": [
    "print data['bd'][(data['bd']) < 10].count()\n",
    "data['bd'][(data['bd']) < 5].count()"
   ]
  },
  {
   "cell_type": "code",
   "execution_count": 12,
   "metadata": {
    "collapsed": true
   },
   "outputs": [],
   "source": [
    "data.loc[data['bd'] < 10, 'bd'] = np.nan"
   ]
  },
  {
   "cell_type": "code",
   "execution_count": 13,
   "metadata": {},
   "outputs": [
    {
     "data": {
      "image/png": "[encoded data removed]",
      "text/plain": [
       "<matplotlib.figure.Figure at 0x103a0630>"
      ]
     },
     "metadata": {},
     "output_type": "display_data"
    }
   ],
   "source": [
    "data['bd'].hist()\n",
    "plt.show()"
   ]
  },
  {
   "cell_type": "code",
   "execution_count": 14,
   "metadata": {},
   "outputs": [
    {
     "data": {
      "text/plain": [
       "39.69168048937942"
      ]
     },
     "execution_count": 14,
     "metadata": {},
     "output_type": "execute_result"
    }
   ],
   "source": [
    "float(data['bd'].count())*100/len(data['bd'])"
   ]
  },
  {
   "cell_type": "code",
   "execution_count": 15,
   "metadata": {},
   "outputs": [
    {
     "name": "stdout",
     "output_type": "stream",
     "text": [
      "6.39228707735\n"
     ]
    }
   ],
   "source": [
    "# What is the distribution of our target variable?\n",
    "\n",
    "churn_length = data['is_churn'][(data['is_churn'] == 1)].count()\n",
    "# print data['is_churn'][(data['is_churn'] == 0)].count()\n",
    "print float(churn_length)/len(data['is_churn']) * 100"
   ]
  },
  {
   "cell_type": "markdown",
   "metadata": {},
   "source": [
    "< 6.5% of our target indicates churn"
   ]
  },
  {
   "cell_type": "code",
   "execution_count": 16,
   "metadata": {
    "collapsed": true
   },
   "outputs": [],
   "source": [
    "from sklearn.linear_model import LogisticRegression, LogisticRegressionCV\n",
    "from sklearn.ensemble import RandomForestClassifier\n",
    "from sklearn.model_selection import train_test_split, StratifiedKFold, GridSearchCV, StratifiedShuffleSplit\n",
    "from sklearn.metrics import accuracy_score, roc_auc_score, confusion_matrix, precision_recall_curve, f1_score\n",
    "from sklearn.preprocessing import LabelEncoder\n",
    "from sklearn.decomposition import PCA\n",
    "from sklearn.preprocessing import MinMaxScaler, RobustScaler\n",
    "from sklearn.preprocessing import Imputer"
   ]
  },
  {
   "cell_type": "markdown",
   "metadata": {},
   "source": [
    "### N.B. We should define functions to automate data transformation"
   ]
  },
  {
   "cell_type": "code",
   "execution_count": 17,
   "metadata": {
    "collapsed": true
   },
   "outputs": [],
   "source": [
    "from sklearn.base import TransformerMixin\n",
    "\n",
    "class DataFrameImputer(TransformerMixin):\n",
    "    \n",
    "    def __init__(self):\n",
    "        \"\"\"Impute missing values.\n",
    "        \n",
    "        Columns of dtype object are imputed with the most frequent value in column.\n",
    "        \n",
    "        Columns of other types are imputed with median of column.\n",
    "        \n",
    "        \"\"\"\n",
    "    def fit(self, X, y=None):\n",
    "        \n",
    "        self.fill = pd.Series([X[c].value_counts().index[0]\n",
    "            if X[c].dtype == np.dtype('O') else X[c].median() for c in X],\n",
    "                index=X.columns)\n",
    "        \n",
    "        return self\n",
    "    \n",
    "    def transform(self, X, y=None):\n",
    "        return X.fillna(self.fill)"
   ]
  },
  {
   "cell_type": "code",
   "execution_count": 18,
   "metadata": {},
   "outputs": [],
   "source": [
    "lst = ['city', 'bd', 'gender', 'registered_via', 'member_days', 'no_of_transactions', 'no_of_cancellations', 'cancelled', 'total_amount_paid', 'is_auto_renew']\n",
    "cat_cols = ['city', 'registered_via', 'gender', 'is_auto_renew', 'cancelled']\n",
    "int_cols = ['bd', 'member_days', 'no_of_transactions', 'no_of cancellations']\n",
    "\n",
    "data[lst] = DataFrameImputer().fit_transform(data[lst])"
   ]
  },
  {
   "cell_type": "code",
   "execution_count": 19,
   "metadata": {
    "collapsed": true
   },
   "outputs": [],
   "source": [
    "from collections import defaultdict\n",
    "d = defaultdict(LabelEncoder)\n",
    "\n",
    "fit = data[cat_cols].apply(lambda x: d[x.name].fit(x))\n",
    "data[cat_cols] = data[cat_cols].apply(lambda x: d[x.name].transform(x))"
   ]
  },
  {
   "cell_type": "code",
   "execution_count": 20,
   "metadata": {},
   "outputs": [
    {
     "data": {
      "text/html": [
       "<div>\n",
       "<style>\n",
       "    .dataframe thead tr:only-child th {\n",
       "        text-align: right;\n",
       "    }\n",
       "\n",
       "    .dataframe thead th {\n",
       "        text-align: left;\n",
       "    }\n",
       "\n",
       "    .dataframe tbody tr th {\n",
       "        vertical-align: top;\n",
       "    }\n",
       "</style>\n",
       "<table border=\"1\" class=\"dataframe\">\n",
       "  <thead>\n",
       "    <tr style=\"text-align: right;\">\n",
       "      <th></th>\n",
       "      <th>msno</th>\n",
       "      <th>is_churn</th>\n",
       "      <th>city</th>\n",
       "      <th>bd</th>\n",
       "      <th>gender</th>\n",
       "      <th>registered_via</th>\n",
       "      <th>member_days</th>\n",
       "      <th>no_of_transactions</th>\n",
       "      <th>no_of_cancellations</th>\n",
       "      <th>cancelled</th>\n",
       "      <th>...</th>\n",
       "      <th>plan_days_110</th>\n",
       "      <th>plan_days_200</th>\n",
       "      <th>plan_days_230</th>\n",
       "      <th>plan_days_240</th>\n",
       "      <th>plan_days_270</th>\n",
       "      <th>plan_days_360</th>\n",
       "      <th>plan_days_365</th>\n",
       "      <th>plan_days_395</th>\n",
       "      <th>plan_days_400</th>\n",
       "      <th>plan_days_450</th>\n",
       "    </tr>\n",
       "  </thead>\n",
       "  <tbody>\n",
       "    <tr>\n",
       "      <th>0</th>\n",
       "      <td>+++hVY1rZox/33YtvDgmKA2Frg/2qhkz12B9ylCvh8o=</td>\n",
       "      <td>0</td>\n",
       "      <td>0</td>\n",
       "      <td>28.0</td>\n",
       "      <td>1</td>\n",
       "      <td>2</td>\n",
       "      <td>1195.0</td>\n",
       "      <td>4</td>\n",
       "      <td>0</td>\n",
       "      <td>0</td>\n",
       "      <td>...</td>\n",
       "      <td>0</td>\n",
       "      <td>0</td>\n",
       "      <td>0</td>\n",
       "      <td>0</td>\n",
       "      <td>0</td>\n",
       "      <td>0</td>\n",
       "      <td>0</td>\n",
       "      <td>0</td>\n",
       "      <td>0</td>\n",
       "      <td>0</td>\n",
       "    </tr>\n",
       "    <tr>\n",
       "      <th>1</th>\n",
       "      <td>+++l/EXNMLTijfLBa8p2TUVVVp2aFGSuUI/h7mLmthw=</td>\n",
       "      <td>0</td>\n",
       "      <td>13</td>\n",
       "      <td>26.0</td>\n",
       "      <td>1</td>\n",
       "      <td>3</td>\n",
       "      <td>2527.0</td>\n",
       "      <td>19</td>\n",
       "      <td>0</td>\n",
       "      <td>0</td>\n",
       "      <td>...</td>\n",
       "      <td>0</td>\n",
       "      <td>0</td>\n",
       "      <td>0</td>\n",
       "      <td>0</td>\n",
       "      <td>0</td>\n",
       "      <td>0</td>\n",
       "      <td>0</td>\n",
       "      <td>0</td>\n",
       "      <td>0</td>\n",
       "      <td>0</td>\n",
       "    </tr>\n",
       "    <tr>\n",
       "      <th>2</th>\n",
       "      <td>+++snpr7pmobhLKUgSHTv/mpkqgBT0tQJ0zQj6qKrqc=</td>\n",
       "      <td>0</td>\n",
       "      <td>0</td>\n",
       "      <td>28.0</td>\n",
       "      <td>1</td>\n",
       "      <td>2</td>\n",
       "      <td>1099.0</td>\n",
       "      <td>26</td>\n",
       "      <td>0</td>\n",
       "      <td>0</td>\n",
       "      <td>...</td>\n",
       "      <td>0</td>\n",
       "      <td>0</td>\n",
       "      <td>0</td>\n",
       "      <td>0</td>\n",
       "      <td>0</td>\n",
       "      <td>0</td>\n",
       "      <td>0</td>\n",
       "      <td>0</td>\n",
       "      <td>0</td>\n",
       "      <td>0</td>\n",
       "    </tr>\n",
       "    <tr>\n",
       "      <th>3</th>\n",
       "      <td>++/9R3sX37CjxbY/AaGvbwr3QkwElKBCtSvVzhCBDOk=</td>\n",
       "      <td>0</td>\n",
       "      <td>16</td>\n",
       "      <td>21.0</td>\n",
       "      <td>1</td>\n",
       "      <td>2</td>\n",
       "      <td>571.0</td>\n",
       "      <td>12</td>\n",
       "      <td>0</td>\n",
       "      <td>0</td>\n",
       "      <td>...</td>\n",
       "      <td>0</td>\n",
       "      <td>0</td>\n",
       "      <td>0</td>\n",
       "      <td>0</td>\n",
       "      <td>0</td>\n",
       "      <td>0</td>\n",
       "      <td>0</td>\n",
       "      <td>0</td>\n",
       "      <td>0</td>\n",
       "      <td>0</td>\n",
       "    </tr>\n",
       "    <tr>\n",
       "      <th>4</th>\n",
       "      <td>++/UDNo9DLrxT8QVGiDi1OnWfczAdEwThaVyD0fXO50=</td>\n",
       "      <td>0</td>\n",
       "      <td>20</td>\n",
       "      <td>32.0</td>\n",
       "      <td>1</td>\n",
       "      <td>3</td>\n",
       "      <td>2101.0</td>\n",
       "      <td>19</td>\n",
       "      <td>0</td>\n",
       "      <td>0</td>\n",
       "      <td>...</td>\n",
       "      <td>0</td>\n",
       "      <td>0</td>\n",
       "      <td>0</td>\n",
       "      <td>0</td>\n",
       "      <td>0</td>\n",
       "      <td>0</td>\n",
       "      <td>0</td>\n",
       "      <td>0</td>\n",
       "      <td>0</td>\n",
       "      <td>0</td>\n",
       "    </tr>\n",
       "    <tr>\n",
       "      <th>5</th>\n",
       "      <td>++/ZHqwUNa7U21Qz+zqteiXlZapxey86l6eEorrak/g=</td>\n",
       "      <td>0</td>\n",
       "      <td>11</td>\n",
       "      <td>39.0</td>\n",
       "      <td>1</td>\n",
       "      <td>0</td>\n",
       "      <td>1087.0</td>\n",
       "      <td>21</td>\n",
       "      <td>0</td>\n",
       "      <td>0</td>\n",
       "      <td>...</td>\n",
       "      <td>0</td>\n",
       "      <td>0</td>\n",
       "      <td>0</td>\n",
       "      <td>0</td>\n",
       "      <td>0</td>\n",
       "      <td>0</td>\n",
       "      <td>0</td>\n",
       "      <td>0</td>\n",
       "      <td>0</td>\n",
       "      <td>0</td>\n",
       "    </tr>\n",
       "    <tr>\n",
       "      <th>6</th>\n",
       "      <td>++0/NopttBsaAn6qHZA2AWWrDg7Me7UOMs1vsyo4tSI=</td>\n",
       "      <td>0</td>\n",
       "      <td>0</td>\n",
       "      <td>28.0</td>\n",
       "      <td>1</td>\n",
       "      <td>2</td>\n",
       "      <td>549.0</td>\n",
       "      <td>12</td>\n",
       "      <td>0</td>\n",
       "      <td>0</td>\n",
       "      <td>...</td>\n",
       "      <td>0</td>\n",
       "      <td>0</td>\n",
       "      <td>0</td>\n",
       "      <td>0</td>\n",
       "      <td>0</td>\n",
       "      <td>0</td>\n",
       "      <td>0</td>\n",
       "      <td>0</td>\n",
       "      <td>0</td>\n",
       "      <td>0</td>\n",
       "    </tr>\n",
       "    <tr>\n",
       "      <th>7</th>\n",
       "      <td>++0BJXY8tpirgIhJR14LDM1pnaRosjD1mdO1mIKxlJA=</td>\n",
       "      <td>0</td>\n",
       "      <td>0</td>\n",
       "      <td>28.0</td>\n",
       "      <td>1</td>\n",
       "      <td>3</td>\n",
       "      <td>784.0</td>\n",
       "      <td>16</td>\n",
       "      <td>0</td>\n",
       "      <td>0</td>\n",
       "      <td>...</td>\n",
       "      <td>0</td>\n",
       "      <td>0</td>\n",
       "      <td>0</td>\n",
       "      <td>0</td>\n",
       "      <td>0</td>\n",
       "      <td>0</td>\n",
       "      <td>0</td>\n",
       "      <td>0</td>\n",
       "      <td>0</td>\n",
       "      <td>0</td>\n",
       "    </tr>\n",
       "    <tr>\n",
       "      <th>8</th>\n",
       "      <td>++0EzISdtKY48Z0GY62jer/LFQwrNIAbADdtU5xStGY=</td>\n",
       "      <td>0</td>\n",
       "      <td>0</td>\n",
       "      <td>28.0</td>\n",
       "      <td>1</td>\n",
       "      <td>0</td>\n",
       "      <td>1401.0</td>\n",
       "      <td>6</td>\n",
       "      <td>0</td>\n",
       "      <td>0</td>\n",
       "      <td>...</td>\n",
       "      <td>0</td>\n",
       "      <td>0</td>\n",
       "      <td>0</td>\n",
       "      <td>0</td>\n",
       "      <td>0</td>\n",
       "      <td>0</td>\n",
       "      <td>0</td>\n",
       "      <td>0</td>\n",
       "      <td>0</td>\n",
       "      <td>0</td>\n",
       "    </tr>\n",
       "    <tr>\n",
       "      <th>9</th>\n",
       "      <td>++0wqjjQge1mBBe5r4ciHGKwtF/m322zkra7CK8I+Mw=</td>\n",
       "      <td>0</td>\n",
       "      <td>0</td>\n",
       "      <td>28.0</td>\n",
       "      <td>1</td>\n",
       "      <td>2</td>\n",
       "      <td>1215.0</td>\n",
       "      <td>16</td>\n",
       "      <td>0</td>\n",
       "      <td>0</td>\n",
       "      <td>...</td>\n",
       "      <td>0</td>\n",
       "      <td>0</td>\n",
       "      <td>0</td>\n",
       "      <td>0</td>\n",
       "      <td>0</td>\n",
       "      <td>0</td>\n",
       "      <td>0</td>\n",
       "      <td>0</td>\n",
       "      <td>0</td>\n",
       "      <td>0</td>\n",
       "    </tr>\n",
       "    <tr>\n",
       "      <th>10</th>\n",
       "      <td>++1G0wVY14Lp0VXak1ymLhPUdXPSFJVBnjWwzGxBKJs=</td>\n",
       "      <td>0</td>\n",
       "      <td>0</td>\n",
       "      <td>28.0</td>\n",
       "      <td>1</td>\n",
       "      <td>2</td>\n",
       "      <td>731.0</td>\n",
       "      <td>18</td>\n",
       "      <td>0</td>\n",
       "      <td>0</td>\n",
       "      <td>...</td>\n",
       "      <td>0</td>\n",
       "      <td>0</td>\n",
       "      <td>0</td>\n",
       "      <td>0</td>\n",
       "      <td>0</td>\n",
       "      <td>0</td>\n",
       "      <td>0</td>\n",
       "      <td>0</td>\n",
       "      <td>0</td>\n",
       "      <td>0</td>\n",
       "    </tr>\n",
       "    <tr>\n",
       "      <th>11</th>\n",
       "      <td>++1GCIyXZO7834NjDKmcK1lBVLQi9PsN6sOC7wfW+8g=</td>\n",
       "      <td>0</td>\n",
       "      <td>0</td>\n",
       "      <td>28.0</td>\n",
       "      <td>1</td>\n",
       "      <td>2</td>\n",
       "      <td>456.0</td>\n",
       "      <td>8</td>\n",
       "      <td>0</td>\n",
       "      <td>0</td>\n",
       "      <td>...</td>\n",
       "      <td>0</td>\n",
       "      <td>0</td>\n",
       "      <td>0</td>\n",
       "      <td>0</td>\n",
       "      <td>0</td>\n",
       "      <td>0</td>\n",
       "      <td>0</td>\n",
       "      <td>0</td>\n",
       "      <td>0</td>\n",
       "      <td>0</td>\n",
       "    </tr>\n",
       "    <tr>\n",
       "      <th>12</th>\n",
       "      <td>++1Wu2wKBA60W9F9sMh15RXmh1wN1fjoVGzNqvw/Gro=</td>\n",
       "      <td>0</td>\n",
       "      <td>0</td>\n",
       "      <td>28.0</td>\n",
       "      <td>1</td>\n",
       "      <td>2</td>\n",
       "      <td>1215.0</td>\n",
       "      <td>9</td>\n",
       "      <td>0</td>\n",
       "      <td>0</td>\n",
       "      <td>...</td>\n",
       "      <td>0</td>\n",
       "      <td>0</td>\n",
       "      <td>0</td>\n",
       "      <td>0</td>\n",
       "      <td>0</td>\n",
       "      <td>0</td>\n",
       "      <td>0</td>\n",
       "      <td>0</td>\n",
       "      <td>0</td>\n",
       "      <td>0</td>\n",
       "    </tr>\n",
       "    <tr>\n",
       "      <th>13</th>\n",
       "      <td>++2Ju1OdxLSyexwhZ/C0glNK0DMIfUjsFpk9lt8Dll8=</td>\n",
       "      <td>0</td>\n",
       "      <td>0</td>\n",
       "      <td>28.0</td>\n",
       "      <td>1</td>\n",
       "      <td>2</td>\n",
       "      <td>1215.0</td>\n",
       "      <td>9</td>\n",
       "      <td>0</td>\n",
       "      <td>0</td>\n",
       "      <td>...</td>\n",
       "      <td>0</td>\n",
       "      <td>0</td>\n",
       "      <td>0</td>\n",
       "      <td>0</td>\n",
       "      <td>0</td>\n",
       "      <td>0</td>\n",
       "      <td>0</td>\n",
       "      <td>0</td>\n",
       "      <td>0</td>\n",
       "      <td>0</td>\n",
       "    </tr>\n",
       "    <tr>\n",
       "      <th>14</th>\n",
       "      <td>++38dVm0EHKCOfND6oEal3xFKtqJYZTZJmnpbAOOZBk=</td>\n",
       "      <td>0</td>\n",
       "      <td>0</td>\n",
       "      <td>28.0</td>\n",
       "      <td>1</td>\n",
       "      <td>2</td>\n",
       "      <td>701.0</td>\n",
       "      <td>17</td>\n",
       "      <td>0</td>\n",
       "      <td>0</td>\n",
       "      <td>...</td>\n",
       "      <td>0</td>\n",
       "      <td>0</td>\n",
       "      <td>0</td>\n",
       "      <td>0</td>\n",
       "      <td>0</td>\n",
       "      <td>0</td>\n",
       "      <td>0</td>\n",
       "      <td>0</td>\n",
       "      <td>0</td>\n",
       "      <td>0</td>\n",
       "    </tr>\n",
       "  </tbody>\n",
       "</table>\n",
       "<p>15 rows × 128 columns</p>\n",
       "</div>"
      ],
      "text/plain": [
       "                                            msno  is_churn  city    bd  \\\n",
       "0   +++hVY1rZox/33YtvDgmKA2Frg/2qhkz12B9ylCvh8o=         0     0  28.0   \n",
       "1   +++l/EXNMLTijfLBa8p2TUVVVp2aFGSuUI/h7mLmthw=         0    13  26.0   \n",
       "2   +++snpr7pmobhLKUgSHTv/mpkqgBT0tQJ0zQj6qKrqc=         0     0  28.0   \n",
       "3   ++/9R3sX37CjxbY/AaGvbwr3QkwElKBCtSvVzhCBDOk=         0    16  21.0   \n",
       "4   ++/UDNo9DLrxT8QVGiDi1OnWfczAdEwThaVyD0fXO50=         0    20  32.0   \n",
       "5   ++/ZHqwUNa7U21Qz+zqteiXlZapxey86l6eEorrak/g=         0    11  39.0   \n",
       "6   ++0/NopttBsaAn6qHZA2AWWrDg7Me7UOMs1vsyo4tSI=         0     0  28.0   \n",
       "7   ++0BJXY8tpirgIhJR14LDM1pnaRosjD1mdO1mIKxlJA=         0     0  28.0   \n",
       "8   ++0EzISdtKY48Z0GY62jer/LFQwrNIAbADdtU5xStGY=         0     0  28.0   \n",
       "9   ++0wqjjQge1mBBe5r4ciHGKwtF/m322zkra7CK8I+Mw=         0     0  28.0   \n",
       "10  ++1G0wVY14Lp0VXak1ymLhPUdXPSFJVBnjWwzGxBKJs=         0     0  28.0   \n",
       "11  ++1GCIyXZO7834NjDKmcK1lBVLQi9PsN6sOC7wfW+8g=         0     0  28.0   \n",
       "12  ++1Wu2wKBA60W9F9sMh15RXmh1wN1fjoVGzNqvw/Gro=         0     0  28.0   \n",
       "13  ++2Ju1OdxLSyexwhZ/C0glNK0DMIfUjsFpk9lt8Dll8=         0     0  28.0   \n",
       "14  ++38dVm0EHKCOfND6oEal3xFKtqJYZTZJmnpbAOOZBk=         0     0  28.0   \n",
       "\n",
       "    gender  registered_via  member_days  no_of_transactions  \\\n",
       "0        1               2       1195.0                   4   \n",
       "1        1               3       2527.0                  19   \n",
       "2        1               2       1099.0                  26   \n",
       "3        1               2        571.0                  12   \n",
       "4        1               3       2101.0                  19   \n",
       "5        1               0       1087.0                  21   \n",
       "6        1               2        549.0                  12   \n",
       "7        1               3        784.0                  16   \n",
       "8        1               0       1401.0                   6   \n",
       "9        1               2       1215.0                  16   \n",
       "10       1               2        731.0                  18   \n",
       "11       1               2        456.0                   8   \n",
       "12       1               2       1215.0                   9   \n",
       "13       1               2       1215.0                   9   \n",
       "14       1               2        701.0                  17   \n",
       "\n",
       "    no_of_cancellations  cancelled      ...        plan_days_110  \\\n",
       "0                     0          0      ...                    0   \n",
       "1                     0          0      ...                    0   \n",
       "2                     0          0      ...                    0   \n",
       "3                     0          0      ...                    0   \n",
       "4                     0          0      ...                    0   \n",
       "5                     0          0      ...                    0   \n",
       "6                     0          0      ...                    0   \n",
       "7                     0          0      ...                    0   \n",
       "8                     0          0      ...                    0   \n",
       "9                     0          0      ...                    0   \n",
       "10                    0          0      ...                    0   \n",
       "11                    0          0      ...                    0   \n",
       "12                    0          0      ...                    0   \n",
       "13                    0          0      ...                    0   \n",
       "14                    0          0      ...                    0   \n",
       "\n",
       "    plan_days_200  plan_days_230  plan_days_240  plan_days_270  plan_days_360  \\\n",
       "0               0              0              0              0              0   \n",
       "1               0              0              0              0              0   \n",
       "2               0              0              0              0              0   \n",
       "3               0              0              0              0              0   \n",
       "4               0              0              0              0              0   \n",
       "5               0              0              0              0              0   \n",
       "6               0              0              0              0              0   \n",
       "7               0              0              0              0              0   \n",
       "8               0              0              0              0              0   \n",
       "9               0              0              0              0              0   \n",
       "10              0              0              0              0              0   \n",
       "11              0              0              0              0              0   \n",
       "12              0              0              0              0              0   \n",
       "13              0              0              0              0              0   \n",
       "14              0              0              0              0              0   \n",
       "\n",
       "    plan_days_365  plan_days_395  plan_days_400  plan_days_450  \n",
       "0               0              0              0              0  \n",
       "1               0              0              0              0  \n",
       "2               0              0              0              0  \n",
       "3               0              0              0              0  \n",
       "4               0              0              0              0  \n",
       "5               0              0              0              0  \n",
       "6               0              0              0              0  \n",
       "7               0              0              0              0  \n",
       "8               0              0              0              0  \n",
       "9               0              0              0              0  \n",
       "10              0              0              0              0  \n",
       "11              0              0              0              0  \n",
       "12              0              0              0              0  \n",
       "13              0              0              0              0  \n",
       "14              0              0              0              0  \n",
       "\n",
       "[15 rows x 128 columns]"
      ]
     },
     "execution_count": 20,
     "metadata": {},
     "output_type": "execute_result"
    }
   ],
   "source": [
    "data.head(15)"
   ]
  },
  {
   "cell_type": "code",
   "execution_count": 21,
   "metadata": {},
   "outputs": [
    {
     "data": {
      "text/plain": [
       "\"def xfrom_null(df):\\n    cols = ['city', 'registered_via', 'gender', 'is_auto_renew', 'cancelled']\\n    for col in cols:\\n        df[col] = df[col].fillna('missing')\\n    return df\\n        \\ndef to_cat(df):\\n    cols = ['city', 'registered_via', 'gender', 'is_auto_renew', 'cancelled']\\n    for col in cols:\\n        df[col] = df[col].astype('category')\\n    return df\\n\\ndef scale_f(df, scaler=MinMaxScaler()):\\n    to_scale = ['bd', 'member_days', 'no_of_transactions', 'no_of_cancellations', 'no_of_transactions', 'total_amount_paid']\\n    df[to_scale] = scaler.fit_transform(df[to_scale])\\n    return df\\n    \""
      ]
     },
     "execution_count": 21,
     "metadata": {},
     "output_type": "execute_result"
    }
   ],
   "source": [
    "'''def xfrom_null(df):\n",
    "    cols = ['city', 'registered_via', 'gender', 'is_auto_renew', 'cancelled']\n",
    "    for col in cols:\n",
    "        df[col] = df[col].fillna('missing')\n",
    "    return df\n",
    "        \n",
    "def to_cat(df):\n",
    "    cols = ['city', 'registered_via', 'gender', 'is_auto_renew', 'cancelled']\n",
    "    for col in cols:\n",
    "        df[col] = df[col].astype('category')\n",
    "    return df\n",
    "\n",
    "def scale_f(df, scaler=MinMaxScaler()):\n",
    "    to_scale = ['bd', 'member_days', 'no_of_transactions', 'no_of_cancellations', 'no_of_transactions', 'total_amount_paid']\n",
    "    df[to_scale] = scaler.fit_transform(df[to_scale])\n",
    "    return df\n",
    "    '''"
   ]
  },
  {
   "cell_type": "code",
   "execution_count": 22,
   "metadata": {},
   "outputs": [
    {
     "name": "stdout",
     "output_type": "stream",
     "text": [
      "<class 'pandas.core.frame.DataFrame'>\n",
      "RangeIndex: 992931 entries, 0 to 992930\n",
      "Columns: 128 entries, msno to plan_days_450\n",
      "dtypes: float64(2), int64(125), object(1)\n",
      "memory usage: 969.7+ MB\n"
     ]
    }
   ],
   "source": [
    "data.info()"
   ]
  },
  {
   "cell_type": "code",
   "execution_count": 23,
   "metadata": {},
   "outputs": [
    {
     "data": {
      "text/plain": [
       "0    929460\n",
       "1     63471\n",
       "Name: is_churn, dtype: int64"
      ]
     },
     "execution_count": 23,
     "metadata": {},
     "output_type": "execute_result"
    }
   ],
   "source": [
    "data['is_churn'].value_counts()"
   ]
  },
  {
   "cell_type": "code",
   "execution_count": 24,
   "metadata": {},
   "outputs": [],
   "source": [
    "# creating a hold-out set to test our random forest parameters\n",
    "X, y = data.drop(['is_churn', 'msno'], axis=1), data['is_churn']\n",
    "\n",
    "sss = StratifiedShuffleSplit(n_splits=5, test_size=0.2, random_state=13)\n",
    "for train_index, test_index in sss.split(X, y):\n",
    "    X_train, y_train = X.loc[train_index], y.loc[train_index]\n",
    "    X_test, y_test = X.loc[test_index], y.loc[test_index]"
   ]
  },
  {
   "cell_type": "code",
   "execution_count": 25,
   "metadata": {},
   "outputs": [
    {
     "name": "stdout",
     "output_type": "stream",
     "text": [
      "794344\n",
      "0    743567\n",
      "1     50777\n",
      "Name: is_churn, dtype: int64\n",
      "198587\n",
      "0    185893\n",
      "1     12694\n",
      "Name: is_churn, dtype: int64\n"
     ]
    }
   ],
   "source": [
    "print len(y_train)\n",
    "print y_train.value_counts()\n",
    "print len(y_test)\n",
    "print y_test.value_counts()"
   ]
  },
  {
   "cell_type": "code",
   "execution_count": 26,
   "metadata": {},
   "outputs": [
    {
     "name": "stdout",
     "output_type": "stream",
     "text": [
      "building tree 1 of 10\n",
      "building tree 2 of 10\n",
      "building tree 3 of 10\n",
      "building tree 4 of 10\n",
      "building tree 5 of 10\n",
      "building tree 6 of 10\n",
      "building tree 7 of 10\n",
      "building tree 8 of 10\n",
      "building tree 9 of 10\n",
      "building tree 10 of 10\n"
     ]
    },
    {
     "name": "stderr",
     "output_type": "stream",
     "text": [
      "[Parallel(n_jobs=2)]: Done  10 out of  10 | elapsed:    8.3s finished\n",
      "[Parallel(n_jobs=2)]: Done  10 out of  10 | elapsed:    0.0s finished\n",
      "[Parallel(n_jobs=2)]: Done  10 out of  10 | elapsed:    0.5s finished\n"
     ]
    },
    {
     "name": "stdout",
     "output_type": "stream",
     "text": [
      "building tree 1 of 10building tree 2 of 10\n",
      "\n",
      "building tree 3 of 10\n",
      "building tree 4 of 10\n",
      "building tree 5 of 10\n",
      "building tree 6 of 10\n",
      "building tree 7 of 10\n",
      "building tree 8 of 10\n",
      "building tree 9 of 10\n",
      "building tree 10 of 10\n"
     ]
    },
    {
     "name": "stderr",
     "output_type": "stream",
     "text": [
      "[Parallel(n_jobs=2)]: Done  10 out of  10 | elapsed:    8.3s finished\n",
      "[Parallel(n_jobs=2)]: Done  10 out of  10 | elapsed:    0.1s finished\n",
      "[Parallel(n_jobs=2)]: Done  10 out of  10 | elapsed:    0.6s finished\n"
     ]
    },
    {
     "name": "stdout",
     "output_type": "stream",
     "text": [
      "building tree 1 of 10\n",
      " building tree 2 of 10\n",
      "building tree 3 of 10\n",
      "building tree 4 of 10\n",
      "building tree 5 of 10\n",
      "building tree 6 of 10\n",
      "building tree 7 of 10\n",
      "building tree 8 of 10\n",
      "building tree 9 of 10\n",
      "building tree 10 of 10\n"
     ]
    },
    {
     "name": "stderr",
     "output_type": "stream",
     "text": [
      "[Parallel(n_jobs=2)]: Done  10 out of  10 | elapsed:    7.1s finished\n",
      "[Parallel(n_jobs=2)]: Done  10 out of  10 | elapsed:    0.0s finished\n",
      "[Parallel(n_jobs=2)]: Done  10 out of  10 | elapsed:    0.5s finished\n"
     ]
    },
    {
     "name": "stdout",
     "output_type": "stream",
     "text": [
      "building tree 1 of 10\n",
      "building tree 2 of 10\n",
      "building tree 3 of 10\n",
      "building tree 4 of 10\n",
      "building tree 5 of 10\n",
      "building tree 6 of 10\n",
      "building tree 7 of 10\n",
      "building tree 8 of 10\n",
      "building tree 9 of 10\n",
      "building tree 10 of 10\n"
     ]
    },
    {
     "name": "stderr",
     "output_type": "stream",
     "text": [
      "[Parallel(n_jobs=2)]: Done  10 out of  10 | elapsed:    8.6s finished\n",
      "[Parallel(n_jobs=2)]: Done  10 out of  10 | elapsed:    0.0s finished\n",
      "[Parallel(n_jobs=2)]: Done  10 out of  10 | elapsed:    0.6s finished\n"
     ]
    },
    {
     "name": "stdout",
     "output_type": "stream",
     "text": [
      "building tree 1 of 10building tree 2 of 10\n",
      "\n",
      "building tree 3 of 10\n",
      "building tree 4 of 10\n",
      "building tree 5 of 10\n",
      "building tree 6 of 10\n",
      "building tree 7 of 10\n",
      "building tree 8 of 10\n",
      "building tree 9 of 10\n",
      "building tree 10 of 10\n"
     ]
    },
    {
     "name": "stderr",
     "output_type": "stream",
     "text": [
      "[Parallel(n_jobs=2)]: Done  10 out of  10 | elapsed:    7.4s finished\n",
      "[Parallel(n_jobs=2)]: Done  10 out of  10 | elapsed:    0.0s finished\n",
      "[Parallel(n_jobs=2)]: Done  10 out of  10 | elapsed:    0.5s finished\n"
     ]
    },
    {
     "name": "stdout",
     "output_type": "stream",
     "text": [
      "building tree 1 of 10building tree 2 of 10\n",
      "\n",
      "building tree 3 of 10\n",
      "building tree 4 of 10\n",
      "building tree 5 of 10\n",
      "building tree 6 of 10\n",
      "building tree 7 of 10\n",
      "building tree 8 of 10\n",
      "building tree 9 of 10\n",
      "building tree 10 of 10\n"
     ]
    },
    {
     "name": "stderr",
     "output_type": "stream",
     "text": [
      "[Parallel(n_jobs=2)]: Done  10 out of  10 | elapsed:    8.1s finished\n",
      "[Parallel(n_jobs=2)]: Done  10 out of  10 | elapsed:    0.0s finished\n",
      "[Parallel(n_jobs=2)]: Done  10 out of  10 | elapsed:    0.5s finished\n"
     ]
    },
    {
     "name": "stdout",
     "output_type": "stream",
     "text": [
      "building tree 1 of 10building tree 2 of 10\n",
      "\n",
      "building tree 3 of 10\n",
      "building tree 4 of 10\n",
      "building tree 5 of 10\n",
      "building tree 6 of 10\n",
      "building tree 7 of 10\n",
      "building tree 8 of 10\n",
      "building tree 9 of 10\n",
      "building tree 10 of 10\n"
     ]
    },
    {
     "name": "stderr",
     "output_type": "stream",
     "text": [
      "[Parallel(n_jobs=2)]: Done  10 out of  10 | elapsed:    7.4s finished\n",
      "[Parallel(n_jobs=2)]: Done  10 out of  10 | elapsed:    0.0s finished\n",
      "[Parallel(n_jobs=2)]: Done  10 out of  10 | elapsed:    0.5s finished\n"
     ]
    },
    {
     "name": "stdout",
     "output_type": "stream",
     "text": [
      "building tree 1 of 10\n",
      " building tree 2 of 10\n",
      "building tree 3 of 10\n",
      "building tree 4 of 10\n",
      "building tree 5 of 10\n",
      "building tree 6 of 10\n",
      "building tree 7 of 10\n",
      "building tree 8 of 10\n",
      "building tree 9 of 10\n",
      "building tree 10 of 10\n"
     ]
    },
    {
     "name": "stderr",
     "output_type": "stream",
     "text": [
      "[Parallel(n_jobs=2)]: Done  10 out of  10 | elapsed:    9.7s finished\n",
      "[Parallel(n_jobs=2)]: Done  10 out of  10 | elapsed:    0.0s finished\n",
      "[Parallel(n_jobs=2)]: Done  10 out of  10 | elapsed:    0.6s finished\n"
     ]
    },
    {
     "name": "stdout",
     "output_type": "stream",
     "text": [
      "building tree 1 of 10\n",
      "building tree 2 of 10\n",
      "building tree 3 of 10\n",
      "building tree 4 of 10\n",
      "building tree 5 of 10\n",
      "building tree 6 of 10\n",
      "building tree 7 of 10\n",
      "building tree 8 of 10\n",
      "building tree 9 of 10\n",
      "building tree 10 of 10\n"
     ]
    },
    {
     "name": "stderr",
     "output_type": "stream",
     "text": [
      "[Parallel(n_jobs=2)]: Done  10 out of  10 | elapsed:   11.0s finished\n",
      "[Parallel(n_jobs=2)]: Done  10 out of  10 | elapsed:    0.0s finished\n",
      "[Parallel(n_jobs=2)]: Done  10 out of  10 | elapsed:    0.7s finished\n"
     ]
    },
    {
     "name": "stdout",
     "output_type": "stream",
     "text": [
      "building tree 1 of 10\n",
      " building tree 2 of 10\n",
      "building tree 3 of 10\n",
      "building tree 4 of 10\n",
      "building tree 5 of 10\n",
      "building tree 6 of 10\n",
      "building tree 7 of 10\n",
      "building tree 8 of 10\n",
      "building tree 9 of 10\n",
      "building tree 10 of 10\n"
     ]
    },
    {
     "name": "stderr",
     "output_type": "stream",
     "text": [
      "[Parallel(n_jobs=2)]: Done  10 out of  10 | elapsed:    9.9s finished\n",
      "[Parallel(n_jobs=2)]: Done  10 out of  10 | elapsed:    0.0s finished\n",
      "[Parallel(n_jobs=2)]: Done  10 out of  10 | elapsed:    0.6s finished\n"
     ]
    },
    {
     "name": "stdout",
     "output_type": "stream",
     "text": [
      "building tree 1 of 10building tree 2 of 10\n",
      "\n",
      "building tree 3 of 10\n",
      "building tree 4 of 10\n",
      "building tree 5 of 10\n",
      "building tree 6 of 10\n",
      "building tree 7 of 10\n",
      "building tree 8 of 10\n",
      "building tree 9 of 10\n",
      "building tree 10 of 10\n"
     ]
    },
    {
     "name": "stderr",
     "output_type": "stream",
     "text": [
      "[Parallel(n_jobs=2)]: Done  10 out of  10 | elapsed:    9.9s finished\n",
      "[Parallel(n_jobs=2)]: Done  10 out of  10 | elapsed:    0.0s finished\n",
      "[Parallel(n_jobs=2)]: Done  10 out of  10 | elapsed:    0.6s finished\n"
     ]
    },
    {
     "name": "stdout",
     "output_type": "stream",
     "text": [
      "building tree 1 of 10\n",
      "building tree 2 of 10\n",
      "building tree 3 of 10\n",
      "building tree 4 of 10\n",
      "building tree 5 of 10\n",
      "building tree 6 of 10\n",
      "building tree 7 of 10\n",
      "building tree 8 of 10\n",
      "building tree 9 of 10\n",
      "building tree 10 of 10\n"
     ]
    },
    {
     "name": "stderr",
     "output_type": "stream",
     "text": [
      "[Parallel(n_jobs=2)]: Done  10 out of  10 | elapsed:   11.0s finished\n",
      "[Parallel(n_jobs=2)]: Done  10 out of  10 | elapsed:    0.0s finished\n",
      "[Parallel(n_jobs=2)]: Done  10 out of  10 | elapsed:    0.7s finished\n"
     ]
    },
    {
     "name": "stdout",
     "output_type": "stream",
     "text": [
      "building tree 1 of 10 \n",
      "building tree 2 of 10\n",
      "building tree 3 of 10\n",
      "building tree 4 of 10\n",
      "building tree 5 of 10\n",
      "building tree 6 of 10\n",
      "building tree 7 of 10\n",
      "building tree 8 of 10\n",
      "building tree 9 of 10\n",
      "building tree 10 of 10\n"
     ]
    },
    {
     "name": "stderr",
     "output_type": "stream",
     "text": [
      "[Parallel(n_jobs=2)]: Done  10 out of  10 | elapsed:    6.4s finished\n",
      "[Parallel(n_jobs=2)]: Done  10 out of  10 | elapsed:    0.0s finished\n",
      "[Parallel(n_jobs=2)]: Done  10 out of  10 | elapsed:    0.5s finished\n"
     ]
    },
    {
     "name": "stdout",
     "output_type": "stream",
     "text": [
      "building tree 1 of 10\n",
      " building tree 2 of 10\n",
      "building tree 3 of 10\n",
      "building tree 4 of 10\n",
      "building tree 5 of 10\n",
      "building tree 6 of 10\n",
      "building tree 7 of 10\n",
      "building tree 8 of 10\n",
      "building tree 9 of 10\n",
      "building tree 10 of 10\n"
     ]
    },
    {
     "name": "stderr",
     "output_type": "stream",
     "text": [
      "[Parallel(n_jobs=2)]: Done  10 out of  10 | elapsed:    8.6s finished\n",
      "[Parallel(n_jobs=2)]: Done  10 out of  10 | elapsed:    0.0s finished\n",
      "[Parallel(n_jobs=2)]: Done  10 out of  10 | elapsed:    0.6s finished\n"
     ]
    },
    {
     "name": "stdout",
     "output_type": "stream",
     "text": [
      "building tree 1 of 10building tree 2 of 10\n",
      "\n",
      "building tree 3 of 10\n",
      "building tree 4 of 10\n",
      "building tree 5 of 10\n",
      "building tree 6 of 10\n",
      "building tree 7 of 10\n",
      "building tree 8 of 10\n",
      "building tree 9 of 10\n",
      "building tree 10 of 10\n"
     ]
    },
    {
     "name": "stderr",
     "output_type": "stream",
     "text": [
      "[Parallel(n_jobs=2)]: Done  10 out of  10 | elapsed:    9.1s finished\n",
      "[Parallel(n_jobs=2)]: Done  10 out of  10 | elapsed:    0.0s finished\n",
      "[Parallel(n_jobs=2)]: Done  10 out of  10 | elapsed:    0.6s finished\n"
     ]
    },
    {
     "name": "stdout",
     "output_type": "stream",
     "text": [
      "building tree 1 of 10\n",
      "building tree 2 of 10\n",
      "building tree 3 of 10\n",
      "building tree 4 of 10\n",
      "building tree 5 of 10\n",
      "building tree 6 of 10\n",
      "building tree 7 of 10\n",
      "building tree 8 of 10\n",
      "building tree 9 of 10\n",
      "building tree 10 of 10\n"
     ]
    },
    {
     "name": "stderr",
     "output_type": "stream",
     "text": [
      "[Parallel(n_jobs=2)]: Done  10 out of  10 | elapsed:    8.8s finished\n",
      "[Parallel(n_jobs=2)]: Done  10 out of  10 | elapsed:    0.0s finished\n",
      "[Parallel(n_jobs=2)]: Done  10 out of  10 | elapsed:    0.5s finished\n"
     ]
    },
    {
     "name": "stdout",
     "output_type": "stream",
     "text": [
      "building tree 1 of 15\n",
      " building tree 2 of 15\n",
      "building tree 3 of 15\n",
      "building tree 4 of 15\n",
      "building tree 5 of 15\n",
      "building tree 6 of 15\n",
      "building tree 7 of 15\n",
      "building tree 8 of 15\n",
      "building tree 9 of 15\n",
      "building tree 10 of 15\n",
      "building tree 11 of 15\n",
      "building tree 12 of 15\n",
      "building tree 13 of 15\n",
      "building tree 14 of 15\n",
      "building tree 15 of 15\n"
     ]
    },
    {
     "name": "stderr",
     "output_type": "stream",
     "text": [
      "[Parallel(n_jobs=2)]: Done  15 out of  15 | elapsed:   10.9s finished\n",
      "[Parallel(n_jobs=2)]: Done  15 out of  15 | elapsed:    0.0s finished\n",
      "[Parallel(n_jobs=2)]: Done  15 out of  15 | elapsed:    0.8s finished\n"
     ]
    },
    {
     "name": "stdout",
     "output_type": "stream",
     "text": [
      "building tree 1 of 15\n",
      "building tree 2 of 15\n",
      "building tree 3 of 15\n",
      "building tree 4 of 15\n",
      "building tree 5 of 15\n",
      "building tree 6 of 15\n",
      "building tree 7 of 15\n",
      "building tree 8 of 15\n",
      "building tree 9 of 15\n",
      "building tree 10 of 15\n",
      "building tree 11 of 15\n",
      "building tree 12 of 15\n",
      "building tree 13 of 15\n",
      "building tree 14 of 15\n",
      "building tree 15 of 15\n"
     ]
    },
    {
     "name": "stderr",
     "output_type": "stream",
     "text": [
      "[Parallel(n_jobs=2)]: Done  15 out of  15 | elapsed:   12.7s finished\n",
      "[Parallel(n_jobs=2)]: Done  15 out of  15 | elapsed:    0.0s finished\n",
      "[Parallel(n_jobs=2)]: Done  15 out of  15 | elapsed:    0.9s finished\n"
     ]
    },
    {
     "name": "stdout",
     "output_type": "stream",
     "text": [
      "building tree 1 of 15\n",
      " building tree 2 of 15\n",
      "building tree 3 of 15\n",
      "building tree 4 of 15\n",
      "building tree 5 of 15\n",
      "building tree 6 of 15\n",
      "building tree 7 of 15\n",
      "building tree 8 of 15\n",
      "building tree 9 of 15\n",
      "building tree 10 of 15\n",
      "building tree 11 of 15\n",
      "building tree 12 of 15\n",
      "building tree 13 of 15\n",
      "building tree 14 of 15\n",
      "building tree 15 of 15\n"
     ]
    },
    {
     "name": "stderr",
     "output_type": "stream",
     "text": [
      "[Parallel(n_jobs=2)]: Done  15 out of  15 | elapsed:   10.2s finished\n",
      "[Parallel(n_jobs=2)]: Done  15 out of  15 | elapsed:    0.0s finished\n",
      "[Parallel(n_jobs=2)]: Done  15 out of  15 | elapsed:    0.8s finished\n"
     ]
    },
    {
     "name": "stdout",
     "output_type": "stream",
     "text": [
      "building tree 1 of 15 \n",
      "building tree 2 of 15\n",
      "building tree 3 of 15\n",
      "building tree 4 of 15\n",
      "building tree 5 of 15\n",
      "building tree 6 of 15\n",
      "building tree 7 of 15\n",
      "building tree 8 of 15\n",
      "building tree 9 of 15\n",
      "building tree 10 of 15\n",
      "building tree 11 of 15\n",
      "building tree 12 of 15\n",
      "building tree 13 of 15\n",
      "building tree 14 of 15\n",
      "building tree 15 of 15\n"
     ]
    },
    {
     "name": "stderr",
     "output_type": "stream",
     "text": [
      "[Parallel(n_jobs=2)]: Done  15 out of  15 | elapsed:   12.3s finished\n",
      "[Parallel(n_jobs=2)]: Done  15 out of  15 | elapsed:    0.0s finished\n",
      "[Parallel(n_jobs=2)]: Done  15 out of  15 | elapsed:    0.9s finished\n"
     ]
    },
    {
     "name": "stdout",
     "output_type": "stream",
     "text": [
      "building tree 1 of 15 \n",
      "building tree 2 of 15\n",
      "building tree 3 of 15\n",
      "building tree 4 of 15\n",
      "building tree 5 of 15\n",
      "building tree 6 of 15\n",
      "building tree 7 of 15\n",
      "building tree 8 of 15\n",
      "building tree 9 of 15\n",
      "building tree 10 of 15\n",
      "building tree 11 of 15\n",
      "building tree 12 of 15\n",
      "building tree 13 of 15\n",
      "building tree 14 of 15\n",
      "building tree 15 of 15\n"
     ]
    },
    {
     "name": "stderr",
     "output_type": "stream",
     "text": [
      "[Parallel(n_jobs=2)]: Done  15 out of  15 | elapsed:   11.5s finished\n",
      "[Parallel(n_jobs=2)]: Done  15 out of  15 | elapsed:    0.0s finished\n",
      "[Parallel(n_jobs=2)]: Done  15 out of  15 | elapsed:    0.8s finished\n"
     ]
    },
    {
     "name": "stdout",
     "output_type": "stream",
     "text": [
      "building tree 1 of 15\n",
      "building tree 2 of 15\n",
      "building tree 3 of 15\n",
      "building tree 4 of 15\n",
      "building tree 5 of 15\n",
      "building tree 6 of 15\n",
      "building tree 7 of 15\n",
      "building tree 8 of 15\n",
      "building tree 9 of 15\n",
      "building tree 10 of 15\n",
      "building tree 11 of 15\n",
      "building tree 12 of 15\n",
      "building tree 13 of 15\n",
      "building tree 14 of 15\n",
      "building tree 15 of 15\n"
     ]
    },
    {
     "name": "stderr",
     "output_type": "stream",
     "text": [
      "[Parallel(n_jobs=2)]: Done  15 out of  15 | elapsed:   11.9s finished\n",
      "[Parallel(n_jobs=2)]: Done  15 out of  15 | elapsed:    0.0s finished\n",
      "[Parallel(n_jobs=2)]: Done  15 out of  15 | elapsed:    0.9s finished\n"
     ]
    },
    {
     "name": "stdout",
     "output_type": "stream",
     "text": [
      "building tree 1 of 15building tree 2 of 15\n",
      "\n",
      "building tree 3 of 15\n",
      "building tree 4 of 15\n",
      "building tree 5 of 15\n",
      "building tree 6 of 15\n",
      "building tree 7 of 15\n",
      "building tree 8 of 15\n",
      "building tree 9 of 15\n",
      "building tree 10 of 15\n",
      "building tree 11 of 15\n",
      "building tree 12 of 15\n",
      "building tree 13 of 15\n",
      "building tree 14 of 15\n",
      "building tree 15 of 15\n"
     ]
    },
    {
     "name": "stderr",
     "output_type": "stream",
     "text": [
      "[Parallel(n_jobs=2)]: Done  15 out of  15 | elapsed:   10.4s finished\n",
      "[Parallel(n_jobs=2)]: Done  15 out of  15 | elapsed:    0.0s finished\n",
      "[Parallel(n_jobs=2)]: Done  15 out of  15 | elapsed:    0.7s finished\n"
     ]
    },
    {
     "name": "stdout",
     "output_type": "stream",
     "text": [
      "building tree 1 of 15\n",
      "building tree 2 of 15\n",
      "building tree 3 of 15\n",
      "building tree 4 of 15\n",
      "building tree 5 of 15\n",
      "building tree 6 of 15\n",
      "building tree 7 of 15\n",
      "building tree 8 of 15\n",
      "building tree 9 of 15\n",
      "building tree 10 of 15\n",
      "building tree 11 of 15\n",
      "building tree 12 of 15\n",
      "building tree 13 of 15\n",
      "building tree 14 of 15\n",
      "building tree 15 of 15\n"
     ]
    },
    {
     "name": "stderr",
     "output_type": "stream",
     "text": [
      "[Parallel(n_jobs=2)]: Done  15 out of  15 | elapsed:   12.7s finished\n",
      "[Parallel(n_jobs=2)]: Done  15 out of  15 | elapsed:    0.0s finished\n",
      "[Parallel(n_jobs=2)]: Done  15 out of  15 | elapsed:    0.8s finished\n"
     ]
    },
    {
     "name": "stdout",
     "output_type": "stream",
     "text": [
      "building tree 1 of 15\n",
      "building tree 2 of 15\n",
      "building tree 3 of 15\n",
      "building tree 4 of 15\n",
      "building tree 5 of 15\n",
      "building tree 6 of 15\n",
      "building tree 7 of 15\n",
      "building tree 8 of 15\n",
      "building tree 9 of 15\n",
      "building tree 10 of 15\n",
      "building tree 11 of 15\n",
      "building tree 12 of 15\n",
      "building tree 13 of 15\n",
      "building tree 14 of 15\n",
      "building tree 15 of 15\n"
     ]
    },
    {
     "name": "stderr",
     "output_type": "stream",
     "text": [
      "[Parallel(n_jobs=2)]: Done  15 out of  15 | elapsed:   12.4s finished\n",
      "[Parallel(n_jobs=2)]: Done  15 out of  15 | elapsed:    0.0s finished\n",
      "[Parallel(n_jobs=2)]: Done  15 out of  15 | elapsed:    0.8s finished\n"
     ]
    },
    {
     "name": "stdout",
     "output_type": "stream",
     "text": [
      "building tree 1 of 15building tree 2 of 15\n",
      "\n",
      "building tree 3 of 15\n",
      "building tree 4 of 15\n",
      "building tree 5 of 15\n",
      "building tree 6 of 15\n",
      "building tree 7 of 15\n",
      "building tree 8 of 15\n",
      "building tree 9 of 15\n",
      "building tree 10 of 15\n",
      "building tree 11 of 15\n",
      "building tree 12 of 15\n",
      "building tree 13 of 15\n",
      "building tree 14 of 15\n",
      "building tree 15 of 15\n"
     ]
    },
    {
     "name": "stderr",
     "output_type": "stream",
     "text": [
      "[Parallel(n_jobs=2)]: Done  15 out of  15 | elapsed:   13.1s finished\n",
      "[Parallel(n_jobs=2)]: Done  15 out of  15 | elapsed:    0.0s finished\n",
      "[Parallel(n_jobs=2)]: Done  15 out of  15 | elapsed:    0.8s finished\n"
     ]
    },
    {
     "name": "stdout",
     "output_type": "stream",
     "text": [
      "building tree 1 of 15\n",
      " building tree 2 of 15\n",
      "building tree 3 of 15\n",
      "building tree 4 of 15\n",
      "building tree 5 of 15\n",
      "building tree 6 of 15\n",
      "building tree 7 of 15\n",
      "building tree 8 of 15\n",
      "building tree 9 of 15\n",
      "building tree 10 of 15\n",
      "building tree 11 of 15\n",
      "building tree 12 of 15\n",
      "building tree 13 of 15\n",
      "building tree 14 of 15\n",
      "building tree 15 of 15\n"
     ]
    },
    {
     "name": "stderr",
     "output_type": "stream",
     "text": [
      "[Parallel(n_jobs=2)]: Done  15 out of  15 | elapsed:   12.3s finished\n",
      "[Parallel(n_jobs=2)]: Done  15 out of  15 | elapsed:    0.0s finished\n",
      "[Parallel(n_jobs=2)]: Done  15 out of  15 | elapsed:    0.8s finished\n"
     ]
    },
    {
     "name": "stdout",
     "output_type": "stream",
     "text": [
      "building tree 1 of 15building tree 2 of 15\n",
      "\n",
      "building tree 3 of 15\n",
      "building tree 4 of 15\n",
      "building tree 5 of 15\n",
      "building tree 6 of 15\n",
      "building tree 7 of 15\n",
      "building tree 8 of 15\n",
      "building tree 9 of 15\n",
      "building tree 10 of 15\n",
      "building tree 11 of 15\n",
      "building tree 12 of 15\n",
      "building tree 13 of 15\n",
      "building tree 14 of 15\n",
      "building tree 15 of 15\n"
     ]
    },
    {
     "name": "stderr",
     "output_type": "stream",
     "text": [
      "[Parallel(n_jobs=2)]: Done  15 out of  15 | elapsed:   14.0s finished\n",
      "[Parallel(n_jobs=2)]: Done  15 out of  15 | elapsed:    0.1s finished\n",
      "[Parallel(n_jobs=2)]: Done  15 out of  15 | elapsed:    1.0s finished\n"
     ]
    },
    {
     "name": "stdout",
     "output_type": "stream",
     "text": [
      "building tree 1 of 15\n",
      "building tree 2 of 15\n",
      "building tree 3 of 15\n",
      "building tree 4 of 15\n",
      "building tree 5 of 15\n",
      "building tree 6 of 15\n",
      "building tree 7 of 15\n",
      "building tree 8 of 15\n",
      "building tree 9 of 15\n",
      "building tree 10 of 15\n",
      "building tree 11 of 15\n",
      "building tree 12 of 15\n",
      "building tree 13 of 15\n",
      "building tree 14 of 15\n",
      "building tree 15 of 15\n"
     ]
    },
    {
     "name": "stderr",
     "output_type": "stream",
     "text": [
      "[Parallel(n_jobs=2)]: Done  15 out of  15 | elapsed:   10.4s finished\n",
      "[Parallel(n_jobs=2)]: Done  15 out of  15 | elapsed:    0.0s finished\n",
      "[Parallel(n_jobs=2)]: Done  15 out of  15 | elapsed:    0.8s finished\n"
     ]
    },
    {
     "name": "stdout",
     "output_type": "stream",
     "text": [
      "building tree 1 of 15building tree 2 of 15\n",
      "\n",
      "building tree 3 of 15\n",
      "building tree 4 of 15\n",
      "building tree 5 of 15\n",
      "building tree 6 of 15\n",
      "building tree 7 of 15\n",
      "building tree 8 of 15\n",
      "building tree 9 of 15\n",
      "building tree 10 of 15\n",
      "building tree 11 of 15\n",
      "building tree 12 of 15\n",
      "building tree 13 of 15\n",
      "building tree 14 of 15\n",
      "building tree 15 of 15\n"
     ]
    },
    {
     "name": "stderr",
     "output_type": "stream",
     "text": [
      "[Parallel(n_jobs=2)]: Done  15 out of  15 | elapsed:   12.1s finished\n",
      "[Parallel(n_jobs=2)]: Done  15 out of  15 | elapsed:    0.0s finished\n",
      "[Parallel(n_jobs=2)]: Done  15 out of  15 | elapsed:    0.9s finished\n"
     ]
    },
    {
     "name": "stdout",
     "output_type": "stream",
     "text": [
      "building tree 1 of 15building tree 2 of 15\n",
      "\n",
      "building tree 3 of 15\n",
      "building tree 4 of 15\n",
      "building tree 5 of 15\n",
      "building tree 6 of 15\n",
      "building tree 7 of 15\n",
      "building tree 8 of 15\n",
      "building tree 9 of 15\n",
      "building tree 10 of 15\n",
      "building tree 11 of 15\n",
      "building tree 12 of 15\n",
      "building tree 13 of 15\n",
      "building tree 14 of 15\n",
      "building tree 15 of 15\n"
     ]
    },
    {
     "name": "stderr",
     "output_type": "stream",
     "text": [
      "[Parallel(n_jobs=2)]: Done  15 out of  15 | elapsed:   13.3s finished\n",
      "[Parallel(n_jobs=2)]: Done  15 out of  15 | elapsed:    0.0s finished\n",
      "[Parallel(n_jobs=2)]: Done  15 out of  15 | elapsed:    1.1s finished\n"
     ]
    },
    {
     "name": "stdout",
     "output_type": "stream",
     "text": [
      "building tree 1 of 15\n",
      " building tree 2 of 15\n",
      "building tree 3 of 15\n",
      "building tree 4 of 15\n",
      "building tree 5 of 15\n",
      "building tree 6 of 15\n",
      "building tree 7 of 15\n",
      "building tree 8 of 15\n",
      "building tree 9 of 15\n",
      "building tree 10 of 15\n",
      "building tree 11 of 15\n",
      "building tree 12 of 15\n",
      "building tree 13 of 15\n",
      "building tree 14 of 15\n",
      "building tree 15 of 15\n"
     ]
    },
    {
     "name": "stderr",
     "output_type": "stream",
     "text": [
      "[Parallel(n_jobs=2)]: Done  15 out of  15 | elapsed:   12.0s finished\n",
      "[Parallel(n_jobs=2)]: Done  15 out of  15 | elapsed:    0.0s finished\n",
      "[Parallel(n_jobs=2)]: Done  15 out of  15 | elapsed:    0.8s finished\n"
     ]
    },
    {
     "name": "stdout",
     "output_type": "stream",
     "text": [
      "building tree 1 of 20 \n",
      "building tree 2 of 20\n",
      "building tree 3 of 20\n",
      "building tree 4 of 20\n",
      "building tree 5 of 20\n",
      "building tree 6 of 20\n",
      "building tree 7 of 20\n",
      "building tree 8 of 20\n",
      "building tree 9 of 20\n",
      "building tree 10 of 20\n",
      "building tree 11 of 20\n",
      "building tree 12 of 20\n",
      "building tree 13 of 20\n",
      "building tree 14 of 20\n",
      "building tree 15 of 20\n",
      "building tree 16 of 20\n",
      "building tree 17 of 20\n",
      "building tree 18 of 20\n",
      "building tree 19 of 20\n",
      "building tree 20 of 20\n"
     ]
    },
    {
     "name": "stderr",
     "output_type": "stream",
     "text": [
      "[Parallel(n_jobs=2)]: Done  20 out of  20 | elapsed:   16.2s finished\n",
      "[Parallel(n_jobs=2)]: Done  20 out of  20 | elapsed:    0.2s finished\n",
      "[Parallel(n_jobs=2)]: Done  20 out of  20 | elapsed:    1.2s finished\n"
     ]
    },
    {
     "name": "stdout",
     "output_type": "stream",
     "text": [
      "building tree 1 of 20\n",
      "building tree 2 of 20\n",
      "building tree 3 of 20\n",
      "building tree 4 of 20\n",
      "building tree 5 of 20\n",
      "building tree 6 of 20\n",
      "building tree 7 of 20\n",
      "building tree 8 of 20\n",
      "building tree 9 of 20\n",
      "building tree 10 of 20\n",
      "building tree 11 of 20\n",
      "building tree 12 of 20\n",
      "building tree 13 of 20\n",
      "building tree 14 of 20\n",
      "building tree 15 of 20\n",
      "building tree 16 of 20\n",
      "building tree 17 of 20\n",
      "building tree 18 of 20\n",
      "building tree 19 of 20\n",
      "building tree 20 of 20\n"
     ]
    },
    {
     "name": "stderr",
     "output_type": "stream",
     "text": [
      "[Parallel(n_jobs=2)]: Done  20 out of  20 | elapsed:   18.0s finished\n",
      "[Parallel(n_jobs=2)]: Done  20 out of  20 | elapsed:    0.2s finished\n",
      "[Parallel(n_jobs=2)]: Done  20 out of  20 | elapsed:    1.3s finished\n"
     ]
    },
    {
     "name": "stdout",
     "output_type": "stream",
     "text": [
      "building tree 1 of 20\n",
      " building tree 2 of 20\n",
      "building tree 3 of 20\n",
      "building tree 4 of 20\n",
      "building tree 5 of 20\n",
      "building tree 6 of 20\n",
      "building tree 7 of 20\n",
      "building tree 8 of 20\n",
      "building tree 9 of 20\n",
      "building tree 10 of 20\n",
      "building tree 11 of 20\n",
      "building tree 12 of 20\n",
      "building tree 13 of 20\n",
      "building tree 14 of 20\n",
      "building tree 15 of 20\n",
      "building tree 16 of 20\n",
      "building tree 17 of 20building tree 18 of 20\n",
      "\n",
      "building tree 19 of 20\n",
      "building tree 20 of 20\n"
     ]
    },
    {
     "name": "stderr",
     "output_type": "stream",
     "text": [
      "[Parallel(n_jobs=2)]: Done  20 out of  20 | elapsed:   14.0s finished\n",
      "[Parallel(n_jobs=2)]: Done  20 out of  20 | elapsed:    0.1s finished\n",
      "[Parallel(n_jobs=2)]: Done  20 out of  20 | elapsed:    1.3s finished\n"
     ]
    },
    {
     "name": "stdout",
     "output_type": "stream",
     "text": [
      "building tree 1 of 20\n",
      "building tree 2 of 20\n",
      "building tree 3 of 20\n",
      "building tree 4 of 20\n",
      "building tree 5 of 20\n",
      "building tree 6 of 20\n",
      "building tree 7 of 20\n",
      "building tree 8 of 20\n",
      "building tree 9 of 20\n",
      "building tree 10 of 20\n",
      "building tree 11 of 20\n",
      "building tree 12 of 20\n",
      "building tree 13 of 20\n",
      "building tree 14 of 20\n",
      "building tree 15 of 20\n",
      "building tree 16 of 20\n",
      "building tree 17 of 20\n",
      "building tree 18 of 20\n",
      "building tree 19 of 20\n",
      "building tree 20 of 20\n"
     ]
    },
    {
     "name": "stderr",
     "output_type": "stream",
     "text": [
      "[Parallel(n_jobs=2)]: Done  20 out of  20 | elapsed:   15.9s finished\n",
      "[Parallel(n_jobs=2)]: Done  20 out of  20 | elapsed:    0.1s finished\n",
      "[Parallel(n_jobs=2)]: Done  20 out of  20 | elapsed:    1.2s finished\n"
     ]
    },
    {
     "name": "stdout",
     "output_type": "stream",
     "text": [
      "building tree 1 of 20\n",
      " building tree 2 of 20\n",
      "building tree 3 of 20\n",
      "building tree 4 of 20\n",
      "building tree 5 of 20\n",
      "building tree 6 of 20\n",
      "building tree 7 of 20\n",
      "building tree 8 of 20\n",
      "building tree 9 of 20\n",
      "building tree 10 of 20\n",
      "building tree 11 of 20\n",
      "building tree 12 of 20\n",
      "building tree 13 of 20\n",
      "building tree 14 of 20\n",
      "building tree 15 of 20\n",
      "building tree 16 of 20\n",
      "building tree 17 of 20\n",
      "building tree 18 of 20\n",
      "building tree 19 of 20\n",
      "building tree 20 of 20\n"
     ]
    },
    {
     "name": "stderr",
     "output_type": "stream",
     "text": [
      "[Parallel(n_jobs=2)]: Done  20 out of  20 | elapsed:   15.9s finished\n",
      "[Parallel(n_jobs=2)]: Done  20 out of  20 | elapsed:    0.1s finished\n",
      "[Parallel(n_jobs=2)]: Done  20 out of  20 | elapsed:    1.1s finished\n"
     ]
    },
    {
     "name": "stdout",
     "output_type": "stream",
     "text": [
      "building tree 1 of 20 \n",
      "building tree 2 of 20\n",
      "building tree 3 of 20\n",
      "building tree 4 of 20\n",
      "building tree 5 of 20\n",
      "building tree 6 of 20\n",
      "building tree 7 of 20\n",
      "building tree 8 of 20\n",
      "building tree 9 of 20\n",
      "building tree 10 of 20\n",
      "building tree 11 of 20\n",
      "building tree 12 of 20\n",
      "building tree 13 of 20\n",
      "building tree 14 of 20\n",
      "building tree 15 of 20\n",
      "building tree 16 of 20\n",
      "building tree 17 of 20\n",
      "building tree 18 of 20\n",
      "building tree 19 of 20\n",
      "building tree 20 of 20\n"
     ]
    },
    {
     "name": "stderr",
     "output_type": "stream",
     "text": [
      "[Parallel(n_jobs=2)]: Done  20 out of  20 | elapsed:   15.9s finished\n",
      "[Parallel(n_jobs=2)]: Done  20 out of  20 | elapsed:    0.1s finished\n",
      "[Parallel(n_jobs=2)]: Done  20 out of  20 | elapsed:    1.1s finished\n"
     ]
    },
    {
     "name": "stdout",
     "output_type": "stream",
     "text": [
      "building tree 1 of 20building tree 2 of 20\n",
      "\n",
      "building tree 3 of 20\n",
      "building tree 4 of 20\n",
      "building tree 5 of 20\n",
      "building tree 6 of 20\n",
      "building tree 7 of 20\n",
      "building tree 8 of 20\n",
      "building tree 9 of 20\n",
      "building tree 10 of 20\n",
      "building tree 11 of 20\n",
      "building tree 12 of 20\n",
      "building tree 13 of 20\n",
      "building tree 14 of 20\n",
      "building tree 15 of 20\n",
      "building tree 16 of 20\n",
      "building tree 17 of 20\n",
      "building tree 18 of 20\n",
      "building tree 19 of 20\n",
      "building tree 20 of 20\n"
     ]
    },
    {
     "name": "stderr",
     "output_type": "stream",
     "text": [
      "[Parallel(n_jobs=2)]: Done  20 out of  20 | elapsed:   14.5s finished\n",
      "[Parallel(n_jobs=2)]: Done  20 out of  20 | elapsed:    0.1s finished\n",
      "[Parallel(n_jobs=2)]: Done  20 out of  20 | elapsed:    1.1s finished\n"
     ]
    },
    {
     "name": "stdout",
     "output_type": "stream",
     "text": [
      "building tree 1 of 20\n",
      "building tree 2 of 20\n",
      "building tree 3 of 20\n",
      "building tree 4 of 20\n",
      "building tree 5 of 20\n",
      "building tree 6 of 20\n",
      "building tree 7 of 20\n",
      "building tree 8 of 20\n",
      "building tree 9 of 20\n",
      "building tree 10 of 20\n",
      "building tree 11 of 20\n",
      "building tree 12 of 20\n",
      "building tree 13 of 20\n",
      "building tree 14 of 20\n",
      "building tree 15 of 20\n",
      "building tree 16 of 20\n",
      "building tree 17 of 20\n",
      "building tree 18 of 20\n",
      "building tree 19 of 20\n",
      "building tree 20 of 20\n"
     ]
    },
    {
     "name": "stderr",
     "output_type": "stream",
     "text": [
      "[Parallel(n_jobs=2)]: Done  20 out of  20 | elapsed:   16.9s finished\n",
      "[Parallel(n_jobs=2)]: Done  20 out of  20 | elapsed:    0.1s finished\n",
      "[Parallel(n_jobs=2)]: Done  20 out of  20 | elapsed:    1.4s finished\n"
     ]
    },
    {
     "name": "stdout",
     "output_type": "stream",
     "text": [
      "building tree 1 of 20building tree 2 of 20\n",
      "\n",
      "building tree 3 of 20\n",
      "building tree 4 of 20\n",
      "building tree 5 of 20\n",
      "building tree 6 of 20\n",
      "building tree 7 of 20\n",
      "building tree 8 of 20\n",
      "building tree 9 of 20\n",
      "building tree 10 of 20\n",
      "building tree 11 of 20\n",
      "building tree 12 of 20\n",
      "building tree 13 of 20\n",
      "building tree 14 of 20\n",
      "building tree 15 of 20\n",
      "building tree 16 of 20\n",
      "building tree 17 of 20\n",
      "building tree 18 of 20\n",
      "building tree 19 of 20\n",
      "building tree 20 of 20\n"
     ]
    },
    {
     "name": "stderr",
     "output_type": "stream",
     "text": [
      "[Parallel(n_jobs=2)]: Done  20 out of  20 | elapsed:   16.4s finished\n",
      "[Parallel(n_jobs=2)]: Done  20 out of  20 | elapsed:    0.1s finished\n",
      "[Parallel(n_jobs=2)]: Done  20 out of  20 | elapsed:    1.1s finished\n"
     ]
    },
    {
     "name": "stdout",
     "output_type": "stream",
     "text": [
      "building tree 1 of 20\n",
      " building tree 2 of 20\n",
      "building tree 3 of 20\n",
      "building tree 4 of 20\n",
      "building tree 5 of 20\n",
      "building tree 6 of 20\n",
      "building tree 7 of 20\n",
      "building tree 8 of 20\n",
      "building tree 9 of 20\n",
      "building tree 10 of 20\n",
      "building tree 11 of 20\n",
      "building tree 12 of 20\n",
      "building tree 13 of 20\n",
      "building tree 14 of 20\n",
      "building tree 15 of 20\n",
      "building tree 16 of 20\n",
      "building tree 17 of 20\n",
      "building tree 18 of 20\n",
      "building tree 19 of 20\n",
      "building tree 20 of 20\n"
     ]
    },
    {
     "name": "stderr",
     "output_type": "stream",
     "text": [
      "[Parallel(n_jobs=2)]: Done  20 out of  20 | elapsed:   15.4s finished\n",
      "[Parallel(n_jobs=2)]: Done  20 out of  20 | elapsed:    0.1s finished\n",
      "[Parallel(n_jobs=2)]: Done  20 out of  20 | elapsed:    1.2s finished\n"
     ]
    },
    {
     "name": "stdout",
     "output_type": "stream",
     "text": [
      "building tree 1 of 20building tree 2 of 20\n",
      "\n",
      "building tree 3 of 20\n",
      "building tree 4 of 20\n",
      "building tree 5 of 20\n",
      "building tree 6 of 20\n",
      "building tree 7 of 20\n",
      "building tree 8 of 20\n",
      "building tree 9 of 20\n",
      "building tree 10 of 20\n",
      "building tree 11 of 20\n",
      "building tree 12 of 20\n",
      "building tree 13 of 20\n",
      "building tree 14 of 20\n",
      "building tree 15 of 20\n",
      "building tree 16 of 20\n",
      "building tree 17 of 20\n",
      "building tree 18 of 20\n",
      "building tree 19 of 20\n",
      "building tree 20 of 20\n"
     ]
    },
    {
     "name": "stderr",
     "output_type": "stream",
     "text": [
      "[Parallel(n_jobs=2)]: Done  20 out of  20 | elapsed:   21.9s finished\n",
      "[Parallel(n_jobs=2)]: Done  20 out of  20 | elapsed:    0.2s finished\n",
      "[Parallel(n_jobs=2)]: Done  20 out of  20 | elapsed:    1.8s finished\n"
     ]
    },
    {
     "name": "stdout",
     "output_type": "stream",
     "text": [
      "building tree 1 of 20\n",
      "building tree 2 of 20\n",
      "building tree 3 of 20\n",
      "building tree 4 of 20\n",
      "building tree 5 of 20\n",
      "building tree 6 of 20\n",
      "building tree 7 of 20\n",
      "building tree 8 of 20\n",
      "building tree 9 of 20\n",
      "building tree 10 of 20\n",
      "building tree 11 of 20\n",
      "building tree 12 of 20\n",
      "building tree 13 of 20\n",
      "building tree 14 of 20\n",
      "building tree 15 of 20\n",
      "building tree 16 of 20\n",
      "building tree 17 of 20\n",
      "building tree 18 of 20\n",
      "building tree 19 of 20\n",
      "building tree 20 of 20\n"
     ]
    },
    {
     "name": "stderr",
     "output_type": "stream",
     "text": [
      "[Parallel(n_jobs=2)]: Done  20 out of  20 | elapsed:   24.1s finished\n",
      "[Parallel(n_jobs=2)]: Done  20 out of  20 | elapsed:    0.1s finished\n",
      "[Parallel(n_jobs=2)]: Done  20 out of  20 | elapsed:    1.2s finished\n"
     ]
    },
    {
     "name": "stdout",
     "output_type": "stream",
     "text": [
      "building tree 1 of 20\n",
      " building tree 2 of 20\n",
      "building tree 3 of 20\n",
      "building tree 4 of 20\n",
      "building tree 5 of 20\n",
      "building tree 6 of 20\n",
      "building tree 7 of 20\n",
      "building tree 8 of 20\n",
      "building tree 9 of 20\n",
      "building tree 10 of 20\n",
      "building tree 11 of 20\n",
      "building tree 12 of 20\n",
      "building tree 13 of 20\n",
      "building tree 14 of 20\n",
      "building tree 15 of 20\n",
      "building tree 16 of 20\n",
      "building tree 17 of 20\n",
      "building tree 18 of 20\n",
      "building tree 19 of 20\n",
      "building tree 20 of 20\n"
     ]
    },
    {
     "name": "stderr",
     "output_type": "stream",
     "text": [
      "[Parallel(n_jobs=2)]: Done  20 out of  20 | elapsed:   14.9s finished\n",
      "[Parallel(n_jobs=2)]: Done  20 out of  20 | elapsed:    0.1s finished\n",
      "[Parallel(n_jobs=2)]: Done  20 out of  20 | elapsed:    1.1s finished\n"
     ]
    },
    {
     "name": "stdout",
     "output_type": "stream",
     "text": [
      "building tree 1 of 20building tree 2 of 20\n",
      "\n",
      "building tree 3 of 20\n",
      "building tree 4 of 20\n",
      "building tree 5 of 20building tree 6 of 20\n",
      "\n",
      "building tree 7 of 20\n",
      "building tree 8 of 20\n",
      "building tree 9 of 20\n",
      "building tree 10 of 20\n",
      "building tree 11 of 20\n",
      "building tree 12 of 20\n",
      "building tree 13 of 20\n",
      "building tree 14 of 20\n",
      "building tree 15 of 20\n",
      "building tree 16 of 20\n",
      "building tree 17 of 20\n",
      "building tree 18 of 20\n",
      "building tree 19 of 20\n",
      "building tree 20 of 20\n"
     ]
    },
    {
     "name": "stderr",
     "output_type": "stream",
     "text": [
      "[Parallel(n_jobs=2)]: Done  20 out of  20 | elapsed:   14.8s finished\n",
      "[Parallel(n_jobs=2)]: Done  20 out of  20 | elapsed:    0.1s finished\n",
      "[Parallel(n_jobs=2)]: Done  20 out of  20 | elapsed:    1.1s finished\n"
     ]
    },
    {
     "name": "stdout",
     "output_type": "stream",
     "text": [
      "building tree 1 of 20building tree 2 of 20\n",
      "\n",
      "building tree 3 of 20\n",
      "building tree 4 of 20\n",
      "building tree 5 of 20\n",
      "building tree 6 of 20\n",
      "building tree 7 of 20\n",
      "building tree 8 of 20\n",
      "building tree 9 of 20\n",
      "building tree 10 of 20\n",
      "building tree 11 of 20\n",
      "building tree 12 of 20\n",
      "building tree 13 of 20\n",
      "building tree 14 of 20\n",
      "building tree 15 of 20\n",
      "building tree 16 of 20\n",
      "building tree 17 of 20\n",
      "building tree 18 of 20\n",
      "building tree 19 of 20\n",
      "building tree 20 of 20\n"
     ]
    },
    {
     "name": "stderr",
     "output_type": "stream",
     "text": [
      "[Parallel(n_jobs=2)]: Done  20 out of  20 | elapsed:   16.1s finished\n",
      "[Parallel(n_jobs=2)]: Done  20 out of  20 | elapsed:    0.1s finished\n",
      "[Parallel(n_jobs=2)]: Done  20 out of  20 | elapsed:    1.4s finished\n"
     ]
    },
    {
     "name": "stdout",
     "output_type": "stream",
     "text": [
      "building tree 1 of 20\n",
      " building tree 2 of 20\n",
      "building tree 3 of 20\n",
      "building tree 4 of 20\n",
      "building tree 5 of 20\n",
      "building tree 6 of 20\n",
      "building tree 7 of 20\n",
      "building tree 8 of 20\n",
      "building tree 9 of 20\n",
      "building tree 10 of 20\n",
      "building tree 11 of 20\n",
      "building tree 12 of 20\n",
      "building tree 13 of 20\n",
      "building tree 14 of 20\n",
      "building tree 15 of 20\n",
      "building tree 16 of 20\n",
      "building tree 17 of 20\n",
      "building tree 18 of 20\n",
      "building tree 19 of 20\n",
      "building tree 20 of 20\n"
     ]
    },
    {
     "name": "stderr",
     "output_type": "stream",
     "text": [
      "[Parallel(n_jobs=2)]: Done  20 out of  20 | elapsed:   17.1s finished\n",
      "[Parallel(n_jobs=2)]: Done  20 out of  20 | elapsed:    0.1s finished\n",
      "[Parallel(n_jobs=2)]: Done  20 out of  20 | elapsed:    2.0s finished\n"
     ]
    },
    {
     "name": "stdout",
     "output_type": "stream",
     "text": [
      "building tree 1 of 25 \n",
      "building tree 2 of 25\n",
      "building tree 3 of 25\n",
      "building tree 4 of 25\n",
      "building tree 5 of 25\n",
      "building tree 6 of 25\n",
      "building tree 7 of 25\n",
      "building tree 8 of 25\n",
      "building tree 9 of 25\n",
      "building tree 10 of 25\n",
      "building tree 11 of 25\n",
      "building tree 12 of 25\n",
      "building tree 13 of 25\n",
      "building tree 14 of 25\n",
      "building tree 15 of 25\n",
      "building tree 16 of 25\n",
      "building tree 17 of 25\n",
      "building tree 18 of 25\n",
      "building tree 19 of 25\n",
      "building tree 20 of 25\n",
      "building tree 21 of 25\n",
      "building tree 22 of 25\n",
      "building tree 23 of 25\n",
      "building tree 24 of 25\n",
      "building tree 25 of 25\n"
     ]
    },
    {
     "name": "stderr",
     "output_type": "stream",
     "text": [
      "[Parallel(n_jobs=2)]: Done  25 out of  25 | elapsed:   22.5s finished\n",
      "[Parallel(n_jobs=2)]: Done  25 out of  25 | elapsed:    0.2s finished\n",
      "[Parallel(n_jobs=2)]: Done  25 out of  25 | elapsed:    2.3s finished\n"
     ]
    },
    {
     "name": "stdout",
     "output_type": "stream",
     "text": [
      "building tree 1 of 25\n",
      "building tree 2 of 25\n",
      "building tree 3 of 25\n",
      "building tree 4 of 25\n",
      "building tree 5 of 25\n",
      "building tree 6 of 25\n",
      "building tree 7 of 25\n",
      "building tree 8 of 25\n",
      "building tree 9 of 25\n",
      "building tree 10 of 25\n",
      "building tree 11 of 25\n",
      "building tree 12 of 25\n",
      "building tree 13 of 25\n",
      "building tree 14 of 25\n",
      "building tree 15 of 25\n",
      "building tree 16 of 25\n",
      "building tree 17 of 25\n",
      "building tree 18 of 25\n",
      "building tree 19 of 25\n",
      "building tree 20 of 25\n",
      "building tree 21 of 25\n",
      "building tree 22 of 25\n",
      "building tree 23 of 25\n",
      "building tree 24 of 25\n",
      "building tree 25 of 25\n"
     ]
    },
    {
     "name": "stderr",
     "output_type": "stream",
     "text": [
      "[Parallel(n_jobs=2)]: Done  25 out of  25 | elapsed:   24.8s finished\n",
      "[Parallel(n_jobs=2)]: Done  25 out of  25 | elapsed:    0.1s finished\n",
      "[Parallel(n_jobs=2)]: Done  25 out of  25 | elapsed:    1.6s finished\n"
     ]
    },
    {
     "name": "stdout",
     "output_type": "stream",
     "text": [
      "building tree 1 of 25\n",
      " building tree 2 of 25\n",
      "building tree 3 of 25\n",
      "building tree 4 of 25\n",
      "building tree 5 of 25\n",
      "building tree 6 of 25\n",
      "building tree 7 of 25\n",
      "building tree 8 of 25\n",
      "building tree 9 of 25\n",
      "building tree 10 of 25\n",
      "building tree 11 of 25\n",
      "building tree 12 of 25\n",
      "building tree 13 of 25\n",
      "building tree 14 of 25\n",
      "building tree 15 of 25\n",
      "building tree 16 of 25\n",
      "building tree 17 of 25\n",
      "building tree 18 of 25\n",
      "building tree 19 of 25\n",
      "building tree 20 of 25\n",
      "building tree 21 of 25\n",
      "building tree 22 of 25\n",
      "building tree 23 of 25\n",
      "building tree 24 of 25\n",
      "building tree 25 of 25\n"
     ]
    },
    {
     "name": "stderr",
     "output_type": "stream",
     "text": [
      "[Parallel(n_jobs=2)]: Done  25 out of  25 | elapsed:   19.1s finished\n",
      "[Parallel(n_jobs=2)]: Done  25 out of  25 | elapsed:    0.1s finished\n",
      "[Parallel(n_jobs=2)]: Done  25 out of  25 | elapsed:    1.5s finished\n"
     ]
    },
    {
     "name": "stdout",
     "output_type": "stream",
     "text": [
      "building tree 1 of 25building tree 2 of 25\n",
      "\n",
      "building tree 3 of 25\n",
      "building tree 4 of 25\n",
      "building tree 5 of 25\n",
      "building tree 6 of 25\n",
      "building tree 7 of 25\n",
      "building tree 8 of 25\n",
      "building tree 9 of 25\n",
      "building tree 10 of 25\n",
      "building tree 11 of 25\n",
      "building tree 12 of 25\n",
      "building tree 13 of 25\n",
      "building tree 14 of 25\n",
      "building tree 15 of 25\n",
      "building tree 16 of 25\n",
      "building tree 17 of 25\n",
      "building tree 18 of 25\n",
      "building tree 19 of 25\n",
      "building tree 20 of 25\n",
      "building tree 21 of 25\n",
      "building tree 22 of 25\n",
      "building tree 23 of 25\n",
      "building tree 24 of 25\n",
      "building tree 25 of 25\n"
     ]
    },
    {
     "name": "stderr",
     "output_type": "stream",
     "text": [
      "[Parallel(n_jobs=2)]: Done  25 out of  25 | elapsed:   20.9s finished\n",
      "[Parallel(n_jobs=2)]: Done  25 out of  25 | elapsed:    0.1s finished\n",
      "[Parallel(n_jobs=2)]: Done  25 out of  25 | elapsed:    1.6s finished\n"
     ]
    },
    {
     "name": "stdout",
     "output_type": "stream",
     "text": [
      "building tree 1 of 25\n",
      "building tree 2 of 25\n",
      "building tree 3 of 25\n",
      "building tree 4 of 25\n",
      "building tree 5 of 25\n",
      "building tree 6 of 25\n",
      "building tree 7 of 25\n",
      "building tree 8 of 25\n",
      "building tree 9 of 25\n",
      "building tree 10 of 25\n",
      "building tree 11 of 25\n",
      "building tree 12 of 25\n",
      "building tree 13 of 25\n",
      "building tree 14 of 25\n",
      "building tree 15 of 25\n",
      "building tree 16 of 25\n",
      "building tree 17 of 25\n",
      "building tree 18 of 25\n",
      "building tree 19 of 25\n",
      "building tree 20 of 25\n",
      "building tree 21 of 25\n",
      "building tree 22 of 25\n",
      "building tree 23 of 25\n",
      "building tree 24 of 25\n",
      "building tree 25 of 25\n"
     ]
    },
    {
     "name": "stderr",
     "output_type": "stream",
     "text": [
      "[Parallel(n_jobs=2)]: Done  25 out of  25 | elapsed:   21.5s finished\n",
      "[Parallel(n_jobs=2)]: Done  25 out of  25 | elapsed:    0.1s finished\n",
      "[Parallel(n_jobs=2)]: Done  25 out of  25 | elapsed:    1.6s finished\n"
     ]
    },
    {
     "name": "stdout",
     "output_type": "stream",
     "text": [
      "building tree 1 of 25\n",
      " building tree 2 of 25\n",
      "building tree 3 of 25\n",
      "building tree 4 of 25\n",
      "building tree 5 of 25\n",
      "building tree 6 of 25\n",
      "building tree 7 of 25\n",
      "building tree 8 of 25\n",
      "building tree 9 of 25\n",
      "building tree 10 of 25\n",
      "building tree 11 of 25\n",
      "building tree 12 of 25\n",
      "building tree 13 of 25\n",
      "building tree 14 of 25\n",
      "building tree 15 of 25\n",
      "building tree 16 of 25\n",
      "building tree 17 of 25\n",
      "building tree 18 of 25\n",
      "building tree 19 of 25\n",
      "building tree 20 of 25\n",
      "building tree 21 of 25\n",
      "building tree 22 of 25\n",
      "building tree 23 of 25\n",
      "building tree 24 of 25\n",
      "building tree 25 of 25\n"
     ]
    },
    {
     "name": "stderr",
     "output_type": "stream",
     "text": [
      "[Parallel(n_jobs=2)]: Done  25 out of  25 | elapsed:   20.5s finished\n",
      "[Parallel(n_jobs=2)]: Done  25 out of  25 | elapsed:    0.1s finished\n",
      "[Parallel(n_jobs=2)]: Done  25 out of  25 | elapsed:    1.6s finished\n"
     ]
    },
    {
     "name": "stdout",
     "output_type": "stream",
     "text": [
      "building tree 1 of 25\n",
      " building tree 2 of 25\n",
      "building tree 3 of 25\n",
      "building tree 4 of 25\n",
      "building tree 5 of 25\n",
      "building tree 6 of 25\n",
      "building tree 7 of 25\n",
      "building tree 8 of 25\n",
      "building tree 9 of 25\n",
      "building tree 10 of 25\n",
      "building tree 11 of 25\n",
      "building tree 12 of 25\n",
      "building tree 13 of 25\n",
      "building tree 14 of 25\n",
      "building tree 15 of 25\n",
      "building tree 16 of 25\n",
      "building tree 17 of 25\n",
      "building tree 18 of 25\n",
      "building tree 19 of 25\n",
      "building tree 20 of 25\n",
      "building tree 21 of 25\n",
      "building tree 22 of 25\n",
      "building tree 23 of 25\n",
      "building tree 24 of 25\n",
      "building tree 25 of 25\n"
     ]
    },
    {
     "name": "stderr",
     "output_type": "stream",
     "text": [
      "[Parallel(n_jobs=2)]: Done  25 out of  25 | elapsed:   19.2s finished\n",
      "[Parallel(n_jobs=2)]: Done  25 out of  25 | elapsed:    0.1s finished\n",
      "[Parallel(n_jobs=2)]: Done  25 out of  25 | elapsed:    1.5s finished\n"
     ]
    },
    {
     "name": "stdout",
     "output_type": "stream",
     "text": [
      "building tree 1 of 25building tree 2 of 25\n",
      "\n",
      "building tree 3 of 25\n",
      "building tree 4 of 25\n",
      "building tree 5 of 25\n",
      "building tree 6 of 25\n",
      "building tree 7 of 25\n",
      "building tree 8 of 25\n",
      "building tree 9 of 25\n",
      "building tree 10 of 25\n",
      "building tree 11 of 25\n",
      "building tree 12 of 25\n",
      "building tree 13 of 25\n",
      "building tree 14 of 25\n",
      "building tree 15 of 25\n",
      "building tree 16 of 25\n",
      "building tree 17 of 25\n",
      "building tree 18 of 25\n",
      "building tree 19 of 25\n",
      "building tree 20 of 25\n",
      "building tree 21 of 25\n",
      "building tree 22 of 25\n",
      "building tree 23 of 25\n",
      "building tree 24 of 25\n",
      "building tree 25 of 25\n"
     ]
    },
    {
     "name": "stderr",
     "output_type": "stream",
     "text": [
      "[Parallel(n_jobs=2)]: Done  25 out of  25 | elapsed:   23.3s finished\n",
      "[Parallel(n_jobs=2)]: Done  25 out of  25 | elapsed:    0.2s finished\n",
      "[Parallel(n_jobs=2)]: Done  25 out of  25 | elapsed:    1.7s finished\n"
     ]
    },
    {
     "name": "stdout",
     "output_type": "stream",
     "text": [
      "building tree 1 of 25\n",
      " building tree 2 of 25\n",
      "building tree 3 of 25\n",
      "building tree 4 of 25\n",
      "building tree 5 of 25\n",
      "building tree 6 of 25\n",
      "building tree 7 of 25\n",
      "building tree 8 of 25\n",
      "building tree 9 of 25\n",
      "building tree 10 of 25\n",
      "building tree 11 of 25\n",
      "building tree 12 of 25\n",
      "building tree 13 of 25\n",
      "building tree 14 of 25\n",
      "building tree 15 of 25\n",
      "building tree 16 of 25\n",
      "building tree 17 of 25\n",
      "building tree 18 of 25\n",
      "building tree 19 of 25\n",
      "building tree 20 of 25\n",
      "building tree 21 of 25\n",
      "building tree 22 of 25\n",
      "building tree 23 of 25\n",
      "building tree 24 of 25\n",
      "building tree 25 of 25\n"
     ]
    },
    {
     "name": "stderr",
     "output_type": "stream",
     "text": [
      "[Parallel(n_jobs=2)]: Done  25 out of  25 | elapsed:   23.2s finished\n",
      "[Parallel(n_jobs=2)]: Done  25 out of  25 | elapsed:    0.1s finished\n",
      "[Parallel(n_jobs=2)]: Done  25 out of  25 | elapsed:    1.6s finished\n"
     ]
    },
    {
     "name": "stdout",
     "output_type": "stream",
     "text": [
      "building tree 1 of 25building tree 2 of 25\n",
      "\n",
      "building tree 3 of 25\n",
      "building tree 4 of 25\n",
      "building tree 5 of 25\n",
      "building tree 6 of 25\n",
      "building tree 7 of 25\n",
      "building tree 8 of 25\n",
      "building tree 9 of 25\n",
      "building tree 10 of 25\n",
      "building tree 11 of 25\n",
      "building tree 12 of 25\n",
      "building tree 13 of 25\n",
      "building tree 14 of 25\n",
      "building tree 15 of 25\n",
      "building tree 16 of 25\n",
      "building tree 17 of 25\n",
      "building tree 18 of 25\n",
      "building tree 19 of 25\n",
      "building tree 20 of 25\n",
      "building tree 21 of 25\n",
      "building tree 22 of 25\n",
      "building tree 23 of 25\n",
      "building tree 24 of 25\n",
      "building tree 25 of 25\n"
     ]
    },
    {
     "name": "stderr",
     "output_type": "stream",
     "text": [
      "[Parallel(n_jobs=2)]: Done  25 out of  25 | elapsed:   22.3s finished\n",
      "[Parallel(n_jobs=2)]: Done  25 out of  25 | elapsed:    0.1s finished\n",
      "[Parallel(n_jobs=2)]: Done  25 out of  25 | elapsed:    1.6s finished\n"
     ]
    },
    {
     "name": "stdout",
     "output_type": "stream",
     "text": [
      "building tree 1 of 25building tree 2 of 25\n",
      "\n",
      "building tree 3 of 25\n",
      "building tree 4 of 25\n",
      "building tree 5 of 25\n",
      "building tree 6 of 25\n",
      "building tree 7 of 25\n",
      "building tree 8 of 25\n",
      "building tree 9 of 25\n",
      "building tree 10 of 25\n",
      "building tree 11 of 25\n",
      "building tree 12 of 25\n",
      "building tree 13 of 25\n",
      "building tree 14 of 25\n",
      "building tree 15 of 25\n",
      "building tree 16 of 25\n",
      "building tree 17 of 25\n",
      "building tree 18 of 25\n",
      "building tree 19 of 25\n",
      "building tree 20 of 25\n",
      "building tree 21 of 25\n",
      "building tree 22 of 25\n",
      "building tree 23 of 25\n",
      "building tree 24 of 25\n",
      "building tree 25 of 25\n"
     ]
    },
    {
     "name": "stderr",
     "output_type": "stream",
     "text": [
      "[Parallel(n_jobs=2)]: Done  25 out of  25 | elapsed:   21.1s finished\n",
      "[Parallel(n_jobs=2)]: Done  25 out of  25 | elapsed:    0.1s finished\n",
      "[Parallel(n_jobs=2)]: Done  25 out of  25 | elapsed:    1.6s finished\n"
     ]
    },
    {
     "name": "stdout",
     "output_type": "stream",
     "text": [
      "building tree 1 of 25building tree 2 of 25\n",
      "\n",
      "building tree 3 of 25\n",
      "building tree 4 of 25\n",
      "building tree 5 of 25\n",
      "building tree 6 of 25\n",
      "building tree 7 of 25\n",
      "building tree 8 of 25\n",
      "building tree 9 of 25\n",
      "building tree 10 of 25\n",
      "building tree 11 of 25\n",
      "building tree 12 of 25\n",
      "building tree 13 of 25\n",
      "building tree 14 of 25\n",
      "building tree 15 of 25\n",
      "building tree 16 of 25\n",
      "building tree 17 of 25\n",
      "building tree 18 of 25\n",
      "building tree 19 of 25\n",
      "building tree 20 of 25\n",
      "building tree 21 of 25\n",
      "building tree 22 of 25\n",
      "building tree 23 of 25\n",
      "building tree 24 of 25\n",
      "building tree 25 of 25\n"
     ]
    },
    {
     "name": "stderr",
     "output_type": "stream",
     "text": [
      "[Parallel(n_jobs=2)]: Done  25 out of  25 | elapsed:   25.5s finished\n",
      "[Parallel(n_jobs=2)]: Done  25 out of  25 | elapsed:    0.1s finished\n",
      "[Parallel(n_jobs=2)]: Done  25 out of  25 | elapsed:    1.7s finished\n"
     ]
    },
    {
     "name": "stdout",
     "output_type": "stream",
     "text": [
      "building tree 1 of 25building tree 2 of 25\n",
      "\n",
      "building tree 3 of 25\n",
      "building tree 4 of 25\n",
      "building tree 5 of 25\n",
      "building tree 6 of 25\n",
      "building tree 7 of 25\n",
      "building tree 8 of 25\n",
      "building tree 9 of 25\n",
      "building tree 10 of 25\n",
      "building tree 11 of 25\n",
      "building tree 12 of 25\n",
      "building tree 13 of 25\n",
      "building tree 14 of 25\n",
      "building tree 15 of 25\n",
      "building tree 16 of 25\n",
      "building tree 17 of 25\n",
      "building tree 18 of 25\n",
      "building tree 19 of 25\n",
      "building tree 20 of 25\n",
      "building tree 21 of 25\n",
      "building tree 22 of 25\n",
      "building tree 23 of 25\n",
      "building tree 24 of 25\n",
      "building tree 25 of 25\n"
     ]
    },
    {
     "name": "stderr",
     "output_type": "stream",
     "text": [
      "[Parallel(n_jobs=2)]: Done  25 out of  25 | elapsed:   19.1s finished\n",
      "[Parallel(n_jobs=2)]: Done  25 out of  25 | elapsed:    0.1s finished\n",
      "[Parallel(n_jobs=2)]: Done  25 out of  25 | elapsed:    1.5s finished\n"
     ]
    },
    {
     "name": "stdout",
     "output_type": "stream",
     "text": [
      "building tree 1 of 25building tree 2 of 25\n",
      "\n",
      "building tree 3 of 25\n",
      "building tree 4 of 25\n",
      "building tree 5 of 25\n",
      "building tree 6 of 25\n",
      "building tree 7 of 25\n",
      "building tree 8 of 25\n",
      "building tree 9 of 25\n",
      "building tree 10 of 25\n",
      "building tree 11 of 25\n",
      "building tree 12 of 25\n",
      "building tree 13 of 25\n",
      "building tree 14 of 25\n",
      "building tree 15 of 25\n",
      "building tree 16 of 25\n",
      "building tree 17 of 25\n",
      "building tree 18 of 25\n",
      "building tree 19 of 25\n",
      "building tree 20 of 25\n",
      "building tree 21 of 25\n",
      "building tree 22 of 25\n",
      "building tree 23 of 25\n",
      "building tree 24 of 25\n",
      "building tree 25 of 25\n"
     ]
    },
    {
     "name": "stderr",
     "output_type": "stream",
     "text": [
      "[Parallel(n_jobs=2)]: Done  25 out of  25 | elapsed:   22.5s finished\n",
      "[Parallel(n_jobs=2)]: Done  25 out of  25 | elapsed:    0.1s finished\n",
      "[Parallel(n_jobs=2)]: Done  25 out of  25 | elapsed:    1.6s finished\n"
     ]
    },
    {
     "name": "stdout",
     "output_type": "stream",
     "text": [
      "building tree 1 of 25\n",
      " building tree 2 of 25\n",
      "building tree 3 of 25\n",
      "building tree 4 of 25\n",
      "building tree 5 of 25\n",
      "building tree 6 of 25\n",
      "building tree 7 of 25\n",
      "building tree 8 of 25\n",
      "building tree 9 of 25\n",
      "building tree 10 of 25\n",
      "building tree 11 of 25\n",
      "building tree 12 of 25\n",
      "building tree 13 of 25\n",
      "building tree 14 of 25\n",
      "building tree 15 of 25\n",
      "building tree 16 of 25\n",
      "building tree 17 of 25\n",
      "building tree 18 of 25\n",
      "building tree 19 of 25\n",
      "building tree 20 of 25\n",
      "building tree 21 of 25\n",
      "building tree 22 of 25\n",
      "building tree 23 of 25\n",
      "building tree 24 of 25\n",
      "building tree 25 of 25\n"
     ]
    },
    {
     "name": "stderr",
     "output_type": "stream",
     "text": [
      "[Parallel(n_jobs=2)]: Done  25 out of  25 | elapsed:   24.0s finished\n",
      "[Parallel(n_jobs=2)]: Done  25 out of  25 | elapsed:    0.1s finished\n",
      "[Parallel(n_jobs=2)]: Done  25 out of  25 | elapsed:    1.6s finished\n"
     ]
    },
    {
     "name": "stdout",
     "output_type": "stream",
     "text": [
      "building tree 1 of 25\n",
      " building tree 2 of 25\n",
      "building tree 3 of 25\n",
      "building tree 4 of 25\n",
      "building tree 5 of 25\n",
      "building tree 6 of 25\n",
      "building tree 7 of 25\n",
      "building tree 8 of 25\n",
      "building tree 9 of 25\n",
      "building tree 10 of 25\n",
      "building tree 11 of 25\n",
      "building tree 12 of 25\n",
      "building tree 13 of 25\n",
      "building tree 14 of 25\n",
      "building tree 15 of 25\n",
      "building tree 16 of 25\n",
      "building tree 17 of 25\n",
      "building tree 18 of 25\n",
      "building tree 19 of 25\n",
      "building tree 20 of 25\n",
      "building tree 21 of 25\n",
      "building tree 22 of 25\n",
      "building tree 23 of 25\n",
      "building tree 24 of 25\n",
      "building tree 25 of 25\n"
     ]
    },
    {
     "name": "stderr",
     "output_type": "stream",
     "text": [
      "[Parallel(n_jobs=2)]: Done  25 out of  25 | elapsed:   20.5s finished\n",
      "[Parallel(n_jobs=2)]: Done  25 out of  25 | elapsed:    0.1s finished\n",
      "[Parallel(n_jobs=2)]: Done  25 out of  25 | elapsed:    1.5s finished\n"
     ]
    },
    {
     "name": "stdout",
     "output_type": "stream",
     "text": [
      "building tree 1 of 15\n",
      "building tree 2 of 15\n",
      "building tree 3 of 15\n",
      "building tree 4 of 15\n",
      "building tree 5 of 15\n",
      "building tree 6 of 15\n",
      "building tree 7 of 15\n",
      "building tree 8 of 15\n",
      "building tree 9 of 15\n",
      "building tree 10 of 15\n",
      "building tree 11 of 15\n",
      "building tree 12 of 15\n",
      "building tree 13 of 15\n",
      "building tree 14 of 15\n",
      "building tree 15 of 15\n"
     ]
    },
    {
     "name": "stderr",
     "output_type": "stream",
     "text": [
      "[Parallel(n_jobs=2)]: Done  15 out of  15 | elapsed:   16.0s finished\n"
     ]
    },
    {
     "data": {
      "text/plain": [
       "GridSearchCV(cv=8, error_score='raise',\n",
       "       estimator=RandomForestClassifier(bootstrap=True, class_weight=None, criterion='gini',\n",
       "            max_depth=None, max_features='auto', max_leaf_nodes=None,\n",
       "            min_impurity_decrease=0.0, min_impurity_split=None,\n",
       "            min_samples_leaf=1, min_samples_split=2,\n",
       "            min_weight_fraction_leaf=0.0, n_estimators=10, n_jobs=2,\n",
       "            oob_score=False, random_state=None, verbose=2, warm_start=True),\n",
       "       fit_params=None, iid=True, n_jobs=1,\n",
       "       param_grid=[{'n_estimators': [10, 15, 20, 25], 'random_state': [5, 13]}],\n",
       "       pre_dispatch='2*n_jobs', refit=True, return_train_score=True,\n",
       "       scoring=None, verbose=0)"
      ]
     },
     "execution_count": 26,
     "metadata": {},
     "output_type": "execute_result"
    }
   ],
   "source": [
    "# searching for best combination of parameters\n",
    "rf_grid = [{'n_estimators':range(10,30,5),'random_state':[5,13]}]\n",
    "\n",
    "rf = RandomForestClassifier(verbose=2, criterion='gini', n_jobs=2, warm_start=True)\n",
    "gridsearchRF = GridSearchCV(rf, rf_grid, cv=8)\n",
    "gridsearchRF.fit(X_train, y_train)\n",
    "\n",
    "# we would use this for some other classifier\n",
    "# X_train, X_hold, y_train, y_hold = train_test_split(X, y, test_size=0.2,random_state=13)"
   ]
  },
  {
   "cell_type": "code",
   "execution_count": 63,
   "metadata": {},
   "outputs": [
    {
     "data": {
      "text/plain": [
       "{'mean_fit_time': array([ 11.11937499,  10.72125   ,  12.95662501,  13.82775006,\n",
       "         17.31725004,  19.15775001,  23.20912504,  23.86762497]),\n",
       " 'mean_score_time': array([ 0.31650001,  0.31162497,  0.34975001,  0.33949998,  0.37612501,\n",
       "         0.40149996,  0.44850001,  0.45687506]),\n",
       " 'mean_test_score': array([ 0.99998363,  0.99997105,  1.        ,  0.99999748,  0.99999874,\n",
       "         1.        ,  1.        ,  0.99999874]),\n",
       " 'mean_train_score': array([ 0.99999982,  0.99999964,  1.        ,  1.        ,  1.        ,\n",
       "         1.        ,  1.        ,  1.        ]),\n",
       " 'param_n_estimators': masked_array(data = [10 10 15 15 20 20 25 25],\n",
       "              mask = [False False False False False False False False],\n",
       "        fill_value = ?),\n",
       " 'param_random_state': masked_array(data = [5 13 5 13 5 13 5 13],\n",
       "              mask = [False False False False False False False False],\n",
       "        fill_value = ?),\n",
       " 'params': [{'n_estimators': 10, 'random_state': 5},\n",
       "  {'n_estimators': 10, 'random_state': 13},\n",
       "  {'n_estimators': 15, 'random_state': 5},\n",
       "  {'n_estimators': 15, 'random_state': 13},\n",
       "  {'n_estimators': 20, 'random_state': 5},\n",
       "  {'n_estimators': 20, 'random_state': 13},\n",
       "  {'n_estimators': 25, 'random_state': 5},\n",
       "  {'n_estimators': 25, 'random_state': 13}],\n",
       " 'rank_test_score': array([7, 8, 1, 6, 4, 1, 1, 4]),\n",
       " 'split0_test_score': array([ 0.99998993,  0.99996979,  1.        ,  1.        ,  1.        ,\n",
       "         1.        ,  1.        ,  1.        ]),\n",
       " 'split0_train_score': array([ 1.,  1.,  1.,  1.,  1.,  1.,  1.,  1.]),\n",
       " 'split1_test_score': array([ 0.99996979,  0.99997986,  1.        ,  1.        ,  1.        ,\n",
       "         1.        ,  1.        ,  1.        ]),\n",
       " 'split1_train_score': array([ 1.        ,  0.99999856,  1.        ,  1.        ,  1.        ,\n",
       "         1.        ,  1.        ,  1.        ]),\n",
       " 'split2_test_score': array([ 1.,  1.,  1.,  1.,  1.,  1.,  1.,  1.]),\n",
       " 'split2_train_score': array([ 1.,  1.,  1.,  1.,  1.,  1.,  1.,  1.]),\n",
       " 'split3_test_score': array([ 0.99997986,  0.99988922,  1.        ,  0.99997986,  1.        ,\n",
       "         1.        ,  1.        ,  0.99998993]),\n",
       " 'split3_train_score': array([ 1.,  1.,  1.,  1.,  1.,  1.,  1.,  1.]),\n",
       " 'split4_test_score': array([ 0.99997986,  0.99997986,  1.        ,  1.        ,  1.        ,\n",
       "         1.        ,  1.        ,  1.        ]),\n",
       " 'split4_train_score': array([ 1.        ,  0.99999856,  1.        ,  1.        ,  1.        ,\n",
       "         1.        ,  1.        ,  1.        ]),\n",
       " 'split5_test_score': array([ 0.99996979,  0.99995972,  1.        ,  1.        ,  1.        ,\n",
       "         1.        ,  1.        ,  1.        ]),\n",
       " 'split5_train_score': array([ 0.99999856,  1.        ,  1.        ,  1.        ,  1.        ,\n",
       "         1.        ,  1.        ,  1.        ]),\n",
       " 'split6_test_score': array([ 0.99998993,  0.99998993,  1.        ,  1.        ,  1.        ,\n",
       "         1.        ,  1.        ,  1.        ]),\n",
       " 'split6_train_score': array([ 1.,  1.,  1.,  1.,  1.,  1.,  1.,  1.]),\n",
       " 'split7_test_score': array([ 0.99998993,  1.        ,  1.        ,  1.        ,  0.99998993,\n",
       "         1.        ,  1.        ,  1.        ]),\n",
       " 'split7_train_score': array([ 1.,  1.,  1.,  1.,  1.,  1.,  1.,  1.]),\n",
       " 'std_fit_time': array([ 3.03257895,  1.39273289,  0.93995839,  1.01753434,  1.21711898,\n",
       "         3.33731227,  2.10215596,  1.89992847]),\n",
       " 'std_score_time': array([ 0.09126066,  0.05178068,  0.01756956,  0.01976737,  0.09037901,\n",
       "         0.14715384,  0.01752857,  0.02168776]),\n",
       " 'std_test_score': array([  9.99221236e-06,   3.35680381e-05,   0.00000000e+00,\n",
       "          6.66147491e-06,   3.33075662e-06,   0.00000000e+00,\n",
       "          0.00000000e+00,   3.33073745e-06]),\n",
       " 'std_train_score': array([  4.75819636e-07,   6.22994143e-07,   0.00000000e+00,\n",
       "          0.00000000e+00,   0.00000000e+00,   0.00000000e+00,\n",
       "          0.00000000e+00,   0.00000000e+00])}"
      ]
     },
     "execution_count": 63,
     "metadata": {},
     "output_type": "execute_result"
    }
   ],
   "source": [
    "gridsearchRF.cv_results_"
   ]
  },
  {
   "cell_type": "code",
   "execution_count": 27,
   "metadata": {},
   "outputs": [
    {
     "data": {
      "text/plain": [
       "RandomForestClassifier(bootstrap=True, class_weight=None, criterion='gini',\n",
       "            max_depth=None, max_features='auto', max_leaf_nodes=None,\n",
       "            min_impurity_decrease=0.0, min_impurity_split=None,\n",
       "            min_samples_leaf=1, min_samples_split=2,\n",
       "            min_weight_fraction_leaf=0.0, n_estimators=15, n_jobs=2,\n",
       "            oob_score=False, random_state=5, verbose=2, warm_start=True)"
      ]
     },
     "execution_count": 27,
     "metadata": {},
     "output_type": "execute_result"
    }
   ],
   "source": [
    "gridsearchRF.best_estimator_"
   ]
  },
  {
   "cell_type": "code",
   "execution_count": 28,
   "metadata": {
    "collapsed": true
   },
   "outputs": [],
   "source": [
    "rf_best = gridsearchRF.best_estimator_"
   ]
  },
  {
   "cell_type": "code",
   "execution_count": 66,
   "metadata": {},
   "outputs": [
    {
     "name": "stdout",
     "output_type": "stream",
     "text": [
      "(0.7668313476797296, 'list_price_1599')\n",
      "(0.044327637758863087, 'no_of_cancellations')\n",
      "(0.033297241999623597, 'registered_via')\n",
      "(0.026577586469886252, 'gender')\n",
      "(0.020227789095284776, 'payment_method_36')\n",
      "(0.018322178993394729, 'cancelled')\n",
      "(0.014643342599890271, 'member_days')\n",
      "(0.014222453070667015, 'no_of_transactions')\n",
      "(0.0097511499871894593, 'payment_method_39')\n",
      "(0.0071097145467899636, 'is_churn')\n",
      "(0.0056492335899946122, 'msno')\n",
      "(0.0052795688256962016, 'bd')\n",
      "(0.0043478161501284193, 'list_price_119')\n",
      "(0.0031949618716534604, 'payment_method_30')\n",
      "(0.002963956626949323, 'plan_days_410')\n",
      "(0.0024669397787642506, 'plan_days_180')\n",
      "(0.0019717262975907585, 'list_price_536')\n",
      "(0.0019493559145855699, 'plan_days_0')\n",
      "(0.0012474750667095013, 'plan_days_120')\n",
      "(0.0010340796905916208, 'plan_days_1')\n",
      "(0.00098989031000236405, 'city')\n",
      "(0.0008307436070767696, 'list_price_298')\n",
      "(0.00083043387128169273, 'plan_days_195')\n",
      "(0.00081644432632810109, 'list_price_129')\n",
      "(0.0007964277954955292, 'payment_method_37')\n",
      "(0.00078178469064598929, 'plan_days_360')\n",
      "(0.00070827833140755809, 'plan_days_90')\n",
      "(0.00061287500906349933, 'payment_method_33')\n",
      "(0.00054925177896033726, 'list_price_1150')\n",
      "(0.00052381175666695685, 'list_price_100')\n",
      "(0.00048606192537233148, 'list_price_149')\n",
      "(0.00045918523854069867, 'payment_method_18')\n",
      "(0.00042906110731840764, 'payment_method_38')\n",
      "(0.00036022207367571705, 'payment_method_40')\n",
      "(0.00033877148551907099, 'payment_method_35')\n",
      "(0.00033855133265102498, 'plan_days_30')\n",
      "(0.00032050997446564399, 'plan_days_31')\n",
      "(0.00031843106748682211, 'list_price_180')\n",
      "(0.00030095312948490486, 'list_price_477')\n",
      "(0.00030008528662846419, 'list_price_1000')\n",
      "(0.00028596344697584232, 'payment_method_28')\n",
      "(0.00028588892705266639, 'payment_method_34')\n",
      "(0.00025216859991196065, 'plan_days_7')\n",
      "(0.00024376951993658485, 'list_price_150')\n",
      "(0.00016788939827946475, 'payment_method_13')\n",
      "(0.00015964354152230053, 'payment_method_27')\n",
      "(0.00015722443638549344, 'payment_method_26')\n",
      "(0.00015148819678218221, 'payment_method_32')\n",
      "(0.00015012627596661994, 'payment_method_41')\n",
      "(0.00013480859968082465, 'payment_method_31')\n",
      "(0.00013209523530368641, 'list_price_0')\n",
      "(0.00012356235058842832, 'payment_method_16')\n",
      "(9.7054994657172974e-05, 'plan_days_240')\n",
      "(9.3691393580651612e-05, 'payment_method_22')\n",
      "(8.4971521800916193e-05, 'list_price_70')\n",
      "(8.2434131945501322e-05, 'list_price_447')\n",
      "(7.9951279180814935e-05, 'payment_method_24')\n",
      "(6.8685549036388101e-05, 'plan_days_35')\n",
      "(5.5908254232363528e-05, 'plan_days_2')\n",
      "(5.1834767342476356e-05, 'plan_days_80')\n",
      "(4.9636716805308046e-05, 'list_price_350')\n",
      "(4.2094391697451283e-05, 'payment_method_29')\n",
      "(3.8899246112253225e-05, 'payment_method_11')\n",
      "(3.5684656027493477e-05, 'payment_method_10')\n",
      "(2.922172259748101e-05, 'plan_days_100')\n",
      "(2.9202511616296402e-05, 'list_price_699')\n",
      "(2.7661394173047201e-05, 'list_price_596')\n",
      "(2.3517820108652137e-05, 'list_price_450')\n",
      "(2.2776491085981206e-05, 'is_auto_renew')\n",
      "(1.9887580621120296e-05, 'list_price_10')\n",
      "(1.7568830872449339e-05, 'list_price_400')\n",
      "(1.7175097207856091e-05, 'list_price_126')\n",
      "(1.6597003718330616e-05, 'plan_days_3')\n",
      "(1.5921564790103001e-05, 'payment_method_14')\n",
      "(1.4890667324475208e-05, 'payment_method_4')\n",
      "(1.457781905811142e-05, 'payment_method_5')\n",
      "(1.4407679914208559e-05, 'payment_method_17')\n",
      "(1.3740075711416722e-05, 'payment_method_19')\n",
      "(1.3408518046364686e-05, 'list_price_799')\n",
      "(1.3067307817447555e-05, 'plan_days_395')\n",
      "(1.2120305606956558e-05, 'list_price_210')\n",
      "(1.1289387180459487e-05, 'payment_method_25')\n",
      "(1.0779074720833729e-05, 'plan_days_15')\n",
      "(1.0574657570917221e-05, 'list_price_480')\n",
      "(9.9781072982425566e-06, 'payment_method_21')\n",
      "(9.9089945907063928e-06, 'payment_method_12')\n",
      "(8.2931914563309222e-06, 'payment_method_15')\n",
      "(8.0217124423935e-06, 'payment_method_3')\n",
      "(7.9388898519125849e-06, 'list_price_265')\n",
      "(7.377507839579508e-06, 'plan_days_230')\n",
      "(7.2055225837215892e-06, 'list_price_1200')\n",
      "(6.8849443776508079e-06, 'plan_days_14')\n",
      "(5.5352642112361376e-06, 'list_price_500')\n",
      "(4.7624020839829076e-06, 'Right_is_churn')\n",
      "(4.5636913924828453e-06, 'plan_days_66')\n",
      "(3.8016948405933126e-06, 'plan_days_60')\n",
      "(3.6090218569211235e-06, 'list_price_300')\n",
      "(3.5672790507462133e-06, 'list_price_99')\n",
      "(3.4263606684333734e-06, 'plan_days_200')\n",
      "(3.3585829913158147e-06, 'plan_days_365')\n",
      "(3.1647662683079539e-06, 'plan_days_270')\n",
      "(2.7889326317811206e-06, 'list_price_134')\n",
      "(2.4927364538830719e-06, 'list_price_50')\n",
      "(2.3324299863170148e-06, 'total_amount_paid')\n",
      "(2.2468037234188907e-06, 'list_price_35')\n",
      "(2.0745157841289212e-06, 'list_price_15')\n",
      "(1.5023614955963004e-06, 'list_price_131')\n",
      "(1.4444513766657477e-06, 'plan_days_70')\n",
      "(1.0660995614675546e-06, 'list_price_894')\n",
      "(8.3043489711128666e-07, 'payment_method_23')\n",
      "(2.7829166768906956e-07, 'list_price_930')\n",
      "(1.7077132404318417e-07, 'payment_method_8')\n",
      "(1.3722173109624479e-07, 'payment_method_6')\n",
      "(3.7257433485454755e-08, 'plan_days_10')\n",
      "(8.705527234500701e-09, 'plan_days_110')\n",
      "(0.0, 'plan_days_99')\n",
      "(0.0, 'plan_days_45')\n",
      "(0.0, 'plan_days_21')\n",
      "(0.0, 'payment_method_20')\n",
      "(0.0, 'payment_method_2')\n",
      "(0.0, 'list_price_2000')\n",
      "(0.0, 'list_price_1788')\n",
      "(0.0, 'list_price_143')\n",
      "(0.0, 'list_price_120')\n",
      "(0.0, 'list_price_105')\n",
      "(0.0, 'list_price_1')\n"
     ]
    }
   ],
   "source": [
    "for numeric_feature, score in sorted(zip(rf_best.feature_importances_,data.columns),reverse=True):\n",
    "    print(numeric_feature, score)"
   ]
  },
  {
   "cell_type": "code",
   "execution_count": 30,
   "metadata": {},
   "outputs": [
    {
     "name": "stderr",
     "output_type": "stream",
     "text": [
      "[Parallel(n_jobs=2)]: Done  15 out of  15 | elapsed:    0.2s finished\n",
      "[Parallel(n_jobs=2)]: Done  15 out of  15 | elapsed:    0.2s finished\n"
     ]
    },
    {
     "data": {
      "text/plain": [
       "array([[185893,      0],\n",
       "       [     0,  12694]], dtype=int64)"
      ]
     },
     "execution_count": 30,
     "metadata": {},
     "output_type": "execute_result"
    }
   ],
   "source": [
    "y_rf = rf_best.predict(X_test)\n",
    "y_rfproba = rf_best.predict_proba(X_test)\n",
    "confusion_matrix(y_test, y_rf)"
   ]
  },
  {
   "cell_type": "code",
   "execution_count": 89,
   "metadata": {},
   "outputs": [
    {
     "data": {
      "text/plain": [
       "array([[ 1.        ,  0.        ],\n",
       "       [ 1.        ,  0.        ],\n",
       "       [ 1.        ,  0.        ],\n",
       "       ..., \n",
       "       [ 1.        ,  0.        ],\n",
       "       [ 0.13333333,  0.86666667],\n",
       "       [ 1.        ,  0.        ]])"
      ]
     },
     "execution_count": 89,
     "metadata": {},
     "output_type": "execute_result"
    }
   ],
   "source": [
    "y_rfproba"
   ]
  },
  {
   "cell_type": "code",
   "execution_count": 33,
   "metadata": {},
   "outputs": [
    {
     "name": "stderr",
     "output_type": "stream",
     "text": [
      "C:\\Users\\Laolu\\Anaconda2\\envs\\py27\\lib\\site-packages\\matplotlib\\cbook.py:136: MatplotlibDeprecationWarning: The spectral and spectral_r colormap was deprecated in version 2.0. Use nipy_spectral and nipy_spectral_r instead.\n",
      "  warnings.warn(message, mplDeprecation, stacklevel=1)\n"
     ]
    },
    {
     "data": {
      "text/plain": [
       "<matplotlib.axes._subplots.AxesSubplot at 0x2c682eb8>"
      ]
     },
     "execution_count": 33,
     "metadata": {},
     "output_type": "execute_result"
    },
    {
     "data": {
      "image/png": "[encoded data removed]",
      "text/plain": [
       "<matplotlib.figure.Figure at 0x227ba978>"
      ]
     },
     "metadata": {},
     "output_type": "display_data"
    }
   ],
   "source": [
    "import scikitplot as skplt\n",
    "skplt.metrics.plot_roc_curve(y_test, y_rfproba)"
   ]
  },
  {
   "cell_type": "code",
   "execution_count": null,
   "metadata": {
    "collapsed": true
   },
   "outputs": [],
   "source": []
  },
  {
   "cell_type": "markdown",
   "metadata": {},
   "source": [
    "### Logistic Regression"
   ]
  },
  {
   "cell_type": "code",
   "execution_count": 95,
   "metadata": {
    "collapsed": true
   },
   "outputs": [],
   "source": [
    "# lgr_grid = [{'scoring':['accuracy_score','f1_score'], 'refit':[True, False]}]\n",
    "# gridsearchLR = GridSearchCV(lgr, lgr_grid, cv=8, n_jobs=2, verbose=1)\n",
    "# gridsearchLR.fit(X_train, y_train)"
   ]
  },
  {
   "cell_type": "code",
   "execution_count": 101,
   "metadata": {
    "collapsed": true
   },
   "outputs": [],
   "source": [
    "lgr_0 = LogisticRegressionCV(verbose=2, max_iter=500, cv=8)"
   ]
  },
  {
   "cell_type": "code",
   "execution_count": 102,
   "metadata": {
    "scrolled": true
   },
   "outputs": [
    {
     "name": "stderr",
     "output_type": "stream",
     "text": [
      "[Parallel(n_jobs=1)]: Done   1 out of   1 | elapsed: 14.9min remaining:    0.0s\n",
      "[Parallel(n_jobs=1)]: Done   8 out of   8 | elapsed: 114.5min finished\n"
     ]
    },
    {
     "data": {
      "text/plain": [
       "LogisticRegressionCV(Cs=10, class_weight=None, cv=8, dual=False,\n",
       "           fit_intercept=True, intercept_scaling=1.0, max_iter=500,\n",
       "           multi_class='ovr', n_jobs=1, penalty='l2', random_state=None,\n",
       "           refit=True, scoring=None, solver='lbfgs', tol=0.0001, verbose=2)"
      ]
     },
     "execution_count": 102,
     "metadata": {},
     "output_type": "execute_result"
    }
   ],
   "source": [
    "lgr_0.fit(X_train, y_train)"
   ]
  },
  {
   "cell_type": "code",
   "execution_count": 103,
   "metadata": {
    "collapsed": true
   },
   "outputs": [],
   "source": [
    "y_lgr, y_lgrproba = lgr_0.predict(X_test), lgr_0.predict_proba(X_test)"
   ]
  },
  {
   "cell_type": "code",
   "execution_count": 104,
   "metadata": {},
   "outputs": [
    {
     "name": "stdout",
     "output_type": "stream",
     "text": [
      "test error rate: 5.0355763469e-06\n"
     ]
    },
    {
     "data": {
      "text/plain": [
       "array([[185892,      1],\n",
       "       [     0,  12694]], dtype=int64)"
      ]
     },
     "execution_count": 104,
     "metadata": {},
     "output_type": "execute_result"
    }
   ],
   "source": [
    "print 'test error rate:', 1 - accuracy_score(y_test, y_lgr)\n",
    "confusion_matrix(y_test, y_lgr)"
   ]
  },
  {
   "cell_type": "code",
   "execution_count": 105,
   "metadata": {},
   "outputs": [
    {
     "data": {
      "text/plain": [
       "<matplotlib.axes._subplots.AxesSubplot at 0x19cd40240>"
      ]
     },
     "execution_count": 105,
     "metadata": {},
     "output_type": "execute_result"
    },
    {
     "data": {
      "image/png": "[encoded data removed]",
      "text/plain": [
       "<matplotlib.figure.Figure at 0x4bd1e630>"
      ]
     },
     "metadata": {},
     "output_type": "display_data"
    }
   ],
   "source": [
    "skplt.metrics.plot_roc_curve(y_test, y_lgrproba)"
   ]
  },
  {
   "cell_type": "code",
   "execution_count": null,
   "metadata": {
    "collapsed": true
   },
   "outputs": [],
   "source": []
  },
  {
   "cell_type": "code",
   "execution_count": null,
   "metadata": {
    "collapsed": true
   },
   "outputs": [],
   "source": []
  },
  {
   "cell_type": "code",
   "execution_count": null,
   "metadata": {
    "collapsed": true
   },
   "outputs": [],
   "source": []
  },
  {
   "cell_type": "code",
   "execution_count": null,
   "metadata": {
    "collapsed": true
   },
   "outputs": [],
   "source": []
  },
  {
   "cell_type": "code",
   "execution_count": null,
   "metadata": {
    "collapsed": true
   },
   "outputs": [],
   "source": []
  },
  {
   "cell_type": "code",
   "execution_count": null,
   "metadata": {
    "collapsed": true
   },
   "outputs": [],
   "source": []
  },
  {
   "cell_type": "code",
   "execution_count": 54,
   "metadata": {
    "collapsed": true
   },
   "outputs": [],
   "source": [
    "sub_data = pd.read_csv('test_dataset.csv')"
   ]
  },
  {
   "cell_type": "code",
   "execution_count": 58,
   "metadata": {},
   "outputs": [
    {
     "data": {
      "image/png": "[encoded data removed]",
      "text/plain": [
       "<matplotlib.figure.Figure at 0x231b57b8>"
      ]
     },
     "metadata": {},
     "output_type": "display_data"
    }
   ],
   "source": [
    "sub_data[members].hist(figsize=(15,10))\n",
    "plt.show()"
   ]
  },
  {
   "cell_type": "code",
   "execution_count": 59,
   "metadata": {
    "collapsed": true
   },
   "outputs": [],
   "source": [
    "sub_data.loc[sub_data['bd'] > 80, 'bd'] = np.nan\n",
    "sub_data.loc[sub_data['bd'] < 10, 'bd'] = np.nan\n",
    "sub_data.loc[sub_data['gender'] == 'missing', 'gender'] = np.nan"
   ]
  },
  {
   "cell_type": "code",
   "execution_count": 60,
   "metadata": {},
   "outputs": [
    {
     "data": {
      "image/png": "[encoded data removed]",
      "text/plain": [
       "<matplotlib.figure.Figure at 0x4bce39b0>"
      ]
     },
     "metadata": {},
     "output_type": "display_data"
    }
   ],
   "source": [
    "sub_data['bd'].hist()\n",
    "plt.show()"
   ]
  },
  {
   "cell_type": "code",
   "execution_count": 72,
   "metadata": {},
   "outputs": [
    {
     "data": {
      "text/plain": [
       "Index([u'is_auto_renew'], dtype='object')"
      ]
     },
     "execution_count": 72,
     "metadata": {},
     "output_type": "execute_result"
    }
   ],
   "source": [
    "sub_data.columns[sub_data.isnull().any()]"
   ]
  },
  {
   "cell_type": "code",
   "execution_count": 74,
   "metadata": {
    "collapsed": true
   },
   "outputs": [],
   "source": [
    "sub_data[lst] = DataFrameImputer().fit_transform(sub_data[lst])"
   ]
  },
  {
   "cell_type": "code",
   "execution_count": 75,
   "metadata": {},
   "outputs": [],
   "source": [
    "sub_data[cat_cols] = sub_data[cat_cols].apply(lambda x: d[x.name].transform(x))"
   ]
  },
  {
   "cell_type": "code",
   "execution_count": 76,
   "metadata": {},
   "outputs": [
    {
     "data": {
      "text/html": [
       "<div>\n",
       "<style>\n",
       "    .dataframe thead tr:only-child th {\n",
       "        text-align: right;\n",
       "    }\n",
       "\n",
       "    .dataframe thead th {\n",
       "        text-align: left;\n",
       "    }\n",
       "\n",
       "    .dataframe tbody tr th {\n",
       "        vertical-align: top;\n",
       "    }\n",
       "</style>\n",
       "<table border=\"1\" class=\"dataframe\">\n",
       "  <thead>\n",
       "    <tr style=\"text-align: right;\">\n",
       "      <th></th>\n",
       "      <th>msno</th>\n",
       "      <th>is_churn</th>\n",
       "      <th>city</th>\n",
       "      <th>bd</th>\n",
       "      <th>gender</th>\n",
       "      <th>registered_via</th>\n",
       "      <th>member_days</th>\n",
       "      <th>no_of_transactions</th>\n",
       "      <th>no_of_cancellations</th>\n",
       "      <th>cancelled</th>\n",
       "      <th>...</th>\n",
       "      <th>plan_days_110</th>\n",
       "      <th>plan_days_200</th>\n",
       "      <th>plan_days_230</th>\n",
       "      <th>plan_days_240</th>\n",
       "      <th>plan_days_270</th>\n",
       "      <th>plan_days_360</th>\n",
       "      <th>plan_days_365</th>\n",
       "      <th>plan_days_395</th>\n",
       "      <th>plan_days_400</th>\n",
       "      <th>plan_days_450</th>\n",
       "    </tr>\n",
       "  </thead>\n",
       "  <tbody>\n",
       "    <tr>\n",
       "      <th>0</th>\n",
       "      <td>+++hVY1rZox/33YtvDgmKA2Frg/2qhkz12B9ylCvh8o=</td>\n",
       "      <td>0</td>\n",
       "      <td>0</td>\n",
       "      <td>28.0</td>\n",
       "      <td>1</td>\n",
       "      <td>2</td>\n",
       "      <td>1195.0</td>\n",
       "      <td>4</td>\n",
       "      <td>0</td>\n",
       "      <td>0</td>\n",
       "      <td>...</td>\n",
       "      <td>0</td>\n",
       "      <td>0</td>\n",
       "      <td>0</td>\n",
       "      <td>0</td>\n",
       "      <td>0</td>\n",
       "      <td>0</td>\n",
       "      <td>0</td>\n",
       "      <td>0</td>\n",
       "      <td>0</td>\n",
       "      <td>0</td>\n",
       "    </tr>\n",
       "    <tr>\n",
       "      <th>1</th>\n",
       "      <td>+++l/EXNMLTijfLBa8p2TUVVVp2aFGSuUI/h7mLmthw=</td>\n",
       "      <td>0</td>\n",
       "      <td>13</td>\n",
       "      <td>26.0</td>\n",
       "      <td>1</td>\n",
       "      <td>3</td>\n",
       "      <td>2527.0</td>\n",
       "      <td>19</td>\n",
       "      <td>0</td>\n",
       "      <td>0</td>\n",
       "      <td>...</td>\n",
       "      <td>0</td>\n",
       "      <td>0</td>\n",
       "      <td>0</td>\n",
       "      <td>0</td>\n",
       "      <td>0</td>\n",
       "      <td>0</td>\n",
       "      <td>0</td>\n",
       "      <td>0</td>\n",
       "      <td>0</td>\n",
       "      <td>0</td>\n",
       "    </tr>\n",
       "    <tr>\n",
       "      <th>2</th>\n",
       "      <td>+++snpr7pmobhLKUgSHTv/mpkqgBT0tQJ0zQj6qKrqc=</td>\n",
       "      <td>0</td>\n",
       "      <td>0</td>\n",
       "      <td>28.0</td>\n",
       "      <td>1</td>\n",
       "      <td>2</td>\n",
       "      <td>1099.0</td>\n",
       "      <td>26</td>\n",
       "      <td>0</td>\n",
       "      <td>0</td>\n",
       "      <td>...</td>\n",
       "      <td>0</td>\n",
       "      <td>0</td>\n",
       "      <td>0</td>\n",
       "      <td>0</td>\n",
       "      <td>0</td>\n",
       "      <td>0</td>\n",
       "      <td>0</td>\n",
       "      <td>0</td>\n",
       "      <td>0</td>\n",
       "      <td>0</td>\n",
       "    </tr>\n",
       "    <tr>\n",
       "      <th>3</th>\n",
       "      <td>++/9R3sX37CjxbY/AaGvbwr3QkwElKBCtSvVzhCBDOk=</td>\n",
       "      <td>0</td>\n",
       "      <td>16</td>\n",
       "      <td>21.0</td>\n",
       "      <td>1</td>\n",
       "      <td>2</td>\n",
       "      <td>571.0</td>\n",
       "      <td>12</td>\n",
       "      <td>0</td>\n",
       "      <td>0</td>\n",
       "      <td>...</td>\n",
       "      <td>0</td>\n",
       "      <td>0</td>\n",
       "      <td>0</td>\n",
       "      <td>0</td>\n",
       "      <td>0</td>\n",
       "      <td>0</td>\n",
       "      <td>0</td>\n",
       "      <td>0</td>\n",
       "      <td>0</td>\n",
       "      <td>0</td>\n",
       "    </tr>\n",
       "    <tr>\n",
       "      <th>4</th>\n",
       "      <td>++/UDNo9DLrxT8QVGiDi1OnWfczAdEwThaVyD0fXO50=</td>\n",
       "      <td>0</td>\n",
       "      <td>20</td>\n",
       "      <td>32.0</td>\n",
       "      <td>1</td>\n",
       "      <td>3</td>\n",
       "      <td>2101.0</td>\n",
       "      <td>19</td>\n",
       "      <td>0</td>\n",
       "      <td>0</td>\n",
       "      <td>...</td>\n",
       "      <td>0</td>\n",
       "      <td>0</td>\n",
       "      <td>0</td>\n",
       "      <td>0</td>\n",
       "      <td>0</td>\n",
       "      <td>0</td>\n",
       "      <td>0</td>\n",
       "      <td>0</td>\n",
       "      <td>0</td>\n",
       "      <td>0</td>\n",
       "    </tr>\n",
       "    <tr>\n",
       "      <th>5</th>\n",
       "      <td>++/ZHqwUNa7U21Qz+zqteiXlZapxey86l6eEorrak/g=</td>\n",
       "      <td>0</td>\n",
       "      <td>11</td>\n",
       "      <td>39.0</td>\n",
       "      <td>1</td>\n",
       "      <td>0</td>\n",
       "      <td>1087.0</td>\n",
       "      <td>21</td>\n",
       "      <td>0</td>\n",
       "      <td>0</td>\n",
       "      <td>...</td>\n",
       "      <td>0</td>\n",
       "      <td>0</td>\n",
       "      <td>0</td>\n",
       "      <td>0</td>\n",
       "      <td>0</td>\n",
       "      <td>0</td>\n",
       "      <td>0</td>\n",
       "      <td>0</td>\n",
       "      <td>0</td>\n",
       "      <td>0</td>\n",
       "    </tr>\n",
       "    <tr>\n",
       "      <th>6</th>\n",
       "      <td>++0/NopttBsaAn6qHZA2AWWrDg7Me7UOMs1vsyo4tSI=</td>\n",
       "      <td>0</td>\n",
       "      <td>0</td>\n",
       "      <td>28.0</td>\n",
       "      <td>1</td>\n",
       "      <td>2</td>\n",
       "      <td>549.0</td>\n",
       "      <td>12</td>\n",
       "      <td>0</td>\n",
       "      <td>0</td>\n",
       "      <td>...</td>\n",
       "      <td>0</td>\n",
       "      <td>0</td>\n",
       "      <td>0</td>\n",
       "      <td>0</td>\n",
       "      <td>0</td>\n",
       "      <td>0</td>\n",
       "      <td>0</td>\n",
       "      <td>0</td>\n",
       "      <td>0</td>\n",
       "      <td>0</td>\n",
       "    </tr>\n",
       "    <tr>\n",
       "      <th>7</th>\n",
       "      <td>++0BJXY8tpirgIhJR14LDM1pnaRosjD1mdO1mIKxlJA=</td>\n",
       "      <td>0</td>\n",
       "      <td>0</td>\n",
       "      <td>28.0</td>\n",
       "      <td>1</td>\n",
       "      <td>3</td>\n",
       "      <td>784.0</td>\n",
       "      <td>16</td>\n",
       "      <td>0</td>\n",
       "      <td>0</td>\n",
       "      <td>...</td>\n",
       "      <td>0</td>\n",
       "      <td>0</td>\n",
       "      <td>0</td>\n",
       "      <td>0</td>\n",
       "      <td>0</td>\n",
       "      <td>0</td>\n",
       "      <td>0</td>\n",
       "      <td>0</td>\n",
       "      <td>0</td>\n",
       "      <td>0</td>\n",
       "    </tr>\n",
       "    <tr>\n",
       "      <th>8</th>\n",
       "      <td>++0EzISdtKY48Z0GY62jer/LFQwrNIAbADdtU5xStGY=</td>\n",
       "      <td>0</td>\n",
       "      <td>0</td>\n",
       "      <td>28.0</td>\n",
       "      <td>1</td>\n",
       "      <td>0</td>\n",
       "      <td>1401.0</td>\n",
       "      <td>6</td>\n",
       "      <td>0</td>\n",
       "      <td>0</td>\n",
       "      <td>...</td>\n",
       "      <td>0</td>\n",
       "      <td>0</td>\n",
       "      <td>0</td>\n",
       "      <td>0</td>\n",
       "      <td>0</td>\n",
       "      <td>0</td>\n",
       "      <td>0</td>\n",
       "      <td>0</td>\n",
       "      <td>0</td>\n",
       "      <td>0</td>\n",
       "    </tr>\n",
       "    <tr>\n",
       "      <th>9</th>\n",
       "      <td>++0nOC7BmrUTtcSboRORfg6ZXTajnBDt1f/SEgH6ONo=</td>\n",
       "      <td>0</td>\n",
       "      <td>11</td>\n",
       "      <td>25.0</td>\n",
       "      <td>1</td>\n",
       "      <td>3</td>\n",
       "      <td>2780.0</td>\n",
       "      <td>7</td>\n",
       "      <td>1</td>\n",
       "      <td>1</td>\n",
       "      <td>...</td>\n",
       "      <td>0</td>\n",
       "      <td>0</td>\n",
       "      <td>0</td>\n",
       "      <td>0</td>\n",
       "      <td>0</td>\n",
       "      <td>0</td>\n",
       "      <td>0</td>\n",
       "      <td>0</td>\n",
       "      <td>0</td>\n",
       "      <td>0</td>\n",
       "    </tr>\n",
       "  </tbody>\n",
       "</table>\n",
       "<p>10 rows × 128 columns</p>\n",
       "</div>"
      ],
      "text/plain": [
       "                                           msno  is_churn  city    bd  gender  \\\n",
       "0  +++hVY1rZox/33YtvDgmKA2Frg/2qhkz12B9ylCvh8o=         0     0  28.0       1   \n",
       "1  +++l/EXNMLTijfLBa8p2TUVVVp2aFGSuUI/h7mLmthw=         0    13  26.0       1   \n",
       "2  +++snpr7pmobhLKUgSHTv/mpkqgBT0tQJ0zQj6qKrqc=         0     0  28.0       1   \n",
       "3  ++/9R3sX37CjxbY/AaGvbwr3QkwElKBCtSvVzhCBDOk=         0    16  21.0       1   \n",
       "4  ++/UDNo9DLrxT8QVGiDi1OnWfczAdEwThaVyD0fXO50=         0    20  32.0       1   \n",
       "5  ++/ZHqwUNa7U21Qz+zqteiXlZapxey86l6eEorrak/g=         0    11  39.0       1   \n",
       "6  ++0/NopttBsaAn6qHZA2AWWrDg7Me7UOMs1vsyo4tSI=         0     0  28.0       1   \n",
       "7  ++0BJXY8tpirgIhJR14LDM1pnaRosjD1mdO1mIKxlJA=         0     0  28.0       1   \n",
       "8  ++0EzISdtKY48Z0GY62jer/LFQwrNIAbADdtU5xStGY=         0     0  28.0       1   \n",
       "9  ++0nOC7BmrUTtcSboRORfg6ZXTajnBDt1f/SEgH6ONo=         0    11  25.0       1   \n",
       "\n",
       "   registered_via  member_days  no_of_transactions  no_of_cancellations  \\\n",
       "0               2       1195.0                   4                    0   \n",
       "1               3       2527.0                  19                    0   \n",
       "2               2       1099.0                  26                    0   \n",
       "3               2        571.0                  12                    0   \n",
       "4               3       2101.0                  19                    0   \n",
       "5               0       1087.0                  21                    0   \n",
       "6               2        549.0                  12                    0   \n",
       "7               3        784.0                  16                    0   \n",
       "8               0       1401.0                   6                    0   \n",
       "9               3       2780.0                   7                    1   \n",
       "\n",
       "   cancelled      ...        plan_days_110  plan_days_200  plan_days_230  \\\n",
       "0          0      ...                    0              0              0   \n",
       "1          0      ...                    0              0              0   \n",
       "2          0      ...                    0              0              0   \n",
       "3          0      ...                    0              0              0   \n",
       "4          0      ...                    0              0              0   \n",
       "5          0      ...                    0              0              0   \n",
       "6          0      ...                    0              0              0   \n",
       "7          0      ...                    0              0              0   \n",
       "8          0      ...                    0              0              0   \n",
       "9          1      ...                    0              0              0   \n",
       "\n",
       "   plan_days_240  plan_days_270  plan_days_360  plan_days_365  plan_days_395  \\\n",
       "0              0              0              0              0              0   \n",
       "1              0              0              0              0              0   \n",
       "2              0              0              0              0              0   \n",
       "3              0              0              0              0              0   \n",
       "4              0              0              0              0              0   \n",
       "5              0              0              0              0              0   \n",
       "6              0              0              0              0              0   \n",
       "7              0              0              0              0              0   \n",
       "8              0              0              0              0              0   \n",
       "9              0              0              0              0              0   \n",
       "\n",
       "   plan_days_400  plan_days_450  \n",
       "0              0              0  \n",
       "1              0              0  \n",
       "2              0              0  \n",
       "3              0              0  \n",
       "4              0              0  \n",
       "5              0              0  \n",
       "6              0              0  \n",
       "7              0              0  \n",
       "8              0              0  \n",
       "9              0              0  \n",
       "\n",
       "[10 rows x 128 columns]"
      ]
     },
     "execution_count": 76,
     "metadata": {},
     "output_type": "execute_result"
    }
   ],
   "source": [
    "sub_data.head(10)"
   ]
  },
  {
   "cell_type": "code",
   "execution_count": 78,
   "metadata": {
    "collapsed": true
   },
   "outputs": [],
   "source": [
    "X_val = sub_data.drop(['is_churn', 'msno'], axis=1)"
   ]
  },
  {
   "cell_type": "code",
   "execution_count": 83,
   "metadata": {},
   "outputs": [
    {
     "name": "stderr",
     "output_type": "stream",
     "text": [
      "[Parallel(n_jobs=2)]: Done  15 out of  15 | elapsed:    1.2s finished\n"
     ]
    }
   ],
   "source": [
    "y_rfproba_sub = rf_best.predict_proba(X_val)"
   ]
  },
  {
   "cell_type": "code",
   "execution_count": 84,
   "metadata": {},
   "outputs": [
    {
     "name": "stderr",
     "output_type": "stream",
     "text": [
      "C:\\Users\\Laolu\\Anaconda2\\envs\\py27\\lib\\site-packages\\ipykernel_launcher.py:2: SettingWithCopyWarning: \n",
      "A value is trying to be set on a copy of a slice from a DataFrame.\n",
      "Try using .loc[row_indexer,col_indexer] = value instead\n",
      "\n",
      "See the caveats in the documentation: http://pandas.pydata.org/pandas-docs/stable/indexing.html#indexing-view-versus-copy\n",
      "  \n"
     ]
    }
   ],
   "source": [
    "rf_ans = sub_data[['msno', 'city']]\n",
    "rf_ans['is_churn'] = y_rfproba_sub[:,1]\n",
    "ans = rf_ans.drop(['city'], axis=1)"
   ]
  },
  {
   "cell_type": "code",
   "execution_count": 86,
   "metadata": {},
   "outputs": [
    {
     "data": {
      "text/plain": [
       "0.000000    940567\n",
       "0.066667     20911\n",
       "0.133333      5614\n",
       "0.200000      2468\n",
       "0.266667       810\n",
       "0.333333       334\n",
       "0.400000       117\n",
       "0.466667        71\n",
       "0.533333        68\n",
       "Name: is_churn, dtype: int64"
      ]
     },
     "execution_count": 86,
     "metadata": {},
     "output_type": "execute_result"
    }
   ],
   "source": [
    "ans['is_churn'].value_counts()"
   ]
  },
  {
   "cell_type": "code",
   "execution_count": 87,
   "metadata": {},
   "outputs": [
    {
     "data": {
      "text/html": [
       "<div>\n",
       "<style>\n",
       "    .dataframe thead tr:only-child th {\n",
       "        text-align: right;\n",
       "    }\n",
       "\n",
       "    .dataframe thead th {\n",
       "        text-align: left;\n",
       "    }\n",
       "\n",
       "    .dataframe tbody tr th {\n",
       "        vertical-align: top;\n",
       "    }\n",
       "</style>\n",
       "<table border=\"1\" class=\"dataframe\">\n",
       "  <thead>\n",
       "    <tr style=\"text-align: right;\">\n",
       "      <th></th>\n",
       "      <th>msno</th>\n",
       "      <th>is_churn</th>\n",
       "    </tr>\n",
       "  </thead>\n",
       "  <tbody>\n",
       "    <tr>\n",
       "      <th>0</th>\n",
       "      <td>+++hVY1rZox/33YtvDgmKA2Frg/2qhkz12B9ylCvh8o=</td>\n",
       "      <td>0.0</td>\n",
       "    </tr>\n",
       "    <tr>\n",
       "      <th>1</th>\n",
       "      <td>+++l/EXNMLTijfLBa8p2TUVVVp2aFGSuUI/h7mLmthw=</td>\n",
       "      <td>0.0</td>\n",
       "    </tr>\n",
       "    <tr>\n",
       "      <th>2</th>\n",
       "      <td>+++snpr7pmobhLKUgSHTv/mpkqgBT0tQJ0zQj6qKrqc=</td>\n",
       "      <td>0.0</td>\n",
       "    </tr>\n",
       "    <tr>\n",
       "      <th>3</th>\n",
       "      <td>++/9R3sX37CjxbY/AaGvbwr3QkwElKBCtSvVzhCBDOk=</td>\n",
       "      <td>0.0</td>\n",
       "    </tr>\n",
       "    <tr>\n",
       "      <th>4</th>\n",
       "      <td>++/UDNo9DLrxT8QVGiDi1OnWfczAdEwThaVyD0fXO50=</td>\n",
       "      <td>0.0</td>\n",
       "    </tr>\n",
       "  </tbody>\n",
       "</table>\n",
       "</div>"
      ],
      "text/plain": [
       "                                           msno  is_churn\n",
       "0  +++hVY1rZox/33YtvDgmKA2Frg/2qhkz12B9ylCvh8o=       0.0\n",
       "1  +++l/EXNMLTijfLBa8p2TUVVVp2aFGSuUI/h7mLmthw=       0.0\n",
       "2  +++snpr7pmobhLKUgSHTv/mpkqgBT0tQJ0zQj6qKrqc=       0.0\n",
       "3  ++/9R3sX37CjxbY/AaGvbwr3QkwElKBCtSvVzhCBDOk=       0.0\n",
       "4  ++/UDNo9DLrxT8QVGiDi1OnWfczAdEwThaVyD0fXO50=       0.0"
      ]
     },
     "execution_count": 87,
     "metadata": {},
     "output_type": "execute_result"
    }
   ],
   "source": [
    "ans.head()"
   ]
  },
  {
   "cell_type": "code",
   "execution_count": 88,
   "metadata": {
    "collapsed": true
   },
   "outputs": [],
   "source": [
    "ans.to_csv('submission_2.csv', index=False)"
   ]
  },
  {
   "cell_type": "code",
   "execution_count": null,
   "metadata": {
    "collapsed": true
   },
   "outputs": [],
   "source": []
  },
  {
   "cell_type": "code",
   "execution_count": 107,
   "metadata": {},
   "outputs": [],
   "source": [
    "y_lgrsub_proba = lgr_0.predict_proba(X_val)"
   ]
  },
  {
   "cell_type": "code",
   "execution_count": 108,
   "metadata": {},
   "outputs": [
    {
     "name": "stderr",
     "output_type": "stream",
     "text": [
      "C:\\Users\\Laolu\\Anaconda2\\envs\\py27\\lib\\site-packages\\ipykernel_launcher.py:2: SettingWithCopyWarning: \n",
      "A value is trying to be set on a copy of a slice from a DataFrame.\n",
      "Try using .loc[row_indexer,col_indexer] = value instead\n",
      "\n",
      "See the caveats in the documentation: http://pandas.pydata.org/pandas-docs/stable/indexing.html#indexing-view-versus-copy\n",
      "  \n"
     ]
    },
    {
     "data": {
      "text/plain": [
       "0.000522    7204\n",
       "0.000667    6669\n",
       "0.000793    6610\n",
       "0.000706    5442\n",
       "0.000629    5034\n",
       "0.000840    4935\n",
       "0.001058    4819\n",
       "0.001120    4791\n",
       "0.000561    4586\n",
       "0.000698    4405\n",
       "0.000594    4300\n",
       "0.000748    4176\n",
       "0.000890    4110\n",
       "0.001187    3880\n",
       "0.000837    3823\n",
       "0.000741    3751\n",
       "0.001495    3622\n",
       "0.001627    3370\n",
       "0.001203    3260\n",
       "0.001202    3160\n",
       "0.002394    3141\n",
       "0.001411    3119\n",
       "0.000889    3044\n",
       "0.001531    2987\n",
       "0.000657    2882\n",
       "0.000998    2848\n",
       "0.000698    2726\n",
       "0.001278    2671\n",
       "0.000788    2561\n",
       "0.001442    2492\n",
       "            ... \n",
       "0.000787       1\n",
       "0.003846       1\n",
       "0.001222       1\n",
       "0.006034       1\n",
       "0.000497       1\n",
       "0.002599       1\n",
       "0.000473       1\n",
       "0.000881       1\n",
       "0.003299       1\n",
       "0.001619       1\n",
       "0.007101       1\n",
       "0.001625       1\n",
       "0.003166       1\n",
       "0.000372       1\n",
       "0.000295       1\n",
       "0.000845       1\n",
       "0.000598       1\n",
       "0.003260       1\n",
       "0.001498       1\n",
       "0.002924       1\n",
       "0.006145       1\n",
       "0.002348       1\n",
       "0.000621       1\n",
       "0.002318       1\n",
       "0.000294       1\n",
       "0.000329       1\n",
       "0.000866       1\n",
       "0.000989       1\n",
       "0.001617       1\n",
       "0.002866       1\n",
       "Name: is_churn, Length: 583249, dtype: int64"
      ]
     },
     "execution_count": 108,
     "metadata": {},
     "output_type": "execute_result"
    }
   ],
   "source": [
    "lgr_ans = sub_data[['msno','city']]\n",
    "lgr_ans['is_churn'] = y_lgrsub_proba[:,1]\n",
    "l_ans = lgr_ans.drop(['city'], axis=1)\n",
    "l_ans['is_churn'].value_counts()"
   ]
  },
  {
   "cell_type": "code",
   "execution_count": 109,
   "metadata": {},
   "outputs": [
    {
     "data": {
      "text/html": [
       "<div>\n",
       "<style>\n",
       "    .dataframe thead tr:only-child th {\n",
       "        text-align: right;\n",
       "    }\n",
       "\n",
       "    .dataframe thead th {\n",
       "        text-align: left;\n",
       "    }\n",
       "\n",
       "    .dataframe tbody tr th {\n",
       "        vertical-align: top;\n",
       "    }\n",
       "</style>\n",
       "<table border=\"1\" class=\"dataframe\">\n",
       "  <thead>\n",
       "    <tr style=\"text-align: right;\">\n",
       "      <th></th>\n",
       "      <th>msno</th>\n",
       "      <th>is_churn</th>\n",
       "    </tr>\n",
       "  </thead>\n",
       "  <tbody>\n",
       "    <tr>\n",
       "      <th>0</th>\n",
       "      <td>+++hVY1rZox/33YtvDgmKA2Frg/2qhkz12B9ylCvh8o=</td>\n",
       "      <td>0.001412</td>\n",
       "    </tr>\n",
       "    <tr>\n",
       "      <th>1</th>\n",
       "      <td>+++l/EXNMLTijfLBa8p2TUVVVp2aFGSuUI/h7mLmthw=</td>\n",
       "      <td>0.000925</td>\n",
       "    </tr>\n",
       "    <tr>\n",
       "      <th>2</th>\n",
       "      <td>+++snpr7pmobhLKUgSHTv/mpkqgBT0tQJ0zQj6qKrqc=</td>\n",
       "      <td>0.000527</td>\n",
       "    </tr>\n",
       "    <tr>\n",
       "      <th>3</th>\n",
       "      <td>++/9R3sX37CjxbY/AaGvbwr3QkwElKBCtSvVzhCBDOk=</td>\n",
       "      <td>0.001252</td>\n",
       "    </tr>\n",
       "    <tr>\n",
       "      <th>4</th>\n",
       "      <td>++/UDNo9DLrxT8QVGiDi1OnWfczAdEwThaVyD0fXO50=</td>\n",
       "      <td>0.000658</td>\n",
       "    </tr>\n",
       "  </tbody>\n",
       "</table>\n",
       "</div>"
      ],
      "text/plain": [
       "                                           msno  is_churn\n",
       "0  +++hVY1rZox/33YtvDgmKA2Frg/2qhkz12B9ylCvh8o=  0.001412\n",
       "1  +++l/EXNMLTijfLBa8p2TUVVVp2aFGSuUI/h7mLmthw=  0.000925\n",
       "2  +++snpr7pmobhLKUgSHTv/mpkqgBT0tQJ0zQj6qKrqc=  0.000527\n",
       "3  ++/9R3sX37CjxbY/AaGvbwr3QkwElKBCtSvVzhCBDOk=  0.001252\n",
       "4  ++/UDNo9DLrxT8QVGiDi1OnWfczAdEwThaVyD0fXO50=  0.000658"
      ]
     },
     "execution_count": 109,
     "metadata": {},
     "output_type": "execute_result"
    }
   ],
   "source": [
    "l_ans.head()"
   ]
  },
  {
   "cell_type": "code",
   "execution_count": 110,
   "metadata": {
    "collapsed": true
   },
   "outputs": [],
   "source": [
    "l_ans.to_csv('submission_2lgr.csv', index=False)"
   ]
  },
  {
   "cell_type": "code",
   "execution_count": null,
   "metadata": {
    "collapsed": true
   },
   "outputs": [],
   "source": []
  },
  {
   "cell_type": "code",
   "execution_count": null,
   "metadata": {
    "collapsed": true
   },
   "outputs": [],
   "source": []
  },
  {
   "cell_type": "markdown",
   "metadata": {},
   "source": [
    "**This looks like overfitting...**"
   ]
  },
  {
   "cell_type": "markdown",
   "metadata": {},
   "source": [
    "**We must split our training set into equal folds and we stratify our folds to ensure both classes 0 & 1 are equally represented across folds**"
   ]
  },
  {
   "cell_type": "code",
   "execution_count": 23,
   "metadata": {
    "collapsed": true
   },
   "outputs": [],
   "source": [
    "lgr_1 = LogisticRegressionCV(cv=StratifiedKFold(n_splits=8), refit=True, verbose=1)"
   ]
  },
  {
   "cell_type": "code",
   "execution_count": 24,
   "metadata": {
    "scrolled": true
   },
   "outputs": [
    {
     "name": "stderr",
     "output_type": "stream",
     "text": [
      "C:\\Users\\Laolu\\Anaconda2\\envs\\py27\\lib\\site-packages\\sklearn\\linear_model\\logistic.py:718: UserWarning: lbfgs failed to converge. Increase the number of iterations.\n",
      "  warnings.warn(\"lbfgs failed to converge. Increase the number \"\n",
      "[Parallel(n_jobs=1)]: Done   8 out of   8 | elapsed: 26.5min finished\n"
     ]
    },
    {
     "data": {
      "text/plain": [
       "LogisticRegressionCV(Cs=10, class_weight=None,\n",
       "           cv=StratifiedKFold(n_splits=8, random_state=None, shuffle=False),\n",
       "           dual=False, fit_intercept=True, intercept_scaling=1.0,\n",
       "           max_iter=100, multi_class='ovr', n_jobs=1, penalty='l2',\n",
       "           random_state=None, refit=True, scoring=None, solver='lbfgs',\n",
       "           tol=0.0001, verbose=1)"
      ]
     },
     "execution_count": 24,
     "metadata": {},
     "output_type": "execute_result"
    }
   ],
   "source": [
    "lgr_1.fit(X_train, y_train)"
   ]
  },
  {
   "cell_type": "code",
   "execution_count": 25,
   "metadata": {},
   "outputs": [
    {
     "name": "stdout",
     "output_type": "stream",
     "text": [
      "Logistic Regression test error rate: 0.0\n"
     ]
    }
   ],
   "source": [
    "y_pred_1 = lgr_1.predict(X_hold)\n",
    "print 'Logistic Regression test error rate:', 1 - accuracy_score(y_hold, y_pred_1)"
   ]
  },
  {
   "cell_type": "code",
   "execution_count": 26,
   "metadata": {},
   "outputs": [
    {
     "data": {
      "text/plain": [
       "array([[185787,      0],\n",
       "       [     0,  12800]], dtype=int64)"
      ]
     },
     "execution_count": 26,
     "metadata": {},
     "output_type": "execute_result"
    }
   ],
   "source": [
    "confusion_matrix(y_hold, y_pred_1)"
   ]
  },
  {
   "cell_type": "code",
   "execution_count": 27,
   "metadata": {
    "collapsed": true
   },
   "outputs": [],
   "source": [
    "y_proba_1 = lgr_1.predict_proba(X_hold)"
   ]
  },
  {
   "cell_type": "code",
   "execution_count": 28,
   "metadata": {},
   "outputs": [
    {
     "data": {
      "text/plain": [
       "<matplotlib.axes._subplots.AxesSubplot at 0x2565b8d0>"
      ]
     },
     "execution_count": 28,
     "metadata": {},
     "output_type": "execute_result"
    },
    {
     "data": {
      "image/png": "[encoded data removed]",
      "text/plain": [
       "<matplotlib.figure.Figure at 0x305654e0>"
      ]
     },
     "metadata": {},
     "output_type": "display_data"
    }
   ],
   "source": [
    "skplt.metrics.plot_roc_curve(y_hold, y_proba_1)"
   ]
  },
  {
   "cell_type": "markdown",
   "metadata": {},
   "source": [
    "** Non-convergence of our regression coefficients is generally not a good thing... **\n",
    "\n",
    "Solutions:\n",
    "- Use a different scoring metric\n",
    "- Use a different solver\n",
    "- Increase max_iter\n",
    "- A combination of the above..."
   ]
  },
  {
   "cell_type": "code",
   "execution_count": null,
   "metadata": {},
   "outputs": [
    {
     "name": "stdout",
     "output_type": "stream",
     "text": [
      "max_iter reached after 982 seconds\n"
     ]
    },
    {
     "name": "stderr",
     "output_type": "stream",
     "text": [
      "C:\\Users\\Laolu\\Anaconda2\\envs\\py27\\lib\\site-packages\\sklearn\\linear_model\\sag.py:326: ConvergenceWarning: The max_iter was reached which means the coef_ did not converge\n",
      "  \"the coef_ did not converge\", ConvergenceWarning)\n"
     ]
    },
    {
     "name": "stdout",
     "output_type": "stream",
     "text": [
      "max_iter reached after 934 seconds\n",
      "max_iter reached after 931 seconds\n",
      "max_iter reached after 917 seconds\n",
      "max_iter reached after 915 seconds\n",
      "max_iter reached after 915 seconds\n",
      "max_iter reached after 913 seconds\n",
      "max_iter reached after 921 seconds\n",
      "max_iter reached after 910 seconds\n",
      "max_iter reached after 907 seconds\n",
      "max_iter reached after 967 seconds\n",
      "max_iter reached after 983 seconds\n",
      "max_iter reached after 974 seconds\n",
      "max_iter reached after 993 seconds\n",
      "max_iter reached after 921 seconds\n",
      "max_iter reached after 927 seconds\n",
      "max_iter reached after 962 seconds\n",
      "max_iter reached after 979 seconds\n",
      "max_iter reached after 915 seconds\n",
      "max_iter reached after 1021 seconds\n",
      "max_iter reached after 1010 seconds\n",
      "max_iter reached after 1008 seconds\n",
      "max_iter reached after 934 seconds\n",
      "max_iter reached after 960 seconds\n",
      "max_iter reached after 934 seconds\n",
      "max_iter reached after 935 seconds\n",
      "max_iter reached after 954 seconds\n",
      "max_iter reached after 914 seconds\n"
     ]
    }
   ],
   "source": [
    "lgr_3 = LogisticRegressionCV(cv=StratifiedKFold(n_splits=8), refit=True, solver='saga', verbose=1, max_iter=500)\n",
    "lgr_3.fit(X_train, y_train)"
   ]
  },
  {
   "cell_type": "code",
   "execution_count": null,
   "metadata": {
    "collapsed": true
   },
   "outputs": [],
   "source": [
    "y_pred_3 = lgr_3.predict(X_hold)\n",
    "y_proba_3 = lgr_3.predict_proba(X_hold)\n",
    "print 'Logistic Regression test error rate:', 1 - accuracy_score(y_hold, y_pred_3)"
   ]
  },
  {
   "cell_type": "code",
   "execution_count": 27,
   "metadata": {},
   "outputs": [
    {
     "data": {
      "text/plain": [
       "{'mean_fit_time': array([  8.04225001,   8.81687501,   7.85937506,  14.698625  ,\n",
       "         14.02562496,  14.47587499,  24.31400004,  20.07412499,\n",
       "         20.59087497,   7.75224996,   7.47925004,   7.94424999,\n",
       "         14.32937503,  14.18712503,  14.62612495,  21.73525003,\n",
       "         20.69049999,  20.88037503]),\n",
       " 'mean_score_time': array([ 0.19837502,  0.19700003,  0.18000001,  0.26975   ,  0.266875  ,\n",
       "         0.26387498,  0.40837497,  0.33475   ,  0.33262506,  0.18412504,\n",
       "         0.19674999,  0.18025002,  0.271     ,  0.27149999,  0.28175008,\n",
       "         0.35237497,  0.37012503,  0.33024997]),\n",
       " 'mean_test_score': array([ 0.99990055,  0.99984012,  0.99989677,  0.99997356,  0.99997356,\n",
       "         0.99996979,  0.99999748,  0.99999496,  0.99999874,  0.99987915,\n",
       "         0.99980865,  0.99989677,  0.99996223,  0.99995342,  0.99998112,\n",
       "         0.99999496,  0.99999622,  0.99999622]),\n",
       " 'mean_train_score': array([ 0.99999532,  0.99999227,  0.99999425,  0.99999982,  1.        ,\n",
       "         0.99999982,  1.        ,  1.        ,  1.        ,  0.9999946 ,\n",
       "         0.99998831,  0.99999442,  0.99999982,  0.99999964,  1.        ,\n",
       "         1.        ,  1.        ,  1.        ]),\n",
       " 'param_criterion': masked_array(data = ['gini' 'gini' 'gini' 'gini' 'gini' 'gini' 'gini' 'gini' 'gini' 'entropy'\n",
       "  'entropy' 'entropy' 'entropy' 'entropy' 'entropy' 'entropy' 'entropy'\n",
       "  'entropy'],\n",
       "              mask = [False False False False False False False False False False False False\n",
       "  False False False False False False],\n",
       "        fill_value = ?),\n",
       " 'param_n_estimators': masked_array(data = [5 5 5 10 10 10 15 15 15 5 5 5 10 10 10 15 15 15],\n",
       "              mask = [False False False False False False False False False False False False\n",
       "  False False False False False False],\n",
       "        fill_value = ?),\n",
       " 'param_random_state': masked_array(data = [1 5 13 1 5 13 1 5 13 1 5 13 1 5 13 1 5 13],\n",
       "              mask = [False False False False False False False False False False False False\n",
       "  False False False False False False],\n",
       "        fill_value = ?),\n",
       " 'params': [{'criterion': 'gini', 'n_estimators': 5, 'random_state': 1},\n",
       "  {'criterion': 'gini', 'n_estimators': 5, 'random_state': 5},\n",
       "  {'criterion': 'gini', 'n_estimators': 5, 'random_state': 13},\n",
       "  {'criterion': 'gini', 'n_estimators': 10, 'random_state': 1},\n",
       "  {'criterion': 'gini', 'n_estimators': 10, 'random_state': 5},\n",
       "  {'criterion': 'gini', 'n_estimators': 10, 'random_state': 13},\n",
       "  {'criterion': 'gini', 'n_estimators': 15, 'random_state': 1},\n",
       "  {'criterion': 'gini', 'n_estimators': 15, 'random_state': 5},\n",
       "  {'criterion': 'gini', 'n_estimators': 15, 'random_state': 13},\n",
       "  {'criterion': 'entropy', 'n_estimators': 5, 'random_state': 1},\n",
       "  {'criterion': 'entropy', 'n_estimators': 5, 'random_state': 5},\n",
       "  {'criterion': 'entropy', 'n_estimators': 5, 'random_state': 13},\n",
       "  {'criterion': 'entropy', 'n_estimators': 10, 'random_state': 1},\n",
       "  {'criterion': 'entropy', 'n_estimators': 10, 'random_state': 5},\n",
       "  {'criterion': 'entropy', 'n_estimators': 10, 'random_state': 13},\n",
       "  {'criterion': 'entropy', 'n_estimators': 15, 'random_state': 1},\n",
       "  {'criterion': 'entropy', 'n_estimators': 15, 'random_state': 5},\n",
       "  {'criterion': 'entropy', 'n_estimators': 15, 'random_state': 13}],\n",
       " 'rank_test_score': array([13, 17, 14,  8,  8, 10,  2,  5,  1, 16, 18, 14, 11, 12,  7,  5,  3,\n",
       "         3]),\n",
       " 'split0_test_score': array([ 0.99974822,  0.99976836,  0.99982879,  0.99994964,  0.99993957,\n",
       "         0.99998993,  1.        ,  0.99998993,  1.        ,  0.99988922,\n",
       "         0.99982879,  0.99995972,  0.99997986,  1.        ,  1.        ,\n",
       "         1.        ,  1.        ,  1.        ]),\n",
       " 'split0_train_score': array([ 0.99998993,  0.99998993,  0.99999281,  1.        ,  1.        ,\n",
       "         1.        ,  1.        ,  1.        ,  1.        ,  0.99999425,\n",
       "         0.99999568,  0.99999712,  1.        ,  1.        ,  1.        ,\n",
       "         1.        ,  1.        ,  1.        ]),\n",
       " 'split1_test_score': array([ 0.99995972,  0.99987915,  0.99988922,  1.        ,  0.99995972,\n",
       "         0.99995972,  1.        ,  0.99997986,  1.        ,  0.99986907,\n",
       "         0.99996979,  0.99991943,  0.99995972,  0.99997986,  1.        ,\n",
       "         0.99998993,  1.        ,  1.        ]),\n",
       " 'split1_train_score': array([ 0.99999425,  0.99999281,  0.99999712,  1.        ,  1.        ,\n",
       "         1.        ,  1.        ,  1.        ,  1.        ,  0.99999568,\n",
       "         0.99999425,  0.99999568,  1.        ,  1.        ,  1.        ,\n",
       "         1.        ,  1.        ,  1.        ]),\n",
       " 'split2_test_score': array([ 0.99986907,  0.99986907,  0.99988922,  0.99995972,  0.99995972,\n",
       "         0.99994964,  0.99998993,  1.        ,  1.        ,  0.999859  ,\n",
       "         0.99968779,  0.99987915,  0.99993957,  0.99990936,  0.99996979,\n",
       "         0.99998993,  1.        ,  1.        ]),\n",
       " 'split2_train_score': array([ 0.99999281,  0.99998417,  0.99999281,  1.        ,  1.        ,\n",
       "         1.        ,  1.        ,  1.        ,  1.        ,  0.99998993,\n",
       "         0.99998274,  0.99998849,  1.        ,  0.99999856,  1.        ,\n",
       "         1.        ,  1.        ,  1.        ]),\n",
       " 'split3_test_score': array([ 0.99991943,  0.99964751,  0.99996979,  0.99997986,  0.99996979,\n",
       "         0.99998993,  1.        ,  0.99998993,  1.        ,  0.99973815,\n",
       "         0.99977843,  0.99993957,  0.99996979,  0.99984893,  0.99998993,\n",
       "         1.        ,  1.        ,  1.        ]),\n",
       " 'split3_train_score': array([ 0.99999568,  0.99998705,  0.99999712,  1.        ,  1.        ,\n",
       "         1.        ,  1.        ,  1.        ,  1.        ,  0.99998993,\n",
       "         0.99999281,  0.99999856,  1.        ,  0.99999856,  1.        ,\n",
       "         1.        ,  1.        ,  1.        ]),\n",
       " 'split4_test_score': array([ 0.99981872,  0.999859  ,  0.9999295 ,  0.99995972,  0.99998993,\n",
       "         0.99995972,  0.99998993,  1.        ,  1.        ,  0.9999295 ,\n",
       "         0.99984893,  0.99989929,  0.99996979,  0.99994964,  0.99995972,\n",
       "         1.        ,  0.99998993,  0.99998993]),\n",
       " 'split4_train_score': array([ 0.99999281,  1.        ,  0.99999281,  1.        ,  1.        ,\n",
       "         1.        ,  1.        ,  1.        ,  1.        ,  0.99999568,\n",
       "         0.99998993,  0.99999712,  1.        ,  1.        ,  1.        ,\n",
       "         1.        ,  1.        ,  1.        ]),\n",
       " 'split5_test_score': array([ 1.        ,  0.99989929,  0.99989929,  1.        ,  0.99998993,\n",
       "         0.99997986,  1.        ,  1.        ,  1.        ,  0.99989929,\n",
       "         0.99970794,  0.99982879,  0.9999295 ,  0.99997986,  0.99995972,\n",
       "         0.99997986,  0.99998993,  0.99997986]),\n",
       " 'split5_train_score': array([ 1.        ,  0.99999425,  0.99999568,  1.        ,  1.        ,\n",
       "         0.99999856,  1.        ,  1.        ,  1.        ,  0.99999568,\n",
       "         0.99998561,  0.99999281,  1.        ,  1.        ,  1.        ,\n",
       "         1.        ,  1.        ,  1.        ]),\n",
       " 'split6_test_score': array([ 0.99991943,  0.99990936,  0.99981872,  0.99995972,  1.        ,\n",
       "         0.99995972,  1.        ,  1.        ,  0.99998993,  0.99986907,\n",
       "         0.99987915,  0.99988922,  0.99995972,  0.99998993,  0.99997986,\n",
       "         1.        ,  1.        ,  1.        ]),\n",
       " 'split6_train_score': array([ 0.99999856,  0.99999712,  0.99999281,  0.99999856,  1.        ,\n",
       "         1.        ,  1.        ,  1.        ,  1.        ,  0.99999856,\n",
       "         0.99998993,  0.99999568,  0.99999856,  1.        ,  1.        ,\n",
       "         1.        ,  1.        ,  1.        ]),\n",
       " 'split7_test_score': array([ 0.99996979,  0.99988922,  0.99994964,  0.99997986,  0.99997986,\n",
       "         0.99996979,  1.        ,  1.        ,  1.        ,  0.99997986,\n",
       "         0.99976836,  0.999859  ,  0.99998993,  0.99996979,  0.99998993,\n",
       "         1.        ,  0.99998993,  1.        ]),\n",
       " 'split7_train_score': array([ 0.99999856,  0.99999281,  0.99999281,  1.        ,  1.        ,\n",
       "         1.        ,  1.        ,  1.        ,  1.        ,  0.99999712,\n",
       "         0.99997554,  0.99998993,  1.        ,  1.        ,  1.        ,\n",
       "         1.        ,  1.        ,  1.        ]),\n",
       " 'std_fit_time': array([ 1.69120456,  2.77860588,  0.98158693,  1.35671839,  1.37927917,\n",
       "         1.16129824,  2.10287085,  1.47443697,  1.04213885,  0.96577524,\n",
       "         0.72860943,  0.62632852,  1.59519699,  1.07405844,  0.77696303,\n",
       "         1.60020023,  1.41695814,  1.42222578]),\n",
       " 'std_score_time': array([ 0.04544484,  0.01558042,  0.00854396,  0.01472885,  0.01339247,\n",
       "         0.01067049,  0.05740848,  0.01168071,  0.01022173,  0.01070563,\n",
       "         0.02358356,  0.00694169,  0.01300963,  0.01023473,  0.04430224,\n",
       "         0.01591333,  0.05121383,  0.01262688]),\n",
       " 'std_test_score': array([  7.88894788e-05,   8.34202474e-05,   5.00399654e-05,\n",
       "          1.81123490e-05,   1.87992837e-05,   1.42428683e-05,\n",
       "          4.36095900e-06,   7.12140726e-06,   3.33073745e-06,\n",
       "          6.48790744e-05,   8.67821649e-05,   3.98897554e-05,\n",
       "          1.86725006e-05,   4.74891002e-05,   1.54696316e-05,\n",
       "          7.12141622e-06,   4.87571348e-06,   7.00926093e-06]),\n",
       " 'std_train_score': array([  3.27689716e-06,   4.82234056e-06,   1.90327854e-06,\n",
       "          4.75819636e-07,   0.00000000e+00,   4.75819636e-07,\n",
       "          0.00000000e+00,   0.00000000e+00,   0.00000000e+00,\n",
       "          2.94415602e-06,   6.28935182e-06,   3.40753408e-06,\n",
       "          4.75819636e-07,   6.22994143e-07,   0.00000000e+00,\n",
       "          0.00000000e+00,   0.00000000e+00,   0.00000000e+00])}"
      ]
     },
     "execution_count": 27,
     "metadata": {},
     "output_type": "execute_result"
    }
   ],
   "source": [
    "gridsearchRF.cv_results_"
   ]
  },
  {
   "cell_type": "code",
   "execution_count": 30,
   "metadata": {},
   "outputs": [
    {
     "name": "stdout",
     "output_type": "stream",
     "text": [
      "[[185787      0]\n",
      " [     0  12800]]\n"
     ]
    },
    {
     "data": {
      "text/plain": [
       "<matplotlib.axes._subplots.AxesSubplot at 0x1032add8>"
      ]
     },
     "execution_count": 30,
     "metadata": {},
     "output_type": "execute_result"
    },
    {
     "data": {
      "image/png": "[encoded data removed]",
      "text/plain": [
       "<matplotlib.figure.Figure at 0x306bec50>"
      ]
     },
     "metadata": {},
     "output_type": "display_data"
    }
   ],
   "source": [
    "print confusion_matrix(y_hold, y_RF_hold)\n",
    "skplt.metrics.plot_roc_curve(y_hold, y_RF_proba)"
   ]
  },
  {
   "cell_type": "code",
   "execution_count": 66,
   "metadata": {
    "collapsed": true
   },
   "outputs": [],
   "source": [
    "sub_data = pd.read_csv('test_dataset.csv')"
   ]
  },
  {
   "cell_type": "code",
   "execution_count": 67,
   "metadata": {
    "scrolled": true
   },
   "outputs": [
    {
     "data": {
      "text/plain": [
       "Index([u'city', u'bd', u'gender', u'registered_via', u'member_days',\n",
       "       u'total_amount_paid', u'is_auto_renew'],\n",
       "      dtype='object')"
      ]
     },
     "execution_count": 67,
     "metadata": {},
     "output_type": "execute_result"
    }
   ],
   "source": [
    "sub_data.columns[sub_data.isnull().any()]"
   ]
  },
  {
   "cell_type": "code",
   "execution_count": 68,
   "metadata": {},
   "outputs": [
    {
     "name": "stdout",
     "output_type": "stream",
     "text": [
      "970960\n",
      "968433\n",
      "2527\n"
     ]
    }
   ],
   "source": [
    "print len(sub_data['is_auto_renew'])\n",
    "print sub_data['is_auto_renew'].count()\n",
    "print sum(sub_data['is_auto_renew'].isnull())"
   ]
  },
  {
   "cell_type": "code",
   "execution_count": 71,
   "metadata": {
    "collapsed": true
   },
   "outputs": [],
   "source": [
    "X_val, y_val = sub_data.drop(['is_churn', 'msno'], axis=1), sub_data['is_churn']"
   ]
  },
  {
   "cell_type": "code",
   "execution_count": 72,
   "metadata": {},
   "outputs": [
    {
     "name": "stderr",
     "output_type": "stream",
     "text": [
      "[Parallel(n_jobs=1)]: Done   1 out of   1 | elapsed:    0.1s remaining:    0.0s\n",
      "[Parallel(n_jobs=1)]: Done  15 out of  15 | elapsed:    2.1s finished\n",
      "[Parallel(n_jobs=1)]: Done   1 out of   1 | elapsed:    0.0s remaining:    0.0s\n",
      "[Parallel(n_jobs=1)]: Done  15 out of  15 | elapsed:    2.0s finished\n"
     ]
    }
   ],
   "source": [
    "y_pred_sub, y_proba_sub = gridsearchRF.best_estimator_.predict(X_val), gridsearchRF.best_estimator_.predict_proba(X_val)"
   ]
  }
 ],
 "metadata": {
  "kernelspec": {
   "display_name": "Python 2",
   "language": "python",
   "name": "python2"
  },
  "language_info": {
   "codemirror_mode": {
    "name": "ipython",
    "version": 2
   },
   "file_extension": ".py",
   "mimetype": "text/x-python",
   "name": "python",
   "nbconvert_exporter": "python",
   "pygments_lexer": "ipython2",
   "version": "2.7.13"
  }
 },
 "nbformat": 4,
 "nbformat_minor": 2
}
